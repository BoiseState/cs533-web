{
 "cells": [
  {
   "cell_type": "markdown",
   "metadata": {},
   "source": [
    "# Sampling and Testing the Penguins\n",
    "\n",
    "This notebook uses the [Palmer Penguins data](https://github.com/allisonhorst/palmerpenguins) to demonstrate confidence intervals and two-sample hypothesis tests, both using parametric methods and the bootstrap.\n",
    "\n",
    "Our question:  What are the average values of various penguin dimensions (bill length and depth, flipper length, and body mass)? Do these dimensions differ between penguin species?"
   ]
  },
  {
   "cell_type": "markdown",
   "metadata": {},
   "source": [
    "## Setup\n",
    "\n",
    "Python modules:"
   ]
  },
  {
   "cell_type": "code",
   "execution_count": 1,
   "metadata": {},
   "outputs": [],
   "source": [
    "import numpy as np\n",
    "import pandas as pd\n",
    "import scipy.stats as sps\n",
    "import statsmodels.api as sm\n",
    "import matplotlib.pyplot as plt\n",
    "import seaborn as sns"
   ]
  },
  {
   "cell_type": "markdown",
   "metadata": {},
   "source": [
    "Set up a random number generator:"
   ]
  },
  {
   "cell_type": "code",
   "execution_count": 2,
   "metadata": {},
   "outputs": [],
   "source": [
    "rng = np.random.default_rng(20200913)"
   ]
  },
  {
   "cell_type": "markdown",
   "metadata": {},
   "source": [
    "Load the Penguin data:"
   ]
  },
  {
   "cell_type": "code",
   "execution_count": 3,
   "metadata": {},
   "outputs": [
    {
     "data": {
      "text/html": [
       "<div>\n",
       "<style scoped>\n",
       "    .dataframe tbody tr th:only-of-type {\n",
       "        vertical-align: middle;\n",
       "    }\n",
       "\n",
       "    .dataframe tbody tr th {\n",
       "        vertical-align: top;\n",
       "    }\n",
       "\n",
       "    .dataframe thead th {\n",
       "        text-align: right;\n",
       "    }\n",
       "</style>\n",
       "<table border=\"1\" class=\"dataframe\">\n",
       "  <thead>\n",
       "    <tr style=\"text-align: right;\">\n",
       "      <th></th>\n",
       "      <th>species</th>\n",
       "      <th>island</th>\n",
       "      <th>bill_length_mm</th>\n",
       "      <th>bill_depth_mm</th>\n",
       "      <th>flipper_length_mm</th>\n",
       "      <th>body_mass_g</th>\n",
       "      <th>sex</th>\n",
       "      <th>year</th>\n",
       "    </tr>\n",
       "  </thead>\n",
       "  <tbody>\n",
       "    <tr>\n",
       "      <th>0</th>\n",
       "      <td>Adelie</td>\n",
       "      <td>Torgersen</td>\n",
       "      <td>39.1</td>\n",
       "      <td>18.7</td>\n",
       "      <td>181.0</td>\n",
       "      <td>3750.0</td>\n",
       "      <td>male</td>\n",
       "      <td>2007</td>\n",
       "    </tr>\n",
       "    <tr>\n",
       "      <th>1</th>\n",
       "      <td>Adelie</td>\n",
       "      <td>Torgersen</td>\n",
       "      <td>39.5</td>\n",
       "      <td>17.4</td>\n",
       "      <td>186.0</td>\n",
       "      <td>3800.0</td>\n",
       "      <td>female</td>\n",
       "      <td>2007</td>\n",
       "    </tr>\n",
       "    <tr>\n",
       "      <th>2</th>\n",
       "      <td>Adelie</td>\n",
       "      <td>Torgersen</td>\n",
       "      <td>40.3</td>\n",
       "      <td>18.0</td>\n",
       "      <td>195.0</td>\n",
       "      <td>3250.0</td>\n",
       "      <td>female</td>\n",
       "      <td>2007</td>\n",
       "    </tr>\n",
       "    <tr>\n",
       "      <th>3</th>\n",
       "      <td>Adelie</td>\n",
       "      <td>Torgersen</td>\n",
       "      <td>NaN</td>\n",
       "      <td>NaN</td>\n",
       "      <td>NaN</td>\n",
       "      <td>NaN</td>\n",
       "      <td>NaN</td>\n",
       "      <td>2007</td>\n",
       "    </tr>\n",
       "    <tr>\n",
       "      <th>4</th>\n",
       "      <td>Adelie</td>\n",
       "      <td>Torgersen</td>\n",
       "      <td>36.7</td>\n",
       "      <td>19.3</td>\n",
       "      <td>193.0</td>\n",
       "      <td>3450.0</td>\n",
       "      <td>female</td>\n",
       "      <td>2007</td>\n",
       "    </tr>\n",
       "  </tbody>\n",
       "</table>\n",
       "</div>"
      ],
      "text/plain": [
       "  species     island  bill_length_mm  bill_depth_mm  flipper_length_mm  \\\n",
       "0  Adelie  Torgersen            39.1           18.7              181.0   \n",
       "1  Adelie  Torgersen            39.5           17.4              186.0   \n",
       "2  Adelie  Torgersen            40.3           18.0              195.0   \n",
       "3  Adelie  Torgersen             NaN            NaN                NaN   \n",
       "4  Adelie  Torgersen            36.7           19.3              193.0   \n",
       "\n",
       "   body_mass_g     sex  year  \n",
       "0       3750.0    male  2007  \n",
       "1       3800.0  female  2007  \n",
       "2       3250.0  female  2007  \n",
       "3          NaN     NaN  2007  \n",
       "4       3450.0  female  2007  "
      ]
     },
     "execution_count": 3,
     "metadata": {},
     "output_type": "execute_result"
    }
   ],
   "source": [
    "penguins = pd.read_csv('../data/penguins.csv')\n",
    "penguins.head()"
   ]
  },
  {
   "cell_type": "markdown",
   "metadata": {},
   "source": [
    "Some of these names are cumbersome to deal with. I'm going to give them shorter names:"
   ]
  },
  {
   "cell_type": "code",
   "execution_count": 4,
   "metadata": {},
   "outputs": [],
   "source": [
    "penguins.rename(columns={\n",
    "    'bill_length_mm': 'BillLength',\n",
    "    'bill_depth_mm': 'BillDepth',\n",
    "    'flipper_length_mm': 'FlipperLength',\n",
    "    'body_mass_g': 'Mass'\n",
    "}, inplace=True)"
   ]
  },
  {
   "cell_type": "markdown",
   "metadata": {},
   "source": [
    "A few things will be eaiser if we also split out penguins by species:"
   ]
  },
  {
   "cell_type": "code",
   "execution_count": 5,
   "metadata": {},
   "outputs": [
    {
     "data": {
      "text/html": [
       "<div>\n",
       "<style scoped>\n",
       "    .dataframe tbody tr th:only-of-type {\n",
       "        vertical-align: middle;\n",
       "    }\n",
       "\n",
       "    .dataframe tbody tr th {\n",
       "        vertical-align: top;\n",
       "    }\n",
       "\n",
       "    .dataframe thead th {\n",
       "        text-align: right;\n",
       "    }\n",
       "</style>\n",
       "<table border=\"1\" class=\"dataframe\">\n",
       "  <thead>\n",
       "    <tr style=\"text-align: right;\">\n",
       "      <th></th>\n",
       "      <th>species</th>\n",
       "      <th>island</th>\n",
       "      <th>BillLength</th>\n",
       "      <th>BillDepth</th>\n",
       "      <th>FlipperLength</th>\n",
       "      <th>Mass</th>\n",
       "      <th>sex</th>\n",
       "      <th>year</th>\n",
       "    </tr>\n",
       "  </thead>\n",
       "  <tbody>\n",
       "    <tr>\n",
       "      <th>276</th>\n",
       "      <td>Chinstrap</td>\n",
       "      <td>Dream</td>\n",
       "      <td>46.5</td>\n",
       "      <td>17.9</td>\n",
       "      <td>192.0</td>\n",
       "      <td>3500.0</td>\n",
       "      <td>female</td>\n",
       "      <td>2007</td>\n",
       "    </tr>\n",
       "    <tr>\n",
       "      <th>277</th>\n",
       "      <td>Chinstrap</td>\n",
       "      <td>Dream</td>\n",
       "      <td>50.0</td>\n",
       "      <td>19.5</td>\n",
       "      <td>196.0</td>\n",
       "      <td>3900.0</td>\n",
       "      <td>male</td>\n",
       "      <td>2007</td>\n",
       "    </tr>\n",
       "    <tr>\n",
       "      <th>278</th>\n",
       "      <td>Chinstrap</td>\n",
       "      <td>Dream</td>\n",
       "      <td>51.3</td>\n",
       "      <td>19.2</td>\n",
       "      <td>193.0</td>\n",
       "      <td>3650.0</td>\n",
       "      <td>male</td>\n",
       "      <td>2007</td>\n",
       "    </tr>\n",
       "    <tr>\n",
       "      <th>279</th>\n",
       "      <td>Chinstrap</td>\n",
       "      <td>Dream</td>\n",
       "      <td>45.4</td>\n",
       "      <td>18.7</td>\n",
       "      <td>188.0</td>\n",
       "      <td>3525.0</td>\n",
       "      <td>female</td>\n",
       "      <td>2007</td>\n",
       "    </tr>\n",
       "    <tr>\n",
       "      <th>280</th>\n",
       "      <td>Chinstrap</td>\n",
       "      <td>Dream</td>\n",
       "      <td>52.7</td>\n",
       "      <td>19.8</td>\n",
       "      <td>197.0</td>\n",
       "      <td>3725.0</td>\n",
       "      <td>male</td>\n",
       "      <td>2007</td>\n",
       "    </tr>\n",
       "  </tbody>\n",
       "</table>\n",
       "</div>"
      ],
      "text/plain": [
       "       species island  BillLength  BillDepth  FlipperLength    Mass     sex  \\\n",
       "276  Chinstrap  Dream        46.5       17.9          192.0  3500.0  female   \n",
       "277  Chinstrap  Dream        50.0       19.5          196.0  3900.0    male   \n",
       "278  Chinstrap  Dream        51.3       19.2          193.0  3650.0    male   \n",
       "279  Chinstrap  Dream        45.4       18.7          188.0  3525.0  female   \n",
       "280  Chinstrap  Dream        52.7       19.8          197.0  3725.0    male   \n",
       "\n",
       "     year  \n",
       "276  2007  \n",
       "277  2007  \n",
       "278  2007  \n",
       "279  2007  \n",
       "280  2007  "
      ]
     },
     "execution_count": 5,
     "metadata": {},
     "output_type": "execute_result"
    }
   ],
   "source": [
    "chinstraps = penguins[penguins['species'] == 'Chinstrap']\n",
    "chinstraps.head()"
   ]
  },
  {
   "cell_type": "code",
   "execution_count": 6,
   "metadata": {},
   "outputs": [],
   "source": [
    "adelies = penguins[penguins['species'] == 'Adelie']\n",
    "gentoos = penguins[penguins['species'] == 'Gentoo']"
   ]
  },
  {
   "cell_type": "markdown",
   "metadata": {},
   "source": [
    "That's all we need right now!"
   ]
  },
  {
   "cell_type": "markdown",
   "metadata": {},
   "source": [
    "### Confidence Intervals\n",
    "\n",
    "Remember that $s/\\sqrt{n}$ is the **standard error** of the mean.  The SciPy [`sem`](https://docs.scipy.org/doc/scipy/reference/generated/scipy.stats.sem.html) function computes the standard error of the mean.  We can multiply this by 1.96 to get the distance between the sample mean and the edge of the confidence interval.\n",
    "\n",
    "So let's write a function that returns the 95% CI of the mean of some data:"
   ]
  },
  {
   "cell_type": "code",
   "execution_count": 7,
   "metadata": {},
   "outputs": [],
   "source": [
    "def mean_ci95(xs):\n",
    "    mean = np.mean(xs)\n",
    "    err = sps.sem(xs)\n",
    "    width = 1.96 * err\n",
    "    return mean - width, mean + width"
   ]
  },
  {
   "cell_type": "markdown",
   "metadata": {},
   "source": [
    "## Warmup: Chinstrap Flippers\n",
    "\n",
    "As a warmup, let's compute confidence intervals for the chinstrap flipper length.  We will do this with both the standard error and with the bootstrap.\n",
    "\n",
    "Let's get the mean & SD of the Chinstrap penguins:"
   ]
  },
  {
   "cell_type": "code",
   "execution_count": 8,
   "metadata": {},
   "outputs": [
    {
     "data": {
      "text/plain": [
       "(195.8235294117647, 7.131894258578147, 68)"
      ]
     },
     "execution_count": 8,
     "metadata": {},
     "output_type": "execute_result"
    }
   ],
   "source": [
    "p_mean = chinstraps['FlipperLength'].mean()\n",
    "p_std = chinstraps['FlipperLength'].std()  # defaults to sample SD\n",
    "p_n = len(chinstraps)\n",
    "p_mean, p_std, p_n"
   ]
  },
  {
   "cell_type": "markdown",
   "metadata": {},
   "source": [
    "What's the confidence interval?"
   ]
  },
  {
   "cell_type": "code",
   "execution_count": 9,
   "metadata": {},
   "outputs": [
    {
     "data": {
      "text/plain": [
       "(194.12838574870136, 197.51867307482803)"
      ]
     },
     "execution_count": 9,
     "metadata": {},
     "output_type": "execute_result"
    }
   ],
   "source": [
    "mean_ci95(chinstraps['FlipperLength'])"
   ]
  },
  {
   "cell_type": "markdown",
   "metadata": {},
   "source": [
    "Let's bootstrap the chinstraps, and compute the percentile 95% confidence interval for them:"
   ]
  },
  {
   "cell_type": "code",
   "execution_count": 10,
   "metadata": {},
   "outputs": [
    {
     "data": {
      "text/plain": [
       "array([194.14705882, 197.5       ])"
      ]
     },
     "execution_count": 10,
     "metadata": {},
     "output_type": "execute_result"
    }
   ],
   "source": [
    "boot_means = [np.mean(rng.choice(chinstraps['FlipperLength'], p_n)) for i in range(10000)]\n",
    "np.quantile(boot_means, [0.025, 0.975])"
   ]
  },
  {
   "cell_type": "markdown",
   "metadata": {},
   "source": [
    "Let's break that down a bit.  It is a Python *list comprehension*, a convenient way of assembling a list. It is equivalent to the following code:\n",
    "\n",
    "```python\n",
    "boot_means = []\n",
    "for i in range(10000):\n",
    "    # compute the bootstrap sample\n",
    "    boot_samp = rng.choice(chinstraps['FlipperLength'], p_n)\n",
    "    # compute the mean of the bootstrap sample\n",
    "    boot_mean = np.mean(boot_samp)\n",
    "    # add it to our list of bootstrap means\n",
    "    boot_means.append(boot_mean)\n",
    "```\n",
    "\n",
    "It just does all of that in one convenient line, without excess variables.  We then pass it to `np.quantile` to compute the confidence interval; numpy functions can take lists of numbers as well as arrays."
   ]
  },
  {
   "cell_type": "markdown",
   "metadata": {},
   "source": [
    "Now let's see the distribution of those bootstrap sample means, with a vertical line indicating the observed sample mean:"
   ]
  },
  {
   "cell_type": "code",
   "execution_count": 11,
   "metadata": {
    "scrolled": true
   },
   "outputs": [
    {
     "data": {
      "image/png": "[encoded data removed]",
      "text/plain": [
       "<Figure size 500x500 with 1 Axes>"
      ]
     },
     "metadata": {},
     "output_type": "display_data"
    }
   ],
   "source": [
    "sns.displot(boot_means, kde=True)\n",
    "plt.axvline(np.mean(chinstraps['FlipperLength']), color='black')\n",
    "plt.xlabel('Sample Mean')\n",
    "plt.ylabel('Density')\n",
    "plt.show()"
   ]
  },
  {
   "cell_type": "markdown",
   "metadata": {},
   "source": [
    "We can then compute the confidence interval with the quantiles of this distribution:"
   ]
  },
  {
   "cell_type": "code",
   "execution_count": 12,
   "metadata": {},
   "outputs": [
    {
     "data": {
      "text/plain": [
       "array([194.14705882, 197.5       ])"
      ]
     },
     "execution_count": 12,
     "metadata": {},
     "output_type": "execute_result"
    }
   ],
   "source": [
    "np.quantile(boot_means, [0.025, 0.975])"
   ]
  },
  {
   "cell_type": "markdown",
   "metadata": {},
   "source": [
    "## Penguin Statistics\n",
    "\n",
    "With that warmup, let's look at our various biometrics."
   ]
  },
  {
   "cell_type": "markdown",
   "metadata": {},
   "source": [
    "### Parametric Estimates\n",
    "\n",
    "We're going to compute CIs for several measurements, but we don't want to repeat all of our code.\n",
    "\n",
    "Pandas `groupby` let us *apply* a function to each group, which can in turn return a series or a data frame.\n",
    "\n",
    "Let's write a function that, given a series of penguin data, returns our statistics:"
   ]
  },
  {
   "cell_type": "code",
   "execution_count": 13,
   "metadata": {},
   "outputs": [],
   "source": [
    "def mean_estimate(vals):\n",
    "    # vals is a series of measurements of a single variable\n",
    "    mean = vals.mean()\n",
    "    se = vals.sem()  # Pandas has an SEM function too.\n",
    "    \n",
    "    ci_width = 1.96 * se\n",
    "    return pd.Series({\n",
    "        'mean': mean,\n",
    "        'std': vals.std(),\n",
    "        'count': vals.count(),\n",
    "        'se': vals.sem(),\n",
    "        'ci_width': ci_width,\n",
    "        'ci_min': mean - ci_width,\n",
    "        'ci_max': mean + ci_width\n",
    "    })"
   ]
  },
  {
   "cell_type": "markdown",
   "metadata": {},
   "source": [
    "#### Flipper Length\n",
    "\n",
    "Now we can do this to the flipper length:"
   ]
  },
  {
   "cell_type": "code",
   "execution_count": 14,
   "metadata": {},
   "outputs": [
    {
     "data": {
      "text/html": [
       "<div>\n",
       "<style scoped>\n",
       "    .dataframe tbody tr th:only-of-type {\n",
       "        vertical-align: middle;\n",
       "    }\n",
       "\n",
       "    .dataframe tbody tr th {\n",
       "        vertical-align: top;\n",
       "    }\n",
       "\n",
       "    .dataframe thead th {\n",
       "        text-align: right;\n",
       "    }\n",
       "</style>\n",
       "<table border=\"1\" class=\"dataframe\">\n",
       "  <thead>\n",
       "    <tr style=\"text-align: right;\">\n",
       "      <th></th>\n",
       "      <th>mean</th>\n",
       "      <th>std</th>\n",
       "      <th>count</th>\n",
       "      <th>se</th>\n",
       "      <th>ci_width</th>\n",
       "      <th>ci_min</th>\n",
       "      <th>ci_max</th>\n",
       "    </tr>\n",
       "    <tr>\n",
       "      <th>species</th>\n",
       "      <th></th>\n",
       "      <th></th>\n",
       "      <th></th>\n",
       "      <th></th>\n",
       "      <th></th>\n",
       "      <th></th>\n",
       "      <th></th>\n",
       "    </tr>\n",
       "  </thead>\n",
       "  <tbody>\n",
       "    <tr>\n",
       "      <th>Adelie</th>\n",
       "      <td>189.953642</td>\n",
       "      <td>6.539457</td>\n",
       "      <td>151.0</td>\n",
       "      <td>0.532173</td>\n",
       "      <td>1.043060</td>\n",
       "      <td>188.910582</td>\n",
       "      <td>190.996702</td>\n",
       "    </tr>\n",
       "    <tr>\n",
       "      <th>Chinstrap</th>\n",
       "      <td>195.823529</td>\n",
       "      <td>7.131894</td>\n",
       "      <td>68.0</td>\n",
       "      <td>0.864869</td>\n",
       "      <td>1.695144</td>\n",
       "      <td>194.128386</td>\n",
       "      <td>197.518673</td>\n",
       "    </tr>\n",
       "    <tr>\n",
       "      <th>Gentoo</th>\n",
       "      <td>217.186992</td>\n",
       "      <td>6.484976</td>\n",
       "      <td>123.0</td>\n",
       "      <td>0.584731</td>\n",
       "      <td>1.146072</td>\n",
       "      <td>216.040920</td>\n",
       "      <td>218.333064</td>\n",
       "    </tr>\n",
       "  </tbody>\n",
       "</table>\n",
       "</div>"
      ],
      "text/plain": [
       "                 mean       std  count        se  ci_width      ci_min  \\\n",
       "species                                                                  \n",
       "Adelie     189.953642  6.539457  151.0  0.532173  1.043060  188.910582   \n",
       "Chinstrap  195.823529  7.131894   68.0  0.864869  1.695144  194.128386   \n",
       "Gentoo     217.186992  6.484976  123.0  0.584731  1.146072  216.040920   \n",
       "\n",
       "               ci_max  \n",
       "species                \n",
       "Adelie     190.996702  \n",
       "Chinstrap  197.518673  \n",
       "Gentoo     218.333064  "
      ]
     },
     "execution_count": 14,
     "metadata": {},
     "output_type": "execute_result"
    }
   ],
   "source": [
    "penguins.groupby('species')['FlipperLength'].apply(mean_estimate).unstack()"
   ]
  },
  {
   "cell_type": "markdown",
   "metadata": {},
   "source": [
    "The confidence intervals don't overlap. Chinstrap and Adelie are the closest.\n",
    "\n",
    ":::{note}\n",
    "The `unstack` function pivots the innermost level of a hierarchical index to be column labels. Try without it to see what changes!\n",
    ":::"
   ]
  },
  {
   "cell_type": "markdown",
   "metadata": {},
   "source": [
    "#### Bill Length"
   ]
  },
  {
   "cell_type": "code",
   "execution_count": 15,
   "metadata": {},
   "outputs": [
    {
     "data": {
      "text/html": [
       "<div>\n",
       "<style scoped>\n",
       "    .dataframe tbody tr th:only-of-type {\n",
       "        vertical-align: middle;\n",
       "    }\n",
       "\n",
       "    .dataframe tbody tr th {\n",
       "        vertical-align: top;\n",
       "    }\n",
       "\n",
       "    .dataframe thead th {\n",
       "        text-align: right;\n",
       "    }\n",
       "</style>\n",
       "<table border=\"1\" class=\"dataframe\">\n",
       "  <thead>\n",
       "    <tr style=\"text-align: right;\">\n",
       "      <th></th>\n",
       "      <th>mean</th>\n",
       "      <th>std</th>\n",
       "      <th>count</th>\n",
       "      <th>se</th>\n",
       "      <th>ci_width</th>\n",
       "      <th>ci_min</th>\n",
       "      <th>ci_max</th>\n",
       "    </tr>\n",
       "    <tr>\n",
       "      <th>species</th>\n",
       "      <th></th>\n",
       "      <th></th>\n",
       "      <th></th>\n",
       "      <th></th>\n",
       "      <th></th>\n",
       "      <th></th>\n",
       "      <th></th>\n",
       "    </tr>\n",
       "  </thead>\n",
       "  <tbody>\n",
       "    <tr>\n",
       "      <th>Adelie</th>\n",
       "      <td>38.791391</td>\n",
       "      <td>2.663405</td>\n",
       "      <td>151.0</td>\n",
       "      <td>0.216745</td>\n",
       "      <td>0.424820</td>\n",
       "      <td>38.366571</td>\n",
       "      <td>39.216211</td>\n",
       "    </tr>\n",
       "    <tr>\n",
       "      <th>Chinstrap</th>\n",
       "      <td>48.833824</td>\n",
       "      <td>3.339256</td>\n",
       "      <td>68.0</td>\n",
       "      <td>0.404944</td>\n",
       "      <td>0.793691</td>\n",
       "      <td>48.040133</td>\n",
       "      <td>49.627514</td>\n",
       "    </tr>\n",
       "    <tr>\n",
       "      <th>Gentoo</th>\n",
       "      <td>47.504878</td>\n",
       "      <td>3.081857</td>\n",
       "      <td>123.0</td>\n",
       "      <td>0.277882</td>\n",
       "      <td>0.544648</td>\n",
       "      <td>46.960230</td>\n",
       "      <td>48.049526</td>\n",
       "    </tr>\n",
       "  </tbody>\n",
       "</table>\n",
       "</div>"
      ],
      "text/plain": [
       "                mean       std  count        se  ci_width     ci_min  \\\n",
       "species                                                                \n",
       "Adelie     38.791391  2.663405  151.0  0.216745  0.424820  38.366571   \n",
       "Chinstrap  48.833824  3.339256   68.0  0.404944  0.793691  48.040133   \n",
       "Gentoo     47.504878  3.081857  123.0  0.277882  0.544648  46.960230   \n",
       "\n",
       "              ci_max  \n",
       "species               \n",
       "Adelie     39.216211  \n",
       "Chinstrap  49.627514  \n",
       "Gentoo     48.049526  "
      ]
     },
     "execution_count": 15,
     "metadata": {},
     "output_type": "execute_result"
    }
   ],
   "source": [
    "penguins.groupby('species')['BillLength'].apply(mean_estimate).unstack()"
   ]
  },
  {
   "cell_type": "markdown",
   "metadata": {},
   "source": [
    "Chinstrap and Gentoo have similar average bill depths - those CIs are very close."
   ]
  },
  {
   "cell_type": "markdown",
   "metadata": {},
   "source": [
    "#### Bill Depth"
   ]
  },
  {
   "cell_type": "code",
   "execution_count": 16,
   "metadata": {},
   "outputs": [
    {
     "data": {
      "text/html": [
       "<div>\n",
       "<style scoped>\n",
       "    .dataframe tbody tr th:only-of-type {\n",
       "        vertical-align: middle;\n",
       "    }\n",
       "\n",
       "    .dataframe tbody tr th {\n",
       "        vertical-align: top;\n",
       "    }\n",
       "\n",
       "    .dataframe thead th {\n",
       "        text-align: right;\n",
       "    }\n",
       "</style>\n",
       "<table border=\"1\" class=\"dataframe\">\n",
       "  <thead>\n",
       "    <tr style=\"text-align: right;\">\n",
       "      <th></th>\n",
       "      <th>mean</th>\n",
       "      <th>std</th>\n",
       "      <th>count</th>\n",
       "      <th>se</th>\n",
       "      <th>ci_width</th>\n",
       "      <th>ci_min</th>\n",
       "      <th>ci_max</th>\n",
       "    </tr>\n",
       "    <tr>\n",
       "      <th>species</th>\n",
       "      <th></th>\n",
       "      <th></th>\n",
       "      <th></th>\n",
       "      <th></th>\n",
       "      <th></th>\n",
       "      <th></th>\n",
       "      <th></th>\n",
       "    </tr>\n",
       "  </thead>\n",
       "  <tbody>\n",
       "    <tr>\n",
       "      <th>Adelie</th>\n",
       "      <td>18.346358</td>\n",
       "      <td>1.216650</td>\n",
       "      <td>151.0</td>\n",
       "      <td>0.099010</td>\n",
       "      <td>0.194059</td>\n",
       "      <td>18.152299</td>\n",
       "      <td>18.540416</td>\n",
       "    </tr>\n",
       "    <tr>\n",
       "      <th>Chinstrap</th>\n",
       "      <td>18.420588</td>\n",
       "      <td>1.135395</td>\n",
       "      <td>68.0</td>\n",
       "      <td>0.137687</td>\n",
       "      <td>0.269866</td>\n",
       "      <td>18.150722</td>\n",
       "      <td>18.690455</td>\n",
       "    </tr>\n",
       "    <tr>\n",
       "      <th>Gentoo</th>\n",
       "      <td>14.982114</td>\n",
       "      <td>0.981220</td>\n",
       "      <td>123.0</td>\n",
       "      <td>0.088474</td>\n",
       "      <td>0.173408</td>\n",
       "      <td>14.808706</td>\n",
       "      <td>15.155522</td>\n",
       "    </tr>\n",
       "  </tbody>\n",
       "</table>\n",
       "</div>"
      ],
      "text/plain": [
       "                mean       std  count        se  ci_width     ci_min  \\\n",
       "species                                                                \n",
       "Adelie     18.346358  1.216650  151.0  0.099010  0.194059  18.152299   \n",
       "Chinstrap  18.420588  1.135395   68.0  0.137687  0.269866  18.150722   \n",
       "Gentoo     14.982114  0.981220  123.0  0.088474  0.173408  14.808706   \n",
       "\n",
       "              ci_max  \n",
       "species               \n",
       "Adelie     18.540416  \n",
       "Chinstrap  18.690455  \n",
       "Gentoo     15.155522  "
      ]
     },
     "execution_count": 16,
     "metadata": {},
     "output_type": "execute_result"
    }
   ],
   "source": [
    "penguins.groupby('species')['BillDepth'].apply(mean_estimate).unstack()"
   ]
  },
  {
   "cell_type": "markdown",
   "metadata": {},
   "source": [
    "The bill depth between Chinstrap and Adelie is extremely similar.  Gentoo penguins look like they have *smaller* bills."
   ]
  },
  {
   "cell_type": "markdown",
   "metadata": {},
   "source": [
    "#### Mass\n",
    "\n",
    "Finally, let's look at body mass."
   ]
  },
  {
   "cell_type": "code",
   "execution_count": 17,
   "metadata": {},
   "outputs": [
    {
     "data": {
      "text/html": [
       "<div>\n",
       "<style scoped>\n",
       "    .dataframe tbody tr th:only-of-type {\n",
       "        vertical-align: middle;\n",
       "    }\n",
       "\n",
       "    .dataframe tbody tr th {\n",
       "        vertical-align: top;\n",
       "    }\n",
       "\n",
       "    .dataframe thead th {\n",
       "        text-align: right;\n",
       "    }\n",
       "</style>\n",
       "<table border=\"1\" class=\"dataframe\">\n",
       "  <thead>\n",
       "    <tr style=\"text-align: right;\">\n",
       "      <th></th>\n",
       "      <th>mean</th>\n",
       "      <th>std</th>\n",
       "      <th>count</th>\n",
       "      <th>se</th>\n",
       "      <th>ci_width</th>\n",
       "      <th>ci_min</th>\n",
       "      <th>ci_max</th>\n",
       "    </tr>\n",
       "    <tr>\n",
       "      <th>species</th>\n",
       "      <th></th>\n",
       "      <th></th>\n",
       "      <th></th>\n",
       "      <th></th>\n",
       "      <th></th>\n",
       "      <th></th>\n",
       "      <th></th>\n",
       "    </tr>\n",
       "  </thead>\n",
       "  <tbody>\n",
       "    <tr>\n",
       "      <th>Adelie</th>\n",
       "      <td>3700.662252</td>\n",
       "      <td>458.566126</td>\n",
       "      <td>151.0</td>\n",
       "      <td>37.317582</td>\n",
       "      <td>73.142461</td>\n",
       "      <td>3627.519791</td>\n",
       "      <td>3773.804713</td>\n",
       "    </tr>\n",
       "    <tr>\n",
       "      <th>Chinstrap</th>\n",
       "      <td>3733.088235</td>\n",
       "      <td>384.335081</td>\n",
       "      <td>68.0</td>\n",
       "      <td>46.607475</td>\n",
       "      <td>91.350650</td>\n",
       "      <td>3641.737585</td>\n",
       "      <td>3824.438885</td>\n",
       "    </tr>\n",
       "    <tr>\n",
       "      <th>Gentoo</th>\n",
       "      <td>5076.016260</td>\n",
       "      <td>504.116237</td>\n",
       "      <td>123.0</td>\n",
       "      <td>45.454630</td>\n",
       "      <td>89.091075</td>\n",
       "      <td>4986.925185</td>\n",
       "      <td>5165.107336</td>\n",
       "    </tr>\n",
       "  </tbody>\n",
       "</table>\n",
       "</div>"
      ],
      "text/plain": [
       "                  mean         std  count         se   ci_width       ci_min  \\\n",
       "species                                                                        \n",
       "Adelie     3700.662252  458.566126  151.0  37.317582  73.142461  3627.519791   \n",
       "Chinstrap  3733.088235  384.335081   68.0  46.607475  91.350650  3641.737585   \n",
       "Gentoo     5076.016260  504.116237  123.0  45.454630  89.091075  4986.925185   \n",
       "\n",
       "                ci_max  \n",
       "species                 \n",
       "Adelie     3773.804713  \n",
       "Chinstrap  3824.438885  \n",
       "Gentoo     5165.107336  "
      ]
     },
     "execution_count": 17,
     "metadata": {},
     "output_type": "execute_result"
    }
   ],
   "source": [
    "penguins.groupby('species')['Mass'].apply(mean_estimate).unstack()"
   ]
  },
  {
   "cell_type": "markdown",
   "metadata": {},
   "source": [
    "Adelie and Chinstrap are very similar, with Gentoo substantially larger.  Look at the CI intervals again!"
   ]
  },
  {
   "cell_type": "markdown",
   "metadata": {},
   "source": [
    "### Bootstrap\n",
    "\n",
    "Now we're going to bootstrap confidence intervals.  I'm just going to do it for the flipper length — you should try it for the others!\n",
    "\n",
    "Let's take that bootstrap logic from beofre and put it in a function:"
   ]
  },
  {
   "cell_type": "code",
   "execution_count": 18,
   "metadata": {},
   "outputs": [],
   "source": [
    "def boot_mean_estimate(vals, nboot=10000):\n",
    "    obs = vals.dropna()  # ignore missing values\n",
    "    mean = obs.mean()\n",
    "    n = obs.count()\n",
    "    \n",
    "    boot_means = [np.mean(rng.choice(obs, size=n)) for i in range(nboot)]\n",
    "    ci_low, ci_high = np.quantile(boot_means, [0.025, 0.975])\n",
    "    return pd.Series({\n",
    "        'mean': mean,\n",
    "        'count': n,\n",
    "        'ci_low': ci_low,\n",
    "        'ci_high': ci_high\n",
    "    })"
   ]
  },
  {
   "cell_type": "code",
   "execution_count": 19,
   "metadata": {},
   "outputs": [
    {
     "data": {
      "text/html": [
       "<div>\n",
       "<style scoped>\n",
       "    .dataframe tbody tr th:only-of-type {\n",
       "        vertical-align: middle;\n",
       "    }\n",
       "\n",
       "    .dataframe tbody tr th {\n",
       "        vertical-align: top;\n",
       "    }\n",
       "\n",
       "    .dataframe thead th {\n",
       "        text-align: right;\n",
       "    }\n",
       "</style>\n",
       "<table border=\"1\" class=\"dataframe\">\n",
       "  <thead>\n",
       "    <tr style=\"text-align: right;\">\n",
       "      <th></th>\n",
       "      <th>mean</th>\n",
       "      <th>count</th>\n",
       "      <th>ci_low</th>\n",
       "      <th>ci_high</th>\n",
       "    </tr>\n",
       "    <tr>\n",
       "      <th>species</th>\n",
       "      <th></th>\n",
       "      <th></th>\n",
       "      <th></th>\n",
       "      <th></th>\n",
       "    </tr>\n",
       "  </thead>\n",
       "  <tbody>\n",
       "    <tr>\n",
       "      <th>Adelie</th>\n",
       "      <td>189.953642</td>\n",
       "      <td>151.0</td>\n",
       "      <td>188.907285</td>\n",
       "      <td>190.980132</td>\n",
       "    </tr>\n",
       "    <tr>\n",
       "      <th>Chinstrap</th>\n",
       "      <td>195.823529</td>\n",
       "      <td>68.0</td>\n",
       "      <td>194.161765</td>\n",
       "      <td>197.500000</td>\n",
       "    </tr>\n",
       "    <tr>\n",
       "      <th>Gentoo</th>\n",
       "      <td>217.186992</td>\n",
       "      <td>123.0</td>\n",
       "      <td>216.032520</td>\n",
       "      <td>218.357724</td>\n",
       "    </tr>\n",
       "  </tbody>\n",
       "</table>\n",
       "</div>"
      ],
      "text/plain": [
       "                 mean  count      ci_low     ci_high\n",
       "species                                             \n",
       "Adelie     189.953642  151.0  188.907285  190.980132\n",
       "Chinstrap  195.823529   68.0  194.161765  197.500000\n",
       "Gentoo     217.186992  123.0  216.032520  218.357724"
      ]
     },
     "execution_count": 19,
     "metadata": {},
     "output_type": "execute_result"
    }
   ],
   "source": [
    "penguins.groupby('species')['FlipperLength'].apply(boot_mean_estimate).unstack()"
   ]
  },
  {
   "cell_type": "markdown",
   "metadata": {},
   "source": [
    ":::{tip}\n",
    "The `apply` function also allows us to pass additional named parameters, which are passed directly to the function we are invoking.\n",
    ":::"
   ]
  },
  {
   "cell_type": "code",
   "execution_count": 20,
   "metadata": {},
   "outputs": [
    {
     "data": {
      "text/html": [
       "<div>\n",
       "<style scoped>\n",
       "    .dataframe tbody tr th:only-of-type {\n",
       "        vertical-align: middle;\n",
       "    }\n",
       "\n",
       "    .dataframe tbody tr th {\n",
       "        vertical-align: top;\n",
       "    }\n",
       "\n",
       "    .dataframe thead th {\n",
       "        text-align: right;\n",
       "    }\n",
       "</style>\n",
       "<table border=\"1\" class=\"dataframe\">\n",
       "  <thead>\n",
       "    <tr style=\"text-align: right;\">\n",
       "      <th></th>\n",
       "      <th>mean</th>\n",
       "      <th>count</th>\n",
       "      <th>ci_low</th>\n",
       "      <th>ci_high</th>\n",
       "    </tr>\n",
       "    <tr>\n",
       "      <th>species</th>\n",
       "      <th></th>\n",
       "      <th></th>\n",
       "      <th></th>\n",
       "      <th></th>\n",
       "    </tr>\n",
       "  </thead>\n",
       "  <tbody>\n",
       "    <tr>\n",
       "      <th>Adelie</th>\n",
       "      <td>189.953642</td>\n",
       "      <td>151.0</td>\n",
       "      <td>188.874172</td>\n",
       "      <td>191.033113</td>\n",
       "    </tr>\n",
       "    <tr>\n",
       "      <th>Chinstrap</th>\n",
       "      <td>195.823529</td>\n",
       "      <td>68.0</td>\n",
       "      <td>194.147059</td>\n",
       "      <td>197.500000</td>\n",
       "    </tr>\n",
       "    <tr>\n",
       "      <th>Gentoo</th>\n",
       "      <td>217.186992</td>\n",
       "      <td>123.0</td>\n",
       "      <td>216.048780</td>\n",
       "      <td>218.341463</td>\n",
       "    </tr>\n",
       "  </tbody>\n",
       "</table>\n",
       "</div>"
      ],
      "text/plain": [
       "                 mean  count      ci_low     ci_high\n",
       "species                                             \n",
       "Adelie     189.953642  151.0  188.874172  191.033113\n",
       "Chinstrap  195.823529   68.0  194.147059  197.500000\n",
       "Gentoo     217.186992  123.0  216.048780  218.341463"
      ]
     },
     "execution_count": 20,
     "metadata": {},
     "output_type": "execute_result"
    }
   ],
   "source": [
    "penguins.groupby('species')['FlipperLength'].apply(boot_mean_estimate, nboot=5000).unstack()"
   ]
  },
  {
   "cell_type": "markdown",
   "metadata": {},
   "source": [
    "This is the interval Seaborn uses in a catplot of the statistic:"
   ]
  },
  {
   "cell_type": "code",
   "execution_count": 21,
   "metadata": {},
   "outputs": [
    {
     "data": {
      "text/plain": [
       "<seaborn.axisgrid.FacetGrid at 0x238b4196f50>"
      ]
     },
     "execution_count": 21,
     "metadata": {},
     "output_type": "execute_result"
    }
   ],
   "source": [
    "sns.catplot(x='species', y='FlipperLength', data=penguins, kind='bar')"
   ]
  },
  {
   "cell_type": "markdown",
   "metadata": {},
   "source": [
    "## Testing\n",
    "\n",
    "Let's do a *t*-test for whether the chinstrap and adelie have different flipper lengths.  The `ttest_ind` function does a two-sample T-test:"
   ]
  },
  {
   "cell_type": "code",
   "execution_count": 22,
   "metadata": {},
   "outputs": [
    {
     "data": {
      "text/plain": [
       "Ttest_indResult(statistic=-5.780384584564813, pvalue=6.049266635901914e-08)"
      ]
     },
     "execution_count": 22,
     "metadata": {},
     "output_type": "execute_result"
    }
   ],
   "source": [
    "sps.ttest_ind(adelies['FlipperLength'], chinstraps['FlipperLength'], nan_policy='omit', equal_var=False)"
   ]
  },
  {
   "cell_type": "markdown",
   "metadata": {},
   "source": [
    "$p < 0.05$, that's for sure!  The probability of observing mean flipper lengths this different if there is no actual difference is quite low.\n",
    "\n",
    "Let's try the bill depth:"
   ]
  },
  {
   "cell_type": "code",
   "execution_count": 23,
   "metadata": {},
   "outputs": [
    {
     "data": {
      "text/plain": [
       "Ttest_indResult(statistic=-0.4263555696052568, pvalue=0.6702714045724318)"
      ]
     },
     "execution_count": 23,
     "metadata": {},
     "output_type": "execute_result"
    }
   ],
   "source": [
    "sps.ttest_ind(adelies['BillDepth'], chinstraps['BillDepth'], nan_policy='omit')"
   ]
  },
  {
   "cell_type": "markdown",
   "metadata": {},
   "source": [
    "$p>0.05$. Very.  The evidence is not sufficient to reject the null hypothesis that Adelie and Chinstrap penguins have the same bill depth."
   ]
  },
  {
   "cell_type": "markdown",
   "metadata": {},
   "source": [
    "### Bootstrapped Test\n",
    "\n",
    "What about the bootstrap?  Remember that to do the bootstrap, we need to resample from the *pool* of measurements, because the procedure is to take bootstrap samples **from the distribution under the null hypothesis**, which is that there is no difference between penguins.\n",
    "\n",
    "We'll work through it a piece at a time, then define a function.\n",
    "\n",
    "First, we need to drop the null values from our observations:"
   ]
  },
  {
   "cell_type": "code",
   "execution_count": 24,
   "metadata": {},
   "outputs": [],
   "source": [
    "obs1 = adelies['FlipperLength'].dropna()\n",
    "obs2 = chinstraps['FlipperLength'].dropna()"
   ]
  },
  {
   "cell_type": "markdown",
   "metadata": {},
   "source": [
    "And the lengths:"
   ]
  },
  {
   "cell_type": "code",
   "execution_count": 25,
   "metadata": {},
   "outputs": [],
   "source": [
    "n1 = len(obs1)\n",
    "n2 = len(obs2)"
   ]
  },
  {
   "cell_type": "markdown",
   "metadata": {},
   "source": [
    "And the observed difference in means (since the mean is the statistic we are bootstrapping):"
   ]
  },
  {
   "cell_type": "code",
   "execution_count": 26,
   "metadata": {},
   "outputs": [
    {
     "data": {
      "text/plain": [
       "-5.869887027658734"
      ]
     },
     "execution_count": 26,
     "metadata": {},
     "output_type": "execute_result"
    }
   ],
   "source": [
    "diff_mean = np.mean(obs1) - np.mean(obs2)\n",
    "diff_mean"
   ]
  },
  {
   "cell_type": "markdown",
   "metadata": {},
   "source": [
    "Now we're going to pool together the observations, so we can simulate the null hypothesis (data drawn from the same distribution):"
   ]
  },
  {
   "cell_type": "code",
   "execution_count": 27,
   "metadata": {},
   "outputs": [
    {
     "data": {
      "text/plain": [
       "0      181.0\n",
       "1      186.0\n",
       "2      195.0\n",
       "4      193.0\n",
       "5      190.0\n",
       "       ...  \n",
       "339    207.0\n",
       "340    202.0\n",
       "341    193.0\n",
       "342    210.0\n",
       "343    198.0\n",
       "Name: FlipperLength, Length: 219, dtype: float64"
      ]
     },
     "execution_count": 27,
     "metadata": {},
     "output_type": "execute_result"
    }
   ],
   "source": [
    "pool = pd.concat([obs1, obs2])\n",
    "pool"
   ]
  },
  {
   "cell_type": "markdown",
   "metadata": {},
   "source": [
    "With the pool, we can now sample *bootstrap samples* of the means of samples of size $n_1$ and $n_2$ from a merged pool:"
   ]
  },
  {
   "cell_type": "code",
   "execution_count": 28,
   "metadata": {},
   "outputs": [],
   "source": [
    "b1 = np.array([np.mean(rng.choice(pool, size=n1)) for i in range(10000)])\n",
    "b2 = np.array([np.mean(rng.choice(pool, size=n2)) for i in range(10000)])"
   ]
  },
  {
   "cell_type": "markdown",
   "metadata": {},
   "source": [
    "We use the list comprehension from before, but this time we wrap its result in `np.array` to make NumPy arrays that support vectorized computation (lists do not).  That then allows us to compute the difference in means for all bootstrap samples in one go:"
   ]
  },
  {
   "cell_type": "code",
   "execution_count": 29,
   "metadata": {},
   "outputs": [
    {
     "data": {
      "text/plain": [
       "array([-0.88206077, -0.28632645, -0.25350604, ...,  0.93523568,\n",
       "       -0.85196728, -0.31077133])"
      ]
     },
     "execution_count": 29,
     "metadata": {},
     "output_type": "execute_result"
    }
   ],
   "source": [
    "boot_diffs = b1 - b2\n",
    "boot_diffs"
   ]
  },
  {
   "cell_type": "markdown",
   "metadata": {},
   "source": [
    "Now, our goal is to compute $p$, the probability of observing a difference at least as large as `diff_mean` (in absolute value) under the null hypothesis $H_0$ (the samples are from the same distribution). So we want to compute the absolute values of the differences, both bootstrapped and observed. NumPy helpfully vectorizes this:"
   ]
  },
  {
   "cell_type": "code",
   "execution_count": 30,
   "metadata": {},
   "outputs": [
    {
     "data": {
      "text/plain": [
       "5.869887027658734"
      ]
     },
     "execution_count": 30,
     "metadata": {},
     "output_type": "execute_result"
    }
   ],
   "source": [
    "abs_diff_mean = np.abs(diff_mean)\n",
    "abs_diff_mean"
   ]
  },
  {
   "cell_type": "code",
   "execution_count": 31,
   "metadata": {},
   "outputs": [
    {
     "data": {
      "text/plain": [
       "array([0.88206077, 0.28632645, 0.25350604, ..., 0.93523568, 0.85196728,\n",
       "       0.31077133])"
      ]
     },
     "execution_count": 31,
     "metadata": {},
     "output_type": "execute_result"
    }
   ],
   "source": [
    "abs_boot_diffs = np.abs(boot_diffs)\n",
    "abs_boot_diffs"
   ]
  },
  {
   "cell_type": "markdown",
   "metadata": {},
   "source": [
    "And now we can actually compare.  The `>=` operator compares the bootstrapped differences with observed, giving us a logical vector that is `True` when a bootstrapped difference is at least as large as the observed difference:"
   ]
  },
  {
   "cell_type": "code",
   "execution_count": 32,
   "metadata": {},
   "outputs": [
    {
     "data": {
      "text/plain": [
       "array([False, False, False, ..., False, False, False])"
      ]
     },
     "execution_count": 32,
     "metadata": {},
     "output_type": "execute_result"
    }
   ],
   "source": [
    "boot_exceeds_observed = abs_boot_diffs >= abs_diff_mean\n",
    "boot_exceeds_observed"
   ]
  },
  {
   "cell_type": "markdown",
   "metadata": {},
   "source": [
    "Finally, we want to covert this to an estimated $p$-value.  The `np.mean` function, when applied to a boolean array, returns the fraction of elements that are `True`:"
   ]
  },
  {
   "cell_type": "code",
   "execution_count": 33,
   "metadata": {},
   "outputs": [
    {
     "data": {
      "text/plain": [
       "0.0"
      ]
     },
     "execution_count": 33,
     "metadata": {},
     "output_type": "execute_result"
    }
   ],
   "source": [
    "np.mean(boot_exceeds_observed)"
   ]
  },
  {
   "cell_type": "markdown",
   "metadata": {},
   "source": [
    "No elements were `True` (if we ran with a much larger bootstrap sample count, we might see a small number of `True` values).  Since our bootstrap sample count estimates the $p$-value to approximately 5 decimal places, we conclude that the difference is statistically significant."
   ]
  },
  {
   "cell_type": "markdown",
   "metadata": {},
   "source": [
    "### Bootstrap Test Function\n",
    "\n",
    "Let's go!  We're going to put all that logic into a short function for easy reuse. Note that variables assigned within a function are *local* variables: they only have their values within the function, without affecting the global variables of the same name."
   ]
  },
  {
   "cell_type": "code",
   "execution_count": 34,
   "metadata": {},
   "outputs": [],
   "source": [
    "def boot_ind(s1, s2, nboot=10000):\n",
    "    ## we will ignore NAs here\n",
    "    obs1 = s1.dropna()\n",
    "    obs2 = s2.dropna()\n",
    "    n1 = len(obs1)\n",
    "    n2 = len(obs2)\n",
    "    \n",
    "    ## pool the observations together\n",
    "    pool = pd.concat([obs1, obs2])\n",
    "    ## grab the observed mean\n",
    "    md = np.mean(s1) - np.mean(s2)\n",
    "    \n",
    "    ## compute our bootstrap samples of the mean under H0\n",
    "    b1 = np.array([np.mean(rng.choice(pool, size=n1)) for i in range(nboot)])\n",
    "    b2 = np.array([np.mean(rng.choice(pool, size=n2)) for i in range(nboot)])\n",
    "    \n",
    "    ## the P-value is the probability that we observe a difference as large\n",
    "    ## as we did in the raw data, if the null hypothesis were true\n",
    "    return md, np.mean(np.abs(b1 - b2) >= np.abs(md))"
   ]
  },
  {
   "cell_type": "markdown",
   "metadata": {},
   "source": [
    "And with this function, we can compute the bootstrap versions of the tests above:"
   ]
  },
  {
   "cell_type": "code",
   "execution_count": 35,
   "metadata": {},
   "outputs": [
    {
     "data": {
      "text/plain": [
       "(-5.869887027658734, 0.0)"
      ]
     },
     "execution_count": 35,
     "metadata": {},
     "output_type": "execute_result"
    }
   ],
   "source": [
    "boot_ind(adelies['FlipperLength'], chinstraps['FlipperLength'])"
   ]
  },
  {
   "cell_type": "markdown",
   "metadata": {},
   "source": [
    "The $p$-value was very small in the $t$-test; it makes sense that we would almost never actually see a mean this large under the null!\n",
    "\n",
    "Let's do the bill depth:"
   ]
  },
  {
   "cell_type": "code",
   "execution_count": 36,
   "metadata": {},
   "outputs": [
    {
     "data": {
      "text/plain": [
       "(-0.07423061940007614, 0.6724)"
      ]
     },
     "execution_count": 36,
     "metadata": {},
     "output_type": "execute_result"
    }
   ],
   "source": [
    "boot_ind(adelies['BillDepth'], chinstraps['BillDepth'])"
   ]
  },
  {
   "cell_type": "markdown",
   "metadata": {},
   "source": [
    "Yeah, those kinds of penguins seem to have the same bill depth."
   ]
  },
  {
   "cell_type": "markdown",
   "metadata": {},
   "source": [
    "## Conclusion\n",
    "\n",
    "We see extremely similar $p$-values and confidence intervals for the parameteric methods and the bootstrap.  That is expected — if two procedures that claimed to do the same thing returned wildly different results, we would have a problem.\n",
    "\n",
    "But as we discussed in the videos, the bootstrap works in places where the parametrics won't."
   ]
  }
 ],
 "metadata": {
  "kernelspec": {
   "display_name": "Python 3.10.7 ('venv': venv)",
   "language": "python",
   "name": "python3"
  },
  "language_info": {
   "codemirror_mode": {
    "name": "ipython",
    "version": 3
   },
   "file_extension": ".py",
   "mimetype": "text/x-python",
   "name": "python",
   "nbconvert_exporter": "python",
   "pygments_lexer": "ipython3",
   "version": "3.10.7"
  },
  "vscode": {
   "interpreter": {
    "hash": "83adc33feab0f9fa0b6c69e9e6552376583bf2c1c67bc73919d7687a215c1dbc"
   }
  }
 },
 "nbformat": 4,
 "nbformat_minor": 4
}

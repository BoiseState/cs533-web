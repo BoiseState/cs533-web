{
 "cells": [
  {
   "cell_type": "markdown",
   "metadata": {},
   "source": [
    "# Overfitting Simulation\n",
    "\n",
    "This notebook demonstrates *overfitting*, where we learn noise too well."
   ]
  },
  {
   "cell_type": "markdown",
   "metadata": {},
   "source": [
    "## Setup\n",
    "\n",
    "Load our modules:"
   ]
  },
  {
   "cell_type": "code",
   "execution_count": 1,
   "metadata": {},
   "outputs": [],
   "source": [
    "import numpy as np\n",
    "import pandas as pd\n",
    "import seaborn as sns\n",
    "import matplotlib.pyplot as plt\n",
    "import statsmodels.api as sm\n",
    "import statsmodels.formula.api as smf\n",
    "import scipy.stats as sps"
   ]
  },
  {
   "cell_type": "markdown",
   "metadata": {},
   "source": [
    "And initialize a random number generator:"
   ]
  },
  {
   "cell_type": "code",
   "execution_count": 15,
   "metadata": {},
   "outputs": [],
   "source": [
    "rng = np.random.default_rng(20201015)"
   ]
  },
  {
   "cell_type": "markdown",
   "metadata": {},
   "source": [
    "## Simulating Data\n",
    "\n",
    "Let's define a function to generate *n* data points.  This does three things:\n",
    "\n",
    "1.  Generates *n* samples from $X$ uniformly at random in the range $[0,10)$ (by multiplying `random` by 10)\n",
    "2.  Computes $Y$ by $y_i = 2 x_i + \\epsilon$, where $\\epsilon \\sim \\mathrm{Normal}(0,2)$\n",
    "3.  Puts $X$ and $Y$ into a data frame\n",
    "\n",
    "The function:"
   ]
  },
  {
   "cell_type": "code",
   "execution_count": 16,
   "metadata": {},
   "outputs": [],
   "source": [
    "def generate(n):\n",
    "    xs = rng.random(n) * 10\n",
    "    ys = xs * 2 + rng.standard_normal(n) * 2\n",
    "    return pd.DataFrame({'X': xs, 'Y': ys})"
   ]
  },
  {
   "cell_type": "markdown",
   "metadata": {},
   "source": [
    "Now we're going to define a function to generate polynomials of a varible.  For order $k$, it will produce $x^1, x^2, \\dots, x^k$ as columns of a data frame:"
   ]
  },
  {
   "cell_type": "code",
   "execution_count": 17,
   "metadata": {},
   "outputs": [],
   "source": [
    "def poly_expand(series, order=4):\n",
    "    df = pd.DataFrame({'X': series})\n",
    "    for i in range(2, order+1):\n",
    "        df[f'X{i}'] = series ** i\n",
    "    return df"
   ]
  },
  {
   "cell_type": "markdown",
   "metadata": {},
   "source": [
    "Now let's generate our initial data and plot it:"
   ]
  },
  {
   "cell_type": "code",
   "execution_count": 18,
   "metadata": {},
   "outputs": [
    {
     "data": {
      "text/plain": [
       "<matplotlib.axes._subplots.AxesSubplot at 0x165d85a6160>"
      ]
     },
     "execution_count": 18,
     "metadata": {},
     "output_type": "execute_result"
    },
    {
     "data": {
      "image/png": "[encoded data removed]",
      "text/plain": [
       "<Figure size 432x288 with 1 Axes>"
      ]
     },
     "metadata": {
      "needs_background": "light"
     },
     "output_type": "display_data"
    }
   ],
   "source": [
    "data = generate(30)\n",
    "data.plot.scatter('X', 'Y')"
   ]
  },
  {
   "cell_type": "markdown",
   "metadata": {},
   "source": [
    "So far, we've been using StatsModels formula interface.  That is syntax sugar on top of a lower-level matrix-based interface.  For this analysis, we will use that, because it's easier to programatically set up and manipulate.\n",
    "\n",
    "The matrix interface requires us to construct an `OLS` instance with a $n \\times 1$ array of *endogenous* (outcome) variables `Y`, and a $n \\times k$ matrix of *exogenous* variables.  The rows are data points, and the columns of this matrix are predictor variables. If we want an intercept, it needs to be included as a predictor variable whose value is always 1 — the `sm.add_constant` function does this.\n",
    "\n",
    "Let's set it up and fit the model:"
   ]
  },
  {
   "cell_type": "code",
   "execution_count": 36,
   "metadata": {},
   "outputs": [
    {
     "data": {
      "text/html": [
       "<table class=\"simpletable\">\n",
       "<caption>OLS Regression Results</caption>\n",
       "<tr>\n",
       "  <th>Dep. Variable:</th>            <td>Y</td>        <th>  R-squared:         </th> <td>   0.919</td>\n",
       "</tr>\n",
       "<tr>\n",
       "  <th>Model:</th>                   <td>OLS</td>       <th>  Adj. R-squared:    </th> <td>   0.916</td>\n",
       "</tr>\n",
       "<tr>\n",
       "  <th>Method:</th>             <td>Least Squares</td>  <th>  F-statistic:       </th> <td>   317.7</td>\n",
       "</tr>\n",
       "<tr>\n",
       "  <th>Date:</th>             <td>Fri, 16 Oct 2020</td> <th>  Prob (F-statistic):</th> <td>8.13e-17</td>\n",
       "</tr>\n",
       "<tr>\n",
       "  <th>Time:</th>                 <td>18:51:19</td>     <th>  Log-Likelihood:    </th> <td> -59.322</td>\n",
       "</tr>\n",
       "<tr>\n",
       "  <th>No. Observations:</th>      <td>    30</td>      <th>  AIC:               </th> <td>   122.6</td>\n",
       "</tr>\n",
       "<tr>\n",
       "  <th>Df Residuals:</th>          <td>    28</td>      <th>  BIC:               </th> <td>   125.4</td>\n",
       "</tr>\n",
       "<tr>\n",
       "  <th>Df Model:</th>              <td>     1</td>      <th>                     </th>     <td> </td>   \n",
       "</tr>\n",
       "<tr>\n",
       "  <th>Covariance Type:</th>      <td>nonrobust</td>    <th>                     </th>     <td> </td>   \n",
       "</tr>\n",
       "</table>\n",
       "<table class=\"simpletable\">\n",
       "<tr>\n",
       "    <td></td>       <th>coef</th>     <th>std err</th>      <th>t</th>      <th>P>|t|</th>  <th>[0.025</th>    <th>0.975]</th>  \n",
       "</tr>\n",
       "<tr>\n",
       "  <th>const</th> <td>   -0.7818</td> <td>    0.639</td> <td>   -1.223</td> <td> 0.231</td> <td>   -2.091</td> <td>    0.527</td>\n",
       "</tr>\n",
       "<tr>\n",
       "  <th>X</th>     <td>    2.2016</td> <td>    0.124</td> <td>   17.824</td> <td> 0.000</td> <td>    1.949</td> <td>    2.455</td>\n",
       "</tr>\n",
       "</table>\n",
       "<table class=\"simpletable\">\n",
       "<tr>\n",
       "  <th>Omnibus:</th>       <td> 7.323</td> <th>  Durbin-Watson:     </th> <td>   1.736</td>\n",
       "</tr>\n",
       "<tr>\n",
       "  <th>Prob(Omnibus):</th> <td> 0.026</td> <th>  Jarque-Bera (JB):  </th> <td>   5.772</td>\n",
       "</tr>\n",
       "<tr>\n",
       "  <th>Skew:</th>          <td> 0.801</td> <th>  Prob(JB):          </th> <td>  0.0558</td>\n",
       "</tr>\n",
       "<tr>\n",
       "  <th>Kurtosis:</th>      <td> 4.431</td> <th>  Cond. No.          </th> <td>    10.3</td>\n",
       "</tr>\n",
       "</table><br/><br/>Warnings:<br/>[1] Standard Errors assume that the covariance matrix of the errors is correctly specified."
      ],
      "text/plain": [
       "<class 'statsmodels.iolib.summary.Summary'>\n",
       "\"\"\"\n",
       "                            OLS Regression Results                            \n",
       "==============================================================================\n",
       "Dep. Variable:                      Y   R-squared:                       0.919\n",
       "Model:                            OLS   Adj. R-squared:                  0.916\n",
       "Method:                 Least Squares   F-statistic:                     317.7\n",
       "Date:                Fri, 16 Oct 2020   Prob (F-statistic):           8.13e-17\n",
       "Time:                        18:51:19   Log-Likelihood:                -59.322\n",
       "No. Observations:                  30   AIC:                             122.6\n",
       "Df Residuals:                      28   BIC:                             125.4\n",
       "Df Model:                           1                                         \n",
       "Covariance Type:            nonrobust                                         \n",
       "==============================================================================\n",
       "                 coef    std err          t      P>|t|      [0.025      0.975]\n",
       "------------------------------------------------------------------------------\n",
       "const         -0.7818      0.639     -1.223      0.231      -2.091       0.527\n",
       "X              2.2016      0.124     17.824      0.000       1.949       2.455\n",
       "==============================================================================\n",
       "Omnibus:                        7.323   Durbin-Watson:                   1.736\n",
       "Prob(Omnibus):                  0.026   Jarque-Bera (JB):                5.772\n",
       "Skew:                           0.801   Prob(JB):                       0.0558\n",
       "Kurtosis:                       4.431   Cond. No.                         10.3\n",
       "==============================================================================\n",
       "\n",
       "Warnings:\n",
       "[1] Standard Errors assume that the covariance matrix of the errors is correctly specified.\n",
       "\"\"\""
      ]
     },
     "execution_count": 36,
     "metadata": {},
     "output_type": "execute_result"
    }
   ],
   "source": [
    "X = sm.add_constant(data[['X']])\n",
    "lin = sm.OLS(data['Y'], X)\n",
    "lin = lin.fit()\n",
    "lin.summary()"
   ]
  },
  {
   "cell_type": "markdown",
   "metadata": {},
   "source": [
    "Now let's fit a 4th-order polynomial model\n",
    "\n",
    "$$\\hat{y} = \\beta_0 + \\beta_1 x + \\beta_2 x^2 + \\beta_3 x^3 + \\beta_4 x^4$$\n",
    "\n",
    "We'll this by adding a constant to the `poly_expand` of the data frame, and fitting the model:"
   ]
  },
  {
   "cell_type": "code",
   "execution_count": 37,
   "metadata": {},
   "outputs": [
    {
     "data": {
      "text/html": [
       "<table class=\"simpletable\">\n",
       "<caption>OLS Regression Results</caption>\n",
       "<tr>\n",
       "  <th>Dep. Variable:</th>            <td>Y</td>        <th>  R-squared:         </th> <td>   0.938</td>\n",
       "</tr>\n",
       "<tr>\n",
       "  <th>Model:</th>                   <td>OLS</td>       <th>  Adj. R-squared:    </th> <td>   0.928</td>\n",
       "</tr>\n",
       "<tr>\n",
       "  <th>Method:</th>             <td>Least Squares</td>  <th>  F-statistic:       </th> <td>   94.82</td>\n",
       "</tr>\n",
       "<tr>\n",
       "  <th>Date:</th>             <td>Fri, 16 Oct 2020</td> <th>  Prob (F-statistic):</th> <td>9.90e-15</td>\n",
       "</tr>\n",
       "<tr>\n",
       "  <th>Time:</th>                 <td>18:52:06</td>     <th>  Log-Likelihood:    </th> <td> -55.274</td>\n",
       "</tr>\n",
       "<tr>\n",
       "  <th>No. Observations:</th>      <td>    30</td>      <th>  AIC:               </th> <td>   120.5</td>\n",
       "</tr>\n",
       "<tr>\n",
       "  <th>Df Residuals:</th>          <td>    25</td>      <th>  BIC:               </th> <td>   127.6</td>\n",
       "</tr>\n",
       "<tr>\n",
       "  <th>Df Model:</th>              <td>     4</td>      <th>                     </th>     <td> </td>   \n",
       "</tr>\n",
       "<tr>\n",
       "  <th>Covariance Type:</th>      <td>nonrobust</td>    <th>                     </th>     <td> </td>   \n",
       "</tr>\n",
       "</table>\n",
       "<table class=\"simpletable\">\n",
       "<tr>\n",
       "    <td></td>       <th>coef</th>     <th>std err</th>      <th>t</th>      <th>P>|t|</th>  <th>[0.025</th>    <th>0.975]</th>  \n",
       "</tr>\n",
       "<tr>\n",
       "  <th>const</th> <td>   -0.1426</td> <td>    1.135</td> <td>   -0.126</td> <td> 0.901</td> <td>   -2.479</td> <td>    2.194</td>\n",
       "</tr>\n",
       "<tr>\n",
       "  <th>X</th>     <td>   -1.1816</td> <td>    1.803</td> <td>   -0.655</td> <td> 0.518</td> <td>   -4.896</td> <td>    2.532</td>\n",
       "</tr>\n",
       "<tr>\n",
       "  <th>X2</th>    <td>    1.7365</td> <td>    0.805</td> <td>    2.157</td> <td> 0.041</td> <td>    0.079</td> <td>    3.394</td>\n",
       "</tr>\n",
       "<tr>\n",
       "  <th>X3</th>    <td>   -0.2776</td> <td>    0.130</td> <td>   -2.144</td> <td> 0.042</td> <td>   -0.544</td> <td>   -0.011</td>\n",
       "</tr>\n",
       "<tr>\n",
       "  <th>X4</th>    <td>    0.0138</td> <td>    0.007</td> <td>    2.027</td> <td> 0.053</td> <td>   -0.000</td> <td>    0.028</td>\n",
       "</tr>\n",
       "</table>\n",
       "<table class=\"simpletable\">\n",
       "<tr>\n",
       "  <th>Omnibus:</th>       <td> 5.714</td> <th>  Durbin-Watson:     </th> <td>   1.689</td>\n",
       "</tr>\n",
       "<tr>\n",
       "  <th>Prob(Omnibus):</th> <td> 0.057</td> <th>  Jarque-Bera (JB):  </th> <td>   4.196</td>\n",
       "</tr>\n",
       "<tr>\n",
       "  <th>Skew:</th>          <td> 0.622</td> <th>  Prob(JB):          </th> <td>   0.123</td>\n",
       "</tr>\n",
       "<tr>\n",
       "  <th>Kurtosis:</th>      <td> 4.345</td> <th>  Cond. No.          </th> <td>1.98e+04</td>\n",
       "</tr>\n",
       "</table><br/><br/>Warnings:<br/>[1] Standard Errors assume that the covariance matrix of the errors is correctly specified.<br/>[2] The condition number is large, 1.98e+04. This might indicate that there are<br/>strong multicollinearity or other numerical problems."
      ],
      "text/plain": [
       "<class 'statsmodels.iolib.summary.Summary'>\n",
       "\"\"\"\n",
       "                            OLS Regression Results                            \n",
       "==============================================================================\n",
       "Dep. Variable:                      Y   R-squared:                       0.938\n",
       "Model:                            OLS   Adj. R-squared:                  0.928\n",
       "Method:                 Least Squares   F-statistic:                     94.82\n",
       "Date:                Fri, 16 Oct 2020   Prob (F-statistic):           9.90e-15\n",
       "Time:                        18:52:06   Log-Likelihood:                -55.274\n",
       "No. Observations:                  30   AIC:                             120.5\n",
       "Df Residuals:                      25   BIC:                             127.6\n",
       "Df Model:                           4                                         \n",
       "Covariance Type:            nonrobust                                         \n",
       "==============================================================================\n",
       "                 coef    std err          t      P>|t|      [0.025      0.975]\n",
       "------------------------------------------------------------------------------\n",
       "const         -0.1426      1.135     -0.126      0.901      -2.479       2.194\n",
       "X             -1.1816      1.803     -0.655      0.518      -4.896       2.532\n",
       "X2             1.7365      0.805      2.157      0.041       0.079       3.394\n",
       "X3            -0.2776      0.130     -2.144      0.042      -0.544      -0.011\n",
       "X4             0.0138      0.007      2.027      0.053      -0.000       0.028\n",
       "==============================================================================\n",
       "Omnibus:                        5.714   Durbin-Watson:                   1.689\n",
       "Prob(Omnibus):                  0.057   Jarque-Bera (JB):                4.196\n",
       "Skew:                           0.622   Prob(JB):                        0.123\n",
       "Kurtosis:                       4.345   Cond. No.                     1.98e+04\n",
       "==============================================================================\n",
       "\n",
       "Warnings:\n",
       "[1] Standard Errors assume that the covariance matrix of the errors is correctly specified.\n",
       "[2] The condition number is large, 1.98e+04. This might indicate that there are\n",
       "strong multicollinearity or other numerical problems.\n",
       "\"\"\""
      ]
     },
     "execution_count": 37,
     "metadata": {},
     "output_type": "execute_result"
    }
   ],
   "source": [
    "X = sm.add_constant(poly_expand(data['X']))\n",
    "poly = sm.OLS(data['Y'], X)\n",
    "poly = poly.fit()\n",
    "poly.summary()"
   ]
  },
  {
   "cell_type": "markdown",
   "metadata": {},
   "source": [
    "And now the same with the 10th-order polynomial:\n",
    "\n",
    "$$\\hat{y} = \\sum_{i=0}^{10} \\beta_i x^i$$"
   ]
  },
  {
   "cell_type": "code",
   "execution_count": 38,
   "metadata": {},
   "outputs": [
    {
     "data": {
      "text/html": [
       "<table class=\"simpletable\">\n",
       "<caption>OLS Regression Results</caption>\n",
       "<tr>\n",
       "  <th>Dep. Variable:</th>            <td>Y</td>        <th>  R-squared:         </th> <td>   0.946</td>\n",
       "</tr>\n",
       "<tr>\n",
       "  <th>Model:</th>                   <td>OLS</td>       <th>  Adj. R-squared:    </th> <td>   0.918</td>\n",
       "</tr>\n",
       "<tr>\n",
       "  <th>Method:</th>             <td>Least Squares</td>  <th>  F-statistic:       </th> <td>   33.49</td>\n",
       "</tr>\n",
       "<tr>\n",
       "  <th>Date:</th>             <td>Fri, 16 Oct 2020</td> <th>  Prob (F-statistic):</th> <td>5.98e-10</td>\n",
       "</tr>\n",
       "<tr>\n",
       "  <th>Time:</th>                 <td>18:53:18</td>     <th>  Log-Likelihood:    </th> <td> -53.154</td>\n",
       "</tr>\n",
       "<tr>\n",
       "  <th>No. Observations:</th>      <td>    30</td>      <th>  AIC:               </th> <td>   128.3</td>\n",
       "</tr>\n",
       "<tr>\n",
       "  <th>Df Residuals:</th>          <td>    19</td>      <th>  BIC:               </th> <td>   143.7</td>\n",
       "</tr>\n",
       "<tr>\n",
       "  <th>Df Model:</th>              <td>    10</td>      <th>                     </th>     <td> </td>   \n",
       "</tr>\n",
       "<tr>\n",
       "  <th>Covariance Type:</th>      <td>nonrobust</td>    <th>                     </th>     <td> </td>   \n",
       "</tr>\n",
       "</table>\n",
       "<table class=\"simpletable\">\n",
       "<tr>\n",
       "    <td></td>       <th>coef</th>     <th>std err</th>      <th>t</th>      <th>P>|t|</th>  <th>[0.025</th>    <th>0.975]</th>  \n",
       "</tr>\n",
       "<tr>\n",
       "  <th>const</th> <td>    0.5949</td> <td>    2.061</td> <td>    0.289</td> <td> 0.776</td> <td>   -3.719</td> <td>    4.909</td>\n",
       "</tr>\n",
       "<tr>\n",
       "  <th>X</th>     <td>   -1.1089</td> <td>   19.180</td> <td>   -0.058</td> <td> 0.954</td> <td>  -41.254</td> <td>   39.036</td>\n",
       "</tr>\n",
       "<tr>\n",
       "  <th>X2</th>    <td>  -18.4133</td> <td>   51.012</td> <td>   -0.361</td> <td> 0.722</td> <td> -125.182</td> <td>   88.355</td>\n",
       "</tr>\n",
       "<tr>\n",
       "  <th>X3</th>    <td>   35.0879</td> <td>   60.911</td> <td>    0.576</td> <td> 0.571</td> <td>  -92.401</td> <td>  162.577</td>\n",
       "</tr>\n",
       "<tr>\n",
       "  <th>X4</th>    <td>  -25.8969</td> <td>   39.040</td> <td>   -0.663</td> <td> 0.515</td> <td> -107.608</td> <td>   55.814</td>\n",
       "</tr>\n",
       "<tr>\n",
       "  <th>X5</th>    <td>   10.3116</td> <td>   14.824</td> <td>    0.696</td> <td> 0.495</td> <td>  -20.715</td> <td>   41.338</td>\n",
       "</tr>\n",
       "<tr>\n",
       "  <th>X6</th>    <td>   -2.4437</td> <td>    3.495</td> <td>   -0.699</td> <td> 0.493</td> <td>   -9.759</td> <td>    4.872</td>\n",
       "</tr>\n",
       "<tr>\n",
       "  <th>X7</th>    <td>    0.3545</td> <td>    0.517</td> <td>    0.686</td> <td> 0.501</td> <td>   -0.727</td> <td>    1.436</td>\n",
       "</tr>\n",
       "<tr>\n",
       "  <th>X8</th>    <td>   -0.0309</td> <td>    0.047</td> <td>   -0.664</td> <td> 0.515</td> <td>   -0.128</td> <td>    0.066</td>\n",
       "</tr>\n",
       "<tr>\n",
       "  <th>X9</th>    <td>    0.0015</td> <td>    0.002</td> <td>    0.636</td> <td> 0.532</td> <td>   -0.003</td> <td>    0.006</td>\n",
       "</tr>\n",
       "<tr>\n",
       "  <th>X10</th>   <td>-3.017e-05</td> <td> 4.97e-05</td> <td>   -0.607</td> <td> 0.551</td> <td>   -0.000</td> <td> 7.39e-05</td>\n",
       "</tr>\n",
       "</table>\n",
       "<table class=\"simpletable\">\n",
       "<tr>\n",
       "  <th>Omnibus:</th>       <td> 4.482</td> <th>  Durbin-Watson:     </th> <td>   1.745</td>\n",
       "</tr>\n",
       "<tr>\n",
       "  <th>Prob(Omnibus):</th> <td> 0.106</td> <th>  Jarque-Bera (JB):  </th> <td>   3.177</td>\n",
       "</tr>\n",
       "<tr>\n",
       "  <th>Skew:</th>          <td> 0.422</td> <th>  Prob(JB):          </th> <td>   0.204</td>\n",
       "</tr>\n",
       "<tr>\n",
       "  <th>Kurtosis:</th>      <td> 4.353</td> <th>  Cond. No.          </th> <td>4.80e+11</td>\n",
       "</tr>\n",
       "</table><br/><br/>Warnings:<br/>[1] Standard Errors assume that the covariance matrix of the errors is correctly specified.<br/>[2] The condition number is large, 4.8e+11. This might indicate that there are<br/>strong multicollinearity or other numerical problems."
      ],
      "text/plain": [
       "<class 'statsmodels.iolib.summary.Summary'>\n",
       "\"\"\"\n",
       "                            OLS Regression Results                            \n",
       "==============================================================================\n",
       "Dep. Variable:                      Y   R-squared:                       0.946\n",
       "Model:                            OLS   Adj. R-squared:                  0.918\n",
       "Method:                 Least Squares   F-statistic:                     33.49\n",
       "Date:                Fri, 16 Oct 2020   Prob (F-statistic):           5.98e-10\n",
       "Time:                        18:53:18   Log-Likelihood:                -53.154\n",
       "No. Observations:                  30   AIC:                             128.3\n",
       "Df Residuals:                      19   BIC:                             143.7\n",
       "Df Model:                          10                                         \n",
       "Covariance Type:            nonrobust                                         \n",
       "==============================================================================\n",
       "                 coef    std err          t      P>|t|      [0.025      0.975]\n",
       "------------------------------------------------------------------------------\n",
       "const          0.5949      2.061      0.289      0.776      -3.719       4.909\n",
       "X             -1.1089     19.180     -0.058      0.954     -41.254      39.036\n",
       "X2           -18.4133     51.012     -0.361      0.722    -125.182      88.355\n",
       "X3            35.0879     60.911      0.576      0.571     -92.401     162.577\n",
       "X4           -25.8969     39.040     -0.663      0.515    -107.608      55.814\n",
       "X5            10.3116     14.824      0.696      0.495     -20.715      41.338\n",
       "X6            -2.4437      3.495     -0.699      0.493      -9.759       4.872\n",
       "X7             0.3545      0.517      0.686      0.501      -0.727       1.436\n",
       "X8            -0.0309      0.047     -0.664      0.515      -0.128       0.066\n",
       "X9             0.0015      0.002      0.636      0.532      -0.003       0.006\n",
       "X10        -3.017e-05   4.97e-05     -0.607      0.551      -0.000    7.39e-05\n",
       "==============================================================================\n",
       "Omnibus:                        4.482   Durbin-Watson:                   1.745\n",
       "Prob(Omnibus):                  0.106   Jarque-Bera (JB):                3.177\n",
       "Skew:                           0.422   Prob(JB):                        0.204\n",
       "Kurtosis:                       4.353   Cond. No.                     4.80e+11\n",
       "==============================================================================\n",
       "\n",
       "Warnings:\n",
       "[1] Standard Errors assume that the covariance matrix of the errors is correctly specified.\n",
       "[2] The condition number is large, 4.8e+11. This might indicate that there are\n",
       "strong multicollinearity or other numerical problems.\n",
       "\"\"\""
      ]
     },
     "execution_count": 38,
     "metadata": {},
     "output_type": "execute_result"
    }
   ],
   "source": [
    "X = sm.add_constant(poly_expand(data['X'], order=10))\n",
    "poly10 = sm.OLS(data['Y'], X)\n",
    "poly10 = poly10.fit()\n",
    "poly10.summary()"
   ]
  },
  {
   "cell_type": "markdown",
   "metadata": {},
   "source": [
    "Now let's plot the data and curves.  This time, I'm going to create a linspace, as usual, and then use the fitted model's `predict` function to generate the curves (this is easier than manually extracting and writing our own formula):"
   ]
  },
  {
   "cell_type": "code",
   "execution_count": 39,
   "metadata": {},
   "outputs": [
    {
     "data": {
      "image/png": "[encoded data removed]",
      "text/plain": [
       "<Figure size 432x288 with 1 Axes>"
      ]
     },
     "metadata": {
      "needs_background": "light"
     },
     "output_type": "display_data"
    }
   ],
   "source": [
    "plt.scatter(data.X, data.Y)\n",
    "xsp = np.linspace(np.min(data.X), np.max(data.X), 100)\n",
    "# ysp = poly.predict(sm.add_constant(poly_expand(xsp)))\n",
    "ysp10 = poly10.predict(sm.add_constant(poly_expand(xsp, order=10)))\n",
    "ylp = lin.predict(sm.add_constant(xsp))\n",
    "plt.plot(xsp, ylp, color='orange', label='linear')\n",
    "# plt.plot(xsp, ysp, color='red', label='poly4')\n",
    "plt.plot(xsp, ysp10, color='green', label='poly10')\n",
    "plt.legend()\n",
    "plt.show()"
   ]
  },
  {
   "cell_type": "markdown",
   "metadata": {},
   "source": [
    "What are our squared errors on the training data?"
   ]
  },
  {
   "cell_type": "code",
   "execution_count": 23,
   "metadata": {},
   "outputs": [
    {
     "data": {
      "text/plain": [
       "3.0553433680686"
      ]
     },
     "execution_count": 23,
     "metadata": {},
     "output_type": "execute_result"
    }
   ],
   "source": [
    "np.mean(np.square(lin.resid))"
   ]
  },
  {
   "cell_type": "code",
   "execution_count": 24,
   "metadata": {},
   "outputs": [
    {
     "data": {
      "text/plain": [
       "2.0253086976466195"
      ]
     },
     "execution_count": 24,
     "metadata": {},
     "output_type": "execute_result"
    }
   ],
   "source": [
    "np.mean(np.square(poly10.resid))"
   ]
  },
  {
   "cell_type": "markdown",
   "metadata": {},
   "source": [
    "## New Data\n",
    "\n",
    "\n",
    "What about new points from our distribution?  Let's generate some:"
   ]
  },
  {
   "cell_type": "code",
   "execution_count": 25,
   "metadata": {},
   "outputs": [],
   "source": [
    "test = generate(30)\n",
    "test['LinP'] = lin.predict(sm.add_constant(test[['X']]))\n",
    "test['LinErr'] = test['Y'] - test['LinP']\n",
    "test['Poly10P'] = poly10.predict(sm.add_constant(poly_expand(test.X, 10)))\n",
    "test['Poly10Err'] = test['Y'] - test['Poly10P']"
   ]
  },
  {
   "cell_type": "markdown",
   "metadata": {},
   "source": [
    "And compute our *test error* for each model:"
   ]
  },
  {
   "cell_type": "code",
   "execution_count": 26,
   "metadata": {},
   "outputs": [
    {
     "data": {
      "text/plain": [
       "2.992713620832882"
      ]
     },
     "execution_count": 26,
     "metadata": {},
     "output_type": "execute_result"
    }
   ],
   "source": [
    "np.mean(np.square(test['LinErr']))"
   ]
  },
  {
   "cell_type": "code",
   "execution_count": 27,
   "metadata": {},
   "outputs": [
    {
     "data": {
      "text/plain": [
       "4.382587964880173"
      ]
     },
     "execution_count": 27,
     "metadata": {},
     "output_type": "execute_result"
    }
   ],
   "source": [
    "np.mean(np.square(test['Poly10Err']))"
   ]
  },
  {
   "cell_type": "markdown",
   "metadata": {},
   "source": [
    "And plot the new points, along wiht the old points and our model:"
   ]
  },
  {
   "cell_type": "code",
   "execution_count": 35,
   "metadata": {},
   "outputs": [
    {
     "data": {
      "image/png": "[encoded data removed]",
      "text/plain": [
       "<Figure size 432x288 with 1 Axes>"
      ]
     },
     "metadata": {
      "needs_background": "light"
     },
     "output_type": "display_data"
    }
   ],
   "source": [
    "plt.scatter(data.X, data.Y, color='steelblue')\n",
    "plt.scatter(test.X, test.Y, color='red', marker='+')\n",
    "xsp = np.linspace(np.min(data.X), np.max(data.X), 100)\n",
    "# ysp = poly.predict(sm.add_constant(poly_expand(xsp)))\n",
    "ysp10 = poly10.predict(sm.add_constant(poly_expand(xsp, order=10)))\n",
    "ylp = lin.predict(sm.add_constant(xsp))\n",
    "plt.plot(xsp, ylp, color='orange', label='linear')\n",
    "# plt.plot(xsp, ysp, color='red', label='poly4')\n",
    "plt.plot(xsp, ysp10, color='green', label='poly10')\n",
    "plt.legend()\n",
    "plt.show()"
   ]
  },
  {
   "cell_type": "code",
   "execution_count": null,
   "metadata": {},
   "outputs": [],
   "source": []
  }
 ],
 "metadata": {
  "kernelspec": {
   "display_name": "Python 3",
   "language": "python",
   "name": "python3"
  },
  "language_info": {
   "codemirror_mode": {
    "name": "ipython",
    "version": 3
   },
   "file_extension": ".py",
   "mimetype": "text/x-python",
   "name": "python",
   "nbconvert_exporter": "python",
   "pygments_lexer": "ipython3",
   "version": "3.8.3"
  }
 },
 "nbformat": 4,
 "nbformat_minor": 4
}

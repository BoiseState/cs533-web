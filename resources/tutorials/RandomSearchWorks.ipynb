{
 "cells": [
  {
   "cell_type": "markdown",
   "id": "488c578b",
   "metadata": {},
   "source": [
    "# Why does Random Search Work?\n",
    "\n",
    "This notebook works through the arithmetic about how random search works and why it successfully finds good hyperparameters."
   ]
  },
  {
   "cell_type": "markdown",
   "id": "8669d23a",
   "metadata": {},
   "source": [
    "## Setup\n",
    "\n",
    "We're going to use some visuals and simulation to demonstrate this, so let's get that out of the way."
   ]
  },
  {
   "cell_type": "code",
   "execution_count": 1,
   "id": "57cd679c",
   "metadata": {},
   "outputs": [],
   "source": [
    "import numpy as np\n",
    "import matplotlib.pyplot as plt"
   ]
  },
  {
   "cell_type": "markdown",
   "id": "bc6c7149",
   "metadata": {},
   "source": [
    "And set up some random numbers:"
   ]
  },
  {
   "cell_type": "code",
   "execution_count": 2,
   "id": "962ed6f5",
   "metadata": {},
   "outputs": [],
   "source": [
    "import seedbank\n",
    "seedbank.initialize(20221201)\n",
    "rng = seedbank.numpy_rng()"
   ]
  },
  {
   "cell_type": "markdown",
   "id": "29f9c517",
   "metadata": {},
   "source": [
    "## Finding a Good Enough Point\n",
    "\n",
    "There are three key assumptions needed to make random search effective:\n",
    "\n",
    "- We don't need to find the *best* hyperparameters, simply some *good enough* hyperparameters.\n",
    "- A meaningful percentage of the search space (defined by the *probability mass*, as needed) contains *good enough* hyperparameters.\n",
    "- We are satisfied with a *probabilistic* guarantee that we will find one of these hyperparameters.\n",
    "\n",
    "Let's show what we mean by the hyperparameter space - suppose we have two hyperparameters, $x$ and $y$, and they can each take on any value in the range $[0,1]$.  This means the **search space** is the set of tuples $(x,y)$ such that $0 \\le x, y \\le 1$: $[0,1]^2$.  Further, let's assume that 5% of these points are “good enough” - we'll put a box around those.  First, let's define this good-enough region (in reality, the region might not be so clean, but this will let us illustrate the point):"
   ]
  },
  {
   "cell_type": "code",
   "execution_count": 3,
   "id": "6b5b78f2",
   "metadata": {},
   "outputs": [],
   "source": [
    "good_xmin = 0.2\n",
    "good_xmax = 0.4\n",
    "good_ymin = 0.55\n",
    "good_ymax = 0.8"
   ]
  },
  {
   "cell_type": "markdown",
   "id": "676153a5",
   "metadata": {},
   "source": [
    "Now let's show it:"
   ]
  },
  {
   "cell_type": "code",
   "execution_count": 4,
   "id": "7012619e",
   "metadata": {},
   "outputs": [
    {
     "data": {
      "image/png": "[encoded data removed]",
      "text/plain": [
       "<Figure size 640x480 with 1 Axes>"
      ]
     },
     "metadata": {},
     "output_type": "display_data"
    }
   ],
   "source": [
    "plt.xlim(0, 1)\n",
    "plt.xlabel('x')\n",
    "plt.ylim(0, 1)\n",
    "plt.ylabel('y')\n",
    "\n",
    "plt.hlines([good_ymin, good_ymax], good_xmin, good_xmax)\n",
    "plt.vlines([good_xmin, good_xmax], good_ymin, good_ymax)\n",
    "plt.show()"
   ]
  },
  {
   "cell_type": "markdown",
   "id": "6dabcf24",
   "metadata": {},
   "source": [
    "We can confirm that the area is 0.05:"
   ]
  },
  {
   "cell_type": "code",
   "execution_count": 5,
   "id": "46564a99",
   "metadata": {},
   "outputs": [
    {
     "data": {
      "text/plain": [
       "0.05"
      ]
     },
     "execution_count": 5,
     "metadata": {},
     "output_type": "execute_result"
    }
   ],
   "source": [
    "(good_ymax - good_ymin) * (good_xmax - good_xmin)"
   ]
  },
  {
   "cell_type": "markdown",
   "id": "fa91cf0a",
   "metadata": {},
   "source": [
    "Now, if we draw 60 random points from this space, where do they fall?"
   ]
  },
  {
   "cell_type": "code",
   "execution_count": 6,
   "id": "3dff10a8",
   "metadata": {},
   "outputs": [],
   "source": [
    "xs, ys = rng.random((2, 60))"
   ]
  },
  {
   "cell_type": "code",
   "execution_count": 7,
   "id": "1ef17c0f",
   "metadata": {},
   "outputs": [
    {
     "data": {
      "image/png": "[encoded data removed]",
      "text/plain": [
       "<Figure size 640x480 with 1 Axes>"
      ]
     },
     "metadata": {},
     "output_type": "display_data"
    }
   ],
   "source": [
    "plt.xlim(0, 1)\n",
    "plt.xlabel('x')\n",
    "plt.ylim(0, 1)\n",
    "plt.ylabel('y')\n",
    "\n",
    "good = (xs >= good_xmin) & (xs <= good_xmax) & (ys >= good_ymin) & (ys <= good_ymax)\n",
    "plt.hlines([0.55, 0.8], 0.2, 0.4)\n",
    "plt.vlines([0.2, 0.4], 0.55, 0.8)\n",
    "plt.scatter(xs[~good], ys[~good], marker='+', color='black', label='not good')\n",
    "plt.scatter(xs[good], ys[good], marker='+', color='green', label='good enough')\n",
    "plt.legend()\n",
    "plt.show()"
   ]
  },
  {
   "cell_type": "markdown",
   "id": "cd3f8c2a",
   "metadata": {},
   "source": [
    "We can see that one of the points is in the “good enough” range — that means that, if we pick the best point from the 60 that we sampled, the point we pick will be good enough.  Sometimes, multiple points will be in that range.\n",
    "\n",
    "Now, here we defined a crisp range of points that are good enough. In practice, we don't know what range of points are good enough — if we did, we would just use one of them.  Instead, what we are doing is modeling the ability to use randomization to find one of those points, based on our assumptions."
   ]
  },
  {
   "cell_type": "markdown",
   "id": "6b039fc6",
   "metadata": {},
   "source": [
    "## Proving Effectiveness\n",
    "\n",
    "We've seen it work once, but what kinds of guarantees can we prove about random search?\n",
    "\n",
    "Let $G$ be the set of good-enough points, and $S^n=\\{s_1,\\dots,s_n\\}$ be a sample of $n$ points.  If we want to find one good-enough point, we can denote this by:\n",
    "\n",
    "$$\n",
    "\\exists_{i=1,n} s_i \\in G\n",
    "$$\n",
    "\n",
    "That is, there exists an $i$ such that $s_i \\in G$ — point $s_i$ is good enough.  If we want a procedure that finds a good-enough point 95% of the time, then we want:\n",
    "\n",
    "$$\n",
    "\\P[\\exists_{i=1,n} s_i \\in G] \\ge 0.95\n",
    "$$\n",
    "\n",
    "Now, it is difficult work out the probabilities of “there exists” — we need to do the probability of 1 good-enough point, the probability of 2 such points, and so on.  However, if $A$ is the event “at least one point is good enough”, then its complement $A^C$ is “no points are good enough”.  That is much easier to write:\n",
    "\n",
    "$$\n",
    "\\P[\\forall_{i=1,n} s_i \\notin G] < 0.05\n",
    "$$\n",
    "\n",
    "Further, since each sample is drawn independently, and its probability of being good enough is independent, this can be written as a product of probabilities over individual points:\n",
    "\n",
    "$$\\begin{align*}\n",
    "\\P[\\forall_{i=1,n} s_i \\notin G]\n",
    "& = \\prod_{i=1}^n \\P[s_i \\notin G] \\\\\n",
    "& = \\P[s \\notin G]^n \\\\\n",
    "& < 0.05\n",
    "\\end{align*}$$\n",
    "\n",
    "If we assume that $\\P[s \\notin G] = 0.95$ (5% of the search space is good enough), and sample 60 points, then we get:\n",
    "\n",
    "$$\\begin{align*}\n",
    "\\P[\\forall_{i=1,60} s_i \\notin G]\n",
    "& = \\P[s \\notin G]^{60} \\\\\n",
    "& = 0.95^{60} \\\\\n",
    "& = 0.0461 \\\\\n",
    "& < 0.05\n",
    "\\end{align*}$$"
   ]
  },
  {
   "cell_type": "markdown",
   "id": "19c97468",
   "metadata": {},
   "source": [
    "### Alterning the Formula\n",
    "\n",
    "The general formula can be applied for any numbers.  For example, if the good-enough space is 3%, and we draw 100 points, what happens?\n",
    "\n",
    "$$\\begin{align*}\n",
    "\\P[\\forall_{i=1,100} s_i \\notin G]\n",
    "& = \\P[s \\notin G]^{100} \\\\\n",
    "& = 0.97^{100} \\\\\n",
    "& = 0.0476 \\\\\n",
    "& < 0.05\n",
    "\\end{align*}$$"
   ]
  },
  {
   "cell_type": "markdown",
   "id": "e885e51d",
   "metadata": {},
   "source": [
    "Further, if we keep the 5% assumption, but draw 100 points, then the probability of failing to find a good-enough point goes down to 0.6%."
   ]
  }
 ],
 "metadata": {
  "kernelspec": {
   "display_name": "Python 3 (ipykernel)",
   "language": "python",
   "name": "python3"
  },
  "language_info": {
   "codemirror_mode": {
    "name": "ipython",
    "version": 3
   },
   "file_extension": ".py",
   "mimetype": "text/x-python",
   "name": "python",
   "nbconvert_exporter": "python",
   "pygments_lexer": "ipython3",
   "version": "3.10.8"
  }
 },
 "nbformat": 4,
 "nbformat_minor": 5
}

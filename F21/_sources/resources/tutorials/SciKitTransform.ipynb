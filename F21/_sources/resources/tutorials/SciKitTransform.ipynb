{
 "cells": [
  {
   "cell_type": "markdown",
   "id": "a03c69b5-75bf-403e-b721-7106c4dd0f32",
   "metadata": {},
   "source": [
    "# SciKit Transformations\n",
    "\n",
    "This tutorial notebook demonstrates SciKit-Learn more SciKit-Learn transformations, in particular:\n",
    "\n",
    "- Using {py:class}`sklearn.preprocessing.FunctionTransformer` to transform two columns into one\n",
    "- Using {py:class}`sklearn.preprocessing.OneHotEncoder` to transform a categorical column into a dummy-coded column\n",
    "\n",
    "It builds on the ideas in the [penguin regression notebook](Regressions.ipynb), and uses the same data."
   ]
  },
  {
   "cell_type": "markdown",
   "id": "f5781fd0-0bb9-4e47-96b0-0bab87cc585f",
   "metadata": {},
   "source": [
    "## Setup\n",
    "\n",
    "First, we are going to import our basic packages:"
   ]
  },
  {
   "cell_type": "code",
   "execution_count": 1,
   "id": "2648c640-ca7d-433c-a7e6-0e96324d4ac1",
   "metadata": {},
   "outputs": [],
   "source": [
    "import pandas as pd\n",
    "import numpy as np\n",
    "import matplotlib.pyplot as plt\n",
    "import seaborn as sns\n",
    "import scipy.stats as sps"
   ]
  },
  {
   "cell_type": "markdown",
   "id": "210dd787-c2ca-4288-80d7-faca8574823a",
   "metadata": {},
   "source": [
    "And some SciKit-Learn code:"
   ]
  },
  {
   "cell_type": "code",
   "execution_count": 2,
   "id": "7fd6a2ad-b5d3-4adc-8e75-674913837634",
   "metadata": {},
   "outputs": [],
   "source": [
    "from sklearn.preprocessing import FunctionTransformer, OneHotEncoder, StandardScaler, PolynomialFeatures\n",
    "from sklearn.compose import ColumnTransformer\n",
    "from sklearn.pipeline import Pipeline\n",
    "from sklearn.linear_model import LinearRegression, ElasticNetCV\n",
    "from sklearn.model_selection import train_test_split\n",
    "from sklearn.metrics import mean_squared_error"
   ]
  },
  {
   "cell_type": "markdown",
   "id": "60409192-668a-4da6-a514-a827a677db1f",
   "metadata": {},
   "source": [
    "And initialize the RNG:"
   ]
  },
  {
   "cell_type": "code",
   "execution_count": 3,
   "id": "fa26e8d1-cc08-4aa4-a4f6-43c50fd12c20",
   "metadata": {},
   "outputs": [
    {
     "data": {
      "text/plain": [
       "SeedSequence(\n",
       "    entropy=20211102,\n",
       ")"
      ]
     },
     "execution_count": 3,
     "metadata": {},
     "output_type": "execute_result"
    }
   ],
   "source": [
    "import seedbank\n",
    "seedbank.initialize(20211102)"
   ]
  },
  {
   "cell_type": "markdown",
   "id": "caff2760-cfcd-448e-b559-7a0676f0c173",
   "metadata": {},
   "source": [
    "We're going to use the Penguins data:"
   ]
  },
  {
   "cell_type": "code",
   "execution_count": 4,
   "id": "e4ad19c1-a0e7-44e3-aaa9-d96089aebda4",
   "metadata": {},
   "outputs": [],
   "source": [
    "penguins = pd.read_csv('../data/penguins.csv')"
   ]
  },
  {
   "cell_type": "code",
   "execution_count": 5,
   "id": "7d12d0c4-2902-4c24-b5e9-fe4a0c17b10d",
   "metadata": {},
   "outputs": [
    {
     "data": {
      "text/html": [
       "<div>\n",
       "<style scoped>\n",
       "    .dataframe tbody tr th:only-of-type {\n",
       "        vertical-align: middle;\n",
       "    }\n",
       "\n",
       "    .dataframe tbody tr th {\n",
       "        vertical-align: top;\n",
       "    }\n",
       "\n",
       "    .dataframe thead th {\n",
       "        text-align: right;\n",
       "    }\n",
       "</style>\n",
       "<table border=\"1\" class=\"dataframe\">\n",
       "  <thead>\n",
       "    <tr style=\"text-align: right;\">\n",
       "      <th></th>\n",
       "      <th>species</th>\n",
       "      <th>island</th>\n",
       "      <th>bill_length_mm</th>\n",
       "      <th>bill_depth_mm</th>\n",
       "      <th>flipper_length_mm</th>\n",
       "      <th>body_mass_g</th>\n",
       "      <th>sex</th>\n",
       "      <th>year</th>\n",
       "    </tr>\n",
       "  </thead>\n",
       "  <tbody>\n",
       "    <tr>\n",
       "      <th>0</th>\n",
       "      <td>Adelie</td>\n",
       "      <td>Torgersen</td>\n",
       "      <td>39.1</td>\n",
       "      <td>18.7</td>\n",
       "      <td>181.0</td>\n",
       "      <td>3750.0</td>\n",
       "      <td>male</td>\n",
       "      <td>2007</td>\n",
       "    </tr>\n",
       "    <tr>\n",
       "      <th>1</th>\n",
       "      <td>Adelie</td>\n",
       "      <td>Torgersen</td>\n",
       "      <td>39.5</td>\n",
       "      <td>17.4</td>\n",
       "      <td>186.0</td>\n",
       "      <td>3800.0</td>\n",
       "      <td>female</td>\n",
       "      <td>2007</td>\n",
       "    </tr>\n",
       "    <tr>\n",
       "      <th>2</th>\n",
       "      <td>Adelie</td>\n",
       "      <td>Torgersen</td>\n",
       "      <td>40.3</td>\n",
       "      <td>18.0</td>\n",
       "      <td>195.0</td>\n",
       "      <td>3250.0</td>\n",
       "      <td>female</td>\n",
       "      <td>2007</td>\n",
       "    </tr>\n",
       "    <tr>\n",
       "      <th>3</th>\n",
       "      <td>Adelie</td>\n",
       "      <td>Torgersen</td>\n",
       "      <td>NaN</td>\n",
       "      <td>NaN</td>\n",
       "      <td>NaN</td>\n",
       "      <td>NaN</td>\n",
       "      <td>NaN</td>\n",
       "      <td>2007</td>\n",
       "    </tr>\n",
       "    <tr>\n",
       "      <th>4</th>\n",
       "      <td>Adelie</td>\n",
       "      <td>Torgersen</td>\n",
       "      <td>36.7</td>\n",
       "      <td>19.3</td>\n",
       "      <td>193.0</td>\n",
       "      <td>3450.0</td>\n",
       "      <td>female</td>\n",
       "      <td>2007</td>\n",
       "    </tr>\n",
       "  </tbody>\n",
       "</table>\n",
       "</div>"
      ],
      "text/plain": [
       "  species     island  bill_length_mm  bill_depth_mm  flipper_length_mm  \\\n",
       "0  Adelie  Torgersen            39.1           18.7              181.0   \n",
       "1  Adelie  Torgersen            39.5           17.4              186.0   \n",
       "2  Adelie  Torgersen            40.3           18.0              195.0   \n",
       "3  Adelie  Torgersen             NaN            NaN                NaN   \n",
       "4  Adelie  Torgersen            36.7           19.3              193.0   \n",
       "\n",
       "   body_mass_g     sex  year  \n",
       "0       3750.0    male  2007  \n",
       "1       3800.0  female  2007  \n",
       "2       3250.0  female  2007  \n",
       "3          NaN     NaN  2007  \n",
       "4       3450.0  female  2007  "
      ]
     },
     "execution_count": 5,
     "metadata": {},
     "output_type": "execute_result"
    }
   ],
   "source": [
    "penguins.head()"
   ]
  },
  {
   "cell_type": "markdown",
   "id": "76268f3a-96cf-404f-b4ff-41814f583644",
   "metadata": {},
   "source": [
    "Our goal is to predict penguin body mass. We're going to remove the data where we cannot predict that:"
   ]
  },
  {
   "cell_type": "code",
   "execution_count": 6,
   "id": "ff088f35-46f8-471a-a7fd-2dae7c2586b9",
   "metadata": {},
   "outputs": [],
   "source": [
    "predictable = penguins[penguins.body_mass_g.notnull()]\n",
    "predictable = predictable[predictable['sex'].notnull()]"
   ]
  },
  {
   "cell_type": "markdown",
   "id": "c5cf233a-fceb-4634-b95e-5197b4ef9686",
   "metadata": {},
   "source": [
    "And make a train-test split:"
   ]
  },
  {
   "cell_type": "code",
   "execution_count": 7,
   "id": "65572d4a-fad5-43b1-a4e4-a9c78eebcef8",
   "metadata": {},
   "outputs": [],
   "source": [
    "train, test = train_test_split(predictable, test_size=0.2)"
   ]
  },
  {
   "cell_type": "markdown",
   "id": "be58ae38-e50d-4847-8cb6-f5fba650b5f6",
   "metadata": {},
   "source": [
    "What does the training data look like?"
   ]
  },
  {
   "cell_type": "code",
   "execution_count": 8,
   "id": "c08808b2-04e5-4ac4-b782-0f8fdae62ae6",
   "metadata": {},
   "outputs": [
    {
     "data": {
      "text/html": [
       "<div>\n",
       "<style scoped>\n",
       "    .dataframe tbody tr th:only-of-type {\n",
       "        vertical-align: middle;\n",
       "    }\n",
       "\n",
       "    .dataframe tbody tr th {\n",
       "        vertical-align: top;\n",
       "    }\n",
       "\n",
       "    .dataframe thead th {\n",
       "        text-align: right;\n",
       "    }\n",
       "</style>\n",
       "<table border=\"1\" class=\"dataframe\">\n",
       "  <thead>\n",
       "    <tr style=\"text-align: right;\">\n",
       "      <th></th>\n",
       "      <th>species</th>\n",
       "      <th>island</th>\n",
       "      <th>bill_length_mm</th>\n",
       "      <th>bill_depth_mm</th>\n",
       "      <th>flipper_length_mm</th>\n",
       "      <th>body_mass_g</th>\n",
       "      <th>sex</th>\n",
       "      <th>year</th>\n",
       "    </tr>\n",
       "  </thead>\n",
       "  <tbody>\n",
       "    <tr>\n",
       "      <th>223</th>\n",
       "      <td>Gentoo</td>\n",
       "      <td>Biscoe</td>\n",
       "      <td>46.4</td>\n",
       "      <td>15.6</td>\n",
       "      <td>221.0</td>\n",
       "      <td>5000.0</td>\n",
       "      <td>male</td>\n",
       "      <td>2008</td>\n",
       "    </tr>\n",
       "    <tr>\n",
       "      <th>273</th>\n",
       "      <td>Gentoo</td>\n",
       "      <td>Biscoe</td>\n",
       "      <td>50.4</td>\n",
       "      <td>15.7</td>\n",
       "      <td>222.0</td>\n",
       "      <td>5750.0</td>\n",
       "      <td>male</td>\n",
       "      <td>2009</td>\n",
       "    </tr>\n",
       "    <tr>\n",
       "      <th>145</th>\n",
       "      <td>Adelie</td>\n",
       "      <td>Dream</td>\n",
       "      <td>39.0</td>\n",
       "      <td>18.7</td>\n",
       "      <td>185.0</td>\n",
       "      <td>3650.0</td>\n",
       "      <td>male</td>\n",
       "      <td>2009</td>\n",
       "    </tr>\n",
       "    <tr>\n",
       "      <th>119</th>\n",
       "      <td>Adelie</td>\n",
       "      <td>Torgersen</td>\n",
       "      <td>41.1</td>\n",
       "      <td>18.6</td>\n",
       "      <td>189.0</td>\n",
       "      <td>3325.0</td>\n",
       "      <td>male</td>\n",
       "      <td>2009</td>\n",
       "    </tr>\n",
       "    <tr>\n",
       "      <th>16</th>\n",
       "      <td>Adelie</td>\n",
       "      <td>Torgersen</td>\n",
       "      <td>38.7</td>\n",
       "      <td>19.0</td>\n",
       "      <td>195.0</td>\n",
       "      <td>3450.0</td>\n",
       "      <td>female</td>\n",
       "      <td>2007</td>\n",
       "    </tr>\n",
       "  </tbody>\n",
       "</table>\n",
       "</div>"
      ],
      "text/plain": [
       "    species     island  bill_length_mm  bill_depth_mm  flipper_length_mm  \\\n",
       "223  Gentoo     Biscoe            46.4           15.6              221.0   \n",
       "273  Gentoo     Biscoe            50.4           15.7              222.0   \n",
       "145  Adelie      Dream            39.0           18.7              185.0   \n",
       "119  Adelie  Torgersen            41.1           18.6              189.0   \n",
       "16   Adelie  Torgersen            38.7           19.0              195.0   \n",
       "\n",
       "     body_mass_g     sex  year  \n",
       "223       5000.0    male  2008  \n",
       "273       5750.0    male  2009  \n",
       "145       3650.0    male  2009  \n",
       "119       3325.0    male  2009  \n",
       "16        3450.0  female  2007  "
      ]
     },
     "execution_count": 8,
     "metadata": {},
     "output_type": "execute_result"
    }
   ],
   "source": [
    "train.head()"
   ]
  },
  {
   "cell_type": "markdown",
   "id": "a870b6db-55a3-447a-ab66-79f00a71f365",
   "metadata": {},
   "source": [
    "## Bill Ratio\n",
    "\n",
    "First, I would like to demonstrate how to use {py:class}`sklearn.preprocessing.FunctionTransformer` to compute a feature from two variables: specifically, we are going to compute the *bill ratio* (bill length / bill depth) for each penguin."
   ]
  },
  {
   "cell_type": "code",
   "execution_count": 9,
   "id": "734d6e83-4615-4ea6-b425-da58fe4e91cb",
   "metadata": {},
   "outputs": [],
   "source": [
    "def column_ratio(mat):\n",
    "    \"\"\"\n",
    "    Compute the ratio of two columns.\n",
    "    \"\"\"\n",
    "    rows, cols = mat.shape\n",
    "    assert cols == 2  # if we don't have 2 columns, things are unexpected\n",
    "    \n",
    "    if hasattr(mat, 'iloc'):\n",
    "        # Pandas object, use iloc\n",
    "        res = mat.iloc[:, 0] / mat.iloc[:, 1]\n",
    "        return res.to_frame()\n",
    "    else:\n",
    "        # probably a numpy array\n",
    "        res = mat[:, 0] / mat[:, 1]\n",
    "        return res.reshape((rows, 1))"
   ]
  },
  {
   "cell_type": "markdown",
   "id": "b0843a28-a9e8-426c-bcb7-798863432b71",
   "metadata": {},
   "source": [
    "Let's test this on our bill columns:"
   ]
  },
  {
   "cell_type": "code",
   "execution_count": 10,
   "id": "52784043-36d2-4e2e-aa65-cacde041c7f8",
   "metadata": {},
   "outputs": [
    {
     "data": {
      "text/html": [
       "<div>\n",
       "<style scoped>\n",
       "    .dataframe tbody tr th:only-of-type {\n",
       "        vertical-align: middle;\n",
       "    }\n",
       "\n",
       "    .dataframe tbody tr th {\n",
       "        vertical-align: top;\n",
       "    }\n",
       "\n",
       "    .dataframe thead th {\n",
       "        text-align: right;\n",
       "    }\n",
       "</style>\n",
       "<table border=\"1\" class=\"dataframe\">\n",
       "  <thead>\n",
       "    <tr style=\"text-align: right;\">\n",
       "      <th></th>\n",
       "      <th>0</th>\n",
       "    </tr>\n",
       "  </thead>\n",
       "  <tbody>\n",
       "    <tr>\n",
       "      <th>223</th>\n",
       "      <td>2.974359</td>\n",
       "    </tr>\n",
       "    <tr>\n",
       "      <th>273</th>\n",
       "      <td>3.210191</td>\n",
       "    </tr>\n",
       "    <tr>\n",
       "      <th>145</th>\n",
       "      <td>2.085561</td>\n",
       "    </tr>\n",
       "    <tr>\n",
       "      <th>119</th>\n",
       "      <td>2.209677</td>\n",
       "    </tr>\n",
       "    <tr>\n",
       "      <th>16</th>\n",
       "      <td>2.036842</td>\n",
       "    </tr>\n",
       "    <tr>\n",
       "      <th>...</th>\n",
       "      <td>...</td>\n",
       "    </tr>\n",
       "    <tr>\n",
       "      <th>207</th>\n",
       "      <td>2.922078</td>\n",
       "    </tr>\n",
       "    <tr>\n",
       "      <th>124</th>\n",
       "      <td>2.213836</td>\n",
       "    </tr>\n",
       "    <tr>\n",
       "      <th>200</th>\n",
       "      <td>3.375940</td>\n",
       "    </tr>\n",
       "    <tr>\n",
       "      <th>204</th>\n",
       "      <td>3.131944</td>\n",
       "    </tr>\n",
       "    <tr>\n",
       "      <th>33</th>\n",
       "      <td>2.164021</td>\n",
       "    </tr>\n",
       "  </tbody>\n",
       "</table>\n",
       "<p>266 rows × 1 columns</p>\n",
       "</div>"
      ],
      "text/plain": [
       "            0\n",
       "223  2.974359\n",
       "273  3.210191\n",
       "145  2.085561\n",
       "119  2.209677\n",
       "16   2.036842\n",
       "..        ...\n",
       "207  2.922078\n",
       "124  2.213836\n",
       "200  3.375940\n",
       "204  3.131944\n",
       "33   2.164021\n",
       "\n",
       "[266 rows x 1 columns]"
      ]
     },
     "execution_count": 10,
     "metadata": {},
     "output_type": "execute_result"
    }
   ],
   "source": [
    "column_ratio(train[['bill_length_mm', 'bill_depth_mm']])"
   ]
  },
  {
   "cell_type": "markdown",
   "id": "5e86d0d2-d9f6-4738-9a79-1ebf5bed822c",
   "metadata": {},
   "source": [
    "Now, let's wrap it up in a function transformer and a column transformer:"
   ]
  },
  {
   "cell_type": "code",
   "execution_count": 11,
   "id": "ce006cc2-3ba7-4fd6-8d6e-2b09216ce517",
   "metadata": {},
   "outputs": [],
   "source": [
    "tf_br = FunctionTransformer(column_ratio)\n",
    "tf_pipe = ColumnTransformer([\n",
    "    ('bill_ratio', tf_br, ['bill_length_mm', 'bill_depth_mm'])\n",
    "])"
   ]
  },
  {
   "cell_type": "markdown",
   "id": "49386185-06d7-4b11-a68c-940c6c039b04",
   "metadata": {},
   "source": [
    "And apply this to our training data:"
   ]
  },
  {
   "cell_type": "code",
   "execution_count": 12,
   "id": "87c054d7-a513-49a5-a372-2f896be32f42",
   "metadata": {},
   "outputs": [
    {
     "data": {
      "text/plain": [
       "array([[2.97435897],\n",
       "       [3.21019108],\n",
       "       [2.0855615 ],\n",
       "       [2.20967742],\n",
       "       [2.03684211]])"
      ]
     },
     "execution_count": 12,
     "metadata": {},
     "output_type": "execute_result"
    }
   ],
   "source": [
    "ratios = tf_pipe.fit_transform(train)\n",
    "ratios[:5, :]  # first 5 rows"
   ]
  },
  {
   "cell_type": "markdown",
   "id": "f90bb2ec-fd6d-495a-b96f-25a0fe8445a7",
   "metadata": {},
   "source": [
    "That's how you can use SciKit-Learn pipelines to combine features!"
   ]
  },
  {
   "cell_type": "markdown",
   "id": "39936724-256c-487d-b6e1-dc00e98a1656",
   "metadata": {},
   "source": [
    "## Dummy Coding\n",
    "\n",
    ":::{index} encoding; dummy, encoding; one-hot\n",
    ":::\n",
    "\n",
    "Our species and gender are categorical variables.  For these we want to use dummy-coding or one-hot encoding; we specifically need the version that drops one variable, since we are doing a linear model.\n",
    "\n",
    "We can do this with {py:class}`sklearn.preprocessing.OneHotEncoder`.  It takes an option to control dropping, and returns the encoded version of a variable.\n",
    "\n",
    "Let's see it in action:"
   ]
  },
  {
   "cell_type": "code",
   "execution_count": 13,
   "id": "70e6e5bc-1e4d-41c8-8a67-9f056bf01828",
   "metadata": {},
   "outputs": [
    {
     "data": {
      "text/plain": [
       "array([[0., 1.],\n",
       "       [0., 1.],\n",
       "       [0., 0.],\n",
       "       [0., 0.],\n",
       "       [0., 0.]])"
      ]
     },
     "execution_count": 13,
     "metadata": {},
     "output_type": "execute_result"
    }
   ],
   "source": [
    "enc = OneHotEncoder(drop='first')\n",
    "dc = enc.fit_transform(train[['species']])\n",
    "dc[:5, :].toarray()"
   ]
  },
  {
   "cell_type": "markdown",
   "id": "595c86f8-7501-4f2b-afc5-03d30270ebda",
   "metadata": {},
   "source": [
    "We can one-hot encode multiple categories at a single shot:"
   ]
  },
  {
   "cell_type": "code",
   "execution_count": 14,
   "id": "9a392e89-7133-4b92-930c-96922f299331",
   "metadata": {},
   "outputs": [
    {
     "data": {
      "text/plain": [
       "array([[0., 1., 1.],\n",
       "       [0., 1., 1.],\n",
       "       [0., 0., 1.],\n",
       "       [0., 0., 1.],\n",
       "       [0., 0., 0.]])"
      ]
     },
     "execution_count": 14,
     "metadata": {},
     "output_type": "execute_result"
    }
   ],
   "source": [
    "dc = enc.fit_transform(train[['species', 'sex']])\n",
    "dc[:5, :].toarray()"
   ]
  },
  {
   "cell_type": "markdown",
   "id": "7a98370f-7055-48f1-8e87-48c8f7fe4f79",
   "metadata": {},
   "source": [
    "We get 3 columns: 2 for the 3 levels of species, and 1 for the 2 levels of sex."
   ]
  },
  {
   "cell_type": "markdown",
   "id": "1805fa2a-5385-4819-aa34-35296ebe3923",
   "metadata": {},
   "source": [
    "## Putting It Together\n",
    "\n",
    "Let's now fit the model for [penguins with sexual dimorphism](penguin-dimorphism), along with bill ratio and the excluded pairwise interactions. We're going to do this by:\n",
    "\n",
    "- Dummy-coding species and sex\n",
    "- Taking the bill ratio\n",
    "- Standardizing flipper length\n",
    "- Computing all pairwise interaction terms with {py:class}`sklearn.preprocessing.PolynomialFeatures`\n",
    "- Training a linear model, *without* intercepts (because the polynomial features adds a bias column)"
   ]
  },
  {
   "cell_type": "code",
   "execution_count": 15,
   "id": "624b3efe-bf64-413b-af5a-c07e118ba987",
   "metadata": {},
   "outputs": [],
   "source": [
    "lm_pipe = Pipeline([\n",
    "    ('columns', ColumnTransformer([\n",
    "        ('bill_ratio', FunctionTransformer(column_ratio), ['bill_length_mm', 'bill_depth_mm']),\n",
    "        ('cats', OneHotEncoder(drop='first'), ['species', 'sex']),\n",
    "        ('nums', StandardScaler(), ['flipper_length_mm']),\n",
    "    ])),\n",
    "    ('interact', PolynomialFeatures()),\n",
    "    ('model', LinearRegression(fit_intercept=False)),\n",
    "])"
   ]
  },
  {
   "cell_type": "markdown",
   "id": "685e9cd4-e362-40a0-bb8b-19339ed92154",
   "metadata": {},
   "source": [
    "Now we will fit the model:"
   ]
  },
  {
   "cell_type": "code",
   "execution_count": 16,
   "id": "183bbd16-b9b8-4166-9cc5-6e2b7ab0a4d0",
   "metadata": {},
   "outputs": [
    {
     "data": {
      "text/plain": [
       "Pipeline(steps=[('columns',\n",
       "                 ColumnTransformer(transformers=[('bill_ratio',\n",
       "                                                  FunctionTransformer(func=<function column_ratio at 0x7f4672198a60>),\n",
       "                                                  ['bill_length_mm',\n",
       "                                                   'bill_depth_mm']),\n",
       "                                                 ('cats',\n",
       "                                                  OneHotEncoder(drop='first'),\n",
       "                                                  ['species', 'sex']),\n",
       "                                                 ('nums', StandardScaler(),\n",
       "                                                  ['flipper_length_mm'])])),\n",
       "                ('interact', PolynomialFeatures()),\n",
       "                ('model', LinearRegression(fit_intercept=False))])"
      ]
     },
     "execution_count": 16,
     "metadata": {},
     "output_type": "execute_result"
    }
   ],
   "source": [
    "lm_pipe.fit(train, train['body_mass_g'])"
   ]
  },
  {
   "cell_type": "markdown",
   "id": "bc95bae1-1a26-430a-98e1-08ba0f33153b",
   "metadata": {},
   "source": [
    "What coefficients did this learn?"
   ]
  },
  {
   "cell_type": "code",
   "execution_count": 17,
   "id": "19ffbc19-d6d0-4029-85e9-1956ff664b61",
   "metadata": {},
   "outputs": [
    {
     "data": {
      "text/plain": [
       "array([ 5.37764531e+03, -1.16456891e+03,  3.31159495e+01, -3.23365336e+01,\n",
       "       -8.40322809e+01,  7.02871964e+02,  1.39456020e+02,  1.54343148e+02,\n",
       "        4.53204622e+02,  3.89303486e+02, -2.26860691e+02,  3.31159495e+01,\n",
       "        2.27373675e-13, -6.81412838e+02,  2.55991981e+02, -3.23365336e+01,\n",
       "       -5.95673146e+02,  2.44013269e+02, -8.40322809e+01,  9.26757085e+01,\n",
       "        3.09541362e+01])"
      ]
     },
     "execution_count": 17,
     "metadata": {},
     "output_type": "execute_result"
    }
   ],
   "source": [
    "lm_pipe.named_steps['model'].coef_"
   ]
  },
  {
   "cell_type": "markdown",
   "id": "3cd7a2f5-0f3e-468c-858f-d1336b28cbe5",
   "metadata": {},
   "source": [
    "Now we can predict:"
   ]
  },
  {
   "cell_type": "code",
   "execution_count": 18,
   "id": "be9260b1-1948-47a4-9d10-4bfaefd39d8e",
   "metadata": {},
   "outputs": [],
   "source": [
    "preds = lm_pipe.predict(test.drop(columns=['body_mass_g']))"
   ]
  },
  {
   "cell_type": "code",
   "execution_count": 19,
   "id": "40c56afc-f04f-4002-8602-6ae68d4b3cdb",
   "metadata": {},
   "outputs": [
    {
     "data": {
      "text/plain": [
       "87506.93221715576"
      ]
     },
     "execution_count": 19,
     "metadata": {},
     "output_type": "execute_result"
    }
   ],
   "source": [
    "mean_squared_error(test['body_mass_g'], preds)"
   ]
  },
  {
   "cell_type": "markdown",
   "id": "1864c3a6-c573-46e4-b944-b83c915f2f16",
   "metadata": {},
   "source": [
    "We don't really know how good that is without a reference point, but let's predict mass by prediction over our test data:"
   ]
  },
  {
   "cell_type": "code",
   "execution_count": 20,
   "id": "c74a75fb-4110-408b-8f24-ea6b15b11313",
   "metadata": {},
   "outputs": [
    {
     "data": {
      "image/png": "[encoded data removed]",
      "text/plain": [
       "<Figure size 432x288 with 1 Axes>"
      ]
     },
     "metadata": {
      "needs_background": "light"
     },
     "output_type": "display_data"
    }
   ],
   "source": [
    "sns.scatterplot(x=test['body_mass_g'], y=preds)\n",
    "plt.axline((4000, 4000), slope=1, color='black')\n",
    "plt.xlabel('Mass (g)')\n",
    "plt.ylabel('Predicted Mass (g)')\n",
    "plt.show()"
   ]
  },
  {
   "cell_type": "markdown",
   "id": "9660264c-1891-4a51-9380-b751f0d5b74f",
   "metadata": {},
   "source": [
    "I'd say that doesn't look too bad!"
   ]
  },
  {
   "cell_type": "markdown",
   "id": "d5144ecc-6fb9-472b-9a71-be0845ec9021",
   "metadata": {},
   "source": [
    "## Regularization\n",
    "\n",
    "Let's compare that model with a regularized one."
   ]
  },
  {
   "cell_type": "code",
   "execution_count": 23,
   "id": "ab0da570-0430-4a1a-982a-ebf2d1569b3f",
   "metadata": {},
   "outputs": [],
   "source": [
    "reg_pipe = Pipeline([\n",
    "    ('columns', ColumnTransformer([\n",
    "        ('bill_ratio', FunctionTransformer(column_ratio), ['bill_length_mm', 'bill_depth_mm']),\n",
    "        ('cats', OneHotEncoder(drop='first'), ['species', 'sex']),\n",
    "        ('nums', StandardScaler(), ['flipper_length_mm']),\n",
    "    ])),\n",
    "    ('interact', PolynomialFeatures()),\n",
    "    ('model', ElasticNetCV(l1_ratio=np.linspace(0.1, 1, 5), fit_intercept=False)),\n",
    "])"
   ]
  },
  {
   "cell_type": "markdown",
   "id": "5afe0a8b-4ae9-4e1e-8d1e-22d6a86765c6",
   "metadata": {},
   "source": [
    "Fit to our training data:"
   ]
  },
  {
   "cell_type": "code",
   "execution_count": 24,
   "id": "7b7d31b5-3870-426b-a43b-e0d5fc042cf0",
   "metadata": {},
   "outputs": [
    {
     "data": {
      "text/plain": [
       "Pipeline(steps=[('columns',\n",
       "                 ColumnTransformer(transformers=[('bill_ratio',\n",
       "                                                  FunctionTransformer(func=<function column_ratio at 0x7f4672198a60>),\n",
       "                                                  ['bill_length_mm',\n",
       "                                                   'bill_depth_mm']),\n",
       "                                                 ('cats',\n",
       "                                                  OneHotEncoder(drop='first'),\n",
       "                                                  ['species', 'sex']),\n",
       "                                                 ('nums', StandardScaler(),\n",
       "                                                  ['flipper_length_mm'])])),\n",
       "                ('interact', PolynomialFeatures()),\n",
       "                ('model',\n",
       "                 ElasticNetCV(fit_intercept=False,\n",
       "                              l1_ratio=array([0.1  , 0.325, 0.55 , 0.775, 1.   ])))])"
      ]
     },
     "execution_count": 24,
     "metadata": {},
     "output_type": "execute_result"
    }
   ],
   "source": [
    "reg_pipe.fit(train, train['body_mass_g'])"
   ]
  },
  {
   "cell_type": "markdown",
   "id": "ab0c34f7-713d-42eb-8c41-219233d22f85",
   "metadata": {},
   "source": [
    "Let's get curious - what L1 ratio did we learn?"
   ]
  },
  {
   "cell_type": "code",
   "execution_count": 25,
   "id": "c55f4a0f-2fb8-419c-8067-b9bb620555fa",
   "metadata": {},
   "outputs": [
    {
     "data": {
      "text/plain": [
       "1.0"
      ]
     },
     "execution_count": 25,
     "metadata": {},
     "output_type": "execute_result"
    }
   ],
   "source": [
    "reg_pipe.named_steps['model'].l1_ratio_"
   ]
  },
  {
   "cell_type": "markdown",
   "id": "31482751-c229-4596-960f-f4afa4afe4d7",
   "metadata": {},
   "source": [
    "And what $\\alpha$ (regularization strength)?"
   ]
  },
  {
   "cell_type": "code",
   "execution_count": 26,
   "id": "0f47225a-aa8d-474b-84ff-4f5fc3f6f42f",
   "metadata": {},
   "outputs": [
    {
     "data": {
      "text/plain": [
       "30.840025137441792"
      ]
     },
     "execution_count": 26,
     "metadata": {},
     "output_type": "execute_result"
    }
   ],
   "source": [
    "reg_pipe.named_steps['model'].alpha_"
   ]
  },
  {
   "cell_type": "markdown",
   "id": "8edeb0a3-9d9f-4135-8425-eccd4ca145cb",
   "metadata": {},
   "source": [
    "Coefficients?"
   ]
  },
  {
   "cell_type": "code",
   "execution_count": 27,
   "id": "008c9063-a723-43ad-bf5d-6008ad84358a",
   "metadata": {},
   "outputs": [
    {
     "data": {
      "text/plain": [
       "array([ 940.27109261, 1213.59537801,   -0.        ,    0.        ,\n",
       "          0.        ,    0.        ,  -21.53626477, -186.12301408,\n",
       "         -0.        ,  228.91135821,   35.75589617,   -0.        ,\n",
       "          0.        ,   -0.        ,    0.        ,    0.        ,\n",
       "          0.        ,    0.        ,    0.        ,    0.        ,\n",
       "          6.06733598])"
      ]
     },
     "execution_count": 27,
     "metadata": {},
     "output_type": "execute_result"
    }
   ],
   "source": [
    "reg_pipe.named_steps['model'].coef_"
   ]
  },
  {
   "cell_type": "markdown",
   "id": "4d7e129c-96f7-4428-8f7a-c2d5478543bf",
   "metadata": {},
   "source": [
    "Now let's compute the prediction error:"
   ]
  },
  {
   "cell_type": "code",
   "execution_count": 28,
   "id": "1fd5206a-d8ad-4f75-9a4d-1f06bb55dc15",
   "metadata": {},
   "outputs": [
    {
     "data": {
      "text/plain": [
       "139309.94034484721"
      ]
     },
     "execution_count": 28,
     "metadata": {},
     "output_type": "execute_result"
    }
   ],
   "source": [
    "reg_preds = reg_pipe.predict(test.drop(columns=['body_mass_g']))\n",
    "mean_squared_error(test['body_mass_g'], reg_preds)"
   ]
  },
  {
   "cell_type": "markdown",
   "id": "07c5a104-c5eb-4a4a-b474-dd9c431b0638",
   "metadata": {},
   "source": [
    "It's worse!  Not everything that is sometimes helpful is always helpful."
   ]
  },
  {
   "cell_type": "markdown",
   "id": "78b2bcf9-e40a-4724-bb39-ad7b22dad4dd",
   "metadata": {},
   "source": [
    "## Conclusion\n",
    "\n",
    "The primary purpose of this notebook was to demonstrate use of more SciKit-Learn transformation capabilities."
   ]
  }
 ],
 "metadata": {
  "kernelspec": {
   "display_name": "Python 3 (ipykernel)",
   "language": "python",
   "name": "python3"
  },
  "language_info": {
   "codemirror_mode": {
    "name": "ipython",
    "version": 3
   },
   "file_extension": ".py",
   "mimetype": "text/x-python",
   "name": "python",
   "nbconvert_exporter": "python",
   "pygments_lexer": "ipython3",
   "version": "3.9.7"
  }
 },
 "nbformat": 4,
 "nbformat_minor": 5
}

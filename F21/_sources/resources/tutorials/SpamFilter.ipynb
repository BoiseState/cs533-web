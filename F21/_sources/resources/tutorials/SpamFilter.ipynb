{
 "cells": [
  {
   "cell_type": "markdown",
   "metadata": {},
   "source": [
    "# Spam Detector Example\n",
    "\n",
    "This notebook demonstrates a spam detector."
   ]
  },
  {
   "cell_type": "markdown",
   "metadata": {},
   "source": [
    "## Setup\n",
    "\n",
    "Let's import our libraries:"
   ]
  },
  {
   "cell_type": "code",
   "execution_count": 1,
   "metadata": {},
   "outputs": [],
   "source": [
    "import pandas as pd\n",
    "import numpy as np\n",
    "import matplotlib.pyplot as plt\n",
    "import seaborn as sns"
   ]
  },
  {
   "cell_type": "markdown",
   "metadata": {},
   "source": [
    "And some more helper libraries:"
   ]
  },
  {
   "cell_type": "code",
   "execution_count": 21,
   "metadata": {},
   "outputs": [],
   "source": [
    "from zipfile import ZipFile\n",
    "from tqdm.notebook import tqdm_notebook as tqdm\n",
    "import unicodedata"
   ]
  },
  {
   "cell_type": "markdown",
   "metadata": {},
   "source": [
    "And SciKit algorithms:"
   ]
  },
  {
   "cell_type": "code",
   "execution_count": 3,
   "metadata": {},
   "outputs": [],
   "source": [
    "from sklearn.dummy import DummyClassifier\n",
    "from sklearn.naive_bayes import MultinomialNB\n",
    "from sklearn.pipeline import Pipeline, make_pipeline\n",
    "from sklearn.feature_extraction.text import CountVectorizer\n",
    "from sklearn.metrics import accuracy_score, precision_score, recall_score, classification_report"
   ]
  },
  {
   "cell_type": "markdown",
   "metadata": {},
   "source": [
    "Set up our RNG:"
   ]
  },
  {
   "cell_type": "code",
   "execution_count": 4,
   "metadata": {},
   "outputs": [],
   "source": [
    "rng = np.random.RandomState(20201106)"
   ]
  },
  {
   "cell_type": "markdown",
   "metadata": {},
   "source": [
    "## Load TREC Spam\n",
    "\n",
    "Now we're going to load the TREC Spam data set.\n",
    "\n",
    "I downloaded this data from <https://plg.uwaterloo.ca/~gvcormac/treccorpus07/>, and converted the TGZ file from TREC to a Zip file so that we can read it directly from the compressed file.  This is because each e-mail is in a separate file, all in the same directory; a directory with 75K files does not perform well on sime file systems.  Here is the command I used to convert it (with Node.js installed):\n",
    "\n",
    "    npx tar-to-zip trec07p.tgz\n",
    "\n",
    "We're going to start by opening the zip file so we can access its contents:"
   ]
  },
  {
   "cell_type": "code",
   "execution_count": 5,
   "metadata": {},
   "outputs": [],
   "source": [
    "trec_zf = ZipFile('trec07p.zip')"
   ]
  },
  {
   "cell_type": "markdown",
   "metadata": {},
   "source": [
    "Now we want to load the labels — these are in the file `trec07p/full/index`.  We'll get a data frame, which contains the class (spam or ham) and the filename:"
   ]
  },
  {
   "cell_type": "code",
   "execution_count": 6,
   "metadata": {},
   "outputs": [
    {
     "data": {
      "text/html": [
       "<div>\n",
       "<style scoped>\n",
       "    .dataframe tbody tr th:only-of-type {\n",
       "        vertical-align: middle;\n",
       "    }\n",
       "\n",
       "    .dataframe tbody tr th {\n",
       "        vertical-align: top;\n",
       "    }\n",
       "\n",
       "    .dataframe thead th {\n",
       "        text-align: right;\n",
       "    }\n",
       "</style>\n",
       "<table border=\"1\" class=\"dataframe\">\n",
       "  <thead>\n",
       "    <tr style=\"text-align: right;\">\n",
       "      <th></th>\n",
       "      <th>label</th>\n",
       "      <th>path</th>\n",
       "    </tr>\n",
       "  </thead>\n",
       "  <tbody>\n",
       "    <tr>\n",
       "      <th>0</th>\n",
       "      <td>spam</td>\n",
       "      <td>../data/inmail.1</td>\n",
       "    </tr>\n",
       "    <tr>\n",
       "      <th>1</th>\n",
       "      <td>ham</td>\n",
       "      <td>../data/inmail.2</td>\n",
       "    </tr>\n",
       "    <tr>\n",
       "      <th>2</th>\n",
       "      <td>spam</td>\n",
       "      <td>../data/inmail.3</td>\n",
       "    </tr>\n",
       "    <tr>\n",
       "      <th>3</th>\n",
       "      <td>spam</td>\n",
       "      <td>../data/inmail.4</td>\n",
       "    </tr>\n",
       "    <tr>\n",
       "      <th>4</th>\n",
       "      <td>spam</td>\n",
       "      <td>../data/inmail.5</td>\n",
       "    </tr>\n",
       "  </tbody>\n",
       "</table>\n",
       "</div>"
      ],
      "text/plain": [
       "  label              path\n",
       "0  spam  ../data/inmail.1\n",
       "1   ham  ../data/inmail.2\n",
       "2  spam  ../data/inmail.3\n",
       "3  spam  ../data/inmail.4\n",
       "4  spam  ../data/inmail.5"
      ]
     },
     "execution_count": 6,
     "metadata": {},
     "output_type": "execute_result"
    }
   ],
   "source": [
    "with trec_zf.open('trec07p/full/index') as idxf:\n",
    "    trec_labels = pd.read_table(idxf, sep=' ', names=['label', 'path'])\n",
    "trec_labels.head()"
   ]
  },
  {
   "cell_type": "code",
   "execution_count": 7,
   "metadata": {},
   "outputs": [
    {
     "name": "stdout",
     "output_type": "stream",
     "text": [
      "<class 'pandas.core.frame.DataFrame'>\n",
      "RangeIndex: 75419 entries, 0 to 75418\n",
      "Data columns (total 2 columns):\n",
      " #   Column  Non-Null Count  Dtype \n",
      "---  ------  --------------  ----- \n",
      " 0   label   75419 non-null  object\n",
      " 1   path    75419 non-null  object\n",
      "dtypes: object(2)\n",
      "memory usage: 9.9 MB\n"
     ]
    }
   ],
   "source": [
    "trec_labels.info(memory_usage='deep')"
   ]
  },
  {
   "cell_type": "markdown",
   "metadata": {},
   "source": [
    "Let's double-check that we don't have any duplicate paths:"
   ]
  },
  {
   "cell_type": "code",
   "execution_count": 8,
   "metadata": {},
   "outputs": [
    {
     "data": {
      "text/plain": [
       "75419"
      ]
     },
     "execution_count": 8,
     "metadata": {},
     "output_type": "execute_result"
    }
   ],
   "source": [
    "trec_labels['path'].nunique()"
   ]
  },
  {
   "cell_type": "markdown",
   "metadata": {},
   "source": [
    "We can use these filenames to extract the individual messages.  Let's do this:\n",
    "\n",
    "1. Extract the filename (after the `/`) for use as a key\n",
    "2. Load each file's contents into a string\n",
    "3. Merge with labels for a labeled spam/ham data set\n",
    "\n",
    "Start by replacing everything up to the final `/` with nothing:"
   ]
  },
  {
   "cell_type": "code",
   "execution_count": 9,
   "metadata": {},
   "outputs": [
    {
     "data": {
      "text/html": [
       "<div>\n",
       "<style scoped>\n",
       "    .dataframe tbody tr th:only-of-type {\n",
       "        vertical-align: middle;\n",
       "    }\n",
       "\n",
       "    .dataframe tbody tr th {\n",
       "        vertical-align: top;\n",
       "    }\n",
       "\n",
       "    .dataframe thead th {\n",
       "        text-align: right;\n",
       "    }\n",
       "</style>\n",
       "<table border=\"1\" class=\"dataframe\">\n",
       "  <thead>\n",
       "    <tr style=\"text-align: right;\">\n",
       "      <th></th>\n",
       "      <th>label</th>\n",
       "      <th>path</th>\n",
       "      <th>name</th>\n",
       "    </tr>\n",
       "  </thead>\n",
       "  <tbody>\n",
       "    <tr>\n",
       "      <th>0</th>\n",
       "      <td>spam</td>\n",
       "      <td>../data/inmail.1</td>\n",
       "      <td>inmail.1</td>\n",
       "    </tr>\n",
       "    <tr>\n",
       "      <th>1</th>\n",
       "      <td>ham</td>\n",
       "      <td>../data/inmail.2</td>\n",
       "      <td>inmail.2</td>\n",
       "    </tr>\n",
       "    <tr>\n",
       "      <th>2</th>\n",
       "      <td>spam</td>\n",
       "      <td>../data/inmail.3</td>\n",
       "      <td>inmail.3</td>\n",
       "    </tr>\n",
       "    <tr>\n",
       "      <th>3</th>\n",
       "      <td>spam</td>\n",
       "      <td>../data/inmail.4</td>\n",
       "      <td>inmail.4</td>\n",
       "    </tr>\n",
       "    <tr>\n",
       "      <th>4</th>\n",
       "      <td>spam</td>\n",
       "      <td>../data/inmail.5</td>\n",
       "      <td>inmail.5</td>\n",
       "    </tr>\n",
       "  </tbody>\n",
       "</table>\n",
       "</div>"
      ],
      "text/plain": [
       "  label              path      name\n",
       "0  spam  ../data/inmail.1  inmail.1\n",
       "1   ham  ../data/inmail.2  inmail.2\n",
       "2  spam  ../data/inmail.3  inmail.3\n",
       "3  spam  ../data/inmail.4  inmail.4\n",
       "4  spam  ../data/inmail.5  inmail.5"
      ]
     },
     "execution_count": 9,
     "metadata": {},
     "output_type": "execute_result"
    }
   ],
   "source": [
    "trec_labels['name'] = trec_labels['path'].str.replace(r'^.*/', '')\n",
    "trec_labels.head()"
   ]
  },
  {
   "cell_type": "markdown",
   "metadata": {},
   "source": [
    "Now we're going to load all the mails. No way to get around doing this as a loop - we could do it with `apply`, but that's just a loop.  We'll put it in a dictionary, then convert that to a series; the result is a series indexed by name, whose values are the e-mails.  We're also going to use TQDM to get a progress bar.\n",
    "\n",
    "While we are loading the data, we will also perform our **decoding** and **text normalization** steps."
   ]
  },
  {
   "cell_type": "code",
   "execution_count": 22,
   "metadata": {},
   "outputs": [
    {
     "data": {
      "application/vnd.jupyter.widget-view+json": {
       "model_id": "bb300b9b64ad440ab818cb6f97b9f80a",
       "version_major": 2,
       "version_minor": 0
      },
      "text/plain": [
       "HBox(children=(FloatProgress(value=0.0, max=75419.0), HTML(value='')))"
      ]
     },
     "metadata": {},
     "output_type": "display_data"
    },
    {
     "name": "stdout",
     "output_type": "stream",
     "text": [
      "\n"
     ]
    },
    {
     "data": {
      "text/plain": [
       "75419"
      ]
     },
     "execution_count": 22,
     "metadata": {},
     "output_type": "execute_result"
    }
   ],
   "source": [
    "trec_mails = {}\n",
    "for name in tqdm(trec_labels['name']):\n",
    "    path = f'trec07p/data/{name}'\n",
    "    with trec_zf.open(path) as mailf:\n",
    "        content = mailf.read()\n",
    "        content = content.decode('latin1')\n",
    "        content = unicodedata.normalize('NFKD', content)\n",
    "        trec_mails[name] = content\n",
    "trec_mails = pd.Series(trec_mails, name='content')\n",
    "len(trec_mails)"
   ]
  },
  {
   "cell_type": "markdown",
   "metadata": {},
   "source": [
    "Now, we can merge with the labels.  Let's create an `IsSpam` logical to mark the spams, then merge:"
   ]
  },
  {
   "cell_type": "code",
   "execution_count": 43,
   "metadata": {},
   "outputs": [
    {
     "data": {
      "text/html": [
       "<div>\n",
       "<style scoped>\n",
       "    .dataframe tbody tr th:only-of-type {\n",
       "        vertical-align: middle;\n",
       "    }\n",
       "\n",
       "    .dataframe tbody tr th {\n",
       "        vertical-align: top;\n",
       "    }\n",
       "\n",
       "    .dataframe thead th {\n",
       "        text-align: right;\n",
       "    }\n",
       "</style>\n",
       "<table border=\"1\" class=\"dataframe\">\n",
       "  <thead>\n",
       "    <tr style=\"text-align: right;\">\n",
       "      <th></th>\n",
       "      <th>label</th>\n",
       "      <th>IsSpam</th>\n",
       "      <th>content</th>\n",
       "    </tr>\n",
       "    <tr>\n",
       "      <th>name</th>\n",
       "      <th></th>\n",
       "      <th></th>\n",
       "      <th></th>\n",
       "    </tr>\n",
       "  </thead>\n",
       "  <tbody>\n",
       "    <tr>\n",
       "      <th>inmail.1</th>\n",
       "      <td>spam</td>\n",
       "      <td>True</td>\n",
       "      <td>From RickyAmes@aol.com  Sun Apr  8 13:07:32 20...</td>\n",
       "    </tr>\n",
       "    <tr>\n",
       "      <th>inmail.2</th>\n",
       "      <td>ham</td>\n",
       "      <td>False</td>\n",
       "      <td>From bounce-debian-mirrors=ktwarwic=speedy.uwa...</td>\n",
       "    </tr>\n",
       "    <tr>\n",
       "      <th>inmail.3</th>\n",
       "      <td>spam</td>\n",
       "      <td>True</td>\n",
       "      <td>From 7stocknews@tractionmarketing.com  Sun Apr...</td>\n",
       "    </tr>\n",
       "    <tr>\n",
       "      <th>inmail.4</th>\n",
       "      <td>spam</td>\n",
       "      <td>True</td>\n",
       "      <td>From vqucsmdfgvsg@ruraltek.com  Sun Apr  8 13:...</td>\n",
       "    </tr>\n",
       "    <tr>\n",
       "      <th>inmail.5</th>\n",
       "      <td>spam</td>\n",
       "      <td>True</td>\n",
       "      <td>From dcube@totalink.net  Sun Apr  8 13:19:30 2...</td>\n",
       "    </tr>\n",
       "  </tbody>\n",
       "</table>\n",
       "</div>"
      ],
      "text/plain": [
       "         label  IsSpam                                            content\n",
       "name                                                                     \n",
       "inmail.1  spam    True  From RickyAmes@aol.com  Sun Apr  8 13:07:32 20...\n",
       "inmail.2   ham   False  From bounce-debian-mirrors=ktwarwic=speedy.uwa...\n",
       "inmail.3  spam    True  From 7stocknews@tractionmarketing.com  Sun Apr...\n",
       "inmail.4  spam    True  From vqucsmdfgvsg@ruraltek.com  Sun Apr  8 13:...\n",
       "inmail.5  spam    True  From dcube@totalink.net  Sun Apr  8 13:19:30 2..."
      ]
     },
     "execution_count": 43,
     "metadata": {},
     "output_type": "execute_result"
    }
   ],
   "source": [
    "trec_labels['IsSpam'] = trec_labels['label'] == 'spam'\n",
    "trec_data = trec_labels.set_index('name')[['label', 'IsSpam']].join(trec_mails)\n",
    "trec_data.head()"
   ]
  },
  {
   "cell_type": "code",
   "execution_count": 44,
   "metadata": {},
   "outputs": [
    {
     "name": "stdout",
     "output_type": "stream",
     "text": [
      "<class 'pandas.core.frame.DataFrame'>\n",
      "Index: 75419 entries, inmail.1 to inmail.75419\n",
      "Data columns (total 3 columns):\n",
      " #   Column   Non-Null Count  Dtype \n",
      "---  ------   --------------  ----- \n",
      " 0   label    75419 non-null  object\n",
      " 1   IsSpam   75419 non-null  bool  \n",
      " 2   content  75419 non-null  object\n",
      "dtypes: bool(1), object(2)\n",
      "memory usage: 622.1 MB\n"
     ]
    }
   ],
   "source": [
    "trec_data.info(memory_usage='deep')"
   ]
  },
  {
   "cell_type": "markdown",
   "metadata": {},
   "source": [
    "Let's make some train and test data:"
   ]
  },
  {
   "cell_type": "code",
   "execution_count": 28,
   "metadata": {},
   "outputs": [],
   "source": [
    "trec_test = trec_data.sample(frac=0.2, random_state=rng)\n",
    "mask = pd.Series(True, index=trec_data.index)\n",
    "mask[trec_test.index] = False\n",
    "trec_train = trec_data[mask]"
   ]
  },
  {
   "cell_type": "markdown",
   "metadata": {},
   "source": [
    "## Exploration\n",
    "\n",
    "How are spam and ham distributed?"
   ]
  },
  {
   "cell_type": "code",
   "execution_count": 31,
   "metadata": {},
   "outputs": [
    {
     "data": {
      "text/plain": [
       "<matplotlib.axes._subplots.AxesSubplot at 0x21c12f64dc0>"
      ]
     },
     "execution_count": 31,
     "metadata": {},
     "output_type": "execute_result"
    },
    {
     "data": {
      "image/png": "[encoded data removed]",
      "text/plain": [
       "<Figure size 432x288 with 1 Axes>"
      ]
     },
     "metadata": {
      "needs_background": "light"
     },
     "output_type": "display_data"
    }
   ],
   "source": [
    "sns.countplot(trec_train['label'])"
   ]
  },
  {
   "cell_type": "markdown",
   "metadata": {},
   "source": [
    "We have more spams than hams.  What is the fraction?"
   ]
  },
  {
   "cell_type": "code",
   "execution_count": 32,
   "metadata": {},
   "outputs": [
    {
     "data": {
      "text/plain": [
       "0.665318637606696"
      ]
     },
     "execution_count": 32,
     "metadata": {},
     "output_type": "execute_result"
    }
   ],
   "source": [
    "np.mean(trec_train['IsSpam'])"
   ]
  },
  {
   "cell_type": "markdown",
   "metadata": {},
   "source": [
    "Let's make a majority-class classifier and a randomized classifier (that will return 'Spam' with the probability learned from the data):"
   ]
  },
  {
   "cell_type": "code",
   "execution_count": 33,
   "metadata": {},
   "outputs": [],
   "source": [
    "maj_class = DummyClassifier(strategy='most_frequent')\n",
    "rnd_class = DummyClassifier(strategy='stratified', random_state=rng)"
   ]
  },
  {
   "cell_type": "markdown",
   "metadata": {},
   "source": [
    "Train them and view classification reports on the training data:"
   ]
  },
  {
   "cell_type": "code",
   "execution_count": 34,
   "metadata": {
    "scrolled": true
   },
   "outputs": [
    {
     "name": "stderr",
     "output_type": "stream",
     "text": [
      "C:\\Users\\michaelekstrand\\Anaconda3\\lib\\site-packages\\sklearn\\metrics\\_classification.py:1221: UndefinedMetricWarning: Precision and F-score are ill-defined and being set to 0.0 in labels with no predicted samples. Use `zero_division` parameter to control this behavior.\n",
      "  _warn_prf(average, modifier, msg_start, len(result))\n"
     ]
    },
    {
     "name": "stdout",
     "output_type": "stream",
     "text": [
      "              precision    recall  f1-score   support\n",
      "\n",
      "         ham       0.00      0.00      0.00     20193\n",
      "        spam       0.67      1.00      0.80     40142\n",
      "\n",
      "    accuracy                           0.67     60335\n",
      "   macro avg       0.33      0.50      0.40     60335\n",
      "weighted avg       0.44      0.67      0.53     60335\n",
      "\n"
     ]
    }
   ],
   "source": [
    "maj_class.fit(trec_train['content'], trec_train['label'])\n",
    "print(classification_report(trec_train['label'], maj_class.predict(trec_train['content'])))"
   ]
  },
  {
   "cell_type": "code",
   "execution_count": 35,
   "metadata": {},
   "outputs": [
    {
     "name": "stdout",
     "output_type": "stream",
     "text": [
      "              precision    recall  f1-score   support\n",
      "\n",
      "         ham       0.34      0.34      0.34     20193\n",
      "        spam       0.67      0.66      0.67     40142\n",
      "\n",
      "    accuracy                           0.55     60335\n",
      "   macro avg       0.50      0.50      0.50     60335\n",
      "weighted avg       0.56      0.55      0.55     60335\n",
      "\n"
     ]
    }
   ],
   "source": [
    "rnd_class.fit(trec_train['content'], trec_train['label'])\n",
    "print(classification_report(trec_train['label'], rnd_class.predict(trec_train['content'])))"
   ]
  },
  {
   "cell_type": "markdown",
   "metadata": {},
   "source": [
    "## Naive Bayes\n",
    "\n",
    "Now let's build a real spam filter."
   ]
  },
  {
   "cell_type": "code",
   "execution_count": 36,
   "metadata": {},
   "outputs": [
    {
     "data": {
      "text/plain": [
       "Pipeline(steps=[('vectorize', CountVectorizer(encoding='latin1')),\n",
       "                ('classify', MultinomialNB())])"
      ]
     },
     "execution_count": 36,
     "metadata": {},
     "output_type": "execute_result"
    }
   ],
   "source": [
    "nb_class = Pipeline([\n",
    "    ('vectorize', CountVectorizer()),\n",
    "    ('classify', MultinomialNB())\n",
    "])\n",
    "nb_class.fit(trec_train['content'], trec_train['label'])"
   ]
  },
  {
   "cell_type": "markdown",
   "metadata": {},
   "source": [
    "How does it do on the training data?"
   ]
  },
  {
   "cell_type": "code",
   "execution_count": 37,
   "metadata": {},
   "outputs": [
    {
     "name": "stdout",
     "output_type": "stream",
     "text": [
      "              precision    recall  f1-score   support\n",
      "\n",
      "         ham       1.00      1.00      1.00     20193\n",
      "        spam       1.00      1.00      1.00     40142\n",
      "\n",
      "    accuracy                           1.00     60335\n",
      "   macro avg       1.00      1.00      1.00     60335\n",
      "weighted avg       1.00      1.00      1.00     60335\n",
      "\n"
     ]
    }
   ],
   "source": [
    "print(classification_report(trec_train['label'], nb_class.predict(trec_train['content'])))"
   ]
  },
  {
   "cell_type": "markdown",
   "metadata": {},
   "source": [
    "That's pretty good :)"
   ]
  },
  {
   "cell_type": "markdown",
   "metadata": {},
   "source": [
    "## Evaluation\n",
    "\n",
    "Let's evaluate our classifiers on the test data."
   ]
  },
  {
   "cell_type": "code",
   "execution_count": 38,
   "metadata": {},
   "outputs": [],
   "source": [
    "trec_results = trec_test[['label']].copy()\n",
    "trec_results['Majority'] = maj_class.predict(trec_test['content'])\n",
    "trec_results['Random'] = rnd_class.predict(trec_test['content'])"
   ]
  },
  {
   "cell_type": "code",
   "execution_count": 39,
   "metadata": {},
   "outputs": [],
   "source": [
    "trec_results['NaiveBayes'] = nb_class.predict(trec_test['content'])"
   ]
  },
  {
   "cell_type": "markdown",
   "metadata": {},
   "source": [
    "Let's look at basic metrics for each of our predictors. First majority:"
   ]
  },
  {
   "cell_type": "code",
   "execution_count": 40,
   "metadata": {},
   "outputs": [
    {
     "name": "stdout",
     "output_type": "stream",
     "text": [
      "              precision    recall  f1-score   support\n",
      "\n",
      "         ham       0.00      0.00      0.00      5027\n",
      "        spam       0.67      1.00      0.80     10057\n",
      "\n",
      "    accuracy                           0.67     15084\n",
      "   macro avg       0.33      0.50      0.40     15084\n",
      "weighted avg       0.44      0.67      0.53     15084\n",
      "\n"
     ]
    },
    {
     "name": "stderr",
     "output_type": "stream",
     "text": [
      "C:\\Users\\michaelekstrand\\Anaconda3\\lib\\site-packages\\sklearn\\metrics\\_classification.py:1221: UndefinedMetricWarning: Precision and F-score are ill-defined and being set to 0.0 in labels with no predicted samples. Use `zero_division` parameter to control this behavior.\n",
      "  _warn_prf(average, modifier, msg_start, len(result))\n"
     ]
    }
   ],
   "source": [
    "print(classification_report(trec_results['label'], trec_results['Majority']))"
   ]
  },
  {
   "cell_type": "markdown",
   "metadata": {},
   "source": [
    "Now random:"
   ]
  },
  {
   "cell_type": "code",
   "execution_count": 41,
   "metadata": {},
   "outputs": [
    {
     "name": "stdout",
     "output_type": "stream",
     "text": [
      "              precision    recall  f1-score   support\n",
      "\n",
      "         ham       0.33      0.34      0.34      5027\n",
      "        spam       0.67      0.66      0.67     10057\n",
      "\n",
      "    accuracy                           0.56     15084\n",
      "   macro avg       0.50      0.50      0.50     15084\n",
      "weighted avg       0.56      0.56      0.56     15084\n",
      "\n"
     ]
    }
   ],
   "source": [
    "print(classification_report(trec_results['label'], trec_results['Random']))"
   ]
  },
  {
   "cell_type": "markdown",
   "metadata": {},
   "source": [
    "And Naive Bayes:"
   ]
  },
  {
   "cell_type": "code",
   "execution_count": 42,
   "metadata": {},
   "outputs": [
    {
     "name": "stdout",
     "output_type": "stream",
     "text": [
      "              precision    recall  f1-score   support\n",
      "\n",
      "         ham       0.99      1.00      1.00      5027\n",
      "        spam       1.00      1.00      1.00     10057\n",
      "\n",
      "    accuracy                           1.00     15084\n",
      "   macro avg       1.00      1.00      1.00     15084\n",
      "weighted avg       1.00      1.00      1.00     15084\n",
      "\n"
     ]
    }
   ],
   "source": [
    "print(classification_report(trec_results['label'], trec_results['NaiveBayes']))"
   ]
  },
  {
   "cell_type": "markdown",
   "metadata": {},
   "source": [
    "The precision for predicting ham is the specificity for predicting spam.  **Think about why that is.**"
   ]
  },
  {
   "cell_type": "code",
   "execution_count": null,
   "metadata": {},
   "outputs": [],
   "source": []
  }
 ],
 "metadata": {
  "kernelspec": {
   "display_name": "Python 3",
   "language": "python",
   "name": "python3"
  },
  "language_info": {
   "codemirror_mode": {
    "name": "ipython",
    "version": 3
   },
   "file_extension": ".py",
   "mimetype": "text/x-python",
   "name": "python",
   "nbconvert_exporter": "python",
   "pygments_lexer": "ipython3",
   "version": "3.8.3"
  }
 },
 "nbformat": 4,
 "nbformat_minor": 4
}

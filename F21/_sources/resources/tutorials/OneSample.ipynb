{
 "cells": [
  {
   "cell_type": "markdown",
   "source": [
    "# One Sample\n",
    "\n",
    "This notebook demonstrates the one-sample *t*-test and checking normality with a Q-Q plot, using the [ZARR13.DAT](https://www.itl.nist.gov/div898/handbook/eda/section4/eda4281.htm) file from the *NIST e-Handbook of Statistical Methods*."
   ],
   "metadata": {}
  },
  {
   "cell_type": "markdown",
   "source": [
    "## Setup\n",
    "\n",
    "Import our Python modules:"
   ],
   "metadata": {}
  },
  {
   "cell_type": "code",
   "execution_count": 1,
   "source": [
    "import pandas as pd\r\n",
    "import numpy as np\r\n",
    "import scipy.stats as sps\r\n",
    "import statsmodels.api as sm\r\n",
    "import matplotlib.pyplot as plt"
   ],
   "outputs": [],
   "metadata": {}
  },
  {
   "cell_type": "markdown",
   "source": [
    "Read the [ZARR13.DAT](https://www.itl.nist.gov/div898/handbook/datasets/ZARR13.DAT) file:"
   ],
   "metadata": {}
  },
  {
   "cell_type": "code",
   "execution_count": 2,
   "source": [
    "data = pd.read_table('ZARR13.DAT', skiprows=25, names=['X'])\r\n",
    "data"
   ],
   "outputs": [
    {
     "output_type": "execute_result",
     "data": {
      "text/html": [
       "<div>\n",
       "<style scoped>\n",
       "    .dataframe tbody tr th:only-of-type {\n",
       "        vertical-align: middle;\n",
       "    }\n",
       "\n",
       "    .dataframe tbody tr th {\n",
       "        vertical-align: top;\n",
       "    }\n",
       "\n",
       "    .dataframe thead th {\n",
       "        text-align: right;\n",
       "    }\n",
       "</style>\n",
       "<table border=\"1\" class=\"dataframe\">\n",
       "  <thead>\n",
       "    <tr style=\"text-align: right;\">\n",
       "      <th></th>\n",
       "      <th>X</th>\n",
       "    </tr>\n",
       "  </thead>\n",
       "  <tbody>\n",
       "    <tr>\n",
       "      <th>0</th>\n",
       "      <td>9.206343</td>\n",
       "    </tr>\n",
       "    <tr>\n",
       "      <th>1</th>\n",
       "      <td>9.299992</td>\n",
       "    </tr>\n",
       "    <tr>\n",
       "      <th>2</th>\n",
       "      <td>9.277895</td>\n",
       "    </tr>\n",
       "    <tr>\n",
       "      <th>3</th>\n",
       "      <td>9.305795</td>\n",
       "    </tr>\n",
       "    <tr>\n",
       "      <th>4</th>\n",
       "      <td>9.275351</td>\n",
       "    </tr>\n",
       "    <tr>\n",
       "      <th>...</th>\n",
       "      <td>...</td>\n",
       "    </tr>\n",
       "    <tr>\n",
       "      <th>190</th>\n",
       "      <td>9.232963</td>\n",
       "    </tr>\n",
       "    <tr>\n",
       "      <th>191</th>\n",
       "      <td>9.234956</td>\n",
       "    </tr>\n",
       "    <tr>\n",
       "      <th>192</th>\n",
       "      <td>9.216746</td>\n",
       "    </tr>\n",
       "    <tr>\n",
       "      <th>193</th>\n",
       "      <td>9.274107</td>\n",
       "    </tr>\n",
       "    <tr>\n",
       "      <th>194</th>\n",
       "      <td>9.273776</td>\n",
       "    </tr>\n",
       "  </tbody>\n",
       "</table>\n",
       "<p>195 rows × 1 columns</p>\n",
       "</div>"
      ],
      "text/plain": [
       "            X\n",
       "0    9.206343\n",
       "1    9.299992\n",
       "2    9.277895\n",
       "3    9.305795\n",
       "4    9.275351\n",
       "..        ...\n",
       "190  9.232963\n",
       "191  9.234956\n",
       "192  9.216746\n",
       "193  9.274107\n",
       "194  9.273776\n",
       "\n",
       "[195 rows x 1 columns]"
      ]
     },
     "metadata": {},
     "execution_count": 2
    }
   ],
   "metadata": {}
  },
  {
   "cell_type": "markdown",
   "source": [
    "## Showing the Distribution\n",
    "\n",
    "Let's look at histogram:"
   ],
   "metadata": {}
  },
  {
   "cell_type": "code",
   "execution_count": 3,
   "source": [
    "plt.hist(data.X, bins=20)\r\n",
    "plt.show()"
   ],
   "outputs": [
    {
     "output_type": "display_data",
     "data": {
      "image/png": "[encoded data removed]",
      "text/plain": [
       "<Figure size 432x288 with 1 Axes>"
      ]
     },
     "metadata": {
      "needs_background": "light"
     }
    }
   ],
   "metadata": {}
  },
  {
   "cell_type": "markdown",
   "source": [
    "And the distribution statistics:"
   ],
   "metadata": {}
  },
  {
   "cell_type": "code",
   "execution_count": 4,
   "source": [
    "data.X.describe()"
   ],
   "outputs": [
    {
     "output_type": "execute_result",
     "data": {
      "text/plain": [
       "count    195.000000\n",
       "mean       9.261461\n",
       "std        0.022789\n",
       "min        9.196848\n",
       "25%        9.246496\n",
       "50%        9.261952\n",
       "75%        9.275530\n",
       "max        9.327973\n",
       "Name: X, dtype: float64"
      ]
     },
     "metadata": {},
     "execution_count": 4
    }
   ],
   "metadata": {}
  },
  {
   "cell_type": "markdown",
   "source": [
    "### Q-Q Plot\n",
    "\n",
    "The data looks normal-ish, but a histogram isn't a very reliable way to assess normality.  A Q-Q plot against the normal distribution lets us be much more precise:"
   ],
   "metadata": {}
  },
  {
   "cell_type": "code",
   "execution_count": 5,
   "source": [
    "sm.qqplot(data.X, fit=True, line='45')\r\n",
    "plt.show()"
   ],
   "outputs": [
    {
     "output_type": "display_data",
     "data": {
      "image/png": "[encoded data removed]",
      "text/plain": [
       "<Figure size 432x288 with 1 Axes>"
      ]
     },
     "metadata": {
      "needs_background": "light"
     }
    }
   ],
   "metadata": {}
  },
  {
   "cell_type": "markdown",
   "source": [
    "That data looks normal!  It's a straight line right through the bulk of the data. It's common for the first and last few points to deviate from normal just a little bit more than the central mass of data points."
   ],
   "metadata": {}
  },
  {
   "cell_type": "markdown",
   "source": [
    "### Drawing Q-Q Ourselves\n",
    "\n",
    "Let's try to draw our own.  The way we draw a Q-Q plot is this:\n",
    "\n",
    "1. Sort the data values in ascending order.  These will be plotted on the *y* axis.\n",
    "2. Compute the percentile for each data point - where is it in the range of data points?  We can do this with its position or count.  We don't label any point 0 or 1; instead, for point $i \\in [1,n]$, we compute $v = i / (n + 1)$.\n",
    "3. Compute the quantiles in the reference distribution (in our case, normal) for each data point position.  These will be plotted on the *x* axis.\n",
    "\n",
    "Let's sort:"
   ],
   "metadata": {}
  },
  {
   "cell_type": "code",
   "execution_count": 6,
   "source": [
    "observed = data['X'].sort_values()"
   ],
   "outputs": [],
   "metadata": {}
  },
  {
   "cell_type": "markdown",
   "source": [
    "Now we need to compute the percentiles for each position.  The [`arange`](https://numpy.org/doc/stable/reference/generated/numpy.arange.html) function is useful for this - it can generate $i = 1 \\dots n$, and we can divide to rescale the points:"
   ],
   "metadata": {}
  },
  {
   "cell_type": "code",
   "execution_count": 7,
   "source": [
    "nobs = len(observed)\r\n",
    "pred_ps = np.arange(1, nobs + 1) / (nobs + 1)"
   ],
   "outputs": [],
   "metadata": {}
  },
  {
   "cell_type": "markdown",
   "source": [
    "And we need to convert these percentiles into quantile values from the standard normal:"
   ],
   "metadata": {}
  },
  {
   "cell_type": "code",
   "execution_count": 8,
   "source": [
    "norm_dist = sps.norm()\r\n",
    "pred_vs = norm_dist.ppf(pred_ps)"
   ],
   "outputs": [],
   "metadata": {}
  },
  {
   "cell_type": "markdown",
   "source": [
    "Finally, we can plot them against each other:"
   ],
   "metadata": {}
  },
  {
   "cell_type": "code",
   "execution_count": 9,
   "source": [
    "plt.scatter(pred_vs, observed)\r\n",
    "plt.xlabel('Theoretical Quantiles')\r\n",
    "plt.ylabel('Sample Quantiles')\r\n",
    "plt.show()"
   ],
   "outputs": [
    {
     "output_type": "display_data",
     "data": {
      "image/png": "[encoded data removed]",
      "text/plain": [
       "<Figure size 432x288 with 1 Axes>"
      ]
     },
     "metadata": {
      "needs_background": "light"
     }
    }
   ],
   "metadata": {}
  },
  {
   "cell_type": "markdown",
   "source": [
    "We can see the straight line, but two issues remain:\r\n",
    "\r\n",
    "1. Our sample quantiles are on the original scale, but theoretical are standardized. Let's standardize the sample quantiles so the values, not just relative shape, are comparable.\r\n",
    "2. We don't have the refernce line. This will be easier to draw with standardized sample quantiles.\r\n",
    "\r\n",
    "**{term}`Standardization`**, for normally-distributed data, is transforming it to have a mean of 0 and standard deviation of 1.  We do this by subtracting the mean and dividing by the sample standard deviation:"
   ],
   "metadata": {}
  },
  {
   "cell_type": "code",
   "execution_count": 10,
   "source": [
    "std_observed = (observed - observed.mean()) / observed.std()\r\n",
    "# reference values; once standardized, the line will be y=x\r\n",
    "ref_xs = np.linspace(np.min(pred_vs), np.max(pred_vs), 1000)\r\n",
    "plt.plot(ref_xs, ref_xs, color='red')\r\n",
    "\r\n",
    "# add the points\r\n",
    "plt.scatter(pred_vs, std_observed)\r\n",
    "\r\n",
    "# and labels\r\n",
    "plt.xlabel('Theoretical Quantiles')\r\n",
    "plt.ylabel('Sample Quantiles')\r\n",
    "plt.show()"
   ],
   "outputs": [
    {
     "output_type": "display_data",
     "data": {
      "image/png": "[encoded data removed]",
      "text/plain": [
       "<Figure size 432x288 with 1 Axes>"
      ]
     },
     "metadata": {
      "needs_background": "light"
     }
    }
   ],
   "metadata": {}
  },
  {
   "cell_type": "markdown",
   "source": [
    "## T-tests\n",
    "\n",
    "Let's start with a 1-sample T-test for $H_0: \\mu = 9$:"
   ],
   "metadata": {}
  },
  {
   "cell_type": "code",
   "execution_count": 11,
   "source": [
    "sps.ttest_1samp(data.X, 9)"
   ],
   "outputs": [
    {
     "output_type": "execute_result",
     "data": {
      "text/plain": [
       "Ttest_1sampResult(statistic=160.21472007838156, pvalue=4.430052598624794e-208)"
      ]
     },
     "metadata": {},
     "execution_count": 11
    }
   ],
   "metadata": {}
  },
  {
   "cell_type": "markdown",
   "source": [
    "If $\\mu$ were nine, it would be extremely unlikely to find a sample with this observed mean.\n",
    "\n",
    "These values are very tightly distributed.  A 1-sample T-test for $H_0: \\mu = 9.25$:"
   ],
   "metadata": {}
  },
  {
   "cell_type": "code",
   "execution_count": 12,
   "source": [
    "sps.ttest_1samp(data.X, 9.25)"
   ],
   "outputs": [
    {
     "output_type": "execute_result",
     "data": {
      "text/plain": [
       "Ttest_1sampResult(statistic=7.022783450050035, pvalue=3.5755854129627046e-11)"
      ]
     },
     "metadata": {},
     "execution_count": 12
    }
   ],
   "metadata": {}
  },
  {
   "cell_type": "markdown",
   "source": [
    "Our data would also be very unlikely, but not *as* unlikely, under this null hypothesis.\n",
    "\n",
    "And just to see it accept the null, let's try $H_0: \\mu = 9.26$:"
   ],
   "metadata": {}
  },
  {
   "cell_type": "code",
   "execution_count": 13,
   "source": [
    "sps.ttest_1samp(data.X, 9.26)"
   ],
   "outputs": [
    {
     "output_type": "execute_result",
     "data": {
      "text/plain": [
       "Ttest_1sampResult(statistic=0.895105984916905, pvalue=0.37183966110536093)"
      ]
     },
     "metadata": {},
     "execution_count": 13
    }
   ],
   "metadata": {}
  },
  {
   "cell_type": "markdown",
   "source": [
    "Our data is consistent with $\\mu=9.26$.\n",
    "\n",
    "**Note:** What I just did here — try several different null hypotheses in a row — is **not a valid statistical procedure**.  I am only doing it to demonstrate the results of a *t*-test both when the null hypothesis holds, and when it does not."
   ],
   "metadata": {}
  }
 ],
 "metadata": {
  "kernelspec": {
   "display_name": "Python 3",
   "language": "python",
   "name": "python3"
  },
  "language_info": {
   "codemirror_mode": {
    "name": "ipython",
    "version": 3
   },
   "file_extension": ".py",
   "mimetype": "text/x-python",
   "name": "python",
   "nbconvert_exporter": "python",
   "pygments_lexer": "ipython3",
   "version": "3.8.3"
  }
 },
 "nbformat": 4,
 "nbformat_minor": 4
}
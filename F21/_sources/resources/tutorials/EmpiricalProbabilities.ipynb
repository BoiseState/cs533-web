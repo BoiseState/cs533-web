{
 "cells": [
  {
   "cell_type": "markdown",
   "source": [
    "# Empirical Probabilities\n",
    "\n",
    "This notebook describes how to compute various “empirical probabilities”: computing marginal, joint, and conditional probabilities from available data.  You'll want to be familiar with the [notes on probability](../probability.md) before working through this notebook.\n",
    "\n",
    "It's important to remember that using probabilities in this way is just **one way** of using probabilities; an empirical probability computed using the techniques in this notebook is not what a probability **is**; it's just a computation that probability can be used to describe.\n",
    "\n",
    "This notebook uses some math macros in the course site theme which may not be available in Jupyter Notebook, so if you download the notebook file you may not be able to see all math correctly."
   ],
   "metadata": {}
  },
  {
   "cell_type": "markdown",
   "source": [
    "## Setup\n",
    "\n",
    "Let's load our common packages:"
   ],
   "metadata": {}
  },
  {
   "cell_type": "code",
   "execution_count": 1,
   "source": [
    "import pandas as pd\n",
    "import numpy as np\n",
    "import seaborn as sns\n",
    "import matplotlib.pyplot as plt"
   ],
   "outputs": [],
   "metadata": {}
  },
  {
   "cell_type": "markdown",
   "source": [
    "## Data"
   ],
   "metadata": {}
  },
  {
   "cell_type": "markdown",
   "source": [
    "We're going to do these demonstrations with the [Rent the Runway data](https://cseweb.ucsd.edu/~jmcauley/datasets.html#clothing_fit).\n",
    "\n",
    "Let's load it:"
   ],
   "metadata": {}
  },
  {
   "cell_type": "code",
   "execution_count": 2,
   "source": [
    "rtr = pd.read_json('../data/renttherunway_final_data.json.gz', lines=True)\n",
    "rtr.head()"
   ],
   "outputs": [
    {
     "output_type": "execute_result",
     "data": {
      "text/html": [
       "<div>\n",
       "<style scoped>\n",
       "    .dataframe tbody tr th:only-of-type {\n",
       "        vertical-align: middle;\n",
       "    }\n",
       "\n",
       "    .dataframe tbody tr th {\n",
       "        vertical-align: top;\n",
       "    }\n",
       "\n",
       "    .dataframe thead th {\n",
       "        text-align: right;\n",
       "    }\n",
       "</style>\n",
       "<table border=\"1\" class=\"dataframe\">\n",
       "  <thead>\n",
       "    <tr style=\"text-align: right;\">\n",
       "      <th></th>\n",
       "      <th>fit</th>\n",
       "      <th>user_id</th>\n",
       "      <th>bust size</th>\n",
       "      <th>item_id</th>\n",
       "      <th>weight</th>\n",
       "      <th>rating</th>\n",
       "      <th>rented for</th>\n",
       "      <th>review_text</th>\n",
       "      <th>body type</th>\n",
       "      <th>review_summary</th>\n",
       "      <th>category</th>\n",
       "      <th>height</th>\n",
       "      <th>size</th>\n",
       "      <th>age</th>\n",
       "      <th>review_date</th>\n",
       "    </tr>\n",
       "  </thead>\n",
       "  <tbody>\n",
       "    <tr>\n",
       "      <th>0</th>\n",
       "      <td>fit</td>\n",
       "      <td>420272</td>\n",
       "      <td>34d</td>\n",
       "      <td>2260466</td>\n",
       "      <td>137lbs</td>\n",
       "      <td>10.0</td>\n",
       "      <td>vacation</td>\n",
       "      <td>An adorable romper! Belt and zipper were a lit...</td>\n",
       "      <td>hourglass</td>\n",
       "      <td>So many compliments!</td>\n",
       "      <td>romper</td>\n",
       "      <td>5' 8\"</td>\n",
       "      <td>14</td>\n",
       "      <td>28.0</td>\n",
       "      <td>April 20, 2016</td>\n",
       "    </tr>\n",
       "    <tr>\n",
       "      <th>1</th>\n",
       "      <td>fit</td>\n",
       "      <td>273551</td>\n",
       "      <td>34b</td>\n",
       "      <td>153475</td>\n",
       "      <td>132lbs</td>\n",
       "      <td>10.0</td>\n",
       "      <td>other</td>\n",
       "      <td>I rented this dress for a photo shoot. The the...</td>\n",
       "      <td>straight &amp; narrow</td>\n",
       "      <td>I felt so glamourous!!!</td>\n",
       "      <td>gown</td>\n",
       "      <td>5' 6\"</td>\n",
       "      <td>12</td>\n",
       "      <td>36.0</td>\n",
       "      <td>June 18, 2013</td>\n",
       "    </tr>\n",
       "    <tr>\n",
       "      <th>2</th>\n",
       "      <td>fit</td>\n",
       "      <td>360448</td>\n",
       "      <td>NaN</td>\n",
       "      <td>1063761</td>\n",
       "      <td>NaN</td>\n",
       "      <td>10.0</td>\n",
       "      <td>party</td>\n",
       "      <td>This hugged in all the right places! It was a ...</td>\n",
       "      <td>NaN</td>\n",
       "      <td>It was a great time to celebrate the (almost) ...</td>\n",
       "      <td>sheath</td>\n",
       "      <td>5' 4\"</td>\n",
       "      <td>4</td>\n",
       "      <td>116.0</td>\n",
       "      <td>December 14, 2015</td>\n",
       "    </tr>\n",
       "    <tr>\n",
       "      <th>3</th>\n",
       "      <td>fit</td>\n",
       "      <td>909926</td>\n",
       "      <td>34c</td>\n",
       "      <td>126335</td>\n",
       "      <td>135lbs</td>\n",
       "      <td>8.0</td>\n",
       "      <td>formal affair</td>\n",
       "      <td>I rented this for my company's black tie award...</td>\n",
       "      <td>pear</td>\n",
       "      <td>Dress arrived on time and in perfect condition.</td>\n",
       "      <td>dress</td>\n",
       "      <td>5' 5\"</td>\n",
       "      <td>8</td>\n",
       "      <td>34.0</td>\n",
       "      <td>February 12, 2014</td>\n",
       "    </tr>\n",
       "    <tr>\n",
       "      <th>4</th>\n",
       "      <td>fit</td>\n",
       "      <td>151944</td>\n",
       "      <td>34b</td>\n",
       "      <td>616682</td>\n",
       "      <td>145lbs</td>\n",
       "      <td>10.0</td>\n",
       "      <td>wedding</td>\n",
       "      <td>I have always been petite in my upper body and...</td>\n",
       "      <td>athletic</td>\n",
       "      <td>Was in love with this dress !!!</td>\n",
       "      <td>gown</td>\n",
       "      <td>5' 9\"</td>\n",
       "      <td>12</td>\n",
       "      <td>27.0</td>\n",
       "      <td>September 26, 2016</td>\n",
       "    </tr>\n",
       "  </tbody>\n",
       "</table>\n",
       "</div>"
      ],
      "text/plain": [
       "   fit  user_id bust size  item_id  weight  rating     rented for  \\\n",
       "0  fit   420272       34d  2260466  137lbs    10.0       vacation   \n",
       "1  fit   273551       34b   153475  132lbs    10.0          other   \n",
       "2  fit   360448       NaN  1063761     NaN    10.0          party   \n",
       "3  fit   909926       34c   126335  135lbs     8.0  formal affair   \n",
       "4  fit   151944       34b   616682  145lbs    10.0        wedding   \n",
       "\n",
       "                                         review_text          body type  \\\n",
       "0  An adorable romper! Belt and zipper were a lit...          hourglass   \n",
       "1  I rented this dress for a photo shoot. The the...  straight & narrow   \n",
       "2  This hugged in all the right places! It was a ...                NaN   \n",
       "3  I rented this for my company's black tie award...               pear   \n",
       "4  I have always been petite in my upper body and...           athletic   \n",
       "\n",
       "                                      review_summary category height  size  \\\n",
       "0                               So many compliments!   romper  5' 8\"    14   \n",
       "1                            I felt so glamourous!!!     gown  5' 6\"    12   \n",
       "2  It was a great time to celebrate the (almost) ...   sheath  5' 4\"     4   \n",
       "3   Dress arrived on time and in perfect condition.     dress  5' 5\"     8   \n",
       "4                    Was in love with this dress !!!     gown  5' 9\"    12   \n",
       "\n",
       "     age         review_date  \n",
       "0   28.0      April 20, 2016  \n",
       "1   36.0       June 18, 2013  \n",
       "2  116.0   December 14, 2015  \n",
       "3   34.0   February 12, 2014  \n",
       "4   27.0  September 26, 2016  "
      ]
     },
     "metadata": {},
     "execution_count": 2
    }
   ],
   "metadata": {}
  },
  {
   "cell_type": "markdown",
   "source": [
    "A little exploration - how many data points do we have here?"
   ],
   "metadata": {}
  },
  {
   "cell_type": "code",
   "execution_count": 3,
   "source": [
    "len(rtr)"
   ],
   "outputs": [
    {
     "output_type": "execute_result",
     "data": {
      "text/plain": [
       "192544"
      ]
     },
     "metadata": {},
     "execution_count": 3
    }
   ],
   "metadata": {}
  },
  {
   "cell_type": "markdown",
   "source": [
    "What is the distribution of 'fit' codes?"
   ],
   "metadata": {}
  },
  {
   "cell_type": "code",
   "execution_count": 4,
   "source": [
    "sns.countplot(x='fit', data=rtr)\n",
    "plt.title('Distribution of Fit Results')\n",
    "plt.show()"
   ],
   "outputs": [
    {
     "output_type": "display_data",
     "data": {
      "image/png": "[encoded data removed]",
      "text/plain": [
       "<Figure size 432x288 with 1 Axes>"
      ]
     },
     "metadata": {
      "needs_background": "light"
     }
    }
   ],
   "metadata": {}
  },
  {
   "cell_type": "markdown",
   "source": [
    "What is the distribution of garment categories?"
   ],
   "metadata": {}
  },
  {
   "cell_type": "code",
   "execution_count": 5,
   "source": [
    "plt.figure(figsize=(7,12))\n",
    "sns.countplot(y='category', data=rtr)\n",
    "plt.title('Distribution of Categories')\n",
    "plt.show()"
   ],
   "outputs": [
    {
     "output_type": "display_data",
     "data": {
      "image/png": "[encoded data removed]",
      "text/plain": [
       "<Figure size 504x864 with 1 Axes>"
      ]
     },
     "metadata": {
      "needs_background": "light"
     }
    }
   ],
   "metadata": {}
  },
  {
   "cell_type": "markdown",
   "source": [
    "It looks like we don't have a very clean category system here - 'dress' is a category, but so are additional categories of dresses and skirts."
   ],
   "metadata": {}
  },
  {
   "cell_type": "markdown",
   "source": [
    "## Basic / Marginal Probabilities\n",
    "\n",
    "Let's consider garment fit (the `fit` column). This takes on one of three values (the *elementary events*):\n",
    "\n",
    "- fit\n",
    "- small\n",
    "- large\n",
    "\n",
    "Let's define each of these as an *event*, a singleton set:\n",
    "\n",
    "- $A_{\\mathrm{f}} = \\{\\mathrm{fit}\\}$\n",
    "- $A_{\\mathrm{s}} = \\{\\mathrm{small}\\}$\n",
    "- $A_{\\mathrm{l}} = \\{\\mathrm{large}\\}$\n",
    "\n",
    "The set “not fit” is $A_{\\mathrm{f}}^c = \\{\\mathrm{small}, \\mathrm{large}\\}$.\n",
    "\n",
    "Let's compute an empirical value $\\P[A_{\\mathrm{f}}] = \\P[\\mathrm{fit}]$ from the data.\n",
    "This is a fraction:\n",
    "\n",
    "$$\\frac{\\text{# of rentals that fit}}{\\text{# of rentals}}$$\n",
    "\n",
    "The basic principle is in two steps:\n",
    "\n",
    "- create a logical series that has a non-null element for each element of the denominator, and is `True` for elements in the numerator\n",
    "- compute the fraction of these elements that are `True` - {py:meth}`pandas.Series.mean` and {py:func}`numpy.mean` are both very good for this\n",
    "\n",
    "Let's do that now:"
   ],
   "metadata": {}
  },
  {
   "cell_type": "code",
   "execution_count": 6,
   "source": [
    "fits = rtr['fit'] == 'fit'\n",
    "fits.mean()"
   ],
   "outputs": [
    {
     "output_type": "execute_result",
     "data": {
      "text/plain": [
       "0.7377949975070633"
      ]
     },
     "metadata": {},
     "execution_count": 6
    }
   ],
   "metadata": {}
  },
  {
   "cell_type": "markdown",
   "source": [
    "73.8% of garments fit — $\\P[A_{\\mathrm{f}}] \\approx 0.738$.\n",
    "\n",
    "We can compute the complementary probability $\\P[A_{\\mathrm{f}}^c]$:"
   ],
   "metadata": {}
  },
  {
   "cell_type": "code",
   "execution_count": 7,
   "source": [
    "not_fits = rtr['fit'] != 'fit'\n",
    "not_fits.mean()"
   ],
   "outputs": [
    {
     "output_type": "execute_result",
     "data": {
      "text/plain": [
       "0.26220500249293666"
      ]
     },
     "metadata": {},
     "execution_count": 7
    }
   ],
   "metadata": {}
  },
  {
   "cell_type": "markdown",
   "source": [
    "You can confirm that $\\P[A_{\\mathrm{f}}^c] = 1 - \\P[A_{\\mathrm{f}}]$.\n",
    "\n",
    "We call $\\P[A_{\\mathrm{f}}]$ a *marginal probability*, even though we did not use marginalization to compute it.  The probability is what it is; its status as a marginal probability is based on the *definition* that it is the probability that a garment fits, without conditioning on any other criteria. Marginalization is a way to compute a marginal probability from conditional probabilities, but there are other ways as well, as we have seen.\n",
    "\n",
    "There are a few ways to interpret about this probability:\n",
    "\n",
    "- Probability is just a mathematical construct, and computing the fraction of garments that fit is compatible with that usage.\n",
    "- If we randomly pick a garment rental from the data set, the probability that you pick a rental that fit is $\\P[A_{\\mathrm{f}}^c]$.\n",
    "- If our sample is representative, and we assume a uniform prior (no prior knowledge about the probability a garment fitting), it is an estimate of the probability that a future rental will fit."
   ],
   "metadata": {}
  },
  {
   "cell_type": "markdown",
   "source": [
    "## Joint and Conditional Probabilities\n",
    "\n",
    "Let's now look at **conditional probabilities**.  Suppose we want to compute $\\P[A_{\\mathrm{f}} | C_{\\mathrm{g}}]$: the probability that a garment fits, given that it is a gown.  This probability can be expanded as:\n",
    "\n",
    "$$\\P[A_{\\mathrm{f}} | C_{\\mathrm{g}}] = \\frac{\\P[A_{\\mathrm{f}}, C_{\\mathrm{g}}]}{\\P[C_{\\mathrm{g}}]}\n",
    "= \\frac{\\text{# of gowns that fit}}{\\text{# of gowns}}$$\n",
    "\n",
    "To do this, we need to compute the # of gowns, and the # of gowns that fit.  There are at least two different ways to do this; one is to compute joint and marginal probabilities separately.  We can use the Python `&` operator to compute the conjunction of two series, and the joint probability $\\P[A_{\\mathrm{f}}, C_{\\mathrm{g}}]$:"
   ],
   "metadata": {}
  },
  {
   "cell_type": "code",
   "execution_count": 8,
   "source": [
    "is_gown = rtr['category'] == 'gown'\n",
    "is_fitting_gown = is_gown & fits\n",
    "is_fitting_gown.mean()"
   ],
   "outputs": [
    {
     "output_type": "execute_result",
     "data": {
      "text/plain": [
       "0.18269590327405683"
      ]
     },
     "metadata": {},
     "execution_count": 8
    }
   ],
   "metadata": {}
  },
  {
   "cell_type": "markdown",
   "source": [
    "This is the probability that a rental is both a gown, and it fits.  The complement contains all rentals that are for garments not labeled as gowns, and all gowns that do not fit.\n",
    "\n",
    "We can then divide by the probability of a gown ($\\P[C_{\\mathrm{g}}]$, computed by `is_gown.mean()`):"
   ],
   "metadata": {}
  },
  {
   "cell_type": "code",
   "execution_count": 9,
   "source": [
    "is_fitting_gown.mean() / is_gown.mean()"
   ],
   "outputs": [
    {
     "output_type": "execute_result",
     "data": {
      "text/plain": [
       "0.7926139564227935"
      ]
     },
     "metadata": {},
     "execution_count": 9
    }
   ],
   "metadata": {}
  },
  {
   "cell_type": "markdown",
   "source": [
    "We can see that the probability of a garment fitting, given that it is a gown, is *somewhat higher* than the marginal probability of a garment fitting.  We don't know if this is statistically significant or not though.\n",
    "\n",
    "The other way we can do this computation is to limit our data set to only gowns, and then compute the probability of a garment fitting *within that subset*.  The previous computation calculated the conditional probability by computing the joint and marginals, and using the relationship betwen joint and conditional probability to compute the conditional; this version of the calculation will compute the conditional probability $\\P[A_{\\mathrm{f}} | C_{\\mathrm{g}}]$ *directly*.\n",
    "\n",
    "Since we already have a boolean series that is `True` when the garment is a gown, we can use that to subset:"
   ],
   "metadata": {}
  },
  {
   "cell_type": "code",
   "execution_count": 10,
   "source": [
    "gowns = rtr[is_gown]\n",
    "gowns"
   ],
   "outputs": [
    {
     "output_type": "execute_result",
     "data": {
      "text/html": [
       "<div>\n",
       "<style scoped>\n",
       "    .dataframe tbody tr th:only-of-type {\n",
       "        vertical-align: middle;\n",
       "    }\n",
       "\n",
       "    .dataframe tbody tr th {\n",
       "        vertical-align: top;\n",
       "    }\n",
       "\n",
       "    .dataframe thead th {\n",
       "        text-align: right;\n",
       "    }\n",
       "</style>\n",
       "<table border=\"1\" class=\"dataframe\">\n",
       "  <thead>\n",
       "    <tr style=\"text-align: right;\">\n",
       "      <th></th>\n",
       "      <th>fit</th>\n",
       "      <th>user_id</th>\n",
       "      <th>bust size</th>\n",
       "      <th>item_id</th>\n",
       "      <th>weight</th>\n",
       "      <th>rating</th>\n",
       "      <th>rented for</th>\n",
       "      <th>review_text</th>\n",
       "      <th>body type</th>\n",
       "      <th>review_summary</th>\n",
       "      <th>category</th>\n",
       "      <th>height</th>\n",
       "      <th>size</th>\n",
       "      <th>age</th>\n",
       "      <th>review_date</th>\n",
       "    </tr>\n",
       "  </thead>\n",
       "  <tbody>\n",
       "    <tr>\n",
       "      <th>1</th>\n",
       "      <td>fit</td>\n",
       "      <td>273551</td>\n",
       "      <td>34b</td>\n",
       "      <td>153475</td>\n",
       "      <td>132lbs</td>\n",
       "      <td>10.0</td>\n",
       "      <td>other</td>\n",
       "      <td>I rented this dress for a photo shoot. The the...</td>\n",
       "      <td>straight &amp; narrow</td>\n",
       "      <td>I felt so glamourous!!!</td>\n",
       "      <td>gown</td>\n",
       "      <td>5' 6\"</td>\n",
       "      <td>12</td>\n",
       "      <td>36.0</td>\n",
       "      <td>June 18, 2013</td>\n",
       "    </tr>\n",
       "    <tr>\n",
       "      <th>4</th>\n",
       "      <td>fit</td>\n",
       "      <td>151944</td>\n",
       "      <td>34b</td>\n",
       "      <td>616682</td>\n",
       "      <td>145lbs</td>\n",
       "      <td>10.0</td>\n",
       "      <td>wedding</td>\n",
       "      <td>I have always been petite in my upper body and...</td>\n",
       "      <td>athletic</td>\n",
       "      <td>Was in love with this dress !!!</td>\n",
       "      <td>gown</td>\n",
       "      <td>5' 9\"</td>\n",
       "      <td>12</td>\n",
       "      <td>27.0</td>\n",
       "      <td>September 26, 2016</td>\n",
       "    </tr>\n",
       "    <tr>\n",
       "      <th>8</th>\n",
       "      <td>fit</td>\n",
       "      <td>166228</td>\n",
       "      <td>36d</td>\n",
       "      <td>1729232</td>\n",
       "      <td>NaN</td>\n",
       "      <td>10.0</td>\n",
       "      <td>formal affair</td>\n",
       "      <td>I was nervous of it looking cheap when it arri...</td>\n",
       "      <td>full bust</td>\n",
       "      <td>Great for black tie event!</td>\n",
       "      <td>gown</td>\n",
       "      <td>5' 6\"</td>\n",
       "      <td>21</td>\n",
       "      <td>27.0</td>\n",
       "      <td>June 27, 2016</td>\n",
       "    </tr>\n",
       "    <tr>\n",
       "      <th>9</th>\n",
       "      <td>fit</td>\n",
       "      <td>154309</td>\n",
       "      <td>32b</td>\n",
       "      <td>1729232</td>\n",
       "      <td>114lbs</td>\n",
       "      <td>10.0</td>\n",
       "      <td>formal affair</td>\n",
       "      <td>The dress was very flattering and fit perfectl...</td>\n",
       "      <td>petite</td>\n",
       "      <td>This dress was everything! It was perfect for ...</td>\n",
       "      <td>gown</td>\n",
       "      <td>5' 3\"</td>\n",
       "      <td>1</td>\n",
       "      <td>33.0</td>\n",
       "      <td>October 17, 2016</td>\n",
       "    </tr>\n",
       "    <tr>\n",
       "      <th>14</th>\n",
       "      <td>fit</td>\n",
       "      <td>721308</td>\n",
       "      <td>34b</td>\n",
       "      <td>123793</td>\n",
       "      <td>118lbs</td>\n",
       "      <td>10.0</td>\n",
       "      <td>formal affair</td>\n",
       "      <td>Fit great, super flattering</td>\n",
       "      <td>athletic</td>\n",
       "      <td>Stunning gown. Wore this for heart ball and re...</td>\n",
       "      <td>gown</td>\n",
       "      <td>5' 5\"</td>\n",
       "      <td>2</td>\n",
       "      <td>32.0</td>\n",
       "      <td>May 29, 2014</td>\n",
       "    </tr>\n",
       "    <tr>\n",
       "      <th>...</th>\n",
       "      <td>...</td>\n",
       "      <td>...</td>\n",
       "      <td>...</td>\n",
       "      <td>...</td>\n",
       "      <td>...</td>\n",
       "      <td>...</td>\n",
       "      <td>...</td>\n",
       "      <td>...</td>\n",
       "      <td>...</td>\n",
       "      <td>...</td>\n",
       "      <td>...</td>\n",
       "      <td>...</td>\n",
       "      <td>...</td>\n",
       "      <td>...</td>\n",
       "      <td>...</td>\n",
       "    </tr>\n",
       "    <tr>\n",
       "      <th>192506</th>\n",
       "      <td>fit</td>\n",
       "      <td>78599</td>\n",
       "      <td>NaN</td>\n",
       "      <td>672419</td>\n",
       "      <td>136lbs</td>\n",
       "      <td>10.0</td>\n",
       "      <td>party</td>\n",
       "      <td>This was one of my backup dresses, and it work...</td>\n",
       "      <td>hourglass</td>\n",
       "      <td>The customer service impeccable!</td>\n",
       "      <td>gown</td>\n",
       "      <td>5' 3\"</td>\n",
       "      <td>12</td>\n",
       "      <td>35.0</td>\n",
       "      <td>April 12, 2017</td>\n",
       "    </tr>\n",
       "    <tr>\n",
       "      <th>192513</th>\n",
       "      <td>small</td>\n",
       "      <td>389288</td>\n",
       "      <td>34b</td>\n",
       "      <td>765872</td>\n",
       "      <td>145lbs</td>\n",
       "      <td>10.0</td>\n",
       "      <td>wedding</td>\n",
       "      <td>I ordered a 4L and it was perfect length but w...</td>\n",
       "      <td>athletic</td>\n",
       "      <td>Besides this dress just being stunning and sex...</td>\n",
       "      <td>gown</td>\n",
       "      <td>5' 4\"</td>\n",
       "      <td>17</td>\n",
       "      <td>34.0</td>\n",
       "      <td>June 30, 2015</td>\n",
       "    </tr>\n",
       "    <tr>\n",
       "      <th>192515</th>\n",
       "      <td>fit</td>\n",
       "      <td>378332</td>\n",
       "      <td>34d</td>\n",
       "      <td>125465</td>\n",
       "      <td>NaN</td>\n",
       "      <td>10.0</td>\n",
       "      <td>wedding</td>\n",
       "      <td>This was my backup dress to a black tie weddin...</td>\n",
       "      <td>NaN</td>\n",
       "      <td>So Flowy and Fun!</td>\n",
       "      <td>gown</td>\n",
       "      <td>5' 7\"</td>\n",
       "      <td>13</td>\n",
       "      <td>31.0</td>\n",
       "      <td>June 10, 2016</td>\n",
       "    </tr>\n",
       "    <tr>\n",
       "      <th>192524</th>\n",
       "      <td>fit</td>\n",
       "      <td>62024</td>\n",
       "      <td>32d</td>\n",
       "      <td>152662</td>\n",
       "      <td>130lbs</td>\n",
       "      <td>6.0</td>\n",
       "      <td>date</td>\n",
       "      <td>This was my backup dress I didn't end up weari...</td>\n",
       "      <td>hourglass</td>\n",
       "      <td>Pretty but kind of bland</td>\n",
       "      <td>gown</td>\n",
       "      <td>5' 9\"</td>\n",
       "      <td>4</td>\n",
       "      <td>35.0</td>\n",
       "      <td>April 23, 2014</td>\n",
       "    </tr>\n",
       "    <tr>\n",
       "      <th>192543</th>\n",
       "      <td>fit</td>\n",
       "      <td>123612</td>\n",
       "      <td>36b</td>\n",
       "      <td>127865</td>\n",
       "      <td>155lbs</td>\n",
       "      <td>10.0</td>\n",
       "      <td>wedding</td>\n",
       "      <td>This dress was wonderful! I had originally pla...</td>\n",
       "      <td>athletic</td>\n",
       "      <td>I wore this to a beautiful black tie optional ...</td>\n",
       "      <td>gown</td>\n",
       "      <td>5' 6\"</td>\n",
       "      <td>16</td>\n",
       "      <td>30.0</td>\n",
       "      <td>August 29, 2017</td>\n",
       "    </tr>\n",
       "  </tbody>\n",
       "</table>\n",
       "<p>44381 rows × 15 columns</p>\n",
       "</div>"
      ],
      "text/plain": [
       "          fit  user_id bust size  item_id  weight  rating     rented for  \\\n",
       "1         fit   273551       34b   153475  132lbs    10.0          other   \n",
       "4         fit   151944       34b   616682  145lbs    10.0        wedding   \n",
       "8         fit   166228       36d  1729232     NaN    10.0  formal affair   \n",
       "9         fit   154309       32b  1729232  114lbs    10.0  formal affair   \n",
       "14        fit   721308       34b   123793  118lbs    10.0  formal affair   \n",
       "...       ...      ...       ...      ...     ...     ...            ...   \n",
       "192506    fit    78599       NaN   672419  136lbs    10.0          party   \n",
       "192513  small   389288       34b   765872  145lbs    10.0        wedding   \n",
       "192515    fit   378332       34d   125465     NaN    10.0        wedding   \n",
       "192524    fit    62024       32d   152662  130lbs     6.0           date   \n",
       "192543    fit   123612       36b   127865  155lbs    10.0        wedding   \n",
       "\n",
       "                                              review_text          body type  \\\n",
       "1       I rented this dress for a photo shoot. The the...  straight & narrow   \n",
       "4       I have always been petite in my upper body and...           athletic   \n",
       "8       I was nervous of it looking cheap when it arri...          full bust   \n",
       "9       The dress was very flattering and fit perfectl...             petite   \n",
       "14                            Fit great, super flattering           athletic   \n",
       "...                                                   ...                ...   \n",
       "192506  This was one of my backup dresses, and it work...          hourglass   \n",
       "192513  I ordered a 4L and it was perfect length but w...           athletic   \n",
       "192515  This was my backup dress to a black tie weddin...                NaN   \n",
       "192524  This was my backup dress I didn't end up weari...          hourglass   \n",
       "192543  This dress was wonderful! I had originally pla...           athletic   \n",
       "\n",
       "                                           review_summary category height  \\\n",
       "1                                 I felt so glamourous!!!     gown  5' 6\"   \n",
       "4                         Was in love with this dress !!!     gown  5' 9\"   \n",
       "8                              Great for black tie event!     gown  5' 6\"   \n",
       "9       This dress was everything! It was perfect for ...     gown  5' 3\"   \n",
       "14      Stunning gown. Wore this for heart ball and re...     gown  5' 5\"   \n",
       "...                                                   ...      ...    ...   \n",
       "192506                   The customer service impeccable!     gown  5' 3\"   \n",
       "192513  Besides this dress just being stunning and sex...     gown  5' 4\"   \n",
       "192515                                  So Flowy and Fun!     gown  5' 7\"   \n",
       "192524                           Pretty but kind of bland     gown  5' 9\"   \n",
       "192543  I wore this to a beautiful black tie optional ...     gown  5' 6\"   \n",
       "\n",
       "        size   age         review_date  \n",
       "1         12  36.0       June 18, 2013  \n",
       "4         12  27.0  September 26, 2016  \n",
       "8         21  27.0       June 27, 2016  \n",
       "9          1  33.0    October 17, 2016  \n",
       "14         2  32.0        May 29, 2014  \n",
       "...      ...   ...                 ...  \n",
       "192506    12  35.0      April 12, 2017  \n",
       "192513    17  34.0       June 30, 2015  \n",
       "192515    13  31.0       June 10, 2016  \n",
       "192524     4  35.0      April 23, 2014  \n",
       "192543    16  30.0     August 29, 2017  \n",
       "\n",
       "[44381 rows x 15 columns]"
      ]
     },
     "metadata": {},
     "execution_count": 10
    }
   ],
   "metadata": {}
  },
  {
   "cell_type": "markdown",
   "source": [
    "Much smaller data set.  What's the probability of fitting ($\\P[A_{\\mathrm{f}} | C_{\\mathrm{g}}]$)?"
   ],
   "metadata": {}
  },
  {
   "cell_type": "code",
   "execution_count": 11,
   "source": [
    "np.mean(gowns['fit'] == 'fit')"
   ],
   "outputs": [
    {
     "output_type": "execute_result",
     "data": {
      "text/plain": [
       "0.7926139564227935"
      ]
     },
     "metadata": {},
     "execution_count": 11
    }
   ],
   "metadata": {}
  },
  {
   "cell_type": "markdown",
   "source": [
    "Here I used {py:func}`numpy.mean` instead of the Pandas mean, just to demonstrate using it, and because its parentheses are slightly friendlier.\n",
    "\n",
    "We can see these are the same probability.  Which method you want to use depends on the data you are working with and the other computations you're doing — use what is natural and makes sense in the context of your analysis."
   ],
   "metadata": {}
  },
  {
   "cell_type": "markdown",
   "source": [
    "## Conclusion\n",
    "\n",
    "This notebook has demonstrated some basic computations for empirically estimating probabilities.  You can do quite a bit more, by:\n",
    "\n",
    "- subsetting data\n",
    "- using the `&` (and / conjunction / intersection) and `|` (or / disjunction / union) operators to combine boolean series\n",
    "\n",
    "See the [Tricks with Boolean Series](BooleanSeries.ipynb) notebook for more about doing things with Boolean series."
   ],
   "metadata": {}
  },
  {
   "cell_type": "code",
   "execution_count": null,
   "source": [],
   "outputs": [],
   "metadata": {}
  }
 ],
 "metadata": {
  "kernelspec": {
   "display_name": "Python 3",
   "language": "python",
   "name": "python3"
  },
  "language_info": {
   "codemirror_mode": {
    "name": "ipython",
    "version": 3
   },
   "file_extension": ".py",
   "mimetype": "text/x-python",
   "name": "python",
   "nbconvert_exporter": "python",
   "pygments_lexer": "ipython3",
   "version": "3.7.6"
  }
 },
 "nbformat": 4,
 "nbformat_minor": 5
}
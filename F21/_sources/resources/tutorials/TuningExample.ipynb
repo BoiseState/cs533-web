{
 "cells": [
  {
   "cell_type": "markdown",
   "metadata": {},
   "source": [
    "# Tuning Example\n",
    "\n",
    "This notebook demonstrates hyperparameter tuning\n",
    "\n",
    "It uses the [CHI Papers data](https://cs533.ekstrandom.net/resources/tutorials/fetchchipapers/).\n",
    "\n",
    "All of these are going to optimize for **accuracy**, the metric returned by the `score` function on a classifier."
   ]
  },
  {
   "cell_type": "markdown",
   "metadata": {},
   "source": [
    "## Setup"
   ]
  },
  {
   "cell_type": "markdown",
   "metadata": {},
   "source": [
    "scikit-optimize isn't in Anaconda, so we'll install it from Pip:"
   ]
  },
  {
   "cell_type": "code",
   "execution_count": 1,
   "metadata": {},
   "outputs": [
    {
     "name": "stdout",
     "output_type": "stream",
     "text": [
      "Requirement already satisfied: scikit-optimize in c:\\users\\michaelekstrand\\anaconda3\\lib\\site-packages (0.8.1)\n",
      "Requirement already satisfied: pyaml>=16.9 in c:\\users\\michaelekstrand\\anaconda3\\lib\\site-packages (from scikit-optimize) (20.4.0)\n",
      "Requirement already satisfied: scikit-learn>=0.20.0 in c:\\users\\michaelekstrand\\anaconda3\\lib\\site-packages (from scikit-optimize) (0.23.1)\n",
      "Requirement already satisfied: numpy>=1.13.3 in c:\\users\\michaelekstrand\\anaconda3\\lib\\site-packages (from scikit-optimize) (1.18.5)\n",
      "Requirement already satisfied: scipy>=0.19.1 in c:\\users\\michaelekstrand\\anaconda3\\lib\\site-packages (from scikit-optimize) (1.5.0)\n",
      "Requirement already satisfied: joblib>=0.11 in c:\\users\\michaelekstrand\\anaconda3\\lib\\site-packages (from scikit-optimize) (0.16.0)\n",
      "Requirement already satisfied: PyYAML in c:\\users\\michaelekstrand\\anaconda3\\lib\\site-packages (from pyaml>=16.9->scikit-optimize) (5.3.1)\n",
      "Requirement already satisfied: threadpoolctl>=2.0.0 in c:\\users\\michaelekstrand\\anaconda3\\lib\\site-packages (from scikit-learn>=0.20.0->scikit-optimize) (2.1.0)\n",
      "Note: you may need to restart the kernel to use updated packages.\n"
     ]
    }
   ],
   "source": [
    "%pip install scikit-optimize"
   ]
  },
  {
   "cell_type": "markdown",
   "metadata": {},
   "source": [
    "Import our general PyData packages:"
   ]
  },
  {
   "cell_type": "code",
   "execution_count": 2,
   "metadata": {},
   "outputs": [],
   "source": [
    "import pandas as pd\n",
    "import numpy as np\n",
    "import matplotlib.pyplot as plt\n",
    "import seaborn as sns\n",
    "from scipy import stats"
   ]
  },
  {
   "cell_type": "markdown",
   "metadata": {},
   "source": [
    "And some SciKit Learn:"
   ]
  },
  {
   "cell_type": "code",
   "execution_count": 3,
   "metadata": {},
   "outputs": [],
   "source": [
    "from sklearn.feature_extraction.text import TfidfVectorizer\n",
    "from sklearn.decomposition import TruncatedSVD\n",
    "from sklearn.neighbors import KNeighborsClassifier\n",
    "from sklearn.model_selection import train_test_split, GridSearchCV, RandomizedSearchCV\n",
    "from sklearn.pipeline import Pipeline\n",
    "from sklearn.metrics import classification_report, accuracy_score\n",
    "from sklearn.naive_bayes import MultinomialNB"
   ]
  },
  {
   "cell_type": "markdown",
   "metadata": {},
   "source": [
    "And finally the Bayesian optimizer:"
   ]
  },
  {
   "cell_type": "code",
   "execution_count": 4,
   "metadata": {},
   "outputs": [],
   "source": [
    "from skopt import BayesSearchCV"
   ]
  },
  {
   "cell_type": "markdown",
   "metadata": {},
   "source": [
    "We want predictable randomness:"
   ]
  },
  {
   "cell_type": "code",
   "execution_count": 5,
   "metadata": {},
   "outputs": [],
   "source": [
    "rng = np.random.RandomState(20201130)"
   ]
  },
  {
   "cell_type": "markdown",
   "metadata": {},
   "source": [
    "In this notebook, I have SciKit-Learn run some tasks in parallel.  Let's configure the (max) number of parallel tasks in one place, so you can easily adjust it based on your computer's capacity:"
   ]
  },
  {
   "cell_type": "code",
   "execution_count": 6,
   "metadata": {},
   "outputs": [],
   "source": [
    "NJOBS = 8"
   ]
  },
  {
   "cell_type": "markdown",
   "metadata": {},
   "source": [
    "## Load Data\n",
    "\n",
    "We're going to load the CHI Papers data from the CSV file, output by the other notebook:"
   ]
  },
  {
   "cell_type": "code",
   "execution_count": 7,
   "metadata": {},
   "outputs": [
    {
     "name": "stdout",
     "output_type": "stream",
     "text": [
      "<class 'pandas.core.frame.DataFrame'>\n",
      "RangeIndex: 13422 entries, 0 to 13421\n",
      "Data columns (total 6 columns):\n",
      " #   Column    Non-Null Count  Dtype \n",
      "---  ------    --------------  ----- \n",
      " 0   id        13333 non-null  object\n",
      " 1   title     13416 non-null  object\n",
      " 2   authors   13416 non-null  object\n",
      " 3   date      13422 non-null  object\n",
      " 4   abstract  12926 non-null  object\n",
      " 5   year      13422 non-null  int64 \n",
      "dtypes: int64(1), object(5)\n",
      "memory usage: 629.3+ KB\n"
     ]
    }
   ],
   "source": [
    "papers = pd.read_csv('chi-papers.csv', encoding='utf8')\n",
    "papers.info()"
   ]
  },
  {
   "cell_type": "markdown",
   "metadata": {},
   "source": [
    "Let's treat empty abstracts as empty strings:"
   ]
  },
  {
   "cell_type": "code",
   "execution_count": 8,
   "metadata": {},
   "outputs": [],
   "source": [
    "papers['abstract'].fillna('', inplace=True)\n",
    "papers['title'].fillna('', inplace=True)"
   ]
  },
  {
   "cell_type": "markdown",
   "metadata": {},
   "source": [
    "For our purposes we want all text - the title and the abstract.  We will join them with a space, so we don't fuse the last word of the title to the first word of the abstract:"
   ]
  },
  {
   "cell_type": "code",
   "execution_count": 9,
   "metadata": {
    "cell_style": "split"
   },
   "outputs": [],
   "source": [
    "papers['all_text'] = papers['title'] + ' ' + papers['abstract']"
   ]
  },
  {
   "cell_type": "markdown",
   "metadata": {},
   "source": [
    "We're going to classify papers as *recent* if they're newer than 2005:"
   ]
  },
  {
   "cell_type": "code",
   "execution_count": 10,
   "metadata": {},
   "outputs": [],
   "source": [
    "papers['IsRecent'] = papers['year'] > 2005"
   ]
  },
  {
   "cell_type": "markdown",
   "metadata": {},
   "source": [
    "And make training and test data:"
   ]
  },
  {
   "cell_type": "code",
   "execution_count": 11,
   "metadata": {},
   "outputs": [],
   "source": [
    "train, test = train_test_split(papers, test_size=0.2, random_state=rng)"
   ]
  },
  {
   "cell_type": "markdown",
   "metadata": {},
   "source": [
    "Let's make a function for measuring accuracy:"
   ]
  },
  {
   "cell_type": "code",
   "execution_count": 12,
   "metadata": {},
   "outputs": [],
   "source": [
    "def measure(model, text='all_text'):\n",
    "    preds = model.predict(test[text])\n",
    "    print(classification_report(test['IsRecent'], preds))"
   ]
  },
  {
   "cell_type": "markdown",
   "metadata": {},
   "source": [
    "And look at the class distribution:"
   ]
  },
  {
   "cell_type": "code",
   "execution_count": 13,
   "metadata": {},
   "outputs": [
    {
     "data": {
      "text/plain": [
       "<matplotlib.axes._subplots.AxesSubplot at 0x26bb8bdde80>"
      ]
     },
     "execution_count": 13,
     "metadata": {},
     "output_type": "execute_result"
    },
    {
     "data": {
      "image/png": "[encoded data removed]",
      "text/plain": [
       "<Figure size 432x288 with 1 Axes>"
      ]
     },
     "metadata": {
      "needs_background": "light"
     },
     "output_type": "display_data"
    }
   ],
   "source": [
    "sns.countplot(train['IsRecent'])"
   ]
  },
  {
   "cell_type": "markdown",
   "metadata": {},
   "source": [
    "## Classifying New Papers\n",
    "\n",
    "Let's classify recent papers with k-NN on TF-IDF vectors:"
   ]
  },
  {
   "cell_type": "code",
   "execution_count": 14,
   "metadata": {},
   "outputs": [
    {
     "data": {
      "text/plain": [
       "Pipeline(steps=[('vectorize',\n",
       "                 TfidfVectorizer(max_features=10000, stop_words='english')),\n",
       "                ('class', KNeighborsClassifier())])"
      ]
     },
     "execution_count": 14,
     "metadata": {},
     "output_type": "execute_result"
    }
   ],
   "source": [
    "base_knn = Pipeline([\n",
    "    ('vectorize', TfidfVectorizer(stop_words='english', lowercase=True, max_features=10000)),\n",
    "    ('class', KNeighborsClassifier(5))\n",
    "])\n",
    "base_knn.fit(train['all_text'], train['IsRecent'])"
   ]
  },
  {
   "cell_type": "markdown",
   "metadata": {},
   "source": [
    "And measure it:"
   ]
  },
  {
   "cell_type": "code",
   "execution_count": 15,
   "metadata": {},
   "outputs": [
    {
     "name": "stdout",
     "output_type": "stream",
     "text": [
      "              precision    recall  f1-score   support\n",
      "\n",
      "       False       0.39      1.00      0.56      1034\n",
      "        True       0.91      0.01      0.02      1651\n",
      "\n",
      "    accuracy                           0.39      2685\n",
      "   macro avg       0.65      0.51      0.29      2685\n",
      "weighted avg       0.71      0.39      0.23      2685\n",
      "\n"
     ]
    }
   ],
   "source": [
    "measure(base_knn)"
   ]
  },
  {
   "cell_type": "markdown",
   "metadata": {},
   "source": [
    "## Tune the Neighborhood\n",
    "\n",
    "Let's tune the neighborhood with a grid search:"
   ]
  },
  {
   "cell_type": "code",
   "execution_count": 16,
   "metadata": {},
   "outputs": [
    {
     "data": {
      "text/plain": [
       "Pipeline(steps=[('vectorize',\n",
       "                 TfidfVectorizer(max_features=10000, stop_words='english')),\n",
       "                ('class',\n",
       "                 GridSearchCV(estimator=KNeighborsClassifier(), n_jobs=8,\n",
       "                              param_grid={'n_neighbors': [1, 2, 3, 5, 7,\n",
       "                                                          10]}))])"
      ]
     },
     "execution_count": 16,
     "metadata": {},
     "output_type": "execute_result"
    }
   ],
   "source": [
    "tune_knn = Pipeline([\n",
    "    ('vectorize', TfidfVectorizer(stop_words='english', lowercase=True, max_features=10000)),\n",
    "    ('class', GridSearchCV(KNeighborsClassifier(), param_grid={\n",
    "        'n_neighbors': [1, 2, 3, 5, 7, 10]\n",
    "    }, n_jobs=NJOBS))\n",
    "])\n",
    "tune_knn.fit(train['all_text'], train['IsRecent'])"
   ]
  },
  {
   "cell_type": "markdown",
   "metadata": {},
   "source": [
    "What did it pick?"
   ]
  },
  {
   "cell_type": "code",
   "execution_count": 17,
   "metadata": {},
   "outputs": [
    {
     "data": {
      "text/plain": [
       "{'n_neighbors': 10}"
      ]
     },
     "execution_count": 17,
     "metadata": {},
     "output_type": "execute_result"
    }
   ],
   "source": [
    "tune_knn.named_steps['class'].best_params_"
   ]
  },
  {
   "cell_type": "markdown",
   "metadata": {},
   "source": [
    "And measure it:"
   ]
  },
  {
   "cell_type": "code",
   "execution_count": 18,
   "metadata": {},
   "outputs": [
    {
     "name": "stdout",
     "output_type": "stream",
     "text": [
      "              precision    recall  f1-score   support\n",
      "\n",
      "       False       0.51      0.90      0.65      1034\n",
      "        True       0.87      0.45      0.60      1651\n",
      "\n",
      "    accuracy                           0.62      2685\n",
      "   macro avg       0.69      0.67      0.62      2685\n",
      "weighted avg       0.73      0.62      0.62      2685\n",
      "\n"
     ]
    }
   ],
   "source": [
    "measure(tune_knn)"
   ]
  },
  {
   "cell_type": "markdown",
   "metadata": {},
   "source": [
    "## SVD Neighborhood\n",
    "\n",
    "Let's set up SVD-based neighborhood, and use random search to search both the latent feature count and the neighborhood size:"
   ]
  },
  {
   "cell_type": "code",
   "execution_count": 19,
   "metadata": {},
   "outputs": [
    {
     "data": {
      "text/plain": [
       "Pipeline(steps=[('vectorize', TfidfVectorizer(stop_words='english')),\n",
       "                ('class',\n",
       "                 RandomizedSearchCV(estimator=Pipeline(steps=[('latent',\n",
       "                                                               TruncatedSVD(random_state=RandomState(MT19937) at 0x26BB86DF140)),\n",
       "                                                              ('class',\n",
       "                                                               KNeighborsClassifier())]),\n",
       "                                    n_iter=60, n_jobs=8,\n",
       "                                    param_distributions={'class__n_neighbors': <scipy.stats._distn_infrastructure.rv_frozen object at 0x0000026BB8B0BEB0>,\n",
       "                                                         'latent__n_components': <scipy.stats._distn_infrastructure.rv_frozen object at 0x0000026BB945A070>},\n",
       "                                    random_state=RandomState(MT19937) at 0x26BB86DF140))])"
      ]
     },
     "execution_count": 19,
     "metadata": {},
     "output_type": "execute_result"
    }
   ],
   "source": [
    "svd_knn_inner = Pipeline([\n",
    "    ('latent', TruncatedSVD(random_state=rng)),\n",
    "    ('class', KNeighborsClassifier())\n",
    "])\n",
    "svd_knn = Pipeline([\n",
    "    ('vectorize', TfidfVectorizer(stop_words='english', lowercase=True)),\n",
    "    ('class', RandomizedSearchCV(svd_knn_inner, param_distributions={\n",
    "        'latent__n_components': stats.randint(1, 50),\n",
    "        'class__n_neighbors': stats.randint(1, 25)\n",
    "    }, n_iter=60, n_jobs=NJOBS, random_state=rng))\n",
    "])\n",
    "svd_knn.fit(train['all_text'], train['IsRecent'])"
   ]
  },
  {
   "cell_type": "markdown",
   "metadata": {},
   "source": [
    "What parameters did we pick?"
   ]
  },
  {
   "cell_type": "code",
   "execution_count": 20,
   "metadata": {},
   "outputs": [
    {
     "data": {
      "text/plain": [
       "{'class__n_neighbors': 21, 'latent__n_components': 21}"
      ]
     },
     "execution_count": 20,
     "metadata": {},
     "output_type": "execute_result"
    }
   ],
   "source": [
    "svd_knn['class'].best_params_"
   ]
  },
  {
   "cell_type": "markdown",
   "metadata": {},
   "source": [
    "And measure it on the test data:"
   ]
  },
  {
   "cell_type": "code",
   "execution_count": 21,
   "metadata": {},
   "outputs": [
    {
     "name": "stdout",
     "output_type": "stream",
     "text": [
      "              precision    recall  f1-score   support\n",
      "\n",
      "       False       0.75      0.47      0.58      1034\n",
      "        True       0.73      0.90      0.81      1651\n",
      "\n",
      "    accuracy                           0.74      2685\n",
      "   macro avg       0.74      0.69      0.69      2685\n",
      "weighted avg       0.74      0.74      0.72      2685\n",
      "\n"
     ]
    }
   ],
   "source": [
    "measure(svd_knn)"
   ]
  },
  {
   "cell_type": "markdown",
   "metadata": {},
   "source": [
    "## SVD with scikit-optimize\n",
    "\n",
    "Now let's cross-validate with SciKit-Optimize:"
   ]
  },
  {
   "cell_type": "code",
   "execution_count": 22,
   "metadata": {},
   "outputs": [
    {
     "name": "stderr",
     "output_type": "stream",
     "text": [
      "C:\\Users\\michaelekstrand\\Anaconda3\\lib\\site-packages\\skopt\\optimizer\\optimizer.py:449: UserWarning: The objective has been evaluated at this point before.\n",
      "  warnings.warn(\"The objective has been evaluated \"\n",
      "C:\\Users\\michaelekstrand\\Anaconda3\\lib\\site-packages\\skopt\\optimizer\\optimizer.py:449: UserWarning: The objective has been evaluated at this point before.\n",
      "  warnings.warn(\"The objective has been evaluated \"\n",
      "C:\\Users\\michaelekstrand\\Anaconda3\\lib\\site-packages\\skopt\\optimizer\\optimizer.py:449: UserWarning: The objective has been evaluated at this point before.\n",
      "  warnings.warn(\"The objective has been evaluated \"\n",
      "C:\\Users\\michaelekstrand\\Anaconda3\\lib\\site-packages\\skopt\\optimizer\\optimizer.py:449: UserWarning: The objective has been evaluated at this point before.\n",
      "  warnings.warn(\"The objective has been evaluated \"\n",
      "C:\\Users\\michaelekstrand\\Anaconda3\\lib\\site-packages\\skopt\\optimizer\\optimizer.py:449: UserWarning: The objective has been evaluated at this point before.\n",
      "  warnings.warn(\"The objective has been evaluated \"\n",
      "C:\\Users\\michaelekstrand\\Anaconda3\\lib\\site-packages\\skopt\\optimizer\\optimizer.py:449: UserWarning: The objective has been evaluated at this point before.\n",
      "  warnings.warn(\"The objective has been evaluated \"\n"
     ]
    },
    {
     "data": {
      "text/plain": [
       "Pipeline(steps=[('vectorize', TfidfVectorizer(stop_words='english')),\n",
       "                ('class',\n",
       "                 BayesSearchCV(estimator=Pipeline(steps=[('latent',\n",
       "                                                          TruncatedSVD()),\n",
       "                                                         ('class',\n",
       "                                                          KNeighborsClassifier())]),\n",
       "                               n_jobs=8,\n",
       "                               random_state=RandomState(MT19937) at 0x26BB86DF140,\n",
       "                               search_spaces={'class__n_neighbors': (1, 25),\n",
       "                                              'latent__n_components': (1,\n",
       "                                                                       50)}))])"
      ]
     },
     "execution_count": 22,
     "metadata": {},
     "output_type": "execute_result"
    }
   ],
   "source": [
    "svd_knn_inner = Pipeline([\n",
    "    ('latent', TruncatedSVD()),\n",
    "    ('class', KNeighborsClassifier())\n",
    "])\n",
    "svd_bayes_knn = Pipeline([\n",
    "    ('vectorize', TfidfVectorizer(stop_words='english', lowercase=True)),\n",
    "    ('class', BayesSearchCV(svd_knn_inner, {\n",
    "        'latent__n_components': (1, 50),\n",
    "        'class__n_neighbors': (1, 25)\n",
    "    }, n_jobs=NJOBS, random_state=rng))\n",
    "])\n",
    "svd_bayes_knn.fit(train['all_text'], train['IsRecent'])"
   ]
  },
  {
   "cell_type": "markdown",
   "metadata": {},
   "source": [
    "What parameters did we pick?"
   ]
  },
  {
   "cell_type": "code",
   "execution_count": 23,
   "metadata": {},
   "outputs": [
    {
     "data": {
      "text/plain": [
       "OrderedDict([('class__n_neighbors', 25), ('latent__n_components', 20)])"
      ]
     },
     "execution_count": 23,
     "metadata": {},
     "output_type": "execute_result"
    }
   ],
   "source": [
    "svd_bayes_knn['class'].best_params_"
   ]
  },
  {
   "cell_type": "markdown",
   "metadata": {},
   "source": [
    "And measure it:"
   ]
  },
  {
   "cell_type": "code",
   "execution_count": 24,
   "metadata": {},
   "outputs": [
    {
     "name": "stdout",
     "output_type": "stream",
     "text": [
      "              precision    recall  f1-score   support\n",
      "\n",
      "       False       0.74      0.43      0.55      1034\n",
      "        True       0.72      0.91      0.80      1651\n",
      "\n",
      "    accuracy                           0.72      2685\n",
      "   macro avg       0.73      0.67      0.67      2685\n",
      "weighted avg       0.73      0.72      0.70      2685\n",
      "\n"
     ]
    }
   ],
   "source": [
    "measure(svd_bayes_knn)"
   ]
  },
  {
   "cell_type": "markdown",
   "metadata": {},
   "source": [
    "## Naive Bayes\n",
    "\n",
    "Let's give the Naive Bayes classifier a whirl:"
   ]
  },
  {
   "cell_type": "code",
   "execution_count": 25,
   "metadata": {},
   "outputs": [
    {
     "data": {
      "text/plain": [
       "Pipeline(steps=[('vectorize',\n",
       "                 TfidfVectorizer(max_features=10000, stop_words='english')),\n",
       "                ('class', MultinomialNB())])"
      ]
     },
     "execution_count": 25,
     "metadata": {},
     "output_type": "execute_result"
    }
   ],
   "source": [
    "nb = Pipeline([\n",
    "    ('vectorize', TfidfVectorizer(stop_words='english', lowercase=True, max_features=10000)),\n",
    "    ('class', MultinomialNB())\n",
    "])\n",
    "nb.fit(train['all_text'], train['IsRecent'])"
   ]
  },
  {
   "cell_type": "code",
   "execution_count": 26,
   "metadata": {},
   "outputs": [
    {
     "name": "stdout",
     "output_type": "stream",
     "text": [
      "              precision    recall  f1-score   support\n",
      "\n",
      "       False       0.89      0.50      0.64      1034\n",
      "        True       0.75      0.96      0.85      1651\n",
      "\n",
      "    accuracy                           0.78      2685\n",
      "   macro avg       0.82      0.73      0.74      2685\n",
      "weighted avg       0.81      0.78      0.77      2685\n",
      "\n"
     ]
    }
   ],
   "source": [
    "measure(nb)"
   ]
  },
  {
   "cell_type": "markdown",
   "metadata": {},
   "source": [
    "## Summary Accuracy\n",
    "\n",
    "What does our test accuracy look like for our various classifiers?"
   ]
  },
  {
   "cell_type": "code",
   "execution_count": 27,
   "metadata": {},
   "outputs": [],
   "source": [
    "models = {\n",
    "    'kNN': base_knn,\n",
    "    'kNN-CV': tune_knn,\n",
    "    'kNN-SVD-Rand': svd_knn,\n",
    "    'kNN-SVD-Bayes': svd_bayes_knn,\n",
    "    'NB': nb\n",
    "}"
   ]
  },
  {
   "cell_type": "code",
   "execution_count": 28,
   "metadata": {},
   "outputs": [],
   "source": [
    "all_preds = pd.DataFrame()\n",
    "for name, model in models.items():\n",
    "    all_preds[name] = model.predict(test['all_text'])"
   ]
  },
  {
   "cell_type": "code",
   "execution_count": 29,
   "metadata": {},
   "outputs": [
    {
     "data": {
      "text/plain": [
       "kNN              0.391806\n",
       "kNN-CV           0.623836\n",
       "kNN-SVD-Rand     0.735940\n",
       "kNN-SVD-Bayes    0.724022\n",
       "NB               0.783240\n",
       "dtype: float64"
      ]
     },
     "execution_count": 29,
     "metadata": {},
     "output_type": "execute_result"
    }
   ],
   "source": [
    "acc = all_preds.apply(lambda ds: accuracy_score(test['IsRecent'], ds))\n",
    "acc"
   ]
  },
  {
   "cell_type": "code",
   "execution_count": 30,
   "metadata": {},
   "outputs": [
    {
     "data": {
      "image/png": "[encoded data removed]",
      "text/plain": [
       "<Figure size 432x288 with 1 Axes>"
      ]
     },
     "metadata": {
      "needs_background": "light"
     },
     "output_type": "display_data"
    }
   ],
   "source": [
    "acc.plot.bar()\n",
    "plt.ylabel('Accuracy')\n",
    "plt.show()"
   ]
  }
 ],
 "metadata": {
  "kernelspec": {
   "display_name": "Python 3",
   "language": "python",
   "name": "python3"
  },
  "language_info": {
   "codemirror_mode": {
    "name": "ipython",
    "version": 3
   },
   "file_extension": ".py",
   "mimetype": "text/x-python",
   "name": "python",
   "nbconvert_exporter": "python",
   "pygments_lexer": "ipython3",
   "version": "3.8.3"
  }
 },
 "nbformat": 4,
 "nbformat_minor": 4
}

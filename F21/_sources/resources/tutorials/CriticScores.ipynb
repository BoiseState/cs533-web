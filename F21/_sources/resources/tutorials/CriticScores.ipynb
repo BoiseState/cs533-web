{
 "cells": [
  {
   "cell_type": "markdown",
   "source": [
    "# Charting Movie Scores\r\n",
    "\r\n",
    "This notebook supports several videos in {module}`week3`."
   ],
   "metadata": {}
  },
  {
   "cell_type": "markdown",
   "source": [
    "## Setup and Load Data\n",
    "\n",
    "Import our standard modules:"
   ],
   "metadata": {}
  },
  {
   "cell_type": "code",
   "execution_count": 2,
   "source": [
    "import pandas as pd\r\n",
    "import seaborn as sns\r\n",
    "import numpy as np\r\n",
    "import matplotlib.pyplot as plt"
   ],
   "outputs": [],
   "metadata": {}
  },
  {
   "cell_type": "markdown",
   "source": [
    "Load the movie data, as we have in the other notebooks:"
   ],
   "metadata": {}
  },
  {
   "cell_type": "code",
   "execution_count": 3,
   "source": [
    "movies = pd.read_csv('hetrec2011-ml/movies.dat', delimiter='\\t', encoding='latin1', na_values=['\\\\N'])\r\n",
    "movies.head()"
   ],
   "outputs": [
    {
     "output_type": "execute_result",
     "data": {
      "text/html": [
       "<div>\n",
       "<style scoped>\n",
       "    .dataframe tbody tr th:only-of-type {\n",
       "        vertical-align: middle;\n",
       "    }\n",
       "\n",
       "    .dataframe tbody tr th {\n",
       "        vertical-align: top;\n",
       "    }\n",
       "\n",
       "    .dataframe thead th {\n",
       "        text-align: right;\n",
       "    }\n",
       "</style>\n",
       "<table border=\"1\" class=\"dataframe\">\n",
       "  <thead>\n",
       "    <tr style=\"text-align: right;\">\n",
       "      <th></th>\n",
       "      <th>id</th>\n",
       "      <th>title</th>\n",
       "      <th>imdbID</th>\n",
       "      <th>spanishTitle</th>\n",
       "      <th>imdbPictureURL</th>\n",
       "      <th>year</th>\n",
       "      <th>rtID</th>\n",
       "      <th>rtAllCriticsRating</th>\n",
       "      <th>rtAllCriticsNumReviews</th>\n",
       "      <th>rtAllCriticsNumFresh</th>\n",
       "      <th>...</th>\n",
       "      <th>rtAllCriticsScore</th>\n",
       "      <th>rtTopCriticsRating</th>\n",
       "      <th>rtTopCriticsNumReviews</th>\n",
       "      <th>rtTopCriticsNumFresh</th>\n",
       "      <th>rtTopCriticsNumRotten</th>\n",
       "      <th>rtTopCriticsScore</th>\n",
       "      <th>rtAudienceRating</th>\n",
       "      <th>rtAudienceNumRatings</th>\n",
       "      <th>rtAudienceScore</th>\n",
       "      <th>rtPictureURL</th>\n",
       "    </tr>\n",
       "  </thead>\n",
       "  <tbody>\n",
       "    <tr>\n",
       "      <th>0</th>\n",
       "      <td>1</td>\n",
       "      <td>Toy story</td>\n",
       "      <td>114709</td>\n",
       "      <td>Toy story (juguetes)</td>\n",
       "      <td>http://ia.media-imdb.com/images/M/MV5BMTMwNDU0...</td>\n",
       "      <td>1995</td>\n",
       "      <td>toy_story</td>\n",
       "      <td>9.0</td>\n",
       "      <td>73.0</td>\n",
       "      <td>73.0</td>\n",
       "      <td>...</td>\n",
       "      <td>100.0</td>\n",
       "      <td>8.5</td>\n",
       "      <td>17.0</td>\n",
       "      <td>17.0</td>\n",
       "      <td>0.0</td>\n",
       "      <td>100.0</td>\n",
       "      <td>3.7</td>\n",
       "      <td>102338.0</td>\n",
       "      <td>81.0</td>\n",
       "      <td>http://content7.flixster.com/movie/10/93/63/10...</td>\n",
       "    </tr>\n",
       "    <tr>\n",
       "      <th>1</th>\n",
       "      <td>2</td>\n",
       "      <td>Jumanji</td>\n",
       "      <td>113497</td>\n",
       "      <td>Jumanji</td>\n",
       "      <td>http://ia.media-imdb.com/images/M/MV5BMzM5NjE1...</td>\n",
       "      <td>1995</td>\n",
       "      <td>1068044-jumanji</td>\n",
       "      <td>5.6</td>\n",
       "      <td>28.0</td>\n",
       "      <td>13.0</td>\n",
       "      <td>...</td>\n",
       "      <td>46.0</td>\n",
       "      <td>5.8</td>\n",
       "      <td>5.0</td>\n",
       "      <td>2.0</td>\n",
       "      <td>3.0</td>\n",
       "      <td>40.0</td>\n",
       "      <td>3.2</td>\n",
       "      <td>44587.0</td>\n",
       "      <td>61.0</td>\n",
       "      <td>http://content8.flixster.com/movie/56/79/73/56...</td>\n",
       "    </tr>\n",
       "    <tr>\n",
       "      <th>2</th>\n",
       "      <td>3</td>\n",
       "      <td>Grumpy Old Men</td>\n",
       "      <td>107050</td>\n",
       "      <td>Dos viejos gruñones</td>\n",
       "      <td>http://ia.media-imdb.com/images/M/MV5BMTI5MTgy...</td>\n",
       "      <td>1993</td>\n",
       "      <td>grumpy_old_men</td>\n",
       "      <td>5.9</td>\n",
       "      <td>36.0</td>\n",
       "      <td>24.0</td>\n",
       "      <td>...</td>\n",
       "      <td>66.0</td>\n",
       "      <td>7.0</td>\n",
       "      <td>6.0</td>\n",
       "      <td>5.0</td>\n",
       "      <td>1.0</td>\n",
       "      <td>83.0</td>\n",
       "      <td>3.2</td>\n",
       "      <td>10489.0</td>\n",
       "      <td>66.0</td>\n",
       "      <td>http://content6.flixster.com/movie/25/60/25602...</td>\n",
       "    </tr>\n",
       "    <tr>\n",
       "      <th>3</th>\n",
       "      <td>4</td>\n",
       "      <td>Waiting to Exhale</td>\n",
       "      <td>114885</td>\n",
       "      <td>Esperando un respiro</td>\n",
       "      <td>http://ia.media-imdb.com/images/M/MV5BMTczMTMy...</td>\n",
       "      <td>1995</td>\n",
       "      <td>waiting_to_exhale</td>\n",
       "      <td>5.6</td>\n",
       "      <td>25.0</td>\n",
       "      <td>14.0</td>\n",
       "      <td>...</td>\n",
       "      <td>56.0</td>\n",
       "      <td>5.5</td>\n",
       "      <td>11.0</td>\n",
       "      <td>5.0</td>\n",
       "      <td>6.0</td>\n",
       "      <td>45.0</td>\n",
       "      <td>3.3</td>\n",
       "      <td>5666.0</td>\n",
       "      <td>79.0</td>\n",
       "      <td>http://content9.flixster.com/movie/10/94/17/10...</td>\n",
       "    </tr>\n",
       "    <tr>\n",
       "      <th>4</th>\n",
       "      <td>5</td>\n",
       "      <td>Father of the Bride Part II</td>\n",
       "      <td>113041</td>\n",
       "      <td>Vuelve el padre de la novia (Ahora también abu...</td>\n",
       "      <td>http://ia.media-imdb.com/images/M/MV5BMTg1NDc2...</td>\n",
       "      <td>1995</td>\n",
       "      <td>father_of_the_bride_part_ii</td>\n",
       "      <td>5.3</td>\n",
       "      <td>19.0</td>\n",
       "      <td>9.0</td>\n",
       "      <td>...</td>\n",
       "      <td>47.0</td>\n",
       "      <td>5.4</td>\n",
       "      <td>5.0</td>\n",
       "      <td>1.0</td>\n",
       "      <td>4.0</td>\n",
       "      <td>20.0</td>\n",
       "      <td>3.0</td>\n",
       "      <td>13761.0</td>\n",
       "      <td>64.0</td>\n",
       "      <td>http://content8.flixster.com/movie/25/54/25542...</td>\n",
       "    </tr>\n",
       "  </tbody>\n",
       "</table>\n",
       "<p>5 rows × 21 columns</p>\n",
       "</div>"
      ],
      "text/plain": [
       "   id                        title  imdbID  \\\n",
       "0   1                    Toy story  114709   \n",
       "1   2                      Jumanji  113497   \n",
       "2   3               Grumpy Old Men  107050   \n",
       "3   4            Waiting to Exhale  114885   \n",
       "4   5  Father of the Bride Part II  113041   \n",
       "\n",
       "                                        spanishTitle  \\\n",
       "0                               Toy story (juguetes)   \n",
       "1                                            Jumanji   \n",
       "2                                Dos viejos gruñones   \n",
       "3                               Esperando un respiro   \n",
       "4  Vuelve el padre de la novia (Ahora también abu...   \n",
       "\n",
       "                                      imdbPictureURL  year  \\\n",
       "0  http://ia.media-imdb.com/images/M/MV5BMTMwNDU0...  1995   \n",
       "1  http://ia.media-imdb.com/images/M/MV5BMzM5NjE1...  1995   \n",
       "2  http://ia.media-imdb.com/images/M/MV5BMTI5MTgy...  1993   \n",
       "3  http://ia.media-imdb.com/images/M/MV5BMTczMTMy...  1995   \n",
       "4  http://ia.media-imdb.com/images/M/MV5BMTg1NDc2...  1995   \n",
       "\n",
       "                          rtID  rtAllCriticsRating  rtAllCriticsNumReviews  \\\n",
       "0                    toy_story                 9.0                    73.0   \n",
       "1              1068044-jumanji                 5.6                    28.0   \n",
       "2               grumpy_old_men                 5.9                    36.0   \n",
       "3            waiting_to_exhale                 5.6                    25.0   \n",
       "4  father_of_the_bride_part_ii                 5.3                    19.0   \n",
       "\n",
       "   rtAllCriticsNumFresh  ...  rtAllCriticsScore  rtTopCriticsRating  \\\n",
       "0                  73.0  ...              100.0                 8.5   \n",
       "1                  13.0  ...               46.0                 5.8   \n",
       "2                  24.0  ...               66.0                 7.0   \n",
       "3                  14.0  ...               56.0                 5.5   \n",
       "4                   9.0  ...               47.0                 5.4   \n",
       "\n",
       "   rtTopCriticsNumReviews  rtTopCriticsNumFresh  rtTopCriticsNumRotten  \\\n",
       "0                    17.0                  17.0                    0.0   \n",
       "1                     5.0                   2.0                    3.0   \n",
       "2                     6.0                   5.0                    1.0   \n",
       "3                    11.0                   5.0                    6.0   \n",
       "4                     5.0                   1.0                    4.0   \n",
       "\n",
       "   rtTopCriticsScore  rtAudienceRating  rtAudienceNumRatings  rtAudienceScore  \\\n",
       "0              100.0               3.7              102338.0             81.0   \n",
       "1               40.0               3.2               44587.0             61.0   \n",
       "2               83.0               3.2               10489.0             66.0   \n",
       "3               45.0               3.3                5666.0             79.0   \n",
       "4               20.0               3.0               13761.0             64.0   \n",
       "\n",
       "                                        rtPictureURL  \n",
       "0  http://content7.flixster.com/movie/10/93/63/10...  \n",
       "1  http://content8.flixster.com/movie/56/79/73/56...  \n",
       "2  http://content6.flixster.com/movie/25/60/25602...  \n",
       "3  http://content9.flixster.com/movie/10/94/17/10...  \n",
       "4  http://content8.flixster.com/movie/25/54/25542...  \n",
       "\n",
       "[5 rows x 21 columns]"
      ]
     },
     "metadata": {},
     "execution_count": 3
    }
   ],
   "metadata": {}
  },
  {
   "cell_type": "code",
   "execution_count": 4,
   "source": [
    "movies.info()"
   ],
   "outputs": [
    {
     "output_type": "stream",
     "name": "stdout",
     "text": [
      "<class 'pandas.core.frame.DataFrame'>\n",
      "RangeIndex: 10197 entries, 0 to 10196\n",
      "Data columns (total 21 columns):\n",
      " #   Column                  Non-Null Count  Dtype  \n",
      "---  ------                  --------------  -----  \n",
      " 0   id                      10197 non-null  int64  \n",
      " 1   title                   10197 non-null  object \n",
      " 2   imdbID                  10197 non-null  int64  \n",
      " 3   spanishTitle            10197 non-null  object \n",
      " 4   imdbPictureURL          10016 non-null  object \n",
      " 5   year                    10197 non-null  int64  \n",
      " 6   rtID                    9886 non-null   object \n",
      " 7   rtAllCriticsRating      9967 non-null   float64\n",
      " 8   rtAllCriticsNumReviews  9967 non-null   float64\n",
      " 9   rtAllCriticsNumFresh    9967 non-null   float64\n",
      " 10  rtAllCriticsNumRotten   9967 non-null   float64\n",
      " 11  rtAllCriticsScore       9967 non-null   float64\n",
      " 12  rtTopCriticsRating      9967 non-null   float64\n",
      " 13  rtTopCriticsNumReviews  9967 non-null   float64\n",
      " 14  rtTopCriticsNumFresh    9967 non-null   float64\n",
      " 15  rtTopCriticsNumRotten   9967 non-null   float64\n",
      " 16  rtTopCriticsScore       9967 non-null   float64\n",
      " 17  rtAudienceRating        9967 non-null   float64\n",
      " 18  rtAudienceNumRatings    9967 non-null   float64\n",
      " 19  rtAudienceScore         9967 non-null   float64\n",
      " 20  rtPictureURL            9967 non-null   object \n",
      "dtypes: float64(13), int64(3), object(5)\n",
      "memory usage: 1.6+ MB\n"
     ]
    }
   ],
   "metadata": {}
  },
  {
   "cell_type": "markdown",
   "source": [
    "## Describing Distributions"
   ],
   "metadata": {}
  },
  {
   "cell_type": "markdown",
   "source": [
    "Let's start by describing the distributions of the three score variables:"
   ],
   "metadata": {}
  },
  {
   "cell_type": "code",
   "execution_count": 5,
   "source": [
    "movies['rtAllCriticsScore'].describe()"
   ],
   "outputs": [
    {
     "output_type": "execute_result",
     "data": {
      "text/plain": [
       "count    9967.000000\n",
       "mean       56.705127\n",
       "std        32.784319\n",
       "min         0.000000\n",
       "25%        30.000000\n",
       "50%        63.000000\n",
       "75%        86.000000\n",
       "max       100.000000\n",
       "Name: rtAllCriticsScore, dtype: float64"
      ]
     },
     "metadata": {},
     "execution_count": 5
    }
   ],
   "metadata": {}
  },
  {
   "cell_type": "code",
   "execution_count": 6,
   "source": [
    "movies['rtAllCriticsScore'].hist()"
   ],
   "outputs": [
    {
     "output_type": "execute_result",
     "data": {
      "text/plain": [
       "<matplotlib.axes._subplots.AxesSubplot at 0x1bb1b387e20>"
      ]
     },
     "metadata": {},
     "execution_count": 6
    },
    {
     "output_type": "display_data",
     "data": {
      "image/png": "[encoded data removed]",
      "text/plain": [
       "<Figure size 432x288 with 1 Axes>"
      ]
     },
     "metadata": {
      "needs_background": "light"
     }
    }
   ],
   "metadata": {}
  },
  {
   "cell_type": "markdown",
   "source": [
    "The all-critics score has a left skew (visible in the histogram, and also because the mean is less than the median).  It further has spikes at around 0 and 1.  We discussed in class some causes of these spikes."
   ],
   "metadata": {}
  },
  {
   "cell_type": "code",
   "execution_count": 7,
   "source": [
    "movies['rtTopCriticsScore'].describe()"
   ],
   "outputs": [
    {
     "output_type": "execute_result",
     "data": {
      "text/plain": [
       "count    9967.000000\n",
       "mean       41.611518\n",
       "std        38.773000\n",
       "min         0.000000\n",
       "25%         0.000000\n",
       "50%        38.000000\n",
       "75%        80.000000\n",
       "max       100.000000\n",
       "Name: rtTopCriticsScore, dtype: float64"
      ]
     },
     "metadata": {},
     "execution_count": 7
    }
   ],
   "metadata": {}
  },
  {
   "cell_type": "code",
   "execution_count": 8,
   "source": [
    "movies['rtTopCriticsScore'].hist()"
   ],
   "outputs": [
    {
     "output_type": "execute_result",
     "data": {
      "text/plain": [
       "<matplotlib.axes._subplots.AxesSubplot at 0x1bb1bb07280>"
      ]
     },
     "metadata": {},
     "execution_count": 8
    },
    {
     "output_type": "display_data",
     "data": {
      "image/png": "[encoded data removed]",
      "text/plain": [
       "<Figure size 432x288 with 1 Axes>"
      ]
     },
     "metadata": {
      "needs_background": "light"
     }
    }
   ],
   "metadata": {}
  },
  {
   "cell_type": "markdown",
   "source": [
    "The Top Critics score is similar, but much stronger spike at 0, and around 5.  We believe that 0 is probabaly used for 'missing' in a lot of cases."
   ],
   "metadata": {}
  },
  {
   "cell_type": "code",
   "execution_count": 9,
   "source": [
    "movies['rtAudienceScore'].describe()"
   ],
   "outputs": [
    {
     "output_type": "execute_result",
     "data": {
      "text/plain": [
       "count    9967.000000\n",
       "mean       48.340925\n",
       "std        32.699404\n",
       "min         0.000000\n",
       "25%         0.000000\n",
       "50%        57.000000\n",
       "75%        76.000000\n",
       "max       100.000000\n",
       "Name: rtAudienceScore, dtype: float64"
      ]
     },
     "metadata": {},
     "execution_count": 9
    }
   ],
   "metadata": {}
  },
  {
   "cell_type": "code",
   "execution_count": 10,
   "source": [
    "movies['rtAudienceScore'].hist()"
   ],
   "outputs": [
    {
     "output_type": "execute_result",
     "data": {
      "text/plain": [
       "<matplotlib.axes._subplots.AxesSubplot at 0x1bb1ca41a30>"
      ]
     },
     "metadata": {},
     "execution_count": 10
    },
    {
     "output_type": "display_data",
     "data": {
      "image/png": "[encoded data removed]",
      "text/plain": [
       "<Figure size 432x288 with 1 Axes>"
      ]
     },
     "metadata": {
      "needs_background": "light"
     }
    }
   ],
   "metadata": {}
  },
  {
   "cell_type": "markdown",
   "source": [
    "The audience score doesn't have the spike at 1, but does have a large spike at 0 (again, missing data?)."
   ],
   "metadata": {}
  },
  {
   "cell_type": "markdown",
   "source": [
    "## Relationships\n",
    "\n",
    "To look at how one score relates to another, we want a scatterplot - it's our go-to for two numeric variables:"
   ],
   "metadata": {}
  },
  {
   "cell_type": "code",
   "execution_count": 11,
   "source": [
    "sns.scatterplot('rtAllCriticsScore', 'rtAudienceScore', data=movies)"
   ],
   "outputs": [
    {
     "output_type": "execute_result",
     "data": {
      "text/plain": [
       "<matplotlib.axes._subplots.AxesSubplot at 0x1bb1cab35e0>"
      ]
     },
     "metadata": {},
     "execution_count": 11
    },
    {
     "output_type": "display_data",
     "data": {
      "image/png": "[encoded data removed]",
      "text/plain": [
       "<Figure size 432x288 with 1 Axes>"
      ]
     },
     "metadata": {
      "needs_background": "light"
     }
    }
   ],
   "metadata": {}
  },
  {
   "cell_type": "markdown",
   "source": [
    "Seaborn's `jointplot` is also useful here:"
   ],
   "metadata": {}
  },
  {
   "cell_type": "code",
   "execution_count": 13,
   "source": [
    "sns.jointplot('rtAllCriticsScore', 'rtAudienceScore', data=movies)"
   ],
   "outputs": [
    {
     "output_type": "execute_result",
     "data": {
      "text/plain": [
       "<seaborn.axisgrid.JointGrid at 0x18f0abdec70>"
      ]
     },
     "metadata": {},
     "execution_count": 13
    },
    {
     "output_type": "display_data",
     "data": {
      "image/png": "[encoded data removed]",
      "text/plain": [
       "<Figure size 432x432 with 3 Axes>"
      ]
     },
     "metadata": {
      "needs_background": "light"
     }
    }
   ],
   "metadata": {}
  },
  {
   "cell_type": "markdown",
   "source": [
    "## Underrated\n",
    "\n",
    "To look at *underrated* movies, we're going to look at the difference between the all-critics score and the audience score. If the critics underestimate the audience, that indicates it might be underrated.\n",
    "\n",
    "Let's start by computing the difference:"
   ],
   "metadata": {}
  },
  {
   "cell_type": "code",
   "execution_count": 12,
   "source": [
    "movies['ac_diff'] = movies['rtAudienceScore'] - movies['rtAllCriticsScore']"
   ],
   "outputs": [],
   "metadata": {}
  },
  {
   "cell_type": "markdown",
   "source": [
    "Then the 5 movies with the largest difference (audience score much larger than critics score) are underrated:"
   ],
   "metadata": {}
  },
  {
   "cell_type": "code",
   "execution_count": 13,
   "source": [
    "movies.nlargest(5, 'ac_diff')"
   ],
   "outputs": [
    {
     "output_type": "execute_result",
     "data": {
      "text/html": [
       "<div>\n",
       "<style scoped>\n",
       "    .dataframe tbody tr th:only-of-type {\n",
       "        vertical-align: middle;\n",
       "    }\n",
       "\n",
       "    .dataframe tbody tr th {\n",
       "        vertical-align: top;\n",
       "    }\n",
       "\n",
       "    .dataframe thead th {\n",
       "        text-align: right;\n",
       "    }\n",
       "</style>\n",
       "<table border=\"1\" class=\"dataframe\">\n",
       "  <thead>\n",
       "    <tr style=\"text-align: right;\">\n",
       "      <th></th>\n",
       "      <th>id</th>\n",
       "      <th>title</th>\n",
       "      <th>imdbID</th>\n",
       "      <th>spanishTitle</th>\n",
       "      <th>imdbPictureURL</th>\n",
       "      <th>year</th>\n",
       "      <th>rtID</th>\n",
       "      <th>rtAllCriticsRating</th>\n",
       "      <th>rtAllCriticsNumReviews</th>\n",
       "      <th>rtAllCriticsNumFresh</th>\n",
       "      <th>...</th>\n",
       "      <th>rtTopCriticsRating</th>\n",
       "      <th>rtTopCriticsNumReviews</th>\n",
       "      <th>rtTopCriticsNumFresh</th>\n",
       "      <th>rtTopCriticsNumRotten</th>\n",
       "      <th>rtTopCriticsScore</th>\n",
       "      <th>rtAudienceRating</th>\n",
       "      <th>rtAudienceNumRatings</th>\n",
       "      <th>rtAudienceScore</th>\n",
       "      <th>rtPictureURL</th>\n",
       "      <th>ac_diff</th>\n",
       "    </tr>\n",
       "  </thead>\n",
       "  <tbody>\n",
       "    <tr>\n",
       "      <th>7299</th>\n",
       "      <td>8007</td>\n",
       "      <td>Pure Country</td>\n",
       "      <td>105191</td>\n",
       "      <td>Pure Country</td>\n",
       "      <td>http://ia.media-imdb.com/images/M/MV5BMTI4OTQz...</td>\n",
       "      <td>1992</td>\n",
       "      <td>pure_country</td>\n",
       "      <td>0.0</td>\n",
       "      <td>4.0</td>\n",
       "      <td>0.0</td>\n",
       "      <td>...</td>\n",
       "      <td>0.0</td>\n",
       "      <td>1.0</td>\n",
       "      <td>0.0</td>\n",
       "      <td>1.0</td>\n",
       "      <td>0.0</td>\n",
       "      <td>3.9</td>\n",
       "      <td>3532.0</td>\n",
       "      <td>89.0</td>\n",
       "      <td>http://content8.flixster.com/movie/10/93/85/10...</td>\n",
       "      <td>89.0</td>\n",
       "    </tr>\n",
       "    <tr>\n",
       "      <th>4141</th>\n",
       "      <td>4442</td>\n",
       "      <td>The Last Dragon</td>\n",
       "      <td>89461</td>\n",
       "      <td>El último dragón</td>\n",
       "      <td>http://ia.media-imdb.com/images/M/MV5BMTU5Nzc5...</td>\n",
       "      <td>1985</td>\n",
       "      <td>the-last-dragon</td>\n",
       "      <td>0.0</td>\n",
       "      <td>4.0</td>\n",
       "      <td>0.0</td>\n",
       "      <td>...</td>\n",
       "      <td>0.0</td>\n",
       "      <td>1.0</td>\n",
       "      <td>0.0</td>\n",
       "      <td>1.0</td>\n",
       "      <td>0.0</td>\n",
       "      <td>3.9</td>\n",
       "      <td>4398.0</td>\n",
       "      <td>84.0</td>\n",
       "      <td>http://content7.flixster.com/movie/11/12/45/11...</td>\n",
       "      <td>84.0</td>\n",
       "    </tr>\n",
       "    <tr>\n",
       "      <th>4960</th>\n",
       "      <td>5281</td>\n",
       "      <td>The Wrong Guy</td>\n",
       "      <td>120536</td>\n",
       "      <td>The Wrong Guy</td>\n",
       "      <td>http://ia.media-imdb.com/images/M/MV5BMTI4MzM1...</td>\n",
       "      <td>1997</td>\n",
       "      <td>wrong_guy</td>\n",
       "      <td>0.0</td>\n",
       "      <td>3.0</td>\n",
       "      <td>0.0</td>\n",
       "      <td>...</td>\n",
       "      <td>0.0</td>\n",
       "      <td>1.0</td>\n",
       "      <td>0.0</td>\n",
       "      <td>1.0</td>\n",
       "      <td>0.0</td>\n",
       "      <td>3.6</td>\n",
       "      <td>826.0</td>\n",
       "      <td>81.0</td>\n",
       "      <td>http://content7.flixster.com/movie/10/92/04/10...</td>\n",
       "      <td>81.0</td>\n",
       "    </tr>\n",
       "    <tr>\n",
       "      <th>5331</th>\n",
       "      <td>5662</td>\n",
       "      <td>The Wrong Guy</td>\n",
       "      <td>120536</td>\n",
       "      <td>The Wrong Guy</td>\n",
       "      <td>http://ia.media-imdb.com/images/M/MV5BMTI4MzM1...</td>\n",
       "      <td>1997</td>\n",
       "      <td>wrong_guy</td>\n",
       "      <td>0.0</td>\n",
       "      <td>3.0</td>\n",
       "      <td>0.0</td>\n",
       "      <td>...</td>\n",
       "      <td>0.0</td>\n",
       "      <td>1.0</td>\n",
       "      <td>0.0</td>\n",
       "      <td>1.0</td>\n",
       "      <td>0.0</td>\n",
       "      <td>3.6</td>\n",
       "      <td>826.0</td>\n",
       "      <td>81.0</td>\n",
       "      <td>http://content7.flixster.com/movie/10/92/04/10...</td>\n",
       "      <td>81.0</td>\n",
       "    </tr>\n",
       "    <tr>\n",
       "      <th>6799</th>\n",
       "      <td>7192</td>\n",
       "      <td>Only the Strong</td>\n",
       "      <td>107750</td>\n",
       "      <td>Sólo el más fuerte</td>\n",
       "      <td>http://ia.media-imdb.com/images/M/MV5BMTY3MDQx...</td>\n",
       "      <td>1993</td>\n",
       "      <td>only_the_strong</td>\n",
       "      <td>2.8</td>\n",
       "      <td>7.0</td>\n",
       "      <td>0.0</td>\n",
       "      <td>...</td>\n",
       "      <td>2.5</td>\n",
       "      <td>5.0</td>\n",
       "      <td>0.0</td>\n",
       "      <td>5.0</td>\n",
       "      <td>0.0</td>\n",
       "      <td>3.7</td>\n",
       "      <td>1259.0</td>\n",
       "      <td>79.0</td>\n",
       "      <td>http://content9.flixster.com/movie/10/86/99/10...</td>\n",
       "      <td>79.0</td>\n",
       "    </tr>\n",
       "  </tbody>\n",
       "</table>\n",
       "<p>5 rows × 22 columns</p>\n",
       "</div>"
      ],
      "text/plain": [
       "        id            title  imdbID        spanishTitle  \\\n",
       "7299  8007     Pure Country  105191        Pure Country   \n",
       "4141  4442  The Last Dragon   89461    El último dragón   \n",
       "4960  5281    The Wrong Guy  120536       The Wrong Guy   \n",
       "5331  5662    The Wrong Guy  120536       The Wrong Guy   \n",
       "6799  7192  Only the Strong  107750  Sólo el más fuerte   \n",
       "\n",
       "                                         imdbPictureURL  year  \\\n",
       "7299  http://ia.media-imdb.com/images/M/MV5BMTI4OTQz...  1992   \n",
       "4141  http://ia.media-imdb.com/images/M/MV5BMTU5Nzc5...  1985   \n",
       "4960  http://ia.media-imdb.com/images/M/MV5BMTI4MzM1...  1997   \n",
       "5331  http://ia.media-imdb.com/images/M/MV5BMTI4MzM1...  1997   \n",
       "6799  http://ia.media-imdb.com/images/M/MV5BMTY3MDQx...  1993   \n",
       "\n",
       "                 rtID  rtAllCriticsRating  rtAllCriticsNumReviews  \\\n",
       "7299     pure_country                 0.0                     4.0   \n",
       "4141  the-last-dragon                 0.0                     4.0   \n",
       "4960        wrong_guy                 0.0                     3.0   \n",
       "5331        wrong_guy                 0.0                     3.0   \n",
       "6799  only_the_strong                 2.8                     7.0   \n",
       "\n",
       "      rtAllCriticsNumFresh  ...  rtTopCriticsRating  rtTopCriticsNumReviews  \\\n",
       "7299                   0.0  ...                 0.0                     1.0   \n",
       "4141                   0.0  ...                 0.0                     1.0   \n",
       "4960                   0.0  ...                 0.0                     1.0   \n",
       "5331                   0.0  ...                 0.0                     1.0   \n",
       "6799                   0.0  ...                 2.5                     5.0   \n",
       "\n",
       "      rtTopCriticsNumFresh  rtTopCriticsNumRotten  rtTopCriticsScore  \\\n",
       "7299                   0.0                    1.0                0.0   \n",
       "4141                   0.0                    1.0                0.0   \n",
       "4960                   0.0                    1.0                0.0   \n",
       "5331                   0.0                    1.0                0.0   \n",
       "6799                   0.0                    5.0                0.0   \n",
       "\n",
       "      rtAudienceRating  rtAudienceNumRatings  rtAudienceScore  \\\n",
       "7299               3.9                3532.0             89.0   \n",
       "4141               3.9                4398.0             84.0   \n",
       "4960               3.6                 826.0             81.0   \n",
       "5331               3.6                 826.0             81.0   \n",
       "6799               3.7                1259.0             79.0   \n",
       "\n",
       "                                           rtPictureURL  ac_diff  \n",
       "7299  http://content8.flixster.com/movie/10/93/85/10...     89.0  \n",
       "4141  http://content7.flixster.com/movie/11/12/45/11...     84.0  \n",
       "4960  http://content7.flixster.com/movie/10/92/04/10...     81.0  \n",
       "5331  http://content7.flixster.com/movie/10/92/04/10...     81.0  \n",
       "6799  http://content9.flixster.com/movie/10/86/99/10...     79.0  \n",
       "\n",
       "[5 rows x 22 columns]"
      ]
     },
     "metadata": {},
     "execution_count": 13
    }
   ],
   "metadata": {}
  },
  {
   "cell_type": "markdown",
   "source": [
    "The lowest scores are overrated:"
   ],
   "metadata": {}
  },
  {
   "cell_type": "code",
   "execution_count": 14,
   "source": [
    "movies.nsmallest(5, 'ac_diff')"
   ],
   "outputs": [
    {
     "output_type": "execute_result",
     "data": {
      "text/html": [
       "<div>\n",
       "<style scoped>\n",
       "    .dataframe tbody tr th:only-of-type {\n",
       "        vertical-align: middle;\n",
       "    }\n",
       "\n",
       "    .dataframe tbody tr th {\n",
       "        vertical-align: top;\n",
       "    }\n",
       "\n",
       "    .dataframe thead th {\n",
       "        text-align: right;\n",
       "    }\n",
       "</style>\n",
       "<table border=\"1\" class=\"dataframe\">\n",
       "  <thead>\n",
       "    <tr style=\"text-align: right;\">\n",
       "      <th></th>\n",
       "      <th>id</th>\n",
       "      <th>title</th>\n",
       "      <th>imdbID</th>\n",
       "      <th>spanishTitle</th>\n",
       "      <th>imdbPictureURL</th>\n",
       "      <th>year</th>\n",
       "      <th>rtID</th>\n",
       "      <th>rtAllCriticsRating</th>\n",
       "      <th>rtAllCriticsNumReviews</th>\n",
       "      <th>rtAllCriticsNumFresh</th>\n",
       "      <th>...</th>\n",
       "      <th>rtTopCriticsRating</th>\n",
       "      <th>rtTopCriticsNumReviews</th>\n",
       "      <th>rtTopCriticsNumFresh</th>\n",
       "      <th>rtTopCriticsNumRotten</th>\n",
       "      <th>rtTopCriticsScore</th>\n",
       "      <th>rtAudienceRating</th>\n",
       "      <th>rtAudienceNumRatings</th>\n",
       "      <th>rtAudienceScore</th>\n",
       "      <th>rtPictureURL</th>\n",
       "      <th>ac_diff</th>\n",
       "    </tr>\n",
       "  </thead>\n",
       "  <tbody>\n",
       "    <tr>\n",
       "      <th>57</th>\n",
       "      <td>59</td>\n",
       "      <td>Le confessionnal</td>\n",
       "      <td>112714</td>\n",
       "      <td>Le confessionnal</td>\n",
       "      <td>http://ia.media-imdb.com/images/M/MV5BMTk2MDE1...</td>\n",
       "      <td>1995</td>\n",
       "      <td>confessional</td>\n",
       "      <td>0.0</td>\n",
       "      <td>1.0</td>\n",
       "      <td>1.0</td>\n",
       "      <td>...</td>\n",
       "      <td>0.0</td>\n",
       "      <td>0.0</td>\n",
       "      <td>0.0</td>\n",
       "      <td>0.0</td>\n",
       "      <td>0.0</td>\n",
       "      <td>0.0</td>\n",
       "      <td>0.0</td>\n",
       "      <td>0.0</td>\n",
       "      <td>http://images.rottentomatoescdn.com/images/def...</td>\n",
       "      <td>-100.0</td>\n",
       "    </tr>\n",
       "    <tr>\n",
       "      <th>180</th>\n",
       "      <td>189</td>\n",
       "      <td>The Reckless Moment</td>\n",
       "      <td>41786</td>\n",
       "      <td>Almas desnudas</td>\n",
       "      <td>http://ia.media-imdb.com/images/M/MV5BMTUyNzEx...</td>\n",
       "      <td>1949</td>\n",
       "      <td>reckless_moment</td>\n",
       "      <td>0.0</td>\n",
       "      <td>3.0</td>\n",
       "      <td>3.0</td>\n",
       "      <td>...</td>\n",
       "      <td>0.0</td>\n",
       "      <td>0.0</td>\n",
       "      <td>0.0</td>\n",
       "      <td>0.0</td>\n",
       "      <td>0.0</td>\n",
       "      <td>0.0</td>\n",
       "      <td>0.0</td>\n",
       "      <td>0.0</td>\n",
       "      <td>http://content6.flixster.com/movie/55/32/82/55...</td>\n",
       "      <td>-100.0</td>\n",
       "    </tr>\n",
       "    <tr>\n",
       "      <th>287</th>\n",
       "      <td>298</td>\n",
       "      <td>Tui shou</td>\n",
       "      <td>105652</td>\n",
       "      <td>Tui shou</td>\n",
       "      <td>http://ia.media-imdb.com/images/M/MV5BMTIxMzk0...</td>\n",
       "      <td>1992</td>\n",
       "      <td>pushing_hands</td>\n",
       "      <td>0.0</td>\n",
       "      <td>2.0</td>\n",
       "      <td>2.0</td>\n",
       "      <td>...</td>\n",
       "      <td>0.0</td>\n",
       "      <td>0.0</td>\n",
       "      <td>0.0</td>\n",
       "      <td>0.0</td>\n",
       "      <td>0.0</td>\n",
       "      <td>0.0</td>\n",
       "      <td>0.0</td>\n",
       "      <td>0.0</td>\n",
       "      <td>http://content8.flixster.com/movie/10/84/00/10...</td>\n",
       "      <td>-100.0</td>\n",
       "    </tr>\n",
       "    <tr>\n",
       "      <th>526</th>\n",
       "      <td>545</td>\n",
       "      <td>Harem suaré</td>\n",
       "      <td>179841</td>\n",
       "      <td>El último harén</td>\n",
       "      <td>http://ia.media-imdb.com/images/M/MV5BMjcwNjYx...</td>\n",
       "      <td>1999</td>\n",
       "      <td>1121056-harem</td>\n",
       "      <td>0.0</td>\n",
       "      <td>1.0</td>\n",
       "      <td>1.0</td>\n",
       "      <td>...</td>\n",
       "      <td>0.0</td>\n",
       "      <td>0.0</td>\n",
       "      <td>0.0</td>\n",
       "      <td>0.0</td>\n",
       "      <td>0.0</td>\n",
       "      <td>0.0</td>\n",
       "      <td>0.0</td>\n",
       "      <td>0.0</td>\n",
       "      <td>http://content9.flixster.com/movie/27/77/27770...</td>\n",
       "      <td>-100.0</td>\n",
       "    </tr>\n",
       "    <tr>\n",
       "      <th>589</th>\n",
       "      <td>615</td>\n",
       "      <td>Pane e cioccolata</td>\n",
       "      <td>70506</td>\n",
       "      <td>Aventuras y desventuras de un italiano emigrado</td>\n",
       "      <td>http://ia.media-imdb.com/images/M/MV5BMTQ5NjM5...</td>\n",
       "      <td>1973</td>\n",
       "      <td>bread_and_chocolate</td>\n",
       "      <td>0.0</td>\n",
       "      <td>4.0</td>\n",
       "      <td>4.0</td>\n",
       "      <td>...</td>\n",
       "      <td>0.0</td>\n",
       "      <td>0.0</td>\n",
       "      <td>0.0</td>\n",
       "      <td>0.0</td>\n",
       "      <td>0.0</td>\n",
       "      <td>0.0</td>\n",
       "      <td>0.0</td>\n",
       "      <td>0.0</td>\n",
       "      <td>http://content7.flixster.com/movie/10/89/25/10...</td>\n",
       "      <td>-100.0</td>\n",
       "    </tr>\n",
       "  </tbody>\n",
       "</table>\n",
       "<p>5 rows × 22 columns</p>\n",
       "</div>"
      ],
      "text/plain": [
       "      id                title  imdbID  \\\n",
       "57    59     Le confessionnal  112714   \n",
       "180  189  The Reckless Moment   41786   \n",
       "287  298             Tui shou  105652   \n",
       "526  545          Harem suaré  179841   \n",
       "589  615    Pane e cioccolata   70506   \n",
       "\n",
       "                                        spanishTitle  \\\n",
       "57                                  Le confessionnal   \n",
       "180                                   Almas desnudas   \n",
       "287                                         Tui shou   \n",
       "526                                  El último harén   \n",
       "589  Aventuras y desventuras de un italiano emigrado   \n",
       "\n",
       "                                        imdbPictureURL  year  \\\n",
       "57   http://ia.media-imdb.com/images/M/MV5BMTk2MDE1...  1995   \n",
       "180  http://ia.media-imdb.com/images/M/MV5BMTUyNzEx...  1949   \n",
       "287  http://ia.media-imdb.com/images/M/MV5BMTIxMzk0...  1992   \n",
       "526  http://ia.media-imdb.com/images/M/MV5BMjcwNjYx...  1999   \n",
       "589  http://ia.media-imdb.com/images/M/MV5BMTQ5NjM5...  1973   \n",
       "\n",
       "                    rtID  rtAllCriticsRating  rtAllCriticsNumReviews  \\\n",
       "57          confessional                 0.0                     1.0   \n",
       "180      reckless_moment                 0.0                     3.0   \n",
       "287        pushing_hands                 0.0                     2.0   \n",
       "526        1121056-harem                 0.0                     1.0   \n",
       "589  bread_and_chocolate                 0.0                     4.0   \n",
       "\n",
       "     rtAllCriticsNumFresh  ...  rtTopCriticsRating  rtTopCriticsNumReviews  \\\n",
       "57                    1.0  ...                 0.0                     0.0   \n",
       "180                   3.0  ...                 0.0                     0.0   \n",
       "287                   2.0  ...                 0.0                     0.0   \n",
       "526                   1.0  ...                 0.0                     0.0   \n",
       "589                   4.0  ...                 0.0                     0.0   \n",
       "\n",
       "     rtTopCriticsNumFresh  rtTopCriticsNumRotten  rtTopCriticsScore  \\\n",
       "57                    0.0                    0.0                0.0   \n",
       "180                   0.0                    0.0                0.0   \n",
       "287                   0.0                    0.0                0.0   \n",
       "526                   0.0                    0.0                0.0   \n",
       "589                   0.0                    0.0                0.0   \n",
       "\n",
       "     rtAudienceRating  rtAudienceNumRatings  rtAudienceScore  \\\n",
       "57                0.0                   0.0              0.0   \n",
       "180               0.0                   0.0              0.0   \n",
       "287               0.0                   0.0              0.0   \n",
       "526               0.0                   0.0              0.0   \n",
       "589               0.0                   0.0              0.0   \n",
       "\n",
       "                                          rtPictureURL  ac_diff  \n",
       "57   http://images.rottentomatoescdn.com/images/def...   -100.0  \n",
       "180  http://content6.flixster.com/movie/55/32/82/55...   -100.0  \n",
       "287  http://content8.flixster.com/movie/10/84/00/10...   -100.0  \n",
       "526  http://content9.flixster.com/movie/27/77/27770...   -100.0  \n",
       "589  http://content7.flixster.com/movie/10/89/25/10...   -100.0  \n",
       "\n",
       "[5 rows x 22 columns]"
      ]
     },
     "metadata": {},
     "execution_count": 14
    }
   ],
   "metadata": {}
  },
  {
   "cell_type": "markdown",
   "source": [
    "Our missing data is going to be a problem here, though. We need to clean up a lot of thes 0s in order to have reliable results. I'll leave that to you!"
   ],
   "metadata": {}
  },
  {
   "cell_type": "code",
   "execution_count": null,
   "source": [],
   "outputs": [],
   "metadata": {}
  }
 ],
 "metadata": {
  "kernelspec": {
   "display_name": "Python 3",
   "language": "python",
   "name": "python3"
  },
  "language_info": {
   "codemirror_mode": {
    "name": "ipython",
    "version": 3
   },
   "file_extension": ".py",
   "mimetype": "text/x-python",
   "name": "python",
   "nbconvert_exporter": "python",
   "pygments_lexer": "ipython3",
   "version": "3.8.3"
  }
 },
 "nbformat": 4,
 "nbformat_minor": 4
}
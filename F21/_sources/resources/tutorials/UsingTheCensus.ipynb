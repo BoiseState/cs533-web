{
 "cells": [
  {
   "cell_type": "markdown",
   "metadata": {},
   "source": [
    "# Using Census Data\n",
    "\n",
    "This notebook describes the basis of how to work with data from the U.S. census.\n",
    "\n",
    "It requires two additional packages that are not available through Conda:\n",
    "\n",
    "    pip install census us\n",
    "    \n",
    "## API Key\n",
    "\n",
    "In order to use the census data, you will need a Census API key. Request one here (provide your e-mail address): https://api.census.gov/data/key_signup.html"
   ]
  },
  {
   "cell_type": "markdown",
   "metadata": {},
   "source": [
    "## Setup\n",
    "\n",
    "Let's start with imports as usual:"
   ]
  },
  {
   "cell_type": "code",
   "execution_count": 1,
   "metadata": {},
   "outputs": [],
   "source": [
    "import pandas as pd\n",
    "import numpy as np\n",
    "import seaborn as sns\n",
    "import matplotlib.pyplot as plt\n",
    "from census import Census\n",
    "from us import states"
   ]
  },
  {
   "cell_type": "markdown",
   "metadata": {},
   "source": [
    "And set up a census object (replace API KEY with your API key):"
   ]
  },
  {
   "cell_type": "code",
   "execution_count": 2,
   "metadata": {},
   "outputs": [],
   "source": [
    "c = Census('<put key here>')"
   ]
  },
  {
   "cell_type": "markdown",
   "metadata": {},
   "source": [
    "## Census Data\n",
    "\n",
    "The census data comes in a variety of *files*. These files include:\n",
    "\n",
    "- `sf1` — Summary File 1, containing complete count information on the *decennial* census.\n",
    "- `acs1` — American Community Survey, a supplementary annual survey of a sample of the population carried out by the census bureau every year.\n",
    "\n",
    "Both of these files are accessed in the same way, via the Census object, but they contain different variables.  Each contains thousands of variables.\n",
    "\n",
    "This notebook focuses on the SF1 file. The [variable list](https://api.census.gov/data/2010/dec/sf1/variables.html) describes these variables, and the ones of interest are all reported as **population counts**.  That means variable `P012001` is the number of people in a geographic area.\n",
    "\n",
    "To fetch data, we need to know three things:\n",
    "\n",
    "- The *geographic level* we want: county or state?\n",
    "- *Which* geographic area(s)?\n",
    "- The variables to retrieve.\n",
    "- The year. We're going to use 2010.\n",
    "\n",
    "Variables in turn are nested. Many variables are estimated population counts; for these, one variable is the total population, and others are counts within subgroups.  Look at the variable list to see how these are described:\n",
    "\n",
    "- `P012001` is the estimated total population\n",
    "- `P012002` is the estimated male population\n",
    "- `P012026` is the estimated female population\n",
    "\n",
    "There are variables for a *lot* of different breakdowns.\n",
    "\n",
    "The API returns a list of dictionaries containing the variables.  Let's get the gender population estimate for Idaho:"
   ]
  },
  {
   "cell_type": "code",
   "execution_count": 3,
   "metadata": {},
   "outputs": [
    {
     "data": {
      "text/plain": [
       "[{'NAME': 'Idaho',\n",
       "  'P012001': 1567582.0,\n",
       "  'P012002': 785324.0,\n",
       "  'P012026': 782258.0,\n",
       "  'state': '16'}]"
      ]
     },
     "execution_count": 3,
     "metadata": {},
     "output_type": "execute_result"
    }
   ],
   "source": [
    "c.sf1.state(('NAME', 'P012001', 'P012002', 'P012026'), states.ID.fips, year=2010)"
   ]
  },
  {
   "cell_type": "markdown",
   "metadata": {},
   "source": [
    "Regions are identified by **FIPS codes**: numeric codes that identify states and counties.  Each state has a 2-digit FIPS code, and the `us.states` module lets us look up a state's FIPS code.  (We can also get a [table of them](https://www.census.gov/library/reference/code-lists/ansi/ansi-codes-for-states.html).)\n",
    "\n",
    "Each county's code is a 5-digit number: its state code, followed by 3 digits to identify the county.\n",
    "\n",
    "When calling `state`, we can provide `'*'` instead of a FIPS code to request all states, and use Pandas `from_records` to make a data frame from the dictionaries:"
   ]
  },
  {
   "cell_type": "code",
   "execution_count": 4,
   "metadata": {},
   "outputs": [
    {
     "data": {
      "text/html": [
       "<div>\n",
       "<style scoped>\n",
       "    .dataframe tbody tr th:only-of-type {\n",
       "        vertical-align: middle;\n",
       "    }\n",
       "\n",
       "    .dataframe tbody tr th {\n",
       "        vertical-align: top;\n",
       "    }\n",
       "\n",
       "    .dataframe thead th {\n",
       "        text-align: right;\n",
       "    }\n",
       "</style>\n",
       "<table border=\"1\" class=\"dataframe\">\n",
       "  <thead>\n",
       "    <tr style=\"text-align: right;\">\n",
       "      <th></th>\n",
       "      <th>NAME</th>\n",
       "      <th>P012001</th>\n",
       "      <th>P012002</th>\n",
       "      <th>P012026</th>\n",
       "      <th>state</th>\n",
       "    </tr>\n",
       "  </thead>\n",
       "  <tbody>\n",
       "    <tr>\n",
       "      <th>0</th>\n",
       "      <td>Alabama</td>\n",
       "      <td>4779736.0</td>\n",
       "      <td>2320188.0</td>\n",
       "      <td>2459548.0</td>\n",
       "      <td>01</td>\n",
       "    </tr>\n",
       "    <tr>\n",
       "      <th>1</th>\n",
       "      <td>Alaska</td>\n",
       "      <td>710231.0</td>\n",
       "      <td>369628.0</td>\n",
       "      <td>340603.0</td>\n",
       "      <td>02</td>\n",
       "    </tr>\n",
       "    <tr>\n",
       "      <th>2</th>\n",
       "      <td>Arizona</td>\n",
       "      <td>6392017.0</td>\n",
       "      <td>3175823.0</td>\n",
       "      <td>3216194.0</td>\n",
       "      <td>04</td>\n",
       "    </tr>\n",
       "    <tr>\n",
       "      <th>3</th>\n",
       "      <td>Arkansas</td>\n",
       "      <td>2915918.0</td>\n",
       "      <td>1431637.0</td>\n",
       "      <td>1484281.0</td>\n",
       "      <td>05</td>\n",
       "    </tr>\n",
       "    <tr>\n",
       "      <th>4</th>\n",
       "      <td>California</td>\n",
       "      <td>37253956.0</td>\n",
       "      <td>18517830.0</td>\n",
       "      <td>18736126.0</td>\n",
       "      <td>06</td>\n",
       "    </tr>\n",
       "  </tbody>\n",
       "</table>\n",
       "</div>"
      ],
      "text/plain": [
       "         NAME     P012001     P012002     P012026 state\n",
       "0     Alabama   4779736.0   2320188.0   2459548.0    01\n",
       "1      Alaska    710231.0    369628.0    340603.0    02\n",
       "2     Arizona   6392017.0   3175823.0   3216194.0    04\n",
       "3    Arkansas   2915918.0   1431637.0   1484281.0    05\n",
       "4  California  37253956.0  18517830.0  18736126.0    06"
      ]
     },
     "execution_count": 4,
     "metadata": {},
     "output_type": "execute_result"
    }
   ],
   "source": [
    "gender_pop = pd.DataFrame.from_records(\n",
    "    c.sf1.state(('NAME', 'P012001', 'P012002', 'P012026'), '*', year=2010)\n",
    ")\n",
    "gender_pop.head()"
   ]
  },
  {
   "cell_type": "code",
   "execution_count": 5,
   "metadata": {},
   "outputs": [
    {
     "name": "stdout",
     "output_type": "stream",
     "text": [
      "<class 'pandas.core.frame.DataFrame'>\n",
      "RangeIndex: 52 entries, 0 to 51\n",
      "Data columns (total 5 columns):\n",
      " #   Column   Non-Null Count  Dtype  \n",
      "---  ------   --------------  -----  \n",
      " 0   NAME     52 non-null     object \n",
      " 1   P012001  52 non-null     float64\n",
      " 2   P012002  52 non-null     float64\n",
      " 3   P012026  52 non-null     float64\n",
      " 4   state    52 non-null     object \n",
      "dtypes: float64(3), object(2)\n",
      "memory usage: 2.2+ KB\n"
     ]
    }
   ],
   "source": [
    "gender_pop.info()"
   ]
  },
  {
   "cell_type": "markdown",
   "metadata": {},
   "source": [
    "These variable names are not very meaningful. Let's rename them and compute a fraction of the population that is female:"
   ]
  },
  {
   "cell_type": "code",
   "execution_count": 6,
   "metadata": {},
   "outputs": [],
   "source": [
    "gender_pop = gender_pop.rename(columns={\n",
    "    'P012001': 'TotalPop',\n",
    "    'P012002': 'MalePop',\n",
    "    'P012026': 'FemalePop'\n",
    "})\n",
    "gender_pop['FemaleFrac'] = gender_pop['FemalePop'] / gender_pop['TotalPop']"
   ]
  },
  {
   "cell_type": "markdown",
   "metadata": {},
   "source": [
    "Let's look at the distribution of that over states:"
   ]
  },
  {
   "cell_type": "code",
   "execution_count": 7,
   "metadata": {},
   "outputs": [
    {
     "data": {
      "text/plain": [
       "<seaborn.axisgrid.FacetGrid at 0x7fb6be39f050>"
      ]
     },
     "execution_count": 7,
     "metadata": {},
     "output_type": "execute_result"
    },
    {
     "data": {
      "image/png": "[encoded data removed]",
      "text/plain": [
       "<Figure size 360x360 with 1 Axes>"
      ]
     },
     "metadata": {
      "needs_background": "light"
     },
     "output_type": "display_data"
    }
   ],
   "source": [
    "sns.displot(x=gender_pop['FemaleFrac'], kde=True)"
   ]
  },
  {
   "cell_type": "markdown",
   "metadata": {},
   "source": [
    "## County Level\n",
    "\n",
    "The `c.acs1.state_county` method fetches county-level data.  For example, to get all counties in Idaho:"
   ]
  },
  {
   "cell_type": "code",
   "execution_count": 8,
   "metadata": {},
   "outputs": [
    {
     "data": {
      "text/html": [
       "<div>\n",
       "<style scoped>\n",
       "    .dataframe tbody tr th:only-of-type {\n",
       "        vertical-align: middle;\n",
       "    }\n",
       "\n",
       "    .dataframe tbody tr th {\n",
       "        vertical-align: top;\n",
       "    }\n",
       "\n",
       "    .dataframe thead th {\n",
       "        text-align: right;\n",
       "    }\n",
       "</style>\n",
       "<table border=\"1\" class=\"dataframe\">\n",
       "  <thead>\n",
       "    <tr style=\"text-align: right;\">\n",
       "      <th></th>\n",
       "      <th>NAME</th>\n",
       "      <th>TotalPop</th>\n",
       "      <th>MalePop</th>\n",
       "      <th>FemalePop</th>\n",
       "      <th>state</th>\n",
       "      <th>county</th>\n",
       "    </tr>\n",
       "  </thead>\n",
       "  <tbody>\n",
       "    <tr>\n",
       "      <th>0</th>\n",
       "      <td>Bear Lake County, Idaho</td>\n",
       "      <td>5986.0</td>\n",
       "      <td>2972.0</td>\n",
       "      <td>3014.0</td>\n",
       "      <td>16</td>\n",
       "      <td>007</td>\n",
       "    </tr>\n",
       "    <tr>\n",
       "      <th>1</th>\n",
       "      <td>Benewah County, Idaho</td>\n",
       "      <td>9285.0</td>\n",
       "      <td>4732.0</td>\n",
       "      <td>4553.0</td>\n",
       "      <td>16</td>\n",
       "      <td>009</td>\n",
       "    </tr>\n",
       "    <tr>\n",
       "      <th>2</th>\n",
       "      <td>Ada County, Idaho</td>\n",
       "      <td>392365.0</td>\n",
       "      <td>196501.0</td>\n",
       "      <td>195864.0</td>\n",
       "      <td>16</td>\n",
       "      <td>001</td>\n",
       "    </tr>\n",
       "    <tr>\n",
       "      <th>3</th>\n",
       "      <td>Adams County, Idaho</td>\n",
       "      <td>3976.0</td>\n",
       "      <td>2041.0</td>\n",
       "      <td>1935.0</td>\n",
       "      <td>16</td>\n",
       "      <td>003</td>\n",
       "    </tr>\n",
       "    <tr>\n",
       "      <th>4</th>\n",
       "      <td>Bannock County, Idaho</td>\n",
       "      <td>82839.0</td>\n",
       "      <td>41298.0</td>\n",
       "      <td>41541.0</td>\n",
       "      <td>16</td>\n",
       "      <td>005</td>\n",
       "    </tr>\n",
       "  </tbody>\n",
       "</table>\n",
       "</div>"
      ],
      "text/plain": [
       "                      NAME  TotalPop   MalePop  FemalePop state county\n",
       "0  Bear Lake County, Idaho    5986.0    2972.0     3014.0    16    007\n",
       "1    Benewah County, Idaho    9285.0    4732.0     4553.0    16    009\n",
       "2        Ada County, Idaho  392365.0  196501.0   195864.0    16    001\n",
       "3      Adams County, Idaho    3976.0    2041.0     1935.0    16    003\n",
       "4    Bannock County, Idaho   82839.0   41298.0    41541.0    16    005"
      ]
     },
     "execution_count": 8,
     "metadata": {},
     "output_type": "execute_result"
    }
   ],
   "source": [
    "id_county_pop = pd.DataFrame.from_records(\n",
    "    c.sf1.state_county(('NAME', 'P012001', 'P012002', 'P012026'), states.ID.fips, '*', year=2010)\n",
    ").rename(columns={\n",
    "    'P012001': 'TotalPop',\n",
    "    'P012002': 'MalePop',\n",
    "    'P012026': 'FemalePop'\n",
    "})\n",
    "id_county_pop.head()"
   ]
  },
  {
   "cell_type": "markdown",
   "metadata": {},
   "source": [
    "What does the distribution of total population look like?"
   ]
  },
  {
   "cell_type": "code",
   "execution_count": 9,
   "metadata": {},
   "outputs": [
    {
     "data": {
      "text/plain": [
       "<seaborn.axisgrid.FacetGrid at 0x7fb6bd4237d0>"
      ]
     },
     "execution_count": 9,
     "metadata": {},
     "output_type": "execute_result"
    },
    {
     "data": {
      "image/png": "[encoded data removed]",
      "text/plain": [
       "<Figure size 360x360 with 1 Axes>"
      ]
     },
     "metadata": {
      "needs_background": "light"
     },
     "output_type": "display_data"
    }
   ],
   "source": [
    "sns.displot(x='TotalPop', data=id_county_pop, kde=True)"
   ]
  },
  {
   "cell_type": "markdown",
   "metadata": {},
   "source": [
    "You can provide `'*'` for both state and county, to get all counties in the US (for which data is available).\n",
    "\n",
    "Look at education and income at the county level!"
   ]
  },
  {
   "cell_type": "code",
   "execution_count": 10,
   "metadata": {},
   "outputs": [
    {
     "data": {
      "text/html": [
       "<div>\n",
       "<style scoped>\n",
       "    .dataframe tbody tr th:only-of-type {\n",
       "        vertical-align: middle;\n",
       "    }\n",
       "\n",
       "    .dataframe tbody tr th {\n",
       "        vertical-align: top;\n",
       "    }\n",
       "\n",
       "    .dataframe thead th {\n",
       "        text-align: right;\n",
       "    }\n",
       "</style>\n",
       "<table border=\"1\" class=\"dataframe\">\n",
       "  <thead>\n",
       "    <tr style=\"text-align: right;\">\n",
       "      <th></th>\n",
       "      <th>NAME</th>\n",
       "      <th>P012001</th>\n",
       "      <th>P012002</th>\n",
       "      <th>P012026</th>\n",
       "      <th>state</th>\n",
       "      <th>county</th>\n",
       "    </tr>\n",
       "  </thead>\n",
       "  <tbody>\n",
       "    <tr>\n",
       "      <th>0</th>\n",
       "      <td>Bear Lake County, Idaho</td>\n",
       "      <td>5986.0</td>\n",
       "      <td>2972.0</td>\n",
       "      <td>3014.0</td>\n",
       "      <td>16</td>\n",
       "      <td>007</td>\n",
       "    </tr>\n",
       "    <tr>\n",
       "      <th>1</th>\n",
       "      <td>Benewah County, Idaho</td>\n",
       "      <td>9285.0</td>\n",
       "      <td>4732.0</td>\n",
       "      <td>4553.0</td>\n",
       "      <td>16</td>\n",
       "      <td>009</td>\n",
       "    </tr>\n",
       "    <tr>\n",
       "      <th>2</th>\n",
       "      <td>Ada County, Idaho</td>\n",
       "      <td>392365.0</td>\n",
       "      <td>196501.0</td>\n",
       "      <td>195864.0</td>\n",
       "      <td>16</td>\n",
       "      <td>001</td>\n",
       "    </tr>\n",
       "    <tr>\n",
       "      <th>3</th>\n",
       "      <td>Adams County, Idaho</td>\n",
       "      <td>3976.0</td>\n",
       "      <td>2041.0</td>\n",
       "      <td>1935.0</td>\n",
       "      <td>16</td>\n",
       "      <td>003</td>\n",
       "    </tr>\n",
       "    <tr>\n",
       "      <th>4</th>\n",
       "      <td>Bannock County, Idaho</td>\n",
       "      <td>82839.0</td>\n",
       "      <td>41298.0</td>\n",
       "      <td>41541.0</td>\n",
       "      <td>16</td>\n",
       "      <td>005</td>\n",
       "    </tr>\n",
       "  </tbody>\n",
       "</table>\n",
       "</div>"
      ],
      "text/plain": [
       "                      NAME   P012001   P012002   P012026 state county\n",
       "0  Bear Lake County, Idaho    5986.0    2972.0    3014.0    16    007\n",
       "1    Benewah County, Idaho    9285.0    4732.0    4553.0    16    009\n",
       "2        Ada County, Idaho  392365.0  196501.0  195864.0    16    001\n",
       "3      Adams County, Idaho    3976.0    2041.0    1935.0    16    003\n",
       "4    Bannock County, Idaho   82839.0   41298.0   41541.0    16    005"
      ]
     },
     "execution_count": 10,
     "metadata": {},
     "output_type": "execute_result"
    }
   ],
   "source": [
    "county_pop = pd.DataFrame.from_records(\n",
    "    c.sf1.state_county(('NAME', 'P012001', 'P012002', 'P012026'), states.ID.fips, '*', year=2010)\n",
    ").rename(columns={\n",
    "    'B01001_001E': 'TotalPop',\n",
    "    'B01001_002E': 'MalePop',\n",
    "    'B01001_026E': 'FemalePop'\n",
    "})\n",
    "county_pop.head()"
   ]
  },
  {
   "cell_type": "markdown",
   "metadata": {},
   "source": [
    "## ACS1\n",
    "\n",
    "The ACS data works exactly the same, except it has a different set of variables available.  It also reports *estimates* instead of full counts: the ACS surveys a sample, and uses that to estimate population counts.  It is also missing data for a lot of counties, where there is not sufficient sample data to estimate population counts.\n",
    "\n",
    "The variables ending in `E` are estimates.  Additional variables can be used to access estimates of the precision of these estimates."
   ]
  },
  {
   "cell_type": "markdown",
   "metadata": {},
   "source": [
    "## Conclusion\n",
    "\n",
    "There are a lot of things you can do with census data.  For further reading, see:\n",
    "\n",
    "- [The ACS1 2014 variable list](https://api.census.gov/data/2014/acs/acs5/variables.html)\n",
    "- [The SF1 2010 variable list](https://api.census.gov/data/2010/dec/sf1/variables.html)\n",
    "- The [Social Explorer](https://www.socialexplorer.com/data/ACS2014_5yr/metadata/), a nicer interface for browsing census data.\n",
    "\n",
    ":::{tip}\n",
    "The Social Explorer has a very good [database of census fields](https://www.socialexplorer.com/data/ACS2014_5yr/metadata/?ds=ACS14_5yr).\n",
    "This database describes all the census sub-tables, and lets you browse them by group (e.g. B05010).\n",
    "\n",
    "Within the page for a group, such as [B05010](https://www.socialexplorer.com/data/ACS2014_5yr/metadata/?ds=ACS14_5yr&table=B05010), there\n",
    "is a list of all the sub-variables, organized hierarchically so you can see how they relate to each other.\n",
    "The variable names do need a bit of modification; when Social Explorer says `B05010001`, you need to request that from the census as `B05010_001E` (the Estimated value).\n",
    "The census API puts an underscore (`_`) between th evariable group code (`B05010`) and the specific sub-variable identifier (`001E`); Social Explorer does not include the underscore.\n",
    "\n",
    "The explorer also includes excerpts from the full census technical documentation providing more detail about the different variables and their codings.\n",
    ":::"
   ]
  },
  {
   "cell_type": "code",
   "execution_count": null,
   "metadata": {},
   "outputs": [],
   "source": []
  }
 ],
 "metadata": {
  "kernelspec": {
   "display_name": "Python 3",
   "language": "python",
   "name": "python3"
  },
  "language_info": {
   "codemirror_mode": {
    "name": "ipython",
    "version": 3
   },
   "file_extension": ".py",
   "mimetype": "text/x-python",
   "name": "python",
   "nbconvert_exporter": "python",
   "pygments_lexer": "ipython3",
   "version": "3.7.6"
  }
 },
 "nbformat": 4,
 "nbformat_minor": 4
}

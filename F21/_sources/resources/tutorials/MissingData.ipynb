{
 "cells": [
  {
   "cell_type": "markdown",
   "metadata": {},
   "source": [
    "# Missing Data\n",
    "\n",
    "This notebook discusses various approaches for dealing with missing data, and technical implementations for them.\n",
    "\n",
    "For more details on Pandas' storage and routines for missing data, see “[Working with missing data](https://pandas.pydata.org/pandas-docs/stable/user_guide/missing_data.html)” in the Pandas user guide.\n",
    "\n",
    "What we do with missing data depends on two things:\n",
    "\n",
    "- The meaning and source of the missingness\n",
    "- The purpose of the analysis\n",
    "\n",
    "Remember that our goal in this class is to use data to provide insight into questions.  Therefore, the guiding consideration for how to deal with missing data must be: what approach yields the most robust insight into my question in this context?\n",
    "\n",
    "There are two broad approaches we can take to missing data:\n",
    "\n",
    "1. Exclude it\n",
    "2. Fill it in with a value\n",
    "\n",
    "Both have their downsides, and there are many options within each.  There is not a one-size-fits-all rule, except that blanket whole-data-source approaches that don't flow from an understanding of the data and the questions are almost certainly wrong.\n",
    "\n",
    "**Do not** just call {py:meth}`~pandas.DataFrame.dropna` or {py:meth}`~pandas.DataFrame.fillna` or run scikit-learn's {py:class}`~sklearn.impute.SimpleImputer` on your whole data frame to make the missing values go away, particularly without understanding the data distribution and its relationship to your analysis goals.\n",
    "\n",
    "**Always** look at your data and think about it.\n",
    "\n",
    "This notebook demonstrates two things:\n",
    "\n",
    "* Looking at the data to understand missingness, and *removing* values that are actually missing\n",
    "* Dealing with missing data in a variety of situations\n",
    "\n",
    "**Rule:** for the purposes of dealing with missing data, cleanliness or completeness is usually *not* a property of the data *itself*.  It is better to think from our question, and how we want to handle missing data *for that question*.  The answer may not be the same for all questions in an analysis!"
   ]
  },
  {
   "cell_type": "markdown",
   "metadata": {},
   "source": [
    "## About Missing Data\n",
    "\n",
    "Many data sources do not have complete data — some observations are missing values for one or more variables.  Data can be missing for a variety of reasons:\n",
    "\n",
    "- The instance does not have the property being measured\n",
    "- The property wasn't measurable\n",
    "- There was a measurement failure (e.g. a temperature sensor failed)\n",
    "- The data has been lost or corrupted during transmission\n",
    "\n",
    "Dealing with missing data is often considered part of data cleaning, that we'll talk more about in a later week, but some of it we need to be able to do quickly.  Further, I argue in this notebook that that really isn't the best way to think of it, but rather it is a part of our *analysis*: how does the analysis handle missing data?\n",
    "\n",
    "But first, we need to talk about how it's stored and represented.\n",
    "\n",
    "### Representing Missing Data\n",
    "\n",
    "There are a variety of ways to represent missing data in an input file.  The {py:func}`pandas.read_csv` function automatically detects missing data in CSV (and TSV) files in a variety of representations, including:\n",
    "\n",
    "- Empty field\n",
    "- NA\n",
    "- NaN\n",
    "- NULL\n",
    "\n",
    "When we read the HETREC data in the other notebooks, we specifically specify the `na_values=[\"\\\\N\"]` option because HETREC represents missing data with the string `\\N` (we need the second backslash to escape it).  This is the notation PostgreSQL's `COPY` command uses in its default format when emitting `NULL` values from the database.\n",
    "\n",
    "Some data sources also record missing data with a numeric value, in which case Pandas will *not* think it is missing.  Sometimes this is 0; sometimes it is a value with a much larger magnitude that expected actual values, such as 99 or -99999.  When *storing* data, I strongly recommend storing it as missing instead of an out-of-range numeric value, for two reasons: so the data actually looks like it is missing when it is loaded, and to eliminate risk of the missing-value sentinel accidentally being a legitimate value.  Storing missing data as 0 is particularly problematic, because 0 may well be a legitimate value, or close to a legitimate value.\n",
    "\n",
    "Once the data is loaded into Pandas, missing data is represented in two primary ways:\n",
    "\n",
    "- In `object` fields, it is `None`\n",
    "- In `float64` (and `float32` fields), the IEEE floating point value 'Not a Number' (NaN)\n",
    "\n",
    "Integer-based types *cannot* represent missing data. This is one reason why an integer column may be read as a float — Pandas finds missing values and needs to store them, so its default is to load as a float.  This is usually fine, as a 64-bit floating-point number can accurately represent any integer up to $2^{53} - 1$.  There is an `Int64` type (distinct from `int64`) that stores integers with an additional mask that indicates if the value is present or not, if you truly need 64-bit integers with missing data.\n",
    "\n",
    "One other quick note: `NaN` is *weird*.  Any operation performed on it returns `NaN` (`NaN * 5` is `NaN`).  But also, it is not equal to anything, *including itself* (`NaN == NaN` is `False`).  In order to test for missingness, you need to use the Pandas `.isnull` method (checks for NaN or whatever value is used for 'missing' for the data in question), or the `np.isnan` function from NumPy (which checks numeric arrays for `NaN`).\n",
    "\n",
    "### The Meaning of Missing Data\n",
    "\n",
    "Conceptually, when a value is missing, there are two *different* possibilities for the meaning of this missingness:\n",
    "\n",
    "- We know that there is no value\n",
    "- We do not know the value, including possibly whether there is a value\n",
    "\n",
    "Consider the variable “wheel size” for a vehicle.  The wheel size might be missing for a couple of reasons:\n",
    "\n",
    "- We don't have a measurement of the wheel size for a particular car. It has a wheel size — cars have wheels — but we don't know what this particular car's wheel size is.\n",
    "- Our vehicle table includes some observations of hovercraft, which have no wheels and therefore have no wheel size.\n",
    "\n",
    "Sometimes, we may encode these differently — e.g. unknown vs. not applicable — or we may have two columns:\n",
    "\n",
    "- *wheel size*\n",
    "- *vehicle type*, *has_wheels*, or *wheel_count*, from which we can infer whether or not wheel size is a meaningful variable for that vehicle\n",
    "\n",
    "Note that if we have a *wheel_count*, it too may be missing, in which case we don't have quite enough info to interpret a missing wheel size.\n",
    "\n",
    "When it comes to the actual code of dealing with missing data, there isn't a difference between these meanings of missingness, but it may make a difference when deciding which approach to take."
   ]
  },
  {
   "cell_type": "markdown",
   "metadata": {},
   "source": [
    "## Libraries and Data\n",
    "\n",
    "So we can actually show code, let's import our Python libraries and some data.  I'll use the HETREC data set again that we've been using in the other notebooks."
   ]
  },
  {
   "cell_type": "code",
   "execution_count": 1,
   "metadata": {},
   "outputs": [],
   "source": [
    "import pandas as pd\n",
    "import numpy as np\n",
    "import matplotlib.pyplot as plt\n",
    "import seaborn as sns"
   ]
  },
  {
   "cell_type": "code",
   "execution_count": 2,
   "metadata": {},
   "outputs": [
    {
     "data": {
      "text/html": [
       "<div>\n",
       "<style scoped>\n",
       "    .dataframe tbody tr th:only-of-type {\n",
       "        vertical-align: middle;\n",
       "    }\n",
       "\n",
       "    .dataframe tbody tr th {\n",
       "        vertical-align: top;\n",
       "    }\n",
       "\n",
       "    .dataframe thead th {\n",
       "        text-align: right;\n",
       "    }\n",
       "</style>\n",
       "<table border=\"1\" class=\"dataframe\">\n",
       "  <thead>\n",
       "    <tr style=\"text-align: right;\">\n",
       "      <th></th>\n",
       "      <th>title</th>\n",
       "      <th>imdbID</th>\n",
       "      <th>spanishTitle</th>\n",
       "      <th>imdbPictureURL</th>\n",
       "      <th>year</th>\n",
       "      <th>rtID</th>\n",
       "      <th>rtAllCriticsRating</th>\n",
       "      <th>rtAllCriticsNumReviews</th>\n",
       "      <th>rtAllCriticsNumFresh</th>\n",
       "      <th>rtAllCriticsNumRotten</th>\n",
       "      <th>rtAllCriticsScore</th>\n",
       "      <th>rtTopCriticsRating</th>\n",
       "      <th>rtTopCriticsNumReviews</th>\n",
       "      <th>rtTopCriticsNumFresh</th>\n",
       "      <th>rtTopCriticsNumRotten</th>\n",
       "      <th>rtTopCriticsScore</th>\n",
       "      <th>rtAudienceRating</th>\n",
       "      <th>rtAudienceNumRatings</th>\n",
       "      <th>rtAudienceScore</th>\n",
       "      <th>rtPictureURL</th>\n",
       "    </tr>\n",
       "    <tr>\n",
       "      <th>id</th>\n",
       "      <th></th>\n",
       "      <th></th>\n",
       "      <th></th>\n",
       "      <th></th>\n",
       "      <th></th>\n",
       "      <th></th>\n",
       "      <th></th>\n",
       "      <th></th>\n",
       "      <th></th>\n",
       "      <th></th>\n",
       "      <th></th>\n",
       "      <th></th>\n",
       "      <th></th>\n",
       "      <th></th>\n",
       "      <th></th>\n",
       "      <th></th>\n",
       "      <th></th>\n",
       "      <th></th>\n",
       "      <th></th>\n",
       "      <th></th>\n",
       "    </tr>\n",
       "  </thead>\n",
       "  <tbody>\n",
       "    <tr>\n",
       "      <th>1</th>\n",
       "      <td>Toy story</td>\n",
       "      <td>114709</td>\n",
       "      <td>Toy story (juguetes)</td>\n",
       "      <td>http://ia.media-imdb.com/images/M/MV5BMTMwNDU0...</td>\n",
       "      <td>1995</td>\n",
       "      <td>toy_story</td>\n",
       "      <td>9.0</td>\n",
       "      <td>73.0</td>\n",
       "      <td>73.0</td>\n",
       "      <td>0.0</td>\n",
       "      <td>100.0</td>\n",
       "      <td>8.5</td>\n",
       "      <td>17.0</td>\n",
       "      <td>17.0</td>\n",
       "      <td>0.0</td>\n",
       "      <td>100.0</td>\n",
       "      <td>3.7</td>\n",
       "      <td>102338.0</td>\n",
       "      <td>81.0</td>\n",
       "      <td>http://content7.flixster.com/movie/10/93/63/10...</td>\n",
       "    </tr>\n",
       "    <tr>\n",
       "      <th>2</th>\n",
       "      <td>Jumanji</td>\n",
       "      <td>113497</td>\n",
       "      <td>Jumanji</td>\n",
       "      <td>http://ia.media-imdb.com/images/M/MV5BMzM5NjE1...</td>\n",
       "      <td>1995</td>\n",
       "      <td>1068044-jumanji</td>\n",
       "      <td>5.6</td>\n",
       "      <td>28.0</td>\n",
       "      <td>13.0</td>\n",
       "      <td>15.0</td>\n",
       "      <td>46.0</td>\n",
       "      <td>5.8</td>\n",
       "      <td>5.0</td>\n",
       "      <td>2.0</td>\n",
       "      <td>3.0</td>\n",
       "      <td>40.0</td>\n",
       "      <td>3.2</td>\n",
       "      <td>44587.0</td>\n",
       "      <td>61.0</td>\n",
       "      <td>http://content8.flixster.com/movie/56/79/73/56...</td>\n",
       "    </tr>\n",
       "    <tr>\n",
       "      <th>3</th>\n",
       "      <td>Grumpy Old Men</td>\n",
       "      <td>107050</td>\n",
       "      <td>Dos viejos gruñones</td>\n",
       "      <td>http://ia.media-imdb.com/images/M/MV5BMTI5MTgy...</td>\n",
       "      <td>1993</td>\n",
       "      <td>grumpy_old_men</td>\n",
       "      <td>5.9</td>\n",
       "      <td>36.0</td>\n",
       "      <td>24.0</td>\n",
       "      <td>12.0</td>\n",
       "      <td>66.0</td>\n",
       "      <td>7.0</td>\n",
       "      <td>6.0</td>\n",
       "      <td>5.0</td>\n",
       "      <td>1.0</td>\n",
       "      <td>83.0</td>\n",
       "      <td>3.2</td>\n",
       "      <td>10489.0</td>\n",
       "      <td>66.0</td>\n",
       "      <td>http://content6.flixster.com/movie/25/60/25602...</td>\n",
       "    </tr>\n",
       "    <tr>\n",
       "      <th>4</th>\n",
       "      <td>Waiting to Exhale</td>\n",
       "      <td>114885</td>\n",
       "      <td>Esperando un respiro</td>\n",
       "      <td>http://ia.media-imdb.com/images/M/MV5BMTczMTMy...</td>\n",
       "      <td>1995</td>\n",
       "      <td>waiting_to_exhale</td>\n",
       "      <td>5.6</td>\n",
       "      <td>25.0</td>\n",
       "      <td>14.0</td>\n",
       "      <td>11.0</td>\n",
       "      <td>56.0</td>\n",
       "      <td>5.5</td>\n",
       "      <td>11.0</td>\n",
       "      <td>5.0</td>\n",
       "      <td>6.0</td>\n",
       "      <td>45.0</td>\n",
       "      <td>3.3</td>\n",
       "      <td>5666.0</td>\n",
       "      <td>79.0</td>\n",
       "      <td>http://content9.flixster.com/movie/10/94/17/10...</td>\n",
       "    </tr>\n",
       "    <tr>\n",
       "      <th>5</th>\n",
       "      <td>Father of the Bride Part II</td>\n",
       "      <td>113041</td>\n",
       "      <td>Vuelve el padre de la novia (Ahora también abu...</td>\n",
       "      <td>http://ia.media-imdb.com/images/M/MV5BMTg1NDc2...</td>\n",
       "      <td>1995</td>\n",
       "      <td>father_of_the_bride_part_ii</td>\n",
       "      <td>5.3</td>\n",
       "      <td>19.0</td>\n",
       "      <td>9.0</td>\n",
       "      <td>10.0</td>\n",
       "      <td>47.0</td>\n",
       "      <td>5.4</td>\n",
       "      <td>5.0</td>\n",
       "      <td>1.0</td>\n",
       "      <td>4.0</td>\n",
       "      <td>20.0</td>\n",
       "      <td>3.0</td>\n",
       "      <td>13761.0</td>\n",
       "      <td>64.0</td>\n",
       "      <td>http://content8.flixster.com/movie/25/54/25542...</td>\n",
       "    </tr>\n",
       "  </tbody>\n",
       "</table>\n",
       "</div>"
      ],
      "text/plain": [
       "                          title  imdbID  \\\n",
       "id                                        \n",
       "1                     Toy story  114709   \n",
       "2                       Jumanji  113497   \n",
       "3                Grumpy Old Men  107050   \n",
       "4             Waiting to Exhale  114885   \n",
       "5   Father of the Bride Part II  113041   \n",
       "\n",
       "                                         spanishTitle  \\\n",
       "id                                                      \n",
       "1                                Toy story (juguetes)   \n",
       "2                                             Jumanji   \n",
       "3                                 Dos viejos gruñones   \n",
       "4                                Esperando un respiro   \n",
       "5   Vuelve el padre de la novia (Ahora también abu...   \n",
       "\n",
       "                                       imdbPictureURL  year  \\\n",
       "id                                                            \n",
       "1   http://ia.media-imdb.com/images/M/MV5BMTMwNDU0...  1995   \n",
       "2   http://ia.media-imdb.com/images/M/MV5BMzM5NjE1...  1995   \n",
       "3   http://ia.media-imdb.com/images/M/MV5BMTI5MTgy...  1993   \n",
       "4   http://ia.media-imdb.com/images/M/MV5BMTczMTMy...  1995   \n",
       "5   http://ia.media-imdb.com/images/M/MV5BMTg1NDc2...  1995   \n",
       "\n",
       "                           rtID  rtAllCriticsRating  rtAllCriticsNumReviews  \\\n",
       "id                                                                            \n",
       "1                     toy_story                 9.0                    73.0   \n",
       "2               1068044-jumanji                 5.6                    28.0   \n",
       "3                grumpy_old_men                 5.9                    36.0   \n",
       "4             waiting_to_exhale                 5.6                    25.0   \n",
       "5   father_of_the_bride_part_ii                 5.3                    19.0   \n",
       "\n",
       "    rtAllCriticsNumFresh  rtAllCriticsNumRotten  rtAllCriticsScore  \\\n",
       "id                                                                   \n",
       "1                   73.0                    0.0              100.0   \n",
       "2                   13.0                   15.0               46.0   \n",
       "3                   24.0                   12.0               66.0   \n",
       "4                   14.0                   11.0               56.0   \n",
       "5                    9.0                   10.0               47.0   \n",
       "\n",
       "    rtTopCriticsRating  rtTopCriticsNumReviews  rtTopCriticsNumFresh  \\\n",
       "id                                                                     \n",
       "1                  8.5                    17.0                  17.0   \n",
       "2                  5.8                     5.0                   2.0   \n",
       "3                  7.0                     6.0                   5.0   \n",
       "4                  5.5                    11.0                   5.0   \n",
       "5                  5.4                     5.0                   1.0   \n",
       "\n",
       "    rtTopCriticsNumRotten  rtTopCriticsScore  rtAudienceRating  \\\n",
       "id                                                               \n",
       "1                     0.0              100.0               3.7   \n",
       "2                     3.0               40.0               3.2   \n",
       "3                     1.0               83.0               3.2   \n",
       "4                     6.0               45.0               3.3   \n",
       "5                     4.0               20.0               3.0   \n",
       "\n",
       "    rtAudienceNumRatings  rtAudienceScore  \\\n",
       "id                                          \n",
       "1               102338.0             81.0   \n",
       "2                44587.0             61.0   \n",
       "3                10489.0             66.0   \n",
       "4                 5666.0             79.0   \n",
       "5                13761.0             64.0   \n",
       "\n",
       "                                         rtPictureURL  \n",
       "id                                                     \n",
       "1   http://content7.flixster.com/movie/10/93/63/10...  \n",
       "2   http://content8.flixster.com/movie/56/79/73/56...  \n",
       "3   http://content6.flixster.com/movie/25/60/25602...  \n",
       "4   http://content9.flixster.com/movie/10/94/17/10...  \n",
       "5   http://content8.flixster.com/movie/25/54/25542...  "
      ]
     },
     "execution_count": 2,
     "metadata": {},
     "output_type": "execute_result"
    }
   ],
   "source": [
    "movies = pd.read_table('../data/hetrec2011-ml/movies.dat', sep='\\t', na_values=['\\\\N'], encoding='latin1')\n",
    "movies = movies.set_index('id')\n",
    "movies.head()"
   ]
  },
  {
   "cell_type": "code",
   "execution_count": 3,
   "metadata": {},
   "outputs": [
    {
     "data": {
      "text/html": [
       "<div>\n",
       "<style scoped>\n",
       "    .dataframe tbody tr th:only-of-type {\n",
       "        vertical-align: middle;\n",
       "    }\n",
       "\n",
       "    .dataframe tbody tr th {\n",
       "        vertical-align: top;\n",
       "    }\n",
       "\n",
       "    .dataframe thead th {\n",
       "        text-align: right;\n",
       "    }\n",
       "</style>\n",
       "<table border=\"1\" class=\"dataframe\">\n",
       "  <thead>\n",
       "    <tr style=\"text-align: right;\">\n",
       "      <th></th>\n",
       "      <th>userID</th>\n",
       "      <th>movieID</th>\n",
       "      <th>rating</th>\n",
       "      <th>timestamp</th>\n",
       "    </tr>\n",
       "  </thead>\n",
       "  <tbody>\n",
       "    <tr>\n",
       "      <th>0</th>\n",
       "      <td>75</td>\n",
       "      <td>3</td>\n",
       "      <td>1.0</td>\n",
       "      <td>1162160236000</td>\n",
       "    </tr>\n",
       "    <tr>\n",
       "      <th>1</th>\n",
       "      <td>75</td>\n",
       "      <td>32</td>\n",
       "      <td>4.5</td>\n",
       "      <td>1162160624000</td>\n",
       "    </tr>\n",
       "    <tr>\n",
       "      <th>2</th>\n",
       "      <td>75</td>\n",
       "      <td>110</td>\n",
       "      <td>4.0</td>\n",
       "      <td>1162161008000</td>\n",
       "    </tr>\n",
       "    <tr>\n",
       "      <th>3</th>\n",
       "      <td>75</td>\n",
       "      <td>160</td>\n",
       "      <td>2.0</td>\n",
       "      <td>1162160212000</td>\n",
       "    </tr>\n",
       "    <tr>\n",
       "      <th>4</th>\n",
       "      <td>75</td>\n",
       "      <td>163</td>\n",
       "      <td>4.0</td>\n",
       "      <td>1162160970000</td>\n",
       "    </tr>\n",
       "  </tbody>\n",
       "</table>\n",
       "</div>"
      ],
      "text/plain": [
       "   userID  movieID  rating      timestamp\n",
       "0      75        3     1.0  1162160236000\n",
       "1      75       32     4.5  1162160624000\n",
       "2      75      110     4.0  1162161008000\n",
       "3      75      160     2.0  1162160212000\n",
       "4      75      163     4.0  1162160970000"
      ]
     },
     "execution_count": 3,
     "metadata": {},
     "output_type": "execute_result"
    }
   ],
   "source": [
    "ratings = pd.read_table('../data/hetrec2011-ml/user_ratedmovies-timestamps.dat', sep='\\t')\n",
    "ratings.head()"
   ]
  },
  {
   "cell_type": "markdown",
   "metadata": {},
   "source": [
    "## Understanding Missing Data\n",
    "\n",
    "One of the key things to know for dealing with missing data is to find out how much is actually missing.  The `count()` method does this:"
   ]
  },
  {
   "cell_type": "code",
   "execution_count": 4,
   "metadata": {},
   "outputs": [
    {
     "data": {
      "text/plain": [
       "title                     10197\n",
       "imdbID                    10197\n",
       "spanishTitle              10197\n",
       "imdbPictureURL            10016\n",
       "year                      10197\n",
       "rtID                       9886\n",
       "rtAllCriticsRating         9967\n",
       "rtAllCriticsNumReviews     9967\n",
       "rtAllCriticsNumFresh       9967\n",
       "rtAllCriticsNumRotten      9967\n",
       "rtAllCriticsScore          9967\n",
       "rtTopCriticsRating         9967\n",
       "rtTopCriticsNumReviews     9967\n",
       "rtTopCriticsNumFresh       9967\n",
       "rtTopCriticsNumRotten      9967\n",
       "rtTopCriticsScore          9967\n",
       "rtAudienceRating           9967\n",
       "rtAudienceNumRatings       9967\n",
       "rtAudienceScore            9967\n",
       "rtPictureURL               9967\n",
       "dtype: int64"
      ]
     },
     "execution_count": 4,
     "metadata": {},
     "output_type": "execute_result"
    }
   ],
   "source": [
    "movies.count()"
   ]
  },
  {
   "cell_type": "markdown",
   "metadata": {},
   "source": [
    "Data in the real world is *messy*.  Why are there movies that don't have a RottenTomatoes ID, but do have values for the other RT fields?  But we're going to set that aside for a moment and look at another issue in the data."
   ]
  },
  {
   "cell_type": "markdown",
   "metadata": {},
   "source": [
    "### Dropping Invalid Values\n",
    "\n",
    "In this data source, we actually don't have *enough* missing data.\n",
    "\n",
    "How are all-critics ratings distribtued? Let's start at looking at the numeric statistics (after pulling out into a variable for convenience):"
   ]
  },
  {
   "cell_type": "code",
   "execution_count": 5,
   "metadata": {},
   "outputs": [
    {
     "data": {
      "text/plain": [
       "count    9967.000000\n",
       "mean        5.139300\n",
       "std         2.598048\n",
       "min         0.000000\n",
       "25%         4.000000\n",
       "50%         5.800000\n",
       "75%         7.000000\n",
       "max         9.600000\n",
       "Name: rtAllCriticsRating, dtype: float64"
      ]
     },
     "execution_count": 5,
     "metadata": {},
     "output_type": "execute_result"
    }
   ],
   "source": [
    "ac_rates = movies['rtAllCriticsRating']\n",
    "ac_rates.describe()"
   ]
  },
  {
   "cell_type": "markdown",
   "metadata": {},
   "source": [
    "And the histogram, to see the distribution visually:"
   ]
  },
  {
   "cell_type": "code",
   "execution_count": 6,
   "metadata": {},
   "outputs": [
    {
     "data": {
      "text/plain": [
       "<matplotlib.axes._subplots.AxesSubplot at 0x1a73c975490>"
      ]
     },
     "execution_count": 6,
     "metadata": {},
     "output_type": "execute_result"
    },
    {
     "data": {
      "image/png": "[encoded data removed]",
      "text/plain": [
       "<Figure size 432x288 with 1 Axes>"
      ]
     },
     "metadata": {
      "needs_background": "light"
     },
     "output_type": "display_data"
    }
   ],
   "source": [
    "ac_rates.hist(bins=50)"
   ]
  },
  {
   "cell_type": "markdown",
   "metadata": {},
   "source": [
    "We have minimum value of 0, but more interestingly, we have a *gap* between the 0s and the rest of the values. Starting at about 2, the values follow a relatively normal-looking distribution like we might expect for distributions of quality assessments, and 0 is a distinct bar.  That suggests that 0 is perhaps *qualitatively* different from the other values — perhaps when the data was collected, 0 was used when the critic rating score wasn't available?\n",
    "\n",
    "Further, though, according to the [Rotten Tomatoes FAQ](https://www.rottentomatoes.com/faq), average ratings are based on taking the average of critic ratings, after mapping them to a 1–10 scale.  We don't have access to the FAQ as of when the HETREC data was crawled, but 1–10 is a common rating value.\n",
    "\n",
    "If the average rating is the average of individual rating values in the range 1–10, is it possible for an actual average rating to have a value of 0?\n",
    "\n",
    "Another thing we can do to illuminate this interpretation is to look at the distribution of ratings greater than 0:"
   ]
  },
  {
   "cell_type": "code",
   "execution_count": 7,
   "metadata": {},
   "outputs": [
    {
     "data": {
      "text/plain": [
       "count    8441.000000\n",
       "mean        6.068404\n",
       "std         1.526898\n",
       "min         1.200000\n",
       "25%         5.000000\n",
       "50%         6.200000\n",
       "75%         7.200000\n",
       "max         9.600000\n",
       "Name: rtAllCriticsRating, dtype: float64"
      ]
     },
     "execution_count": 7,
     "metadata": {},
     "output_type": "execute_result"
    }
   ],
   "source": [
    "ac_rates[ac_rates > 0].describe()"
   ]
  },
  {
   "cell_type": "code",
   "execution_count": 8,
   "metadata": {},
   "outputs": [
    {
     "data": {
      "text/plain": [
       "<matplotlib.axes._subplots.AxesSubplot at 0x1a73d26bc70>"
      ]
     },
     "execution_count": 8,
     "metadata": {},
     "output_type": "execute_result"
    },
    {
     "data": {
      "image/png": "[encoded data removed]",
      "text/plain": [
       "<Figure size 432x288 with 1 Axes>"
      ]
     },
     "metadata": {
      "needs_background": "light"
     },
     "output_type": "display_data"
    }
   ],
   "source": [
    "ac_rates[ac_rates > 0].hist(bins=50)"
   ]
  },
  {
   "cell_type": "markdown",
   "metadata": {},
   "source": [
    "We have a large number of 0 values, and then the variable *jumps to 1.2*, and is relatively continuous above that.  This strong discontinuity is evidence of a qualitative difference - if it were an actual observed value of 0, we would expect quite a few 0.1, 0.2, etc., up to 1.2; actual observations are seldom that clustered on a single precise value, *particularly when the other observations are not*.\n",
    "\n",
    "The documentation is the much more definitive source, but the distribution gives us insight that there is something distinctly, qualitatively different about 0, that suggests we should go looking in the docs. (Which we should do anyway.)\n",
    "\n",
    "So let's consider average ratings of 0 to be missing, and do this for all the rating columns.  Pandas lets us bulk-set data (trick here: `.loc` can take a mask as the row argument, instead of an index key or list of index keys; this joint-accessor means 'the ratings column, at every row where the mask is `False`'; the mask is 'ratings column is 0'):"
   ]
  },
  {
   "cell_type": "code",
   "execution_count": 9,
   "metadata": {},
   "outputs": [
    {
     "data": {
      "text/plain": [
       "count    8441.000000\n",
       "mean        6.068404\n",
       "std         1.526898\n",
       "min         1.200000\n",
       "25%         5.000000\n",
       "50%         6.200000\n",
       "75%         7.200000\n",
       "max         9.600000\n",
       "Name: rtAllCriticsRating, dtype: float64"
      ]
     },
     "execution_count": 9,
     "metadata": {},
     "output_type": "execute_result"
    }
   ],
   "source": [
    "movies.loc[movies['rtAllCriticsRating'] == 0, 'rtAllCriticsRating'] = np.nan\n",
    "movies['rtAllCriticsRating'].describe()"
   ]
  },
  {
   "cell_type": "markdown",
   "metadata": {},
   "source": [
    "Now we have 8441 non-missing values, instead of the old 9.9K.  Let's do this for the other rating columns too:"
   ]
  },
  {
   "cell_type": "code",
   "execution_count": 10,
   "metadata": {},
   "outputs": [
    {
     "data": {
      "text/plain": [
       "count    4662.000000\n",
       "mean        5.930330\n",
       "std         1.534093\n",
       "min         1.600000\n",
       "25%         4.800000\n",
       "50%         6.100000\n",
       "75%         7.100000\n",
       "max        10.000000\n",
       "Name: rtTopCriticsRating, dtype: float64"
      ]
     },
     "execution_count": 10,
     "metadata": {},
     "output_type": "execute_result"
    }
   ],
   "source": [
    "movies.loc[movies['rtTopCriticsRating'] == 0, 'rtTopCriticsRating'] = np.nan\n",
    "movies['rtTopCriticsRating'].describe()"
   ]
  },
  {
   "cell_type": "code",
   "execution_count": 11,
   "metadata": {},
   "outputs": [
    {
     "data": {
      "text/plain": [
       "count    7345.000000\n",
       "mean        3.389258\n",
       "std         0.454034\n",
       "min         1.500000\n",
       "25%         3.100000\n",
       "50%         3.400000\n",
       "75%         3.700000\n",
       "max         5.000000\n",
       "Name: rtAudienceRating, dtype: float64"
      ]
     },
     "execution_count": 11,
     "metadata": {},
     "output_type": "execute_result"
    }
   ],
   "source": [
    "movies.loc[movies['rtAudienceRating'] == 0, 'rtAudienceRating'] = np.nan\n",
    "movies['rtAudienceRating'].describe()"
   ]
  },
  {
   "cell_type": "markdown",
   "metadata": {},
   "source": [
    "It would be good to also try to understand missingness in the scores (% Fresh); the number of critics is going to be useful there, because if a movie has no critics, it can't have a score!  There it's harder though, because 0% Fresh is an actual, achievable score, and if a movie has only 1 critic, then it will either be 0% or 100% fresh depending on that critic's score!  So it's harder to figure out where the data we have should actually be missing.\n",
    "\n",
    "That also isn't a problem we have to solve for our educational purposes of understanding what to do once we have missing data, so let's move forward."
   ]
  },
  {
   "cell_type": "markdown",
   "metadata": {},
   "source": [
    "### Actually Describing the Data\n",
    "\n",
    "Now that we have made our rating values missing when they need to be, let's see how many we have.\n",
    "\n",
    "The `describe` method, applied to a *data frame*, creates a data frame with the description statistics.  Let's do this:"
   ]
  },
  {
   "cell_type": "code",
   "execution_count": 12,
   "metadata": {},
   "outputs": [
    {
     "data": {
      "text/html": [
       "<div>\n",
       "<style scoped>\n",
       "    .dataframe tbody tr th:only-of-type {\n",
       "        vertical-align: middle;\n",
       "    }\n",
       "\n",
       "    .dataframe tbody tr th {\n",
       "        vertical-align: top;\n",
       "    }\n",
       "\n",
       "    .dataframe thead th {\n",
       "        text-align: right;\n",
       "    }\n",
       "</style>\n",
       "<table border=\"1\" class=\"dataframe\">\n",
       "  <thead>\n",
       "    <tr style=\"text-align: right;\">\n",
       "      <th></th>\n",
       "      <th>rtAllCriticsRating</th>\n",
       "      <th>rtTopCriticsRating</th>\n",
       "      <th>rtAudienceRating</th>\n",
       "    </tr>\n",
       "  </thead>\n",
       "  <tbody>\n",
       "    <tr>\n",
       "      <th>count</th>\n",
       "      <td>8441.000000</td>\n",
       "      <td>4662.000000</td>\n",
       "      <td>7345.000000</td>\n",
       "    </tr>\n",
       "    <tr>\n",
       "      <th>mean</th>\n",
       "      <td>6.068404</td>\n",
       "      <td>5.930330</td>\n",
       "      <td>3.389258</td>\n",
       "    </tr>\n",
       "    <tr>\n",
       "      <th>std</th>\n",
       "      <td>1.526898</td>\n",
       "      <td>1.534093</td>\n",
       "      <td>0.454034</td>\n",
       "    </tr>\n",
       "    <tr>\n",
       "      <th>min</th>\n",
       "      <td>1.200000</td>\n",
       "      <td>1.600000</td>\n",
       "      <td>1.500000</td>\n",
       "    </tr>\n",
       "    <tr>\n",
       "      <th>25%</th>\n",
       "      <td>5.000000</td>\n",
       "      <td>4.800000</td>\n",
       "      <td>3.100000</td>\n",
       "    </tr>\n",
       "    <tr>\n",
       "      <th>50%</th>\n",
       "      <td>6.200000</td>\n",
       "      <td>6.100000</td>\n",
       "      <td>3.400000</td>\n",
       "    </tr>\n",
       "    <tr>\n",
       "      <th>75%</th>\n",
       "      <td>7.200000</td>\n",
       "      <td>7.100000</td>\n",
       "      <td>3.700000</td>\n",
       "    </tr>\n",
       "    <tr>\n",
       "      <th>max</th>\n",
       "      <td>9.600000</td>\n",
       "      <td>10.000000</td>\n",
       "      <td>5.000000</td>\n",
       "    </tr>\n",
       "  </tbody>\n",
       "</table>\n",
       "</div>"
      ],
      "text/plain": [
       "       rtAllCriticsRating  rtTopCriticsRating  rtAudienceRating\n",
       "count         8441.000000         4662.000000       7345.000000\n",
       "mean             6.068404            5.930330          3.389258\n",
       "std              1.526898            1.534093          0.454034\n",
       "min              1.200000            1.600000          1.500000\n",
       "25%              5.000000            4.800000          3.100000\n",
       "50%              6.200000            6.100000          3.400000\n",
       "75%              7.200000            7.100000          3.700000\n",
       "max              9.600000           10.000000          5.000000"
      ]
     },
     "execution_count": 12,
     "metadata": {},
     "output_type": "execute_result"
    }
   ],
   "source": [
    "rate_stats = movies[['rtAllCriticsRating', 'rtTopCriticsRating', 'rtAudienceRating']].describe()\n",
    "rate_stats"
   ]
  },
  {
   "cell_type": "markdown",
   "metadata": {},
   "source": [
    "The `count` statistic tells us *how many* non-missing values there are.  Let's augument this with % missing - we're going to *transpose* the statistics frame (with `.transpose()`), and then create a column that divides count by the length of the original frame:"
   ]
  },
  {
   "cell_type": "code",
   "execution_count": 13,
   "metadata": {},
   "outputs": [
    {
     "data": {
      "text/html": [
       "<div>\n",
       "<style scoped>\n",
       "    .dataframe tbody tr th:only-of-type {\n",
       "        vertical-align: middle;\n",
       "    }\n",
       "\n",
       "    .dataframe tbody tr th {\n",
       "        vertical-align: top;\n",
       "    }\n",
       "\n",
       "    .dataframe thead th {\n",
       "        text-align: right;\n",
       "    }\n",
       "</style>\n",
       "<table border=\"1\" class=\"dataframe\">\n",
       "  <thead>\n",
       "    <tr style=\"text-align: right;\">\n",
       "      <th></th>\n",
       "      <th>count</th>\n",
       "      <th>mean</th>\n",
       "      <th>std</th>\n",
       "      <th>min</th>\n",
       "      <th>25%</th>\n",
       "      <th>50%</th>\n",
       "      <th>75%</th>\n",
       "      <th>max</th>\n",
       "    </tr>\n",
       "  </thead>\n",
       "  <tbody>\n",
       "    <tr>\n",
       "      <th>rtAllCriticsRating</th>\n",
       "      <td>8441.0</td>\n",
       "      <td>6.068404</td>\n",
       "      <td>1.526898</td>\n",
       "      <td>1.2</td>\n",
       "      <td>5.0</td>\n",
       "      <td>6.2</td>\n",
       "      <td>7.2</td>\n",
       "      <td>9.6</td>\n",
       "    </tr>\n",
       "    <tr>\n",
       "      <th>rtTopCriticsRating</th>\n",
       "      <td>4662.0</td>\n",
       "      <td>5.930330</td>\n",
       "      <td>1.534093</td>\n",
       "      <td>1.6</td>\n",
       "      <td>4.8</td>\n",
       "      <td>6.1</td>\n",
       "      <td>7.1</td>\n",
       "      <td>10.0</td>\n",
       "    </tr>\n",
       "    <tr>\n",
       "      <th>rtAudienceRating</th>\n",
       "      <td>7345.0</td>\n",
       "      <td>3.389258</td>\n",
       "      <td>0.454034</td>\n",
       "      <td>1.5</td>\n",
       "      <td>3.1</td>\n",
       "      <td>3.4</td>\n",
       "      <td>3.7</td>\n",
       "      <td>5.0</td>\n",
       "    </tr>\n",
       "  </tbody>\n",
       "</table>\n",
       "</div>"
      ],
      "text/plain": [
       "                     count      mean       std  min  25%  50%  75%   max\n",
       "rtAllCriticsRating  8441.0  6.068404  1.526898  1.2  5.0  6.2  7.2   9.6\n",
       "rtTopCriticsRating  4662.0  5.930330  1.534093  1.6  4.8  6.1  7.1  10.0\n",
       "rtAudienceRating    7345.0  3.389258  0.454034  1.5  3.1  3.4  3.7   5.0"
      ]
     },
     "execution_count": 13,
     "metadata": {},
     "output_type": "execute_result"
    }
   ],
   "source": [
    "rate_stats = rate_stats.transpose()\n",
    "rate_stats"
   ]
  },
  {
   "cell_type": "code",
   "execution_count": 14,
   "metadata": {},
   "outputs": [
    {
     "data": {
      "text/html": [
       "<div>\n",
       "<style scoped>\n",
       "    .dataframe tbody tr th:only-of-type {\n",
       "        vertical-align: middle;\n",
       "    }\n",
       "\n",
       "    .dataframe tbody tr th {\n",
       "        vertical-align: top;\n",
       "    }\n",
       "\n",
       "    .dataframe thead th {\n",
       "        text-align: right;\n",
       "    }\n",
       "</style>\n",
       "<table border=\"1\" class=\"dataframe\">\n",
       "  <thead>\n",
       "    <tr style=\"text-align: right;\">\n",
       "      <th></th>\n",
       "      <th>count</th>\n",
       "      <th>mean</th>\n",
       "      <th>std</th>\n",
       "      <th>min</th>\n",
       "      <th>25%</th>\n",
       "      <th>50%</th>\n",
       "      <th>75%</th>\n",
       "      <th>max</th>\n",
       "      <th>frac_observed</th>\n",
       "    </tr>\n",
       "  </thead>\n",
       "  <tbody>\n",
       "    <tr>\n",
       "      <th>rtAllCriticsRating</th>\n",
       "      <td>8441.0</td>\n",
       "      <td>6.068404</td>\n",
       "      <td>1.526898</td>\n",
       "      <td>1.2</td>\n",
       "      <td>5.0</td>\n",
       "      <td>6.2</td>\n",
       "      <td>7.2</td>\n",
       "      <td>9.6</td>\n",
       "      <td>0.827792</td>\n",
       "    </tr>\n",
       "    <tr>\n",
       "      <th>rtTopCriticsRating</th>\n",
       "      <td>4662.0</td>\n",
       "      <td>5.930330</td>\n",
       "      <td>1.534093</td>\n",
       "      <td>1.6</td>\n",
       "      <td>4.8</td>\n",
       "      <td>6.1</td>\n",
       "      <td>7.1</td>\n",
       "      <td>10.0</td>\n",
       "      <td>0.457193</td>\n",
       "    </tr>\n",
       "    <tr>\n",
       "      <th>rtAudienceRating</th>\n",
       "      <td>7345.0</td>\n",
       "      <td>3.389258</td>\n",
       "      <td>0.454034</td>\n",
       "      <td>1.5</td>\n",
       "      <td>3.1</td>\n",
       "      <td>3.4</td>\n",
       "      <td>3.7</td>\n",
       "      <td>5.0</td>\n",
       "      <td>0.720310</td>\n",
       "    </tr>\n",
       "  </tbody>\n",
       "</table>\n",
       "</div>"
      ],
      "text/plain": [
       "                     count      mean       std  min  25%  50%  75%   max  \\\n",
       "rtAllCriticsRating  8441.0  6.068404  1.526898  1.2  5.0  6.2  7.2   9.6   \n",
       "rtTopCriticsRating  4662.0  5.930330  1.534093  1.6  4.8  6.1  7.1  10.0   \n",
       "rtAudienceRating    7345.0  3.389258  0.454034  1.5  3.1  3.4  3.7   5.0   \n",
       "\n",
       "                    frac_observed  \n",
       "rtAllCriticsRating       0.827792  \n",
       "rtTopCriticsRating       0.457193  \n",
       "rtAudienceRating         0.720310  "
      ]
     },
     "execution_count": 14,
     "metadata": {},
     "output_type": "execute_result"
    }
   ],
   "source": [
    "rate_stats['frac_observed'] = rate_stats['count'] / len(movies)\n",
    "rate_stats"
   ]
  },
  {
   "cell_type": "markdown",
   "metadata": {},
   "source": [
    "`frac_observed` means 'fraction observed', and is the fraction of observations for which we have observed a value for this variable, *after* all our cleaning earlier to get rid of the values that seemed to be present but were actually missing.\n",
    "\n",
    "When we are describing a variable, it's good to know *two* things:\n",
    "\n",
    "- how many of that variable we actually have\n",
    "- how the values we have are distributed (middle, spread, min/max, and a histogram, usually)"
   ]
  },
  {
   "cell_type": "markdown",
   "metadata": {},
   "source": [
    "## Ignoring Missing Values\n",
    "\n",
    "One way to handle missing values is to just **ignore them**.  The Pandas aggregate functions, for example, will skip missing values by default.  So if you compute the mean critic rating:"
   ]
  },
  {
   "cell_type": "code",
   "execution_count": 15,
   "metadata": {},
   "outputs": [
    {
     "data": {
      "text/plain": [
       "6.068404217509789"
      ]
     },
     "execution_count": 15,
     "metadata": {},
     "output_type": "execute_result"
    }
   ],
   "source": [
    "movies['rtAllCriticsRating'].mean()"
   ]
  },
  {
   "cell_type": "markdown",
   "metadata": {},
   "source": [
    "it is taking the mean *of the values we have*.  In particular, the missing values are *not* counted in the denominator.\n",
    "\n",
    "We can tell it not to skip missing values, with the `skipna` option:"
   ]
  },
  {
   "cell_type": "code",
   "execution_count": 16,
   "metadata": {},
   "outputs": [
    {
     "data": {
      "text/plain": [
       "nan"
      ]
     },
     "execution_count": 16,
     "metadata": {},
     "output_type": "execute_result"
    }
   ],
   "source": [
    "movies['rtAllCriticsRating'].mean(skipna=False)"
   ]
  },
  {
   "cell_type": "markdown",
   "metadata": {},
   "source": [
    "The result is NaN, because some values are missing, and adding NaN to a value results in NaN.  So the sum of values — the numerator of the mean — is NaN, and the final mean is NaN.  NaNs are infectious in floating-point operations: once you have one, it propagates through the rest of the computation.\n",
    "\n",
    "Many of our plot types will also ignore missing values:"
   ]
  },
  {
   "cell_type": "code",
   "execution_count": 17,
   "metadata": {},
   "outputs": [
    {
     "name": "stderr",
     "output_type": "stream",
     "text": [
      "C:\\Users\\michaelekstrand\\Anaconda3\\lib\\site-packages\\numpy\\lib\\histograms.py:839: RuntimeWarning: invalid value encountered in greater_equal\n",
      "  keep = (tmp_a >= first_edge)\n",
      "C:\\Users\\michaelekstrand\\Anaconda3\\lib\\site-packages\\numpy\\lib\\histograms.py:840: RuntimeWarning: invalid value encountered in less_equal\n",
      "  keep &= (tmp_a <= last_edge)\n"
     ]
    },
    {
     "data": {
      "image/png": "[encoded data removed]",
      "text/plain": [
       "<Figure size 432x288 with 1 Axes>"
      ]
     },
     "metadata": {
      "needs_background": "light"
     },
     "output_type": "display_data"
    }
   ],
   "source": [
    "plt.hist(movies['rtAllCriticsRating'])\n",
    "plt.show()"
   ]
  },
  {
   "cell_type": "markdown",
   "metadata": {},
   "source": [
    "The scatter plot will ignore values for which *either* value is missing:"
   ]
  },
  {
   "cell_type": "code",
   "execution_count": 18,
   "metadata": {},
   "outputs": [
    {
     "data": {
      "image/png": "[encoded data removed]",
      "text/plain": [
       "<Figure size 360x360 with 1 Axes>"
      ]
     },
     "metadata": {
      "needs_background": "light"
     },
     "output_type": "display_data"
    }
   ],
   "source": [
    "sns.relplot('rtAllCriticsRating', 'rtAudienceRating', data=movies)\n",
    "plt.xlabel('All Critics')\n",
    "plt.ylabel('Audience')\n",
    "plt.show()"
   ]
  },
  {
   "cell_type": "markdown",
   "metadata": {},
   "source": [
    "This is often fine: if we want to understand the mean rating, understanding the mean *of the data we have* is often appropriate.  This is an additional qualification to the question, but that is a part of the question refinement process.\n",
    "\n",
    "Another way missing data can be ignored is in a group-by: if we group-by and we have missing data, ignoring those values just mean they don't contribute to any group.  If that does not seriously impact the validity of our analysis with respect to our goals and the meaning of the data, we're often fine!\n",
    "\n",
    "If we are trying to understand how a variable differs between different groups of data points, and we don't know which group some of the points are in (we have missing data in our group categorical variable), we may well have enough other data points where we *do* know the value that we can reasonably understand the approximate differences between groups without that data point's contribution.\n",
    "\n",
    "But, we don't want to just ignore the data without thinking or documenting the fact.  We should report the number and/or fraction observed, so that we have context to interpret the statistics we compute in the face of missing data.\n",
    "\n",
    "One way in which ignoring missing data can be misleading is if the missing data would — if we knew it — have a different distribution than the observed data.  This is simultaneously common and difficult to address (or even reliably tell if it is happening).  There are usually two things we need to do in this case:\n",
    "\n",
    "- analyze the data we have, and appropriately discuss the limitations of our analysis in the face of missing data\n",
    "- try to get better data\n",
    "\n",
    "In addition to dropping individual values, we can drop *entire observations* that have missing data."
   ]
  },
  {
   "cell_type": "markdown",
   "metadata": {},
   "source": [
    "## Filling Data\n",
    "\n",
    "Another way to handle missing data is to *fill it in* with other value(s)."
   ]
  },
  {
   "cell_type": "markdown",
   "metadata": {},
   "source": [
    "### Filling with a Fixed Value\n",
    "\n",
    "The Pandas `fillna` method (applicable to both `Series` and `DataFrame`) fills in missing values with a specified value.\n",
    "\n",
    "There are two cases when this is clearly appropriate.  The first is when we **know the value of the missing data**.  For example, if we count the number of ratings in our data set, and join that with the movies table:"
   ]
  },
  {
   "cell_type": "code",
   "execution_count": 19,
   "metadata": {},
   "outputs": [
    {
     "data": {
      "text/plain": [
       "count    10109.000000\n",
       "mean        84.637254\n",
       "std        172.115584\n",
       "min          1.000000\n",
       "25%          6.000000\n",
       "50%         21.000000\n",
       "75%         75.000000\n",
       "max       1670.000000\n",
       "Name: mlNumRatings, dtype: float64"
      ]
     },
     "execution_count": 19,
     "metadata": {},
     "output_type": "execute_result"
    }
   ],
   "source": [
    "movie_stats = ratings.groupby('movieID')['rating'].agg(['count', 'mean']).rename(columns={\n",
    "    'count': 'mlNumRatings',\n",
    "    'mean': 'mlAvgRating'\n",
    "})\n",
    "movie_info = movies.join(movie_stats)\n",
    "movie_info['mlNumRatings'].describe()"
   ]
  },
  {
   "cell_type": "markdown",
   "metadata": {},
   "source": [
    "There are few values missing!  If we have a movie that never appears in our movie ratings frame, we know that its number of rating is 0, so it is appropriate to fill in the missing values with 0:"
   ]
  },
  {
   "cell_type": "code",
   "execution_count": 20,
   "metadata": {},
   "outputs": [
    {
     "data": {
      "text/plain": [
       "count    10197.000000\n",
       "mean        83.906835\n",
       "std        171.549962\n",
       "min          0.000000\n",
       "25%          6.000000\n",
       "50%         20.000000\n",
       "75%         73.000000\n",
       "max       1670.000000\n",
       "Name: mlNumRatings, dtype: float64"
      ]
     },
     "execution_count": 20,
     "metadata": {},
     "output_type": "execute_result"
    }
   ],
   "source": [
    "movie_info['mlNumRatings'].fillna(0, inplace=True)\n",
    "movie_info['mlNumRatings'].describe()"
   ]
  },
  {
   "cell_type": "markdown",
   "metadata": {},
   "source": [
    "Now the missing values (all 88 of them) are filled in, and we have a minimum value of 0.\n",
    "\n",
    "**Note:** we used the *inplace* version of the method, with `inplace=True`.  This modified the series in-place (in its place in the frame), instead of returning of a new series.\n",
    "\n",
    "If a value is not a count of some kind, then it's unlikely that filling with 0 is the appropriate value.\n",
    "\n",
    "The second case when filling missing data is clearly appropriate is when we are **filling with an unknown-data code**.  This is most common with categorical (or sometimes ordinal) data.  Sometimes this is a new code, and we are just treating 'unknown' as another category; in other times, there is already a code for 'unknown', and it's reasonable to treat all kinds of 'unknown' as the same.\n",
    "\n",
    "In other cases, figuring out how to fill in the **data** in an abstract sense is usually not the best way to approach the problem.  Instead, think about how each specific analysis should handle missing data; if it is appropriate to fill in a value, the value may differ from one analysis to another!\n",
    "\n",
    "For one immediate example, if we fill in missing ratings with 0, and then take the mean, that will bias the mean towards 0, beacuse there are so many (invalid) 0 values in the data.  We probably don't want that!"
   ]
  },
  {
   "cell_type": "markdown",
   "metadata": {},
   "source": [
    "### Filling with Another Series\n",
    "\n",
    "Sometimes, we have two series of data, and we want to treat series *B* as a fallback for series *A*: use data from series A if we can, and if not, use B (if neither has the data, it will remain missing).\n",
    "\n",
    "The Pandas `combine_first` method does exactly this.  The code\n",
    "\n",
    "    seriesA.combine_first(seriesB)\n",
    "    \n",
    "will use values from `seriesA` when available, and try to fill in missing values with data from `seriesB`.  Both series need to have the same index.\n",
    "\n",
    "For example, if we want to use top-critics ratings first, but if they aren't available, fall back to all-critics ratings, we could:"
   ]
  },
  {
   "cell_type": "code",
   "execution_count": 21,
   "metadata": {},
   "outputs": [
    {
     "data": {
      "text/plain": [
       "count    8441.000000\n",
       "mean        6.016420\n",
       "std         1.547711\n",
       "min         1.200000\n",
       "25%         4.900000\n",
       "50%         6.200000\n",
       "75%         7.200000\n",
       "max        10.000000\n",
       "Name: rtTopCriticsRating, dtype: float64"
      ]
     },
     "execution_count": 21,
     "metadata": {},
     "output_type": "execute_result"
    }
   ],
   "source": [
    "merge_rates = movies['rtTopCriticsRating'].combine_first(movies['rtAllCriticsRating'])\n",
    "merge_rates.describe()"
   ]
  },
  {
   "cell_type": "markdown",
   "metadata": {},
   "source": [
    "### Imputing Values\n",
    "\n",
    "*Imputation* fills in missing values with a result of some computation.  In its simplest form, it is technically the same as filling with a single value: for example, we may assume that missing values are equal to the mean of the other values in the column.  We may do more sophisticated imputation, trying to predict the missing data from other variables in the observation.\n",
    "\n",
    "The {py:class}`~sklearn.impute.SimpleImputer` algorithm from scikit-learn will perform simple imputations of features, such as a mean value.  Other imputation strategies can perform more sophisticated analysis.\n",
    "\n",
    "The challenge with imputation is that the validity of the resulting inferences relies on the validity and accuracy of the imputation strategy.  It can be useful as a part of feature engineering for a machine learning pipeline, where we primarily care about the system's ability to predict future values of the outcome or ttarget  variable.\n",
    "\n",
    "However, when our goal is to understand the data, make observations, and learn things from it, imputation usually impedes that goal, because we are no longer just observing and interpreting the data, but also the results of an imputation process."
   ]
  },
  {
   "cell_type": "markdown",
   "metadata": {},
   "source": [
    "### Think About the Analysis\n",
    "\n",
    "I said at the top of the notebook, and will reiterate in the conclusion, that our missing-data decisions need to **flow from the questions**, and the analysis.\n",
    "\n",
    "One specific way this manifests is that the choice of value to fill depends in large part on how we want missing data to affect our final computation.  For using the variable as a feature in a machine learning pipeline, either a simple linear model or something more sophisticated, imputing the mean is often *mathematically* equivalent to ignoring the value for that observation, because the model will learn how to respond to a variable *as it differes from the mean*; the mean will result in a 'default' behavior.  In particular, it's common good practice to *standardize* our variables prior to such analyses by subtracting the mean from the observed values so they have a mean of zero; when we do this, there is no difference between filling in the mean first, and filling the missing standardized values with zero, and filling with zero before applying a linear model will cause the missing values to have no effect on their observations' predictions.\n",
    "\n",
    "This will become clearer when we get to linear models.  But other types of models may have other responses to different values, and we should choose our handling of the missing data based on how it will influence the analysis results, and whether that is the influence we want it to have."
   ]
  },
  {
   "cell_type": "markdown",
   "metadata": {},
   "source": [
    "## Conclusion\n",
    "\n",
    "There are several ways we can handle missing data in an analysis.  In this notebook, I have argued that we should approach the problem based on the influence missing data should have on our final analysis, rather than treating it as a problem to be solved at the data level.\n",
    "\n",
    "We have, broadly speaking, two tools for dealing with missing data:\n",
    "\n",
    "- Ignore it (either the individual value, or the entire observation)\n",
    "- Fill in a suitable default or assumed value\n",
    "\n",
    "In a few cases, there is a reasonable and clear choice from the data itself.  But in general, the fundamental question guiding what we do with missing data is this: “how should an observation with missing value(s) be reflected in my analysis?”.  The answer to this question will differ between one analysis and another.\n",
    "\n",
    "There are a few principles that are general good practice, however:\n",
    "\n",
    "- Describe the missingness of the data — how many values are missing, and what fraction of the observations are they?\n",
    "- If helpful, look at whether other features of the data differ between instances with missing values for a variable and those with known values.  This can help shed light on whether the missing data has a systematically different distribution than the observed data, and what impact that may have on your final analysis.\n",
    "- Bind missing-data operations to the *analysis*, not to the data load and pre-processing stages.  If you need to compute the mean of a series, treating missing values as 5 for some well-defined reason, put the `fillna` *with the other operation* in the analysis.  Think of it, and describe it, as the operation \"compute the mean of the series, assuming missing values are 5\", rather than \"compute the mean of this variable, that we have filled with 5s for unrelated reasons\".  This will make it easier for you to reason about the correctness and appropriateness of how you handle the missing data in the context of specific analyses and computations.\n",
    "- Use analyses that can deal with missing data when practical, instead of needing to pretend it isn't missing.\n",
    "\n",
    "Sometimes, you will do several analyses with the same missing-data transformation of the variable.  In these cases, it can be reasonable to do this transformation where you are loading and cleaning up the data, but describe and justify the transformation in terms of the analysis you are performing and its correctness for having the desired effects on that analysis.  Also, consider defining a *new* variable that is “old variable with this missing data operation performed” instead of just cleaning the old variable.\n",
    "\n",
    "At the end of the day, our missing data treatment — like all other aspects of our analysis — needs to flow from our analysis goals and research questions, and we need to defend it on the basis of how it will impact the conclusions we draw."
   ]
  }
 ],
 "metadata": {
  "kernelspec": {
   "display_name": "Python 3",
   "language": "python",
   "name": "python3"
  },
  "language_info": {
   "codemirror_mode": {
    "name": "ipython",
    "version": 3
   },
   "file_extension": ".py",
   "mimetype": "text/x-python",
   "name": "python",
   "nbconvert_exporter": "python",
   "pygments_lexer": "ipython3",
   "version": "3.8.3"
  }
 },
 "nbformat": 4,
 "nbformat_minor": 4
}

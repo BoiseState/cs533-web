{
 "cells": [
  {
   "cell_type": "markdown",
   "metadata": {},
   "source": [
    "# Building Data\n",
    "\n",
    "This notebook discusses how to *build* a series or data frame, possibly using pieces of other series or data frames, to either make new columns for our data or set up a new data frame.\n",
    "\n",
    "We are going to use the [HETREC MovieLens data](https://grouplens.org/datasets/hetrec-2011/) again."
   ]
  },
  {
   "cell_type": "markdown",
   "metadata": {},
   "source": [
    "## Setup and Data Load\n",
    "\n",
    "Load our Python modules:"
   ]
  },
  {
   "cell_type": "code",
   "execution_count": 1,
   "metadata": {},
   "outputs": [],
   "source": [
    "import pandas as pd\n",
    "import numpy as np\n",
    "import matplotlib.pyplot as plt\n",
    "import seaborn as sns"
   ]
  },
  {
   "cell_type": "markdown",
   "metadata": {},
   "source": [
    "Load the movie data:"
   ]
  },
  {
   "cell_type": "code",
   "execution_count": 2,
   "metadata": {},
   "outputs": [
    {
     "data": {
      "text/html": [
       "<div>\n",
       "<style scoped>\n",
       "    .dataframe tbody tr th:only-of-type {\n",
       "        vertical-align: middle;\n",
       "    }\n",
       "\n",
       "    .dataframe tbody tr th {\n",
       "        vertical-align: top;\n",
       "    }\n",
       "\n",
       "    .dataframe thead th {\n",
       "        text-align: right;\n",
       "    }\n",
       "</style>\n",
       "<table border=\"1\" class=\"dataframe\">\n",
       "  <thead>\n",
       "    <tr style=\"text-align: right;\">\n",
       "      <th></th>\n",
       "      <th>id</th>\n",
       "      <th>title</th>\n",
       "      <th>imdbID</th>\n",
       "      <th>spanishTitle</th>\n",
       "      <th>imdbPictureURL</th>\n",
       "      <th>year</th>\n",
       "      <th>rtID</th>\n",
       "      <th>rtAllCriticsRating</th>\n",
       "      <th>rtAllCriticsNumReviews</th>\n",
       "      <th>rtAllCriticsNumFresh</th>\n",
       "      <th>...</th>\n",
       "      <th>rtAllCriticsScore</th>\n",
       "      <th>rtTopCriticsRating</th>\n",
       "      <th>rtTopCriticsNumReviews</th>\n",
       "      <th>rtTopCriticsNumFresh</th>\n",
       "      <th>rtTopCriticsNumRotten</th>\n",
       "      <th>rtTopCriticsScore</th>\n",
       "      <th>rtAudienceRating</th>\n",
       "      <th>rtAudienceNumRatings</th>\n",
       "      <th>rtAudienceScore</th>\n",
       "      <th>rtPictureURL</th>\n",
       "    </tr>\n",
       "  </thead>\n",
       "  <tbody>\n",
       "    <tr>\n",
       "      <th>0</th>\n",
       "      <td>1</td>\n",
       "      <td>Toy story</td>\n",
       "      <td>114709</td>\n",
       "      <td>Toy story (juguetes)</td>\n",
       "      <td>http://ia.media-imdb.com/images/M/MV5BMTMwNDU0...</td>\n",
       "      <td>1995</td>\n",
       "      <td>toy_story</td>\n",
       "      <td>9.0</td>\n",
       "      <td>73.0</td>\n",
       "      <td>73.0</td>\n",
       "      <td>...</td>\n",
       "      <td>100.0</td>\n",
       "      <td>8.5</td>\n",
       "      <td>17.0</td>\n",
       "      <td>17.0</td>\n",
       "      <td>0.0</td>\n",
       "      <td>100.0</td>\n",
       "      <td>3.7</td>\n",
       "      <td>102338.0</td>\n",
       "      <td>81.0</td>\n",
       "      <td>http://content7.flixster.com/movie/10/93/63/10...</td>\n",
       "    </tr>\n",
       "    <tr>\n",
       "      <th>1</th>\n",
       "      <td>2</td>\n",
       "      <td>Jumanji</td>\n",
       "      <td>113497</td>\n",
       "      <td>Jumanji</td>\n",
       "      <td>http://ia.media-imdb.com/images/M/MV5BMzM5NjE1...</td>\n",
       "      <td>1995</td>\n",
       "      <td>1068044-jumanji</td>\n",
       "      <td>5.6</td>\n",
       "      <td>28.0</td>\n",
       "      <td>13.0</td>\n",
       "      <td>...</td>\n",
       "      <td>46.0</td>\n",
       "      <td>5.8</td>\n",
       "      <td>5.0</td>\n",
       "      <td>2.0</td>\n",
       "      <td>3.0</td>\n",
       "      <td>40.0</td>\n",
       "      <td>3.2</td>\n",
       "      <td>44587.0</td>\n",
       "      <td>61.0</td>\n",
       "      <td>http://content8.flixster.com/movie/56/79/73/56...</td>\n",
       "    </tr>\n",
       "    <tr>\n",
       "      <th>2</th>\n",
       "      <td>3</td>\n",
       "      <td>Grumpy Old Men</td>\n",
       "      <td>107050</td>\n",
       "      <td>Dos viejos gruñones</td>\n",
       "      <td>http://ia.media-imdb.com/images/M/MV5BMTI5MTgy...</td>\n",
       "      <td>1993</td>\n",
       "      <td>grumpy_old_men</td>\n",
       "      <td>5.9</td>\n",
       "      <td>36.0</td>\n",
       "      <td>24.0</td>\n",
       "      <td>...</td>\n",
       "      <td>66.0</td>\n",
       "      <td>7.0</td>\n",
       "      <td>6.0</td>\n",
       "      <td>5.0</td>\n",
       "      <td>1.0</td>\n",
       "      <td>83.0</td>\n",
       "      <td>3.2</td>\n",
       "      <td>10489.0</td>\n",
       "      <td>66.0</td>\n",
       "      <td>http://content6.flixster.com/movie/25/60/25602...</td>\n",
       "    </tr>\n",
       "    <tr>\n",
       "      <th>3</th>\n",
       "      <td>4</td>\n",
       "      <td>Waiting to Exhale</td>\n",
       "      <td>114885</td>\n",
       "      <td>Esperando un respiro</td>\n",
       "      <td>http://ia.media-imdb.com/images/M/MV5BMTczMTMy...</td>\n",
       "      <td>1995</td>\n",
       "      <td>waiting_to_exhale</td>\n",
       "      <td>5.6</td>\n",
       "      <td>25.0</td>\n",
       "      <td>14.0</td>\n",
       "      <td>...</td>\n",
       "      <td>56.0</td>\n",
       "      <td>5.5</td>\n",
       "      <td>11.0</td>\n",
       "      <td>5.0</td>\n",
       "      <td>6.0</td>\n",
       "      <td>45.0</td>\n",
       "      <td>3.3</td>\n",
       "      <td>5666.0</td>\n",
       "      <td>79.0</td>\n",
       "      <td>http://content9.flixster.com/movie/10/94/17/10...</td>\n",
       "    </tr>\n",
       "    <tr>\n",
       "      <th>4</th>\n",
       "      <td>5</td>\n",
       "      <td>Father of the Bride Part II</td>\n",
       "      <td>113041</td>\n",
       "      <td>Vuelve el padre de la novia (Ahora también abu...</td>\n",
       "      <td>http://ia.media-imdb.com/images/M/MV5BMTg1NDc2...</td>\n",
       "      <td>1995</td>\n",
       "      <td>father_of_the_bride_part_ii</td>\n",
       "      <td>5.3</td>\n",
       "      <td>19.0</td>\n",
       "      <td>9.0</td>\n",
       "      <td>...</td>\n",
       "      <td>47.0</td>\n",
       "      <td>5.4</td>\n",
       "      <td>5.0</td>\n",
       "      <td>1.0</td>\n",
       "      <td>4.0</td>\n",
       "      <td>20.0</td>\n",
       "      <td>3.0</td>\n",
       "      <td>13761.0</td>\n",
       "      <td>64.0</td>\n",
       "      <td>http://content8.flixster.com/movie/25/54/25542...</td>\n",
       "    </tr>\n",
       "  </tbody>\n",
       "</table>\n",
       "<p>5 rows × 21 columns</p>\n",
       "</div>"
      ],
      "text/plain": [
       "   id                        title  imdbID  \\\n",
       "0   1                    Toy story  114709   \n",
       "1   2                      Jumanji  113497   \n",
       "2   3               Grumpy Old Men  107050   \n",
       "3   4            Waiting to Exhale  114885   \n",
       "4   5  Father of the Bride Part II  113041   \n",
       "\n",
       "                                        spanishTitle  \\\n",
       "0                               Toy story (juguetes)   \n",
       "1                                            Jumanji   \n",
       "2                                Dos viejos gruñones   \n",
       "3                               Esperando un respiro   \n",
       "4  Vuelve el padre de la novia (Ahora también abu...   \n",
       "\n",
       "                                      imdbPictureURL  year  \\\n",
       "0  http://ia.media-imdb.com/images/M/MV5BMTMwNDU0...  1995   \n",
       "1  http://ia.media-imdb.com/images/M/MV5BMzM5NjE1...  1995   \n",
       "2  http://ia.media-imdb.com/images/M/MV5BMTI5MTgy...  1993   \n",
       "3  http://ia.media-imdb.com/images/M/MV5BMTczMTMy...  1995   \n",
       "4  http://ia.media-imdb.com/images/M/MV5BMTg1NDc2...  1995   \n",
       "\n",
       "                          rtID  rtAllCriticsRating  rtAllCriticsNumReviews  \\\n",
       "0                    toy_story                 9.0                    73.0   \n",
       "1              1068044-jumanji                 5.6                    28.0   \n",
       "2               grumpy_old_men                 5.9                    36.0   \n",
       "3            waiting_to_exhale                 5.6                    25.0   \n",
       "4  father_of_the_bride_part_ii                 5.3                    19.0   \n",
       "\n",
       "   rtAllCriticsNumFresh  ...  rtAllCriticsScore  rtTopCriticsRating  \\\n",
       "0                  73.0  ...              100.0                 8.5   \n",
       "1                  13.0  ...               46.0                 5.8   \n",
       "2                  24.0  ...               66.0                 7.0   \n",
       "3                  14.0  ...               56.0                 5.5   \n",
       "4                   9.0  ...               47.0                 5.4   \n",
       "\n",
       "   rtTopCriticsNumReviews  rtTopCriticsNumFresh  rtTopCriticsNumRotten  \\\n",
       "0                    17.0                  17.0                    0.0   \n",
       "1                     5.0                   2.0                    3.0   \n",
       "2                     6.0                   5.0                    1.0   \n",
       "3                    11.0                   5.0                    6.0   \n",
       "4                     5.0                   1.0                    4.0   \n",
       "\n",
       "   rtTopCriticsScore  rtAudienceRating  rtAudienceNumRatings  rtAudienceScore  \\\n",
       "0              100.0               3.7              102338.0             81.0   \n",
       "1               40.0               3.2               44587.0             61.0   \n",
       "2               83.0               3.2               10489.0             66.0   \n",
       "3               45.0               3.3                5666.0             79.0   \n",
       "4               20.0               3.0               13761.0             64.0   \n",
       "\n",
       "                                        rtPictureURL  \n",
       "0  http://content7.flixster.com/movie/10/93/63/10...  \n",
       "1  http://content8.flixster.com/movie/56/79/73/56...  \n",
       "2  http://content6.flixster.com/movie/25/60/25602...  \n",
       "3  http://content9.flixster.com/movie/10/94/17/10...  \n",
       "4  http://content8.flixster.com/movie/25/54/25542...  \n",
       "\n",
       "[5 rows x 21 columns]"
      ]
     },
     "execution_count": 2,
     "metadata": {},
     "output_type": "execute_result"
    }
   ],
   "source": [
    "movies = pd.read_table('hetrec2011-ml/movies.dat', sep='\\t', encoding='latin1', na_values=['\\\\N'])\n",
    "movies.head()"
   ]
  },
  {
   "cell_type": "markdown",
   "metadata": {},
   "source": [
    "And the ratings:"
   ]
  },
  {
   "cell_type": "code",
   "execution_count": 3,
   "metadata": {},
   "outputs": [
    {
     "data": {
      "text/html": [
       "<div>\n",
       "<style scoped>\n",
       "    .dataframe tbody tr th:only-of-type {\n",
       "        vertical-align: middle;\n",
       "    }\n",
       "\n",
       "    .dataframe tbody tr th {\n",
       "        vertical-align: top;\n",
       "    }\n",
       "\n",
       "    .dataframe thead th {\n",
       "        text-align: right;\n",
       "    }\n",
       "</style>\n",
       "<table border=\"1\" class=\"dataframe\">\n",
       "  <thead>\n",
       "    <tr style=\"text-align: right;\">\n",
       "      <th></th>\n",
       "      <th>userID</th>\n",
       "      <th>movieID</th>\n",
       "      <th>rating</th>\n",
       "      <th>timestamp</th>\n",
       "    </tr>\n",
       "  </thead>\n",
       "  <tbody>\n",
       "    <tr>\n",
       "      <th>0</th>\n",
       "      <td>75</td>\n",
       "      <td>3</td>\n",
       "      <td>1.0</td>\n",
       "      <td>1162160236000</td>\n",
       "    </tr>\n",
       "    <tr>\n",
       "      <th>1</th>\n",
       "      <td>75</td>\n",
       "      <td>32</td>\n",
       "      <td>4.5</td>\n",
       "      <td>1162160624000</td>\n",
       "    </tr>\n",
       "    <tr>\n",
       "      <th>2</th>\n",
       "      <td>75</td>\n",
       "      <td>110</td>\n",
       "      <td>4.0</td>\n",
       "      <td>1162161008000</td>\n",
       "    </tr>\n",
       "    <tr>\n",
       "      <th>3</th>\n",
       "      <td>75</td>\n",
       "      <td>160</td>\n",
       "      <td>2.0</td>\n",
       "      <td>1162160212000</td>\n",
       "    </tr>\n",
       "    <tr>\n",
       "      <th>4</th>\n",
       "      <td>75</td>\n",
       "      <td>163</td>\n",
       "      <td>4.0</td>\n",
       "      <td>1162160970000</td>\n",
       "    </tr>\n",
       "  </tbody>\n",
       "</table>\n",
       "</div>"
      ],
      "text/plain": [
       "   userID  movieID  rating      timestamp\n",
       "0      75        3     1.0  1162160236000\n",
       "1      75       32     4.5  1162160624000\n",
       "2      75      110     4.0  1162161008000\n",
       "3      75      160     2.0  1162160212000\n",
       "4      75      163     4.0  1162160970000"
      ]
     },
     "execution_count": 3,
     "metadata": {},
     "output_type": "execute_result"
    }
   ],
   "source": [
    "ratings = pd.read_table('hetrec2011-ml/user_ratedmovies-timestamps.dat', sep='\\t')\n",
    "ratings.head()"
   ]
  },
  {
   "cell_type": "markdown",
   "metadata": {},
   "source": [
    "We're also going to use genres:"
   ]
  },
  {
   "cell_type": "code",
   "execution_count": 4,
   "metadata": {},
   "outputs": [
    {
     "data": {
      "text/html": [
       "<div>\n",
       "<style scoped>\n",
       "    .dataframe tbody tr th:only-of-type {\n",
       "        vertical-align: middle;\n",
       "    }\n",
       "\n",
       "    .dataframe tbody tr th {\n",
       "        vertical-align: top;\n",
       "    }\n",
       "\n",
       "    .dataframe thead th {\n",
       "        text-align: right;\n",
       "    }\n",
       "</style>\n",
       "<table border=\"1\" class=\"dataframe\">\n",
       "  <thead>\n",
       "    <tr style=\"text-align: right;\">\n",
       "      <th></th>\n",
       "      <th>movieID</th>\n",
       "      <th>genre</th>\n",
       "    </tr>\n",
       "  </thead>\n",
       "  <tbody>\n",
       "    <tr>\n",
       "      <th>0</th>\n",
       "      <td>1</td>\n",
       "      <td>Adventure</td>\n",
       "    </tr>\n",
       "    <tr>\n",
       "      <th>1</th>\n",
       "      <td>1</td>\n",
       "      <td>Animation</td>\n",
       "    </tr>\n",
       "    <tr>\n",
       "      <th>2</th>\n",
       "      <td>1</td>\n",
       "      <td>Children</td>\n",
       "    </tr>\n",
       "    <tr>\n",
       "      <th>3</th>\n",
       "      <td>1</td>\n",
       "      <td>Comedy</td>\n",
       "    </tr>\n",
       "    <tr>\n",
       "      <th>4</th>\n",
       "      <td>1</td>\n",
       "      <td>Fantasy</td>\n",
       "    </tr>\n",
       "  </tbody>\n",
       "</table>\n",
       "</div>"
      ],
      "text/plain": [
       "   movieID      genre\n",
       "0        1  Adventure\n",
       "1        1  Animation\n",
       "2        1   Children\n",
       "3        1     Comedy\n",
       "4        1    Fantasy"
      ]
     },
     "execution_count": 4,
     "metadata": {},
     "output_type": "execute_result"
    }
   ],
   "source": [
    "movie_genres = pd.read_table('hetrec2011-ml/movie_genres.dat', sep='\\t')\n",
    "movie_genres.head()"
   ]
  },
  {
   "cell_type": "code",
   "execution_count": 5,
   "metadata": {},
   "outputs": [
    {
     "data": {
      "text/plain": [
       "Drama          5076\n",
       "Comedy         3566\n",
       "Thriller       1664\n",
       "Romance        1644\n",
       "Action         1445\n",
       "Crime          1086\n",
       "Adventure      1003\n",
       "Horror          978\n",
       "Sci-Fi          740\n",
       "Fantasy         535\n",
       "Children        519\n",
       "Mystery         497\n",
       "War             494\n",
       "Documentary     430\n",
       "Musical         421\n",
       "Animation       279\n",
       "Western         261\n",
       "Film-Noir       145\n",
       "IMAX             25\n",
       "Short             1\n",
       "Name: genre, dtype: int64"
      ]
     },
     "execution_count": 5,
     "metadata": {},
     "output_type": "execute_result"
    }
   ],
   "source": [
    "movie_genres['genre'].value_counts()"
   ]
  },
  {
   "cell_type": "markdown",
   "metadata": {},
   "source": [
    "## Creating Arrays\n",
    "\n",
    "Let's start with how to build a NumPy array, before we even get to series and frames.\n",
    "\n",
    "NumPy gives us several ways to create arrays.  We can use [`np.array`](https://numpy.org/doc/stable/reference/generated/numpy.array.html) to create one from a list, array, data series, or anything else that NumPy thinks looks like an array (the NumPy and Pandas documentation call such objects “array-like”).\n",
    "\n",
    "So let's make an array:"
   ]
  },
  {
   "cell_type": "code",
   "execution_count": 6,
   "metadata": {},
   "outputs": [
    {
     "data": {
      "text/plain": [
       "array([ 0,  2,  5,  9, -3])"
      ]
     },
     "execution_count": 6,
     "metadata": {},
     "output_type": "execute_result"
    }
   ],
   "source": [
    "np.array([0, 2, 5, 9, -3])"
   ]
  },
  {
   "cell_type": "markdown",
   "metadata": {},
   "source": [
    "We can also create an array from a range, with [`np.arange`](https://numpy.org/doc/stable/reference/generated/numpy.arange.html):"
   ]
  },
  {
   "cell_type": "code",
   "execution_count": 7,
   "metadata": {},
   "outputs": [
    {
     "data": {
      "text/plain": [
       "array([0, 1, 2, 3, 4, 5, 6, 7, 8, 9])"
      ]
     },
     "execution_count": 7,
     "metadata": {},
     "output_type": "execute_result"
    }
   ],
   "source": [
    "np.arange(10)"
   ]
  },
  {
   "cell_type": "markdown",
   "metadata": {},
   "source": [
    "Another super useful way to make an array is [`np.linspace`](https://numpy.org/doc/stable/reference/generated/numpy.linspace.html), which creates an array consisting of evenly-spaced points between two other values, including both of the endpoints:"
   ]
  },
  {
   "cell_type": "code",
   "execution_count": 8,
   "metadata": {},
   "outputs": [
    {
     "data": {
      "text/plain": [
       "array([0.        , 0.55555556, 1.11111111, 1.66666667, 2.22222222,\n",
       "       2.77777778, 3.33333333, 3.88888889, 4.44444444, 5.        ])"
      ]
     },
     "execution_count": 8,
     "metadata": {},
     "output_type": "execute_result"
    }
   ],
   "source": [
    "np.linspace(0, 5, 10)"
   ]
  },
  {
   "cell_type": "markdown",
   "metadata": {},
   "source": [
    "Because it's creating 10 points **including** 0 and 5, it doesn't include many integer values.  Creating 11 points would fix that:"
   ]
  },
  {
   "cell_type": "code",
   "execution_count": 9,
   "metadata": {},
   "outputs": [
    {
     "data": {
      "text/plain": [
       "array([0. , 0.5, 1. , 1.5, 2. , 2.5, 3. , 3.5, 4. , 4.5, 5. ])"
      ]
     },
     "execution_count": 9,
     "metadata": {},
     "output_type": "execute_result"
    }
   ],
   "source": [
    "np.linspace(0, 5, 11)"
   ]
  },
  {
   "cell_type": "markdown",
   "metadata": {},
   "source": [
    "We can also randomly generate arrays.  There are a lot of RNG features in NumPy (see [the documentation](https://numpy.org/doc/stable/reference/random/index.html)); we'll start with generating 100 “standard normal” values (normally distributed with mean 0 and variance 1):"
   ]
  },
  {
   "cell_type": "code",
   "execution_count": 10,
   "metadata": {},
   "outputs": [
    {
     "data": {
      "text/plain": [
       "array([-0.33873561,  0.51678273,  0.14711789,  0.19838675,  0.54761942,\n",
       "        0.19131156, -0.4752898 ,  0.02024525, -1.33948309,  0.32448087,\n",
       "       -0.19374478,  0.8344856 , -1.2166371 , -0.37482094,  0.86518527,\n",
       "        2.18446418,  0.6075668 , -2.31585428, -0.74720259,  1.19992932,\n",
       "        0.99405759,  2.23903908,  1.81167178,  1.00598331,  0.55223142,\n",
       "        0.67745515,  0.58957695, -0.46088752,  0.33887571, -0.27662875,\n",
       "       -1.32340716,  0.13839638, -0.57016739, -0.58275332,  1.09105615,\n",
       "       -0.61806743,  2.12021099,  1.24762095, -0.91650255, -0.50467559,\n",
       "       -1.01163067,  0.28069416, -0.35173081, -0.89731573,  1.08407209,\n",
       "       -1.69627407,  0.07576669, -0.08138856,  1.46850213,  0.36764678,\n",
       "        0.0687904 ,  1.61086781, -0.90819236, -0.60426599,  0.81166916,\n",
       "        0.29945399, -0.56891978, -1.67152667, -0.69264555, -0.45211381,\n",
       "        0.30505253,  0.11921514, -1.26780228, -0.017003  ,  0.91574513,\n",
       "       -0.26769486, -0.72651488,  0.04675951, -0.53645195, -0.03073815,\n",
       "       -0.71287014, -0.40548066, -1.16452118,  1.23470357,  1.14105292,\n",
       "        0.20514277, -1.58428461,  1.1993169 , -0.18210597,  0.00771399,\n",
       "        0.45130548,  0.98739545,  1.71867103, -1.28923256,  0.70000841,\n",
       "       -2.64988258,  1.91856809,  2.27360025, -0.50856635, -0.84726367,\n",
       "        0.50152163, -0.4735734 ,  0.49285562, -0.970693  ,  0.27513337,\n",
       "        0.26262928,  0.73655456,  1.09339154, -0.88900962,  1.62158089])"
      ]
     },
     "execution_count": 10,
     "metadata": {},
     "output_type": "execute_result"
    }
   ],
   "source": [
    "rng = np.random.default_rng()\n",
    "rng.standard_normal(100)"
   ]
  },
  {
   "cell_type": "markdown",
   "metadata": {
    "slideshow": {
     "slide_type": "slide"
    }
   },
   "source": [
    "## Creating Series\n",
    "\n",
    "Now let's look at creating pandas `Series` objects."
   ]
  },
  {
   "cell_type": "markdown",
   "metadata": {},
   "source": [
    "### From an Array-Like\n",
    "\n",
    "The `Series` constructor takes an array-like:"
   ]
  },
  {
   "cell_type": "code",
   "execution_count": 11,
   "metadata": {},
   "outputs": [
    {
     "data": {
      "text/plain": [
       "0    0\n",
       "1    1\n",
       "2    2\n",
       "3    3\n",
       "4    4\n",
       "dtype: int32"
      ]
     },
     "execution_count": 11,
     "metadata": {},
     "output_type": "execute_result"
    }
   ],
   "source": [
    "pd.Series(np.arange(5))"
   ]
  },
  {
   "cell_type": "markdown",
   "metadata": {},
   "source": [
    "This series has no name, no index name, and it has the integer values 0 through 4.  Since it has no specified index, it uses a `RangeIndex`, which indexes, again from 0 to 4.\n",
    "\n",
    "We can specify an index as an array-like:"
   ]
  },
  {
   "cell_type": "code",
   "execution_count": 12,
   "metadata": {},
   "outputs": [
    {
     "data": {
      "text/plain": [
       "apple      1\n",
       "banana     3\n",
       "carrot    14\n",
       "dtype: int64"
      ]
     },
     "execution_count": 12,
     "metadata": {},
     "output_type": "execute_result"
    }
   ],
   "source": [
    "abc = pd.Series([1, 3, 14], index=['apple', 'banana', 'carrot'])\n",
    "abc"
   ]
  },
  {
   "cell_type": "markdown",
   "metadata": {},
   "source": [
    "Now we have the values 1, 3, and 14 in a series, associated with index keys ‘apple’, ‘banana’, and ‘carrot’ respectively.  We can look up values like we've seen:"
   ]
  },
  {
   "cell_type": "code",
   "execution_count": 13,
   "metadata": {},
   "outputs": [
    {
     "data": {
      "text/plain": [
       "3"
      ]
     },
     "execution_count": 13,
     "metadata": {},
     "output_type": "execute_result"
    }
   ],
   "source": [
    "abc.loc['banana']"
   ]
  },
  {
   "cell_type": "markdown",
   "metadata": {},
   "source": [
    "### From a Single Value\n",
    "\n",
    "The constructor can also take a single value, and create a series with that value for every element.  For this use case, we must provide an index.\n",
    "\n",
    "For example:"
   ]
  },
  {
   "cell_type": "code",
   "execution_count": 14,
   "metadata": {},
   "outputs": [
    {
     "data": {
      "text/plain": [
       "a    0\n",
       "b    0\n",
       "c    0\n",
       "d    0\n",
       "dtype: int64"
      ]
     },
     "execution_count": 14,
     "metadata": {},
     "output_type": "execute_result"
    }
   ],
   "source": [
    "pd.Series(0, index=['a', 'b', 'c', 'd'])"
   ]
  },
  {
   "cell_type": "markdown",
   "metadata": {},
   "source": [
    "### Building Up\n",
    "\n",
    "With this, we can then assign other values at particular places:"
   ]
  },
  {
   "cell_type": "code",
   "execution_count": 15,
   "metadata": {},
   "outputs": [
    {
     "data": {
      "text/plain": [
       "a    0\n",
       "b    0\n",
       "c    0\n",
       "d    0\n",
       "dtype: int64"
      ]
     },
     "execution_count": 15,
     "metadata": {},
     "output_type": "execute_result"
    }
   ],
   "source": [
    "s = pd.Series(0, index=['a', 'b', 'c', 'd'])\n",
    "s"
   ]
  },
  {
   "cell_type": "code",
   "execution_count": 16,
   "metadata": {},
   "outputs": [
    {
     "data": {
      "text/plain": [
       "a    0\n",
       "b    7\n",
       "c    0\n",
       "d    0\n",
       "dtype: int64"
      ]
     },
     "execution_count": 16,
     "metadata": {},
     "output_type": "execute_result"
    }
   ],
   "source": [
    "s.loc['b'] = 7\n",
    "s"
   ]
  },
  {
   "cell_type": "markdown",
   "metadata": {},
   "source": [
    "We can do this with boolean masks, too — suppose we want to create a series that indicates if its index keys are odd or even:"
   ]
  },
  {
   "cell_type": "code",
   "execution_count": 17,
   "metadata": {},
   "outputs": [
    {
     "data": {
      "text/plain": [
       "0    even\n",
       "1     odd\n",
       "2    even\n",
       "3     odd\n",
       "4    even\n",
       "5     odd\n",
       "6    even\n",
       "7     odd\n",
       "8    even\n",
       "9     odd\n",
       "dtype: object"
      ]
     },
     "execution_count": 17,
     "metadata": {},
     "output_type": "execute_result"
    }
   ],
   "source": [
    "s = pd.Series('odd', index=np.arange(10))\n",
    "s[s.index.values % 2 == 0] = 'even'\n",
    "s"
   ]
  },
  {
   "cell_type": "markdown",
   "metadata": {},
   "source": [
    "### Example: Ordinal\n",
    "\n",
    "Our `movies` frame has a `year` column, indicating the year.\n",
    "\n",
    "Certain sci-fi movies were era-defining: they had an unmistakable influence on the movies after them.  Let's, for sake of an argument, define the eras as follows:\n",
    "\n",
    "1. Vintage (movies through 1977, when *Star Wars* came out)\n",
    "2. Star Wars (1978–1999)\n",
    "3. Post-Matrix (after 1999)\n",
    "\n",
    "We can do that with the following steps:\n",
    "\n",
    "1. Create a `Series` with the index matching the movie frame, and one of the values.\n",
    "2. Use masks based on conditions selecting the other items to fill in the othe values\n",
    "3. (if wanted) Set up the categorical data type with a specified order.\n",
    "\n",
    "Let's start by finding the sci-fi movies - all movies with `Sci-Fi` as one of their genres:"
   ]
  },
  {
   "cell_type": "code",
   "execution_count": 18,
   "metadata": {},
   "outputs": [
    {
     "data": {
      "text/html": [
       "<div>\n",
       "<style scoped>\n",
       "    .dataframe tbody tr th:only-of-type {\n",
       "        vertical-align: middle;\n",
       "    }\n",
       "\n",
       "    .dataframe tbody tr th {\n",
       "        vertical-align: top;\n",
       "    }\n",
       "\n",
       "    .dataframe thead th {\n",
       "        text-align: right;\n",
       "    }\n",
       "</style>\n",
       "<table border=\"1\" class=\"dataframe\">\n",
       "  <thead>\n",
       "    <tr style=\"text-align: right;\">\n",
       "      <th></th>\n",
       "      <th>title</th>\n",
       "      <th>imdbID</th>\n",
       "      <th>spanishTitle</th>\n",
       "      <th>imdbPictureURL</th>\n",
       "      <th>year</th>\n",
       "      <th>rtID</th>\n",
       "      <th>rtAllCriticsRating</th>\n",
       "      <th>rtAllCriticsNumReviews</th>\n",
       "      <th>rtAllCriticsNumFresh</th>\n",
       "      <th>rtAllCriticsNumRotten</th>\n",
       "      <th>rtAllCriticsScore</th>\n",
       "      <th>rtTopCriticsRating</th>\n",
       "      <th>rtTopCriticsNumReviews</th>\n",
       "      <th>rtTopCriticsNumFresh</th>\n",
       "      <th>rtTopCriticsNumRotten</th>\n",
       "      <th>rtTopCriticsScore</th>\n",
       "      <th>rtAudienceRating</th>\n",
       "      <th>rtAudienceNumRatings</th>\n",
       "      <th>rtAudienceScore</th>\n",
       "      <th>rtPictureURL</th>\n",
       "    </tr>\n",
       "    <tr>\n",
       "      <th>id</th>\n",
       "      <th></th>\n",
       "      <th></th>\n",
       "      <th></th>\n",
       "      <th></th>\n",
       "      <th></th>\n",
       "      <th></th>\n",
       "      <th></th>\n",
       "      <th></th>\n",
       "      <th></th>\n",
       "      <th></th>\n",
       "      <th></th>\n",
       "      <th></th>\n",
       "      <th></th>\n",
       "      <th></th>\n",
       "      <th></th>\n",
       "      <th></th>\n",
       "      <th></th>\n",
       "      <th></th>\n",
       "      <th></th>\n",
       "      <th></th>\n",
       "    </tr>\n",
       "  </thead>\n",
       "  <tbody>\n",
       "    <tr>\n",
       "      <th>24</th>\n",
       "      <td>Powder</td>\n",
       "      <td>114168</td>\n",
       "      <td>Powder - pura energía</td>\n",
       "      <td>http://ia.media-imdb.com/images/M/MV5BMTIwMTQ3...</td>\n",
       "      <td>1995</td>\n",
       "      <td>powder</td>\n",
       "      <td>5.2</td>\n",
       "      <td>19.0</td>\n",
       "      <td>9.0</td>\n",
       "      <td>10.0</td>\n",
       "      <td>47.0</td>\n",
       "      <td>4.9</td>\n",
       "      <td>5.0</td>\n",
       "      <td>0.0</td>\n",
       "      <td>5.0</td>\n",
       "      <td>0.0</td>\n",
       "      <td>3.1</td>\n",
       "      <td>6650.0</td>\n",
       "      <td>67.0</td>\n",
       "      <td>http://content7.flixster.com/movie/25/59/25590...</td>\n",
       "    </tr>\n",
       "    <tr>\n",
       "      <th>29</th>\n",
       "      <td>La cité des enfants perdus</td>\n",
       "      <td>112682</td>\n",
       "      <td>La ciudad de los niños perdidos</td>\n",
       "      <td>http://ia.media-imdb.com/images/M/MV5BMTI4MDc0...</td>\n",
       "      <td>1995</td>\n",
       "      <td>city_of_lost_children</td>\n",
       "      <td>7.0</td>\n",
       "      <td>33.0</td>\n",
       "      <td>27.0</td>\n",
       "      <td>6.0</td>\n",
       "      <td>81.0</td>\n",
       "      <td>7.2</td>\n",
       "      <td>7.0</td>\n",
       "      <td>5.0</td>\n",
       "      <td>2.0</td>\n",
       "      <td>71.0</td>\n",
       "      <td>4.0</td>\n",
       "      <td>22420.0</td>\n",
       "      <td>89.0</td>\n",
       "      <td>http://content6.flixster.com/movie/26/78/26782...</td>\n",
       "    </tr>\n",
       "    <tr>\n",
       "      <th>32</th>\n",
       "      <td>Twelve Monkeys</td>\n",
       "      <td>114746</td>\n",
       "      <td>Twelve monkeys: doce monos</td>\n",
       "      <td>http://ia.media-imdb.com/images/M/MV5BMTQwNzg2...</td>\n",
       "      <td>1995</td>\n",
       "      <td>prem-no-public-issue</td>\n",
       "      <td>0.0</td>\n",
       "      <td>0.0</td>\n",
       "      <td>0.0</td>\n",
       "      <td>0.0</td>\n",
       "      <td>0.0</td>\n",
       "      <td>0.0</td>\n",
       "      <td>0.0</td>\n",
       "      <td>0.0</td>\n",
       "      <td>0.0</td>\n",
       "      <td>0.0</td>\n",
       "      <td>0.0</td>\n",
       "      <td>0.0</td>\n",
       "      <td>0.0</td>\n",
       "      <td>http://content6.flixster.com/movie/10/93/02/10...</td>\n",
       "    </tr>\n",
       "    <tr>\n",
       "      <th>66</th>\n",
       "      <td>Lawnmower Man 2: Beyond Cyberspace</td>\n",
       "      <td>116839</td>\n",
       "      <td>El cortador de césped II: más allá del ciberes...</td>\n",
       "      <td>http://ia.media-imdb.com/images/M/MV5BMTg1MjM3...</td>\n",
       "      <td>1996</td>\n",
       "      <td>lawnmower_man_2_jobes_war</td>\n",
       "      <td>2.8</td>\n",
       "      <td>9.0</td>\n",
       "      <td>1.0</td>\n",
       "      <td>8.0</td>\n",
       "      <td>11.0</td>\n",
       "      <td>0.0</td>\n",
       "      <td>3.0</td>\n",
       "      <td>1.0</td>\n",
       "      <td>2.0</td>\n",
       "      <td>33.0</td>\n",
       "      <td>2.1</td>\n",
       "      <td>952.0</td>\n",
       "      <td>18.0</td>\n",
       "      <td>http://content7.flixster.com/movie/10/86/80/10...</td>\n",
       "    </tr>\n",
       "    <tr>\n",
       "      <th>76</th>\n",
       "      <td>Screamers</td>\n",
       "      <td>114367</td>\n",
       "      <td>Asesinos cibernéticos</td>\n",
       "      <td>http://ia.media-imdb.com/images/M/MV5BMTY5NTQz...</td>\n",
       "      <td>1995</td>\n",
       "      <td>1069696-screamers</td>\n",
       "      <td>4.7</td>\n",
       "      <td>30.0</td>\n",
       "      <td>9.0</td>\n",
       "      <td>21.0</td>\n",
       "      <td>30.0</td>\n",
       "      <td>4.9</td>\n",
       "      <td>9.0</td>\n",
       "      <td>2.0</td>\n",
       "      <td>7.0</td>\n",
       "      <td>22.0</td>\n",
       "      <td>3.0</td>\n",
       "      <td>2070.0</td>\n",
       "      <td>45.0</td>\n",
       "      <td>http://content7.flixster.com/movie/27/23/27230...</td>\n",
       "    </tr>\n",
       "    <tr>\n",
       "      <th>...</th>\n",
       "      <td>...</td>\n",
       "      <td>...</td>\n",
       "      <td>...</td>\n",
       "      <td>...</td>\n",
       "      <td>...</td>\n",
       "      <td>...</td>\n",
       "      <td>...</td>\n",
       "      <td>...</td>\n",
       "      <td>...</td>\n",
       "      <td>...</td>\n",
       "      <td>...</td>\n",
       "      <td>...</td>\n",
       "      <td>...</td>\n",
       "      <td>...</td>\n",
       "      <td>...</td>\n",
       "      <td>...</td>\n",
       "      <td>...</td>\n",
       "      <td>...</td>\n",
       "      <td>...</td>\n",
       "      <td>...</td>\n",
       "    </tr>\n",
       "    <tr>\n",
       "      <th>63617</th>\n",
       "      <td>Christmas on Mars</td>\n",
       "      <td>363240</td>\n",
       "      <td>Christmas on Mars</td>\n",
       "      <td>http://ia.media-imdb.com/images/M/MV5BMTYzNjQ3...</td>\n",
       "      <td>2008</td>\n",
       "      <td>christmas_on_mars</td>\n",
       "      <td>5.5</td>\n",
       "      <td>6.0</td>\n",
       "      <td>3.0</td>\n",
       "      <td>3.0</td>\n",
       "      <td>50.0</td>\n",
       "      <td>0.0</td>\n",
       "      <td>4.0</td>\n",
       "      <td>2.0</td>\n",
       "      <td>2.0</td>\n",
       "      <td>50.0</td>\n",
       "      <td>3.3</td>\n",
       "      <td>530.0</td>\n",
       "      <td>56.0</td>\n",
       "      <td>http://content6.flixster.com/movie/10/88/98/10...</td>\n",
       "    </tr>\n",
       "    <tr>\n",
       "      <th>63676</th>\n",
       "      <td>Tanin no kao</td>\n",
       "      <td>61065</td>\n",
       "      <td>Tanin no kao</td>\n",
       "      <td>http://ia.media-imdb.com/images/M/MV5BMTk3OTkz...</td>\n",
       "      <td>1966</td>\n",
       "      <td>face_of_another</td>\n",
       "      <td>7.4</td>\n",
       "      <td>6.0</td>\n",
       "      <td>6.0</td>\n",
       "      <td>0.0</td>\n",
       "      <td>100.0</td>\n",
       "      <td>0.0</td>\n",
       "      <td>1.0</td>\n",
       "      <td>1.0</td>\n",
       "      <td>0.0</td>\n",
       "      <td>100.0</td>\n",
       "      <td>4.1</td>\n",
       "      <td>598.0</td>\n",
       "      <td>90.0</td>\n",
       "      <td>http://content8.flixster.com/movie/93/50/55/93...</td>\n",
       "    </tr>\n",
       "    <tr>\n",
       "      <th>63989</th>\n",
       "      <td>The Devil-Doll</td>\n",
       "      <td>27521</td>\n",
       "      <td>Muñecos infernales</td>\n",
       "      <td>http://ia.media-imdb.com/images/M/MV5BMTU5MTk0...</td>\n",
       "      <td>1936</td>\n",
       "      <td>the-devildoll-the-witch-of-timbuctoo</td>\n",
       "      <td>0.0</td>\n",
       "      <td>0.0</td>\n",
       "      <td>0.0</td>\n",
       "      <td>0.0</td>\n",
       "      <td>0.0</td>\n",
       "      <td>0.0</td>\n",
       "      <td>0.0</td>\n",
       "      <td>0.0</td>\n",
       "      <td>0.0</td>\n",
       "      <td>0.0</td>\n",
       "      <td>0.0</td>\n",
       "      <td>0.0</td>\n",
       "      <td>0.0</td>\n",
       "      <td>http://content6.flixster.com/movie/10/87/02/10...</td>\n",
       "    </tr>\n",
       "    <tr>\n",
       "      <th>64497</th>\n",
       "      <td>The Day the Earth Stood Still</td>\n",
       "      <td>43456</td>\n",
       "      <td>Ultimátum a la Tierra</td>\n",
       "      <td>http://ia.media-imdb.com/images/M/MV5BMTQ2MzYy...</td>\n",
       "      <td>1951</td>\n",
       "      <td>1005371-day_the_earth_stood_still</td>\n",
       "      <td>8.0</td>\n",
       "      <td>50.0</td>\n",
       "      <td>47.0</td>\n",
       "      <td>3.0</td>\n",
       "      <td>94.0</td>\n",
       "      <td>7.0</td>\n",
       "      <td>5.0</td>\n",
       "      <td>4.0</td>\n",
       "      <td>1.0</td>\n",
       "      <td>80.0</td>\n",
       "      <td>3.8</td>\n",
       "      <td>8999.0</td>\n",
       "      <td>86.0</td>\n",
       "      <td>http://content7.flixster.com/movie/10/87/31/10...</td>\n",
       "    </tr>\n",
       "    <tr>\n",
       "      <th>64508</th>\n",
       "      <td>Starship Troopers 3: Marauder</td>\n",
       "      <td>844760</td>\n",
       "      <td>Starship Troopers 3: Marauder</td>\n",
       "      <td>http://ia.media-imdb.com/images/M/MV5BMTQyMTcw...</td>\n",
       "      <td>2008</td>\n",
       "      <td>starship_troopers_3</td>\n",
       "      <td>5.4</td>\n",
       "      <td>5.0</td>\n",
       "      <td>3.0</td>\n",
       "      <td>2.0</td>\n",
       "      <td>60.0</td>\n",
       "      <td>0.0</td>\n",
       "      <td>0.0</td>\n",
       "      <td>0.0</td>\n",
       "      <td>0.0</td>\n",
       "      <td>0.0</td>\n",
       "      <td>0.0</td>\n",
       "      <td>0.0</td>\n",
       "      <td>0.0</td>\n",
       "      <td>http://content9.flixster.com/movie/10/85/24/10...</td>\n",
       "    </tr>\n",
       "  </tbody>\n",
       "</table>\n",
       "<p>740 rows × 20 columns</p>\n",
       "</div>"
      ],
      "text/plain": [
       "                                    title  imdbID  \\\n",
       "id                                                  \n",
       "24                                 Powder  114168   \n",
       "29             La cité des enfants perdus  112682   \n",
       "32                         Twelve Monkeys  114746   \n",
       "66     Lawnmower Man 2: Beyond Cyberspace  116839   \n",
       "76                              Screamers  114367   \n",
       "...                                   ...     ...   \n",
       "63617                   Christmas on Mars  363240   \n",
       "63676                        Tanin no kao   61065   \n",
       "63989                      The Devil-Doll   27521   \n",
       "64497       The Day the Earth Stood Still   43456   \n",
       "64508       Starship Troopers 3: Marauder  844760   \n",
       "\n",
       "                                            spanishTitle  \\\n",
       "id                                                         \n",
       "24                                 Powder - pura energía   \n",
       "29                       La ciudad de los niños perdidos   \n",
       "32                            Twelve monkeys: doce monos   \n",
       "66     El cortador de césped II: más allá del ciberes...   \n",
       "76                                 Asesinos cibernéticos   \n",
       "...                                                  ...   \n",
       "63617                                  Christmas on Mars   \n",
       "63676                                       Tanin no kao   \n",
       "63989                                 Muñecos infernales   \n",
       "64497                              Ultimátum a la Tierra   \n",
       "64508                      Starship Troopers 3: Marauder   \n",
       "\n",
       "                                          imdbPictureURL  year  \\\n",
       "id                                                               \n",
       "24     http://ia.media-imdb.com/images/M/MV5BMTIwMTQ3...  1995   \n",
       "29     http://ia.media-imdb.com/images/M/MV5BMTI4MDc0...  1995   \n",
       "32     http://ia.media-imdb.com/images/M/MV5BMTQwNzg2...  1995   \n",
       "66     http://ia.media-imdb.com/images/M/MV5BMTg1MjM3...  1996   \n",
       "76     http://ia.media-imdb.com/images/M/MV5BMTY5NTQz...  1995   \n",
       "...                                                  ...   ...   \n",
       "63617  http://ia.media-imdb.com/images/M/MV5BMTYzNjQ3...  2008   \n",
       "63676  http://ia.media-imdb.com/images/M/MV5BMTk3OTkz...  1966   \n",
       "63989  http://ia.media-imdb.com/images/M/MV5BMTU5MTk0...  1936   \n",
       "64497  http://ia.media-imdb.com/images/M/MV5BMTQ2MzYy...  1951   \n",
       "64508  http://ia.media-imdb.com/images/M/MV5BMTQyMTcw...  2008   \n",
       "\n",
       "                                       rtID  rtAllCriticsRating  \\\n",
       "id                                                                \n",
       "24                                   powder                 5.2   \n",
       "29                    city_of_lost_children                 7.0   \n",
       "32                     prem-no-public-issue                 0.0   \n",
       "66                lawnmower_man_2_jobes_war                 2.8   \n",
       "76                        1069696-screamers                 4.7   \n",
       "...                                     ...                 ...   \n",
       "63617                     christmas_on_mars                 5.5   \n",
       "63676                       face_of_another                 7.4   \n",
       "63989  the-devildoll-the-witch-of-timbuctoo                 0.0   \n",
       "64497     1005371-day_the_earth_stood_still                 8.0   \n",
       "64508                   starship_troopers_3                 5.4   \n",
       "\n",
       "       rtAllCriticsNumReviews  rtAllCriticsNumFresh  rtAllCriticsNumRotten  \\\n",
       "id                                                                           \n",
       "24                       19.0                   9.0                   10.0   \n",
       "29                       33.0                  27.0                    6.0   \n",
       "32                        0.0                   0.0                    0.0   \n",
       "66                        9.0                   1.0                    8.0   \n",
       "76                       30.0                   9.0                   21.0   \n",
       "...                       ...                   ...                    ...   \n",
       "63617                     6.0                   3.0                    3.0   \n",
       "63676                     6.0                   6.0                    0.0   \n",
       "63989                     0.0                   0.0                    0.0   \n",
       "64497                    50.0                  47.0                    3.0   \n",
       "64508                     5.0                   3.0                    2.0   \n",
       "\n",
       "       rtAllCriticsScore  rtTopCriticsRating  rtTopCriticsNumReviews  \\\n",
       "id                                                                     \n",
       "24                  47.0                 4.9                     5.0   \n",
       "29                  81.0                 7.2                     7.0   \n",
       "32                   0.0                 0.0                     0.0   \n",
       "66                  11.0                 0.0                     3.0   \n",
       "76                  30.0                 4.9                     9.0   \n",
       "...                  ...                 ...                     ...   \n",
       "63617               50.0                 0.0                     4.0   \n",
       "63676              100.0                 0.0                     1.0   \n",
       "63989                0.0                 0.0                     0.0   \n",
       "64497               94.0                 7.0                     5.0   \n",
       "64508               60.0                 0.0                     0.0   \n",
       "\n",
       "       rtTopCriticsNumFresh  rtTopCriticsNumRotten  rtTopCriticsScore  \\\n",
       "id                                                                      \n",
       "24                      0.0                    5.0                0.0   \n",
       "29                      5.0                    2.0               71.0   \n",
       "32                      0.0                    0.0                0.0   \n",
       "66                      1.0                    2.0               33.0   \n",
       "76                      2.0                    7.0               22.0   \n",
       "...                     ...                    ...                ...   \n",
       "63617                   2.0                    2.0               50.0   \n",
       "63676                   1.0                    0.0              100.0   \n",
       "63989                   0.0                    0.0                0.0   \n",
       "64497                   4.0                    1.0               80.0   \n",
       "64508                   0.0                    0.0                0.0   \n",
       "\n",
       "       rtAudienceRating  rtAudienceNumRatings  rtAudienceScore  \\\n",
       "id                                                               \n",
       "24                  3.1                6650.0             67.0   \n",
       "29                  4.0               22420.0             89.0   \n",
       "32                  0.0                   0.0              0.0   \n",
       "66                  2.1                 952.0             18.0   \n",
       "76                  3.0                2070.0             45.0   \n",
       "...                 ...                   ...              ...   \n",
       "63617               3.3                 530.0             56.0   \n",
       "63676               4.1                 598.0             90.0   \n",
       "63989               0.0                   0.0              0.0   \n",
       "64497               3.8                8999.0             86.0   \n",
       "64508               0.0                   0.0              0.0   \n",
       "\n",
       "                                            rtPictureURL  \n",
       "id                                                        \n",
       "24     http://content7.flixster.com/movie/25/59/25590...  \n",
       "29     http://content6.flixster.com/movie/26/78/26782...  \n",
       "32     http://content6.flixster.com/movie/10/93/02/10...  \n",
       "66     http://content7.flixster.com/movie/10/86/80/10...  \n",
       "76     http://content7.flixster.com/movie/27/23/27230...  \n",
       "...                                                  ...  \n",
       "63617  http://content6.flixster.com/movie/10/88/98/10...  \n",
       "63676  http://content8.flixster.com/movie/93/50/55/93...  \n",
       "63989  http://content6.flixster.com/movie/10/87/02/10...  \n",
       "64497  http://content7.flixster.com/movie/10/87/31/10...  \n",
       "64508  http://content9.flixster.com/movie/10/85/24/10...  \n",
       "\n",
       "[740 rows x 20 columns]"
      ]
     },
     "execution_count": 18,
     "metadata": {},
     "output_type": "execute_result"
    }
   ],
   "source": [
    "scifi_ids = movie_genres.loc[movie_genres['genre'] == 'Sci-Fi', 'movieID']\n",
    "scifi = movies.set_index('id').loc[scifi_ids]\n",
    "scifi"
   ]
  },
  {
   "cell_type": "markdown",
   "metadata": {},
   "source": [
    "And start making eras:"
   ]
  },
  {
   "cell_type": "code",
   "execution_count": 19,
   "metadata": {},
   "outputs": [
    {
     "data": {
      "text/plain": [
       "id\n",
       "24       Vintage\n",
       "29       Vintage\n",
       "32       Vintage\n",
       "66       Vintage\n",
       "76       Vintage\n",
       "          ...   \n",
       "63617    Vintage\n",
       "63676    Vintage\n",
       "63989    Vintage\n",
       "64497    Vintage\n",
       "64508    Vintage\n",
       "Length: 740, dtype: object"
      ]
     },
     "execution_count": 19,
     "metadata": {},
     "output_type": "execute_result"
    }
   ],
   "source": [
    "era = pd.Series('Vintage', index=scifi.index)\n",
    "era"
   ]
  },
  {
   "cell_type": "markdown",
   "metadata": {},
   "source": [
    "Set Star Wars for after 1977 (we won't bother with the end condition, because we'll override those values in the next step):"
   ]
  },
  {
   "cell_type": "code",
   "execution_count": 20,
   "metadata": {},
   "outputs": [
    {
     "data": {
      "text/plain": [
       "id\n",
       "24       Star Wars\n",
       "29       Star Wars\n",
       "32       Star Wars\n",
       "66       Star Wars\n",
       "76       Star Wars\n",
       "           ...    \n",
       "63617    Star Wars\n",
       "63676      Vintage\n",
       "63989      Vintage\n",
       "64497      Vintage\n",
       "64508    Star Wars\n",
       "Length: 740, dtype: object"
      ]
     },
     "execution_count": 20,
     "metadata": {},
     "output_type": "execute_result"
    }
   ],
   "source": [
    "era[scifi.year > 1977] = 'Star Wars'\n",
    "era"
   ]
  },
  {
   "cell_type": "markdown",
   "metadata": {},
   "source": [
    "And then set 'Post-Matrix' for after 1999:"
   ]
  },
  {
   "cell_type": "code",
   "execution_count": 21,
   "metadata": {},
   "outputs": [
    {
     "data": {
      "text/plain": [
       "id\n",
       "24         Star Wars\n",
       "29         Star Wars\n",
       "32         Star Wars\n",
       "66         Star Wars\n",
       "76         Star Wars\n",
       "            ...     \n",
       "63617    Post-Matrix\n",
       "63676        Vintage\n",
       "63989        Vintage\n",
       "64497        Vintage\n",
       "64508    Post-Matrix\n",
       "Length: 740, dtype: object"
      ]
     },
     "execution_count": 21,
     "metadata": {},
     "output_type": "execute_result"
    }
   ],
   "source": [
    "era[scifi.year > 1999] = 'Post-Matrix'\n",
    "era"
   ]
  },
  {
   "cell_type": "markdown",
   "metadata": {},
   "source": [
    "Now we can add this as a column in our data frame:"
   ]
  },
  {
   "cell_type": "code",
   "execution_count": 22,
   "metadata": {},
   "outputs": [],
   "source": [
    "scifi['era'] = era"
   ]
  },
  {
   "cell_type": "markdown",
   "metadata": {},
   "source": [
    "How many sci-fi movies do we have from each era?"
   ]
  },
  {
   "cell_type": "code",
   "execution_count": 23,
   "metadata": {},
   "outputs": [
    {
     "data": {
      "text/plain": [
       "<matplotlib.axes._subplots.AxesSubplot at 0x1fdb6bc0880>"
      ]
     },
     "execution_count": 23,
     "metadata": {},
     "output_type": "execute_result"
    },
    {
     "data": {
      "image/png": "[encoded data removed]",
      "text/plain": [
       "<Figure size 432x288 with 1 Axes>"
      ]
     },
     "metadata": {
      "needs_background": "light"
     },
     "output_type": "display_data"
    }
   ],
   "source": [
    "sns.countplot(scifi['era'])"
   ]
  },
  {
   "cell_type": "markdown",
   "metadata": {},
   "source": [
    "But this era is in the wrong order!  That's no good.  We can fix that by making the `era` an *ordered categorical*.  We often leave categorical variables as strings, unless we have a very large number of data points, but we don't get control over their order.\n",
    "\n",
    "Let's make it a categorical variable:"
   ]
  },
  {
   "cell_type": "code",
   "execution_count": 24,
   "metadata": {},
   "outputs": [],
   "source": [
    "era = era.astype('category')"
   ]
  },
  {
   "cell_type": "markdown",
   "metadata": {},
   "source": [
    "And set the category order:"
   ]
  },
  {
   "cell_type": "code",
   "execution_count": 25,
   "metadata": {},
   "outputs": [
    {
     "data": {
      "text/plain": [
       "<matplotlib.axes._subplots.AxesSubplot at 0x1fdb744d850>"
      ]
     },
     "execution_count": 25,
     "metadata": {},
     "output_type": "execute_result"
    },
    {
     "data": {
      "image/png": "[encoded data removed]",
      "text/plain": [
       "<Figure size 432x288 with 1 Axes>"
      ]
     },
     "metadata": {
      "needs_background": "light"
     },
     "output_type": "display_data"
    }
   ],
   "source": [
    "era = era.cat.reorder_categories(['Vintage', 'Star Wars', 'Post-Matrix'])\n",
    "scifi['era'] = era\n",
    "sns.countplot(scifi['era'])"
   ]
  },
  {
   "cell_type": "markdown",
   "metadata": {},
   "source": [
    "## Creating Data Frames\n",
    "\n",
    "In this section, we're going to see how to create data frames!"
   ]
  },
  {
   "cell_type": "markdown",
   "metadata": {},
   "source": [
    "### From One Series\n",
    "\n",
    "We can create a data frame from *one* series by using the [`to_frame`](https://pandas.pydata.org/pandas-docs/stable/reference/api/pandas.Series.to_frame.html) method, as seen in [Reshaping](Reshaping.ipynb).\n",
    "\n",
    "Let's get a series:"
   ]
  },
  {
   "cell_type": "code",
   "execution_count": 26,
   "metadata": {},
   "outputs": [
    {
     "data": {
      "text/plain": [
       "0            1\n",
       "1            2\n",
       "2            3\n",
       "3            4\n",
       "4            5\n",
       "         ...  \n",
       "10192    65088\n",
       "10193    65091\n",
       "10194    65126\n",
       "10195    65130\n",
       "10196    65133\n",
       "Name: id, Length: 10197, dtype: int64"
      ]
     },
     "execution_count": 26,
     "metadata": {},
     "output_type": "execute_result"
    }
   ],
   "source": [
    "id_s = movies['id']\n",
    "id_s"
   ]
  },
  {
   "cell_type": "markdown",
   "metadata": {},
   "source": [
    "And convert it to a frame:"
   ]
  },
  {
   "cell_type": "code",
   "execution_count": 27,
   "metadata": {},
   "outputs": [
    {
     "data": {
      "text/html": [
       "<div>\n",
       "<style scoped>\n",
       "    .dataframe tbody tr th:only-of-type {\n",
       "        vertical-align: middle;\n",
       "    }\n",
       "\n",
       "    .dataframe tbody tr th {\n",
       "        vertical-align: top;\n",
       "    }\n",
       "\n",
       "    .dataframe thead th {\n",
       "        text-align: right;\n",
       "    }\n",
       "</style>\n",
       "<table border=\"1\" class=\"dataframe\">\n",
       "  <thead>\n",
       "    <tr style=\"text-align: right;\">\n",
       "      <th></th>\n",
       "      <th>movieID</th>\n",
       "    </tr>\n",
       "  </thead>\n",
       "  <tbody>\n",
       "    <tr>\n",
       "      <th>0</th>\n",
       "      <td>1</td>\n",
       "    </tr>\n",
       "    <tr>\n",
       "      <th>1</th>\n",
       "      <td>2</td>\n",
       "    </tr>\n",
       "    <tr>\n",
       "      <th>2</th>\n",
       "      <td>3</td>\n",
       "    </tr>\n",
       "    <tr>\n",
       "      <th>3</th>\n",
       "      <td>4</td>\n",
       "    </tr>\n",
       "    <tr>\n",
       "      <th>4</th>\n",
       "      <td>5</td>\n",
       "    </tr>\n",
       "    <tr>\n",
       "      <th>...</th>\n",
       "      <td>...</td>\n",
       "    </tr>\n",
       "    <tr>\n",
       "      <th>10192</th>\n",
       "      <td>65088</td>\n",
       "    </tr>\n",
       "    <tr>\n",
       "      <th>10193</th>\n",
       "      <td>65091</td>\n",
       "    </tr>\n",
       "    <tr>\n",
       "      <th>10194</th>\n",
       "      <td>65126</td>\n",
       "    </tr>\n",
       "    <tr>\n",
       "      <th>10195</th>\n",
       "      <td>65130</td>\n",
       "    </tr>\n",
       "    <tr>\n",
       "      <th>10196</th>\n",
       "      <td>65133</td>\n",
       "    </tr>\n",
       "  </tbody>\n",
       "</table>\n",
       "<p>10197 rows × 1 columns</p>\n",
       "</div>"
      ],
      "text/plain": [
       "       movieID\n",
       "0            1\n",
       "1            2\n",
       "2            3\n",
       "3            4\n",
       "4            5\n",
       "...        ...\n",
       "10192    65088\n",
       "10193    65091\n",
       "10194    65126\n",
       "10195    65130\n",
       "10196    65133\n",
       "\n",
       "[10197 rows x 1 columns]"
      ]
     },
     "execution_count": 27,
     "metadata": {},
     "output_type": "execute_result"
    }
   ],
   "source": [
    "mids = id_s.to_frame('movieID')\n",
    "mids"
   ]
  },
  {
   "cell_type": "markdown",
   "metadata": {},
   "source": [
    "This **preserves the index**."
   ]
  },
  {
   "cell_type": "markdown",
   "metadata": {},
   "source": [
    "### From Multiple Series\n",
    "\n",
    "If we have multiple series, with the same or compatible indexes, we can create a data frame from a *dictionary* mapping column names to series:"
   ]
  },
  {
   "cell_type": "code",
   "execution_count": 28,
   "metadata": {},
   "outputs": [
    {
     "data": {
      "text/html": [
       "<div>\n",
       "<style scoped>\n",
       "    .dataframe tbody tr th:only-of-type {\n",
       "        vertical-align: middle;\n",
       "    }\n",
       "\n",
       "    .dataframe tbody tr th {\n",
       "        vertical-align: top;\n",
       "    }\n",
       "\n",
       "    .dataframe thead th {\n",
       "        text-align: right;\n",
       "    }\n",
       "</style>\n",
       "<table border=\"1\" class=\"dataframe\">\n",
       "  <thead>\n",
       "    <tr style=\"text-align: right;\">\n",
       "      <th></th>\n",
       "      <th>movieID</th>\n",
       "      <th>title</th>\n",
       "    </tr>\n",
       "  </thead>\n",
       "  <tbody>\n",
       "    <tr>\n",
       "      <th>0</th>\n",
       "      <td>1</td>\n",
       "      <td>Toy story</td>\n",
       "    </tr>\n",
       "    <tr>\n",
       "      <th>1</th>\n",
       "      <td>2</td>\n",
       "      <td>Jumanji</td>\n",
       "    </tr>\n",
       "    <tr>\n",
       "      <th>2</th>\n",
       "      <td>3</td>\n",
       "      <td>Grumpy Old Men</td>\n",
       "    </tr>\n",
       "    <tr>\n",
       "      <th>3</th>\n",
       "      <td>4</td>\n",
       "      <td>Waiting to Exhale</td>\n",
       "    </tr>\n",
       "    <tr>\n",
       "      <th>4</th>\n",
       "      <td>5</td>\n",
       "      <td>Father of the Bride Part II</td>\n",
       "    </tr>\n",
       "    <tr>\n",
       "      <th>...</th>\n",
       "      <td>...</td>\n",
       "      <td>...</td>\n",
       "    </tr>\n",
       "    <tr>\n",
       "      <th>10192</th>\n",
       "      <td>65088</td>\n",
       "      <td>Bedtime Stories</td>\n",
       "    </tr>\n",
       "    <tr>\n",
       "      <th>10193</th>\n",
       "      <td>65091</td>\n",
       "      <td>Manhattan Melodrama</td>\n",
       "    </tr>\n",
       "    <tr>\n",
       "      <th>10194</th>\n",
       "      <td>65126</td>\n",
       "      <td>Choke</td>\n",
       "    </tr>\n",
       "    <tr>\n",
       "      <th>10195</th>\n",
       "      <td>65130</td>\n",
       "      <td>Revolutionary Road</td>\n",
       "    </tr>\n",
       "    <tr>\n",
       "      <th>10196</th>\n",
       "      <td>65133</td>\n",
       "      <td>Blackadder Back &amp; Forth</td>\n",
       "    </tr>\n",
       "  </tbody>\n",
       "</table>\n",
       "<p>10197 rows × 2 columns</p>\n",
       "</div>"
      ],
      "text/plain": [
       "       movieID                        title\n",
       "0            1                    Toy story\n",
       "1            2                      Jumanji\n",
       "2            3               Grumpy Old Men\n",
       "3            4            Waiting to Exhale\n",
       "4            5  Father of the Bride Part II\n",
       "...        ...                          ...\n",
       "10192    65088              Bedtime Stories\n",
       "10193    65091          Manhattan Melodrama\n",
       "10194    65126                        Choke\n",
       "10195    65130           Revolutionary Road\n",
       "10196    65133      Blackadder Back & Forth\n",
       "\n",
       "[10197 rows x 2 columns]"
      ]
     },
     "execution_count": 28,
     "metadata": {},
     "output_type": "execute_result"
    }
   ],
   "source": [
    "titles = pd.DataFrame({\n",
    "    'movieID': movies['id'],\n",
    "    'title': movies['title']\n",
    "})\n",
    "titles"
   ]
  },
  {
   "cell_type": "markdown",
   "metadata": {},
   "source": [
    "We can also use NumPy arrays or Python lists instead of Pandas series, so long as they are all the same length.\n",
    "\n",
    "We can also provide an index (with `index=`) in the data frame constructor."
   ]
  },
  {
   "cell_type": "markdown",
   "metadata": {},
   "source": [
    "### From a List of Rows\n",
    "\n",
    "One more way to create a data frame is from a list (or any iterable) of rows, where each row is either a tuple or a dictionary.\n",
    "The [`from_records`](https://pandas.pydata.org/pandas-docs/stable/reference/api/pandas.DataFrame.from_records.html) function does this.\n",
    "\n",
    "If the rows are dictionaries, their keys are used as column names; if they are tuples, you can specify a column name with `columns=['name1', 'name2']`.\n",
    "\n",
    "One very common source of data like this is when we are reading data that comes to us in a list or file of JSON objects, or some other source of dictionaries (such as the census data, or a MongoDB connection).\n",
    "\n",
    "For example, the [Rent the Runway data](https://cseweb.ucsd.edu/~jmcauley/datasets.html#clothing_fit) comes as a GZIP-compressed list of JSON objects, one per line.  We can read this into a list of JSON objects like this:"
   ]
  },
  {
   "cell_type": "code",
   "execution_count": 34,
   "metadata": {},
   "outputs": [
    {
     "data": {
      "text/plain": [
       "{'fit': 'fit',\n",
       " 'user_id': '420272',\n",
       " 'bust size': '34d',\n",
       " 'item_id': '2260466',\n",
       " 'weight': '137lbs',\n",
       " 'rating': '10',\n",
       " 'rented for': 'vacation',\n",
       " 'review_text': \"An adorable romper! Belt and zipper were a little hard to navigate in a full day of wear/bathroom use, but that's to be expected. Wish it had pockets, but other than that-- absolutely perfect! I got a million compliments.\",\n",
       " 'body type': 'hourglass',\n",
       " 'review_summary': 'So many compliments!',\n",
       " 'category': 'romper',\n",
       " 'height': '5\\' 8\"',\n",
       " 'size': 14,\n",
       " 'age': '28',\n",
       " 'review_date': 'April 20, 2016'}"
      ]
     },
     "execution_count": 34,
     "metadata": {},
     "output_type": "execute_result"
    }
   ],
   "source": [
    "import json, gzip\n",
    "with gzip.open('renttherunway_final_data.json.gz', 'r') as zf:\n",
    "    rtr_records = [json.loads(line) for line in zf]\n",
    "\n",
    "# dump first value of list\n",
    "rtr_records[0]"
   ]
  },
  {
   "cell_type": "markdown",
   "metadata": {},
   "source": [
    "We can then use `from_records` to make a data frame:"
   ]
  },
  {
   "cell_type": "code",
   "execution_count": 35,
   "metadata": {},
   "outputs": [
    {
     "name": "stdout",
     "output_type": "stream",
     "text": [
      "<class 'pandas.core.frame.DataFrame'>\n",
      "RangeIndex: 192544 entries, 0 to 192543\n",
      "Data columns (total 15 columns):\n",
      " #   Column          Non-Null Count   Dtype \n",
      "---  ------          --------------   ----- \n",
      " 0   fit             192544 non-null  object\n",
      " 1   user_id         192544 non-null  object\n",
      " 2   bust size       174133 non-null  object\n",
      " 3   item_id         192544 non-null  object\n",
      " 4   weight          162562 non-null  object\n",
      " 5   rating          192462 non-null  object\n",
      " 6   rented for      192534 non-null  object\n",
      " 7   review_text     192544 non-null  object\n",
      " 8   body type       177907 non-null  object\n",
      " 9   review_summary  192544 non-null  object\n",
      " 10  category        192544 non-null  object\n",
      " 11  height          191867 non-null  object\n",
      " 12  size            192544 non-null  int64 \n",
      " 13  age             191584 non-null  object\n",
      " 14  review_date     192544 non-null  object\n",
      "dtypes: int64(1), object(14)\n",
      "memory usage: 22.0+ MB\n"
     ]
    }
   ],
   "source": [
    "rtr = pd.DataFrame.from_records(rtr_records)\n",
    "rtr.info()"
   ]
  },
  {
   "cell_type": "code",
   "execution_count": 36,
   "metadata": {},
   "outputs": [
    {
     "data": {
      "text/html": [
       "<div>\n",
       "<style scoped>\n",
       "    .dataframe tbody tr th:only-of-type {\n",
       "        vertical-align: middle;\n",
       "    }\n",
       "\n",
       "    .dataframe tbody tr th {\n",
       "        vertical-align: top;\n",
       "    }\n",
       "\n",
       "    .dataframe thead th {\n",
       "        text-align: right;\n",
       "    }\n",
       "</style>\n",
       "<table border=\"1\" class=\"dataframe\">\n",
       "  <thead>\n",
       "    <tr style=\"text-align: right;\">\n",
       "      <th></th>\n",
       "      <th>fit</th>\n",
       "      <th>user_id</th>\n",
       "      <th>bust size</th>\n",
       "      <th>item_id</th>\n",
       "      <th>weight</th>\n",
       "      <th>rating</th>\n",
       "      <th>rented for</th>\n",
       "      <th>review_text</th>\n",
       "      <th>body type</th>\n",
       "      <th>review_summary</th>\n",
       "      <th>category</th>\n",
       "      <th>height</th>\n",
       "      <th>size</th>\n",
       "      <th>age</th>\n",
       "      <th>review_date</th>\n",
       "    </tr>\n",
       "  </thead>\n",
       "  <tbody>\n",
       "    <tr>\n",
       "      <th>0</th>\n",
       "      <td>fit</td>\n",
       "      <td>420272</td>\n",
       "      <td>34d</td>\n",
       "      <td>2260466</td>\n",
       "      <td>137lbs</td>\n",
       "      <td>10</td>\n",
       "      <td>vacation</td>\n",
       "      <td>An adorable romper! Belt and zipper were a lit...</td>\n",
       "      <td>hourglass</td>\n",
       "      <td>So many compliments!</td>\n",
       "      <td>romper</td>\n",
       "      <td>5' 8\"</td>\n",
       "      <td>14</td>\n",
       "      <td>28</td>\n",
       "      <td>April 20, 2016</td>\n",
       "    </tr>\n",
       "    <tr>\n",
       "      <th>1</th>\n",
       "      <td>fit</td>\n",
       "      <td>273551</td>\n",
       "      <td>34b</td>\n",
       "      <td>153475</td>\n",
       "      <td>132lbs</td>\n",
       "      <td>10</td>\n",
       "      <td>other</td>\n",
       "      <td>I rented this dress for a photo shoot. The the...</td>\n",
       "      <td>straight &amp; narrow</td>\n",
       "      <td>I felt so glamourous!!!</td>\n",
       "      <td>gown</td>\n",
       "      <td>5' 6\"</td>\n",
       "      <td>12</td>\n",
       "      <td>36</td>\n",
       "      <td>June 18, 2013</td>\n",
       "    </tr>\n",
       "    <tr>\n",
       "      <th>2</th>\n",
       "      <td>fit</td>\n",
       "      <td>360448</td>\n",
       "      <td>NaN</td>\n",
       "      <td>1063761</td>\n",
       "      <td>NaN</td>\n",
       "      <td>10</td>\n",
       "      <td>party</td>\n",
       "      <td>This hugged in all the right places! It was a ...</td>\n",
       "      <td>NaN</td>\n",
       "      <td>It was a great time to celebrate the (almost) ...</td>\n",
       "      <td>sheath</td>\n",
       "      <td>5' 4\"</td>\n",
       "      <td>4</td>\n",
       "      <td>116</td>\n",
       "      <td>December 14, 2015</td>\n",
       "    </tr>\n",
       "    <tr>\n",
       "      <th>3</th>\n",
       "      <td>fit</td>\n",
       "      <td>909926</td>\n",
       "      <td>34c</td>\n",
       "      <td>126335</td>\n",
       "      <td>135lbs</td>\n",
       "      <td>8</td>\n",
       "      <td>formal affair</td>\n",
       "      <td>I rented this for my company's black tie award...</td>\n",
       "      <td>pear</td>\n",
       "      <td>Dress arrived on time and in perfect condition.</td>\n",
       "      <td>dress</td>\n",
       "      <td>5' 5\"</td>\n",
       "      <td>8</td>\n",
       "      <td>34</td>\n",
       "      <td>February 12, 2014</td>\n",
       "    </tr>\n",
       "    <tr>\n",
       "      <th>4</th>\n",
       "      <td>fit</td>\n",
       "      <td>151944</td>\n",
       "      <td>34b</td>\n",
       "      <td>616682</td>\n",
       "      <td>145lbs</td>\n",
       "      <td>10</td>\n",
       "      <td>wedding</td>\n",
       "      <td>I have always been petite in my upper body and...</td>\n",
       "      <td>athletic</td>\n",
       "      <td>Was in love with this dress !!!</td>\n",
       "      <td>gown</td>\n",
       "      <td>5' 9\"</td>\n",
       "      <td>12</td>\n",
       "      <td>27</td>\n",
       "      <td>September 26, 2016</td>\n",
       "    </tr>\n",
       "  </tbody>\n",
       "</table>\n",
       "</div>"
      ],
      "text/plain": [
       "   fit user_id bust size  item_id  weight rating     rented for  \\\n",
       "0  fit  420272       34d  2260466  137lbs     10       vacation   \n",
       "1  fit  273551       34b   153475  132lbs     10          other   \n",
       "2  fit  360448       NaN  1063761     NaN     10          party   \n",
       "3  fit  909926       34c   126335  135lbs      8  formal affair   \n",
       "4  fit  151944       34b   616682  145lbs     10        wedding   \n",
       "\n",
       "                                         review_text          body type  \\\n",
       "0  An adorable romper! Belt and zipper were a lit...          hourglass   \n",
       "1  I rented this dress for a photo shoot. The the...  straight & narrow   \n",
       "2  This hugged in all the right places! It was a ...                NaN   \n",
       "3  I rented this for my company's black tie award...               pear   \n",
       "4  I have always been petite in my upper body and...           athletic   \n",
       "\n",
       "                                      review_summary category height  size  \\\n",
       "0                               So many compliments!   romper  5' 8\"    14   \n",
       "1                            I felt so glamourous!!!     gown  5' 6\"    12   \n",
       "2  It was a great time to celebrate the (almost) ...   sheath  5' 4\"     4   \n",
       "3   Dress arrived on time and in perfect condition.     dress  5' 5\"     8   \n",
       "4                    Was in love with this dress !!!     gown  5' 9\"    12   \n",
       "\n",
       "   age         review_date  \n",
       "0   28      April 20, 2016  \n",
       "1   36       June 18, 2013  \n",
       "2  116   December 14, 2015  \n",
       "3   34   February 12, 2014  \n",
       "4   27  September 26, 2016  "
      ]
     },
     "execution_count": 36,
     "metadata": {},
     "output_type": "execute_result"
    }
   ],
   "source": [
    "rtr.head()"
   ]
  },
  {
   "cell_type": "markdown",
   "metadata": {},
   "source": [
    "We would then need to go convert a lot of data types, but we have the data!\n",
    "\n",
    "> **Note:** Pandas also provides functions to read JSON lines from a file.  But `from_records` has a lot of uses."
   ]
  },
  {
   "cell_type": "code",
   "execution_count": null,
   "metadata": {},
   "outputs": [],
   "source": []
  }
 ],
 "metadata": {
  "kernelspec": {
   "display_name": "Python 3",
   "language": "python",
   "name": "python3"
  },
  "language_info": {
   "codemirror_mode": {
    "name": "ipython",
    "version": 3
   },
   "file_extension": ".py",
   "mimetype": "text/x-python",
   "name": "python",
   "nbconvert_exporter": "python",
   "pygments_lexer": "ipython3",
   "version": "3.8.3"
  }
 },
 "nbformat": 4,
 "nbformat_minor": 4
}

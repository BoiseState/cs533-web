{
 "cells": [
  {
   "cell_type": "markdown",
   "id": "7daadfa5",
   "metadata": {},
   "source": [
    "# Advanced Pipeline Example\n",
    "\n",
    "This notebook demonstrates more advanced use of SciKit-Learn pipelines; more sophisticated than my [basic pipeline example](SciKitPipeline.ipynb) and simpler than the [TDS example](https://towardsdatascience.com/logistic-regression-classifier-on-census-income-data-e1dbef0b5738).\n",
    "\n",
    "The classification task is to predict whether or not a movie is an action movie.  We are going to use regularized logistic regression for this task.  If we can effectively predict whether a movie is an action movie from its ratings (number of ratings and/or rating values), that is evidence that action movies have different patterns than other movies; maybe they are more popular, or (on average) higher- or lower-rated."
   ]
  },
  {
   "cell_type": "markdown",
   "id": "c4ad389e",
   "metadata": {},
   "source": [
    "## Setup\n",
    "\n",
    "As usual, we want to import things:"
   ]
  },
  {
   "cell_type": "code",
   "execution_count": 1,
   "id": "3e3f1a5f",
   "metadata": {},
   "outputs": [],
   "source": [
    "import pandas as pd\n",
    "import numpy as np\n",
    "import seaborn as sns\n",
    "import matplotlib.pyplot as plt"
   ]
  },
  {
   "cell_type": "markdown",
   "id": "02eef6fc",
   "metadata": {},
   "source": [
    "And we'll import many things from SciKit-Learn:"
   ]
  },
  {
   "cell_type": "code",
   "execution_count": 2,
   "id": "32f22a91",
   "metadata": {},
   "outputs": [],
   "source": [
    "from sklearn.pipeline import Pipeline\n",
    "from sklearn.compose import ColumnTransformer\n",
    "from sklearn.preprocessing import StandardScaler, FunctionTransformer, PolynomialFeatures\n",
    "from sklearn.impute import SimpleImputer\n",
    "from sklearn.linear_model import LogisticRegressionCV\n",
    "from sklearn.model_selection import train_test_split"
   ]
  },
  {
   "cell_type": "markdown",
   "id": "306bdb88",
   "metadata": {},
   "source": [
    "And seed the RNG:"
   ]
  },
  {
   "cell_type": "code",
   "execution_count": 3,
   "id": "6d6d7f5f",
   "metadata": {},
   "outputs": [
    {
     "data": {
      "text/plain": [
       "SeedSequence(\n",
       "    entropy=20211028,\n",
       ")"
      ]
     },
     "execution_count": 3,
     "metadata": {},
     "output_type": "execute_result"
    }
   ],
   "source": [
    "import seedbank\n",
    "seedbank.initialize(20211028)"
   ]
  },
  {
   "cell_type": "markdown",
   "id": "778c1f22",
   "metadata": {},
   "source": [
    "## Data Preparation\n",
    "\n",
    "Let's first load the movie data:"
   ]
  },
  {
   "cell_type": "code",
   "execution_count": 4,
   "id": "39957129",
   "metadata": {},
   "outputs": [],
   "source": [
    "movies = pd.read_csv('../data/hetrec2011-ml/movies.dat', sep='\\t', encoding='latin1',\n",
    "                     na_values='\\\\N')"
   ]
  },
  {
   "cell_type": "code",
   "execution_count": 5,
   "id": "8d998f2c",
   "metadata": {},
   "outputs": [
    {
     "name": "stdout",
     "output_type": "stream",
     "text": [
      "<class 'pandas.core.frame.DataFrame'>\n",
      "RangeIndex: 10197 entries, 0 to 10196\n",
      "Data columns (total 21 columns):\n",
      " #   Column                  Non-Null Count  Dtype  \n",
      "---  ------                  --------------  -----  \n",
      " 0   id                      10197 non-null  int64  \n",
      " 1   title                   10197 non-null  object \n",
      " 2   imdbID                  10197 non-null  int64  \n",
      " 3   spanishTitle            10197 non-null  object \n",
      " 4   imdbPictureURL          10016 non-null  object \n",
      " 5   year                    10197 non-null  int64  \n",
      " 6   rtID                    9886 non-null   object \n",
      " 7   rtAllCriticsRating      9967 non-null   float64\n",
      " 8   rtAllCriticsNumReviews  9967 non-null   float64\n",
      " 9   rtAllCriticsNumFresh    9967 non-null   float64\n",
      " 10  rtAllCriticsNumRotten   9967 non-null   float64\n",
      " 11  rtAllCriticsScore       9967 non-null   float64\n",
      " 12  rtTopCriticsRating      9967 non-null   float64\n",
      " 13  rtTopCriticsNumReviews  9967 non-null   float64\n",
      " 14  rtTopCriticsNumFresh    9967 non-null   float64\n",
      " 15  rtTopCriticsNumRotten   9967 non-null   float64\n",
      " 16  rtTopCriticsScore       9967 non-null   float64\n",
      " 17  rtAudienceRating        9967 non-null   float64\n",
      " 18  rtAudienceNumRatings    9967 non-null   float64\n",
      " 19  rtAudienceScore         9967 non-null   float64\n",
      " 20  rtPictureURL            9967 non-null   object \n",
      "dtypes: float64(13), int64(3), object(5)\n",
      "memory usage: 1.6+ MB\n"
     ]
    }
   ],
   "source": [
    "movies.info()"
   ]
  },
  {
   "cell_type": "markdown",
   "id": "5332b94e",
   "metadata": {},
   "source": [
    "And we'll need genres:"
   ]
  },
  {
   "cell_type": "code",
   "execution_count": 6,
   "id": "8d2a73e5",
   "metadata": {},
   "outputs": [
    {
     "data": {
      "text/html": [
       "<div>\n",
       "<style scoped>\n",
       "    .dataframe tbody tr th:only-of-type {\n",
       "        vertical-align: middle;\n",
       "    }\n",
       "\n",
       "    .dataframe tbody tr th {\n",
       "        vertical-align: top;\n",
       "    }\n",
       "\n",
       "    .dataframe thead th {\n",
       "        text-align: right;\n",
       "    }\n",
       "</style>\n",
       "<table border=\"1\" class=\"dataframe\">\n",
       "  <thead>\n",
       "    <tr style=\"text-align: right;\">\n",
       "      <th></th>\n",
       "      <th>movieID</th>\n",
       "      <th>genre</th>\n",
       "    </tr>\n",
       "  </thead>\n",
       "  <tbody>\n",
       "    <tr>\n",
       "      <th>0</th>\n",
       "      <td>1</td>\n",
       "      <td>Adventure</td>\n",
       "    </tr>\n",
       "    <tr>\n",
       "      <th>1</th>\n",
       "      <td>1</td>\n",
       "      <td>Animation</td>\n",
       "    </tr>\n",
       "    <tr>\n",
       "      <th>2</th>\n",
       "      <td>1</td>\n",
       "      <td>Children</td>\n",
       "    </tr>\n",
       "    <tr>\n",
       "      <th>3</th>\n",
       "      <td>1</td>\n",
       "      <td>Comedy</td>\n",
       "    </tr>\n",
       "    <tr>\n",
       "      <th>4</th>\n",
       "      <td>1</td>\n",
       "      <td>Fantasy</td>\n",
       "    </tr>\n",
       "    <tr>\n",
       "      <th>...</th>\n",
       "      <td>...</td>\n",
       "      <td>...</td>\n",
       "    </tr>\n",
       "    <tr>\n",
       "      <th>20804</th>\n",
       "      <td>65126</td>\n",
       "      <td>Comedy</td>\n",
       "    </tr>\n",
       "    <tr>\n",
       "      <th>20805</th>\n",
       "      <td>65126</td>\n",
       "      <td>Drama</td>\n",
       "    </tr>\n",
       "    <tr>\n",
       "      <th>20806</th>\n",
       "      <td>65130</td>\n",
       "      <td>Drama</td>\n",
       "    </tr>\n",
       "    <tr>\n",
       "      <th>20807</th>\n",
       "      <td>65130</td>\n",
       "      <td>Romance</td>\n",
       "    </tr>\n",
       "    <tr>\n",
       "      <th>20808</th>\n",
       "      <td>65133</td>\n",
       "      <td>Comedy</td>\n",
       "    </tr>\n",
       "  </tbody>\n",
       "</table>\n",
       "<p>20809 rows × 2 columns</p>\n",
       "</div>"
      ],
      "text/plain": [
       "       movieID      genre\n",
       "0            1  Adventure\n",
       "1            1  Animation\n",
       "2            1   Children\n",
       "3            1     Comedy\n",
       "4            1    Fantasy\n",
       "...        ...        ...\n",
       "20804    65126     Comedy\n",
       "20805    65126      Drama\n",
       "20806    65130      Drama\n",
       "20807    65130    Romance\n",
       "20808    65133     Comedy\n",
       "\n",
       "[20809 rows x 2 columns]"
      ]
     },
     "execution_count": 6,
     "metadata": {},
     "output_type": "execute_result"
    }
   ],
   "source": [
    "genres = pd.read_csv('../data/hetrec2011-ml/movie_genres.dat', sep='\\t', encoding='latin1',\n",
    "                     na_values='\\\\N')\n",
    "genres"
   ]
  },
  {
   "cell_type": "markdown",
   "id": "d18b7524",
   "metadata": {},
   "source": [
    "We're going to get a list of action movie IDs and make our outcome column:"
   ]
  },
  {
   "cell_type": "code",
   "execution_count": 7,
   "id": "406c411b",
   "metadata": {},
   "outputs": [],
   "source": [
    "action_movies = genres.loc[genres['genre'] == 'Action', 'movieID']\n",
    "movies['isAction'] = movies['id'].isin(action_movies)"
   ]
  },
  {
   "cell_type": "markdown",
   "id": "1fba5ac7",
   "metadata": {},
   "source": [
    "Zero things out:"
   ]
  },
  {
   "cell_type": "code",
   "execution_count": 8,
   "id": "470314d5",
   "metadata": {},
   "outputs": [],
   "source": [
    "movies.loc[movies['rtAllCriticsRating'] == 0, 'rtAllCriticsRating'] = np.nan\n",
    "movies.loc[movies['rtTopCriticsRating'] == 0, 'rtTopCriticsRating'] = np.nan\n",
    "movies.loc[movies['rtAudienceRating'] == 0, 'rtAudienceRating'] = np.nan"
   ]
  },
  {
   "cell_type": "markdown",
   "id": "bd16d70d",
   "metadata": {},
   "source": [
    "Create our train/test split:"
   ]
  },
  {
   "cell_type": "code",
   "execution_count": 9,
   "id": "2d25692c",
   "metadata": {},
   "outputs": [],
   "source": [
    "train, test = train_test_split(movies, test_size=0.25)"
   ]
  },
  {
   "cell_type": "code",
   "execution_count": 10,
   "id": "3bfef8f9",
   "metadata": {},
   "outputs": [],
   "source": [
    "train.set_index('id', inplace=True)\n",
    "test.set_index('id', inplace=True)"
   ]
  },
  {
   "cell_type": "markdown",
   "id": "03dd8dd8",
   "metadata": {},
   "source": [
    "## Exploration\n",
    "\n",
    "Now that we have training data, let's look at our class balance:"
   ]
  },
  {
   "cell_type": "code",
   "execution_count": 11,
   "id": "bedf9c8c",
   "metadata": {},
   "outputs": [
    {
     "data": {
      "text/plain": [
       "<AxesSubplot:xlabel='isAction', ylabel='count'>"
      ]
     },
     "execution_count": 11,
     "metadata": {},
     "output_type": "execute_result"
    },
    {
     "data": {
      "image/png": "[encoded data removed]",
      "text/plain": [
       "<Figure size 432x288 with 1 Axes>"
      ]
     },
     "metadata": {
      "needs_background": "light"
     },
     "output_type": "display_data"
    }
   ],
   "source": [
    "sns.countplot(x=train['isAction'])"
   ]
  },
  {
   "cell_type": "markdown",
   "id": "1fa8efcc",
   "metadata": {},
   "source": [
    "Non-action is our majority class.  What is that fraction?"
   ]
  },
  {
   "cell_type": "code",
   "execution_count": 12,
   "id": "c9031a66",
   "metadata": {},
   "outputs": [
    {
     "data": {
      "text/plain": [
       "0.8595527657905061"
      ]
     },
     "execution_count": 12,
     "metadata": {},
     "output_type": "execute_result"
    }
   ],
   "source": [
    "maj_frac = 1 - train['isAction'].mean()\n",
    "maj_frac"
   ]
  },
  {
   "cell_type": "markdown",
   "id": "92c1d655",
   "metadata": {},
   "source": [
    "If our accuracy is **less** than 0.859, we aren't beating majority class.\n",
    "\n",
    "Let's start to look at some possible correlations with our outcome variable."
   ]
  },
  {
   "cell_type": "code",
   "execution_count": 13,
   "id": "3c1aa8f2",
   "metadata": {},
   "outputs": [
    {
     "data": {
      "image/png": "[encoded data removed]",
      "text/plain": [
       "<Figure size 1296x216 with 6 Axes>"
      ]
     },
     "metadata": {
      "needs_background": "light"
     },
     "output_type": "display_data"
    }
   ],
   "source": [
    "rate_cols = [\n",
    "    'rtAllCriticsRating', 'rtAllCriticsNumReviews',\n",
    "    'rtTopCriticsRating', 'rtTopCriticsNumReviews',\n",
    "    'rtAudienceRating', 'rtAudienceNumRatings'\n",
    "]\n",
    "pivot = train[rate_cols].melt()\n",
    "pivot = pivot.join(train['isAction'])\n",
    "grid = sns.FacetGrid(data=pivot, col='variable', hue='isAction', sharey=False, sharex=False)\n",
    "grid.map(sns.kdeplot, 'value')\n",
    "plt.show()"
   ]
  },
  {
   "cell_type": "markdown",
   "id": "c78739a5",
   "metadata": {},
   "source": [
    "That isn't looking promising. But the purpose of this tutorial is to demonstrate pipelines, not to build a great classifier."
   ]
  },
  {
   "cell_type": "markdown",
   "id": "189e20a3",
   "metadata": {},
   "source": [
    "## Building the Classifier\n",
    "\n",
    "For this tutorial, we are going to apply different transformations to different columns.\n",
    "\n",
    "- For *average ratings*, we will standardize the variables, and fill in missing values with 0 (unknown -> ignore)\n",
    "- For *counts*, we will take the log, and then standardize the logs; fill missing values with 0 (one rating)\n",
    "\n",
    "The SciKit-Learn tool {py:class}`sklearn.compose.ColumnTransformer` allows us to specify a transform that will do that.\n",
    "\n",
    "SciKit-Learn doesn't have a direct log transform, but we can use {py:class}`sklearn.preprocessing.FunctionTransformer` with {py:func}`numpy.log1p`."
   ]
  },
  {
   "cell_type": "code",
   "execution_count": 14,
   "id": "9f17bef7",
   "metadata": {},
   "outputs": [],
   "source": [
    "col_ops = ColumnTransformer([\n",
    "    ('ratings', Pipeline([('std', StandardScaler()), ('fill', SimpleImputer(strategy='constant', fill_value=0))]),\n",
    "     ['rtAllCriticsRating', 'rtTopCriticsRating', 'rtAudienceRating']),\n",
    "    ('counts', Pipeline([\n",
    "        ('log', FunctionTransformer(np.log1p)),\n",
    "        ('std', StandardScaler()),\n",
    "        ('fill', SimpleImputer(strategy='constant', fill_value=0))]),\n",
    "     ['rtAllCriticsNumReviews', 'rtTopCriticsNumReviews', 'rtAudienceNumRatings'])\n",
    "])"
   ]
  },
  {
   "cell_type": "markdown",
   "id": "794c8969",
   "metadata": {},
   "source": [
    "By default, the column transformer *ignores* any columns that aren't used in one of the runs.  It **does** know enough about Pandas to use the column names.\n",
    "\n",
    "Let's see it in action:"
   ]
  },
  {
   "cell_type": "code",
   "execution_count": 15,
   "id": "7f1808ab",
   "metadata": {},
   "outputs": [
    {
     "data": {
      "text/plain": [
       "array([[-1.42368447, -0.85740736, -1.08079972,  0.13052435,  0.43061088,\n",
       "         0.89681628],\n",
       "       [ 0.        ,  0.        ,  0.        , -1.4082733 , -1.28161907,\n",
       "        -1.53417271],\n",
       "       [ 0.54852497,  0.        ,  0.46093164, -0.53448073, -0.0274333 ,\n",
       "        -0.10633124],\n",
       "       ...,\n",
       "       [ 0.61426528,  0.        ,  1.12167365, -0.10789001, -0.4255041 ,\n",
       "         0.7642107 ],\n",
       "       [-0.50332006, -0.59676893, -0.64030504,  1.42116578,  1.46636589,\n",
       "         0.98862888],\n",
       "       [-0.04313786,  0.        ,  0.        , -0.46530863, -1.28161907,\n",
       "        -1.53417271]])"
      ]
     },
     "execution_count": 15,
     "metadata": {},
     "output_type": "execute_result"
    }
   ],
   "source": [
    "col_ops.fit_transform(train)"
   ]
  },
  {
   "cell_type": "markdown",
   "id": "d28b1a39",
   "metadata": {},
   "source": [
    "We're also going to allow the model to use **first-order interaction terms**: the product of the (standardized) rating count and rating value, for example.  The {py:class}`sklearn.preprocessing.PolynomialFeatures` transformer can do that.  So we will put it in a pipeline with our column operations and our final logistic regression:"
   ]
  },
  {
   "cell_type": "code",
   "execution_count": 16,
   "id": "fb72f8f0",
   "metadata": {},
   "outputs": [],
   "source": [
    "lg_pipe = Pipeline([\n",
    "    ('features', col_ops),\n",
    "    ('interact', PolynomialFeatures()),\n",
    "    ('predict', LogisticRegressionCV(penalty='l1', solver='liblinear'))\n",
    "])"
   ]
  },
  {
   "cell_type": "markdown",
   "id": "e20a335d",
   "metadata": {},
   "source": [
    "Now let's fit that model:"
   ]
  },
  {
   "cell_type": "code",
   "execution_count": 17,
   "id": "a3bd9c62",
   "metadata": {},
   "outputs": [
    {
     "data": {
      "text/plain": [
       "Pipeline(steps=[('features',\n",
       "                 ColumnTransformer(transformers=[('ratings',\n",
       "                                                  Pipeline(steps=[('std',\n",
       "                                                                   StandardScaler()),\n",
       "                                                                  ('fill',\n",
       "                                                                   SimpleImputer(fill_value=0,\n",
       "                                                                                 strategy='constant'))]),\n",
       "                                                  ['rtAllCriticsRating',\n",
       "                                                   'rtTopCriticsRating',\n",
       "                                                   'rtAudienceRating']),\n",
       "                                                 ('counts',\n",
       "                                                  Pipeline(steps=[('log',\n",
       "                                                                   FunctionTransformer(func=<ufunc 'log1p'>)),\n",
       "                                                                  ('std',\n",
       "                                                                   StandardScaler()),\n",
       "                                                                  ('fill',\n",
       "                                                                   SimpleImputer(fill_value=0,\n",
       "                                                                                 strategy='constant'))]),\n",
       "                                                  ['rtAllCriticsNumReviews',\n",
       "                                                   'rtTopCriticsNumReviews',\n",
       "                                                   'rtAudienceNumRatings'])])),\n",
       "                ('interact', PolynomialFeatures()),\n",
       "                ('predict',\n",
       "                 LogisticRegressionCV(penalty='l1', solver='liblinear'))])"
      ]
     },
     "execution_count": 17,
     "metadata": {},
     "output_type": "execute_result"
    }
   ],
   "source": [
    "lg_pipe.fit(train, train['isAction'])"
   ]
  },
  {
   "cell_type": "markdown",
   "id": "a135a92c",
   "metadata": {},
   "source": [
    "How do we do on that test data?"
   ]
  },
  {
   "cell_type": "code",
   "execution_count": 18,
   "id": "448e51f6",
   "metadata": {},
   "outputs": [],
   "source": [
    "preds = lg_pipe.predict(test)"
   ]
  },
  {
   "cell_type": "markdown",
   "id": "08bac5e7",
   "metadata": {},
   "source": [
    "Compute the accuracy:"
   ]
  },
  {
   "cell_type": "code",
   "execution_count": 19,
   "id": "05276828",
   "metadata": {},
   "outputs": [
    {
     "data": {
      "text/plain": [
       "0.8545098039215686"
      ]
     },
     "execution_count": 19,
     "metadata": {},
     "output_type": "execute_result"
    }
   ],
   "source": [
    "np.mean(preds == test['isAction'])"
   ]
  },
  {
   "cell_type": "markdown",
   "id": "7fd36996",
   "metadata": {},
   "source": [
    "Did we just predict everything is `False`?"
   ]
  },
  {
   "cell_type": "code",
   "execution_count": 20,
   "id": "13ea55d6",
   "metadata": {},
   "outputs": [
    {
     "data": {
      "text/plain": [
       "0"
      ]
     },
     "execution_count": 20,
     "metadata": {},
     "output_type": "execute_result"
    }
   ],
   "source": [
    "np.sum(preds)"
   ]
  },
  {
   "cell_type": "markdown",
   "id": "e5d77f2c",
   "metadata": {},
   "source": [
    "Yes, yes we did. We predicted the majority class.\n",
    "\n",
    "This classifier is not good! That happens sometimes, but we have now seen an example of a more sophisticated SciKit-Learn pipeline."
   ]
  }
 ],
 "metadata": {
  "kernelspec": {
   "display_name": "Python 3 (ipykernel)",
   "language": "python",
   "name": "python3"
  },
  "language_info": {
   "codemirror_mode": {
    "name": "ipython",
    "version": 3
   },
   "file_extension": ".py",
   "mimetype": "text/x-python",
   "name": "python",
   "nbconvert_exporter": "python",
   "pygments_lexer": "ipython3",
   "version": "3.9.7"
  }
 },
 "nbformat": 4,
 "nbformat_minor": 5
}

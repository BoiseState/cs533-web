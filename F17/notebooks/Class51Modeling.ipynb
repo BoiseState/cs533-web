{
 "cells": [
  {
   "cell_type": "code",
   "execution_count": 6,
   "metadata": {},
   "outputs": [
    {
     "name": "stderr",
     "output_type": "stream",
     "text": [
      "Loading tidyverse: ggplot2\n",
      "Loading tidyverse: tibble\n",
      "Loading tidyverse: tidyr\n",
      "Loading tidyverse: readr\n",
      "Loading tidyverse: purrr\n",
      "Loading tidyverse: dplyr\n",
      "Conflicts with tidy packages ---------------------------------------------------\n",
      "filter(): dplyr, stats\n",
      "lag():    dplyr, stats\n"
     ]
    }
   ],
   "source": [
    "library(tidyverse)"
   ]
  },
  {
   "cell_type": "code",
   "execution_count": 8,
   "metadata": {
    "collapsed": true
   },
   "outputs": [],
   "source": [
    "options(repr.plot.height=4.5, repr.matrix.max.rows=15)"
   ]
  },
  {
   "cell_type": "markdown",
   "metadata": {},
   "source": [
    "Let's flip a coin:"
   ]
  },
  {
   "cell_type": "code",
   "execution_count": 3,
   "metadata": {},
   "outputs": [
    {
     "data": {
      "text/html": [
       "<ol class=list-inline>\n",
       "\t<li>'Blue'</li>\n",
       "\t<li>'Blue'</li>\n",
       "\t<li>'Blue'</li>\n",
       "\t<li>'Blue'</li>\n",
       "\t<li>'Blue'</li>\n",
       "\t<li>'Blue'</li>\n",
       "\t<li>'Red'</li>\n",
       "\t<li>'Blue'</li>\n",
       "\t<li>'Blue'</li>\n",
       "\t<li>'Blue'</li>\n",
       "\t<li>'Red'</li>\n",
       "\t<li>'Blue'</li>\n",
       "\t<li>'Blue'</li>\n",
       "\t<li>'Blue'</li>\n",
       "\t<li>'Red'</li>\n",
       "\t<li>'Blue'</li>\n",
       "\t<li>'Red'</li>\n",
       "\t<li>'Blue'</li>\n",
       "\t<li>'Blue'</li>\n",
       "\t<li>'Red'</li>\n",
       "\t<li>'Blue'</li>\n",
       "\t<li>'Blue'</li>\n",
       "\t<li>'Blue'</li>\n",
       "\t<li>'Blue'</li>\n",
       "\t<li>'Blue'</li>\n",
       "\t<li>'Blue'</li>\n",
       "\t<li>'Red'</li>\n",
       "\t<li>'Blue'</li>\n",
       "\t<li>'Blue'</li>\n",
       "\t<li>'Blue'</li>\n",
       "\t<li>'Blue'</li>\n",
       "\t<li>'Blue'</li>\n",
       "\t<li>'Blue'</li>\n",
       "\t<li>'Red'</li>\n",
       "\t<li>'Red'</li>\n",
       "\t<li>'Red'</li>\n",
       "\t<li>'Blue'</li>\n",
       "\t<li>'Blue'</li>\n",
       "\t<li>'Blue'</li>\n",
       "\t<li>'Blue'</li>\n",
       "\t<li>'Blue'</li>\n",
       "\t<li>'Blue'</li>\n",
       "\t<li>'Blue'</li>\n",
       "\t<li>'Red'</li>\n",
       "\t<li>'Red'</li>\n",
       "\t<li>'Blue'</li>\n",
       "\t<li>'Blue'</li>\n",
       "\t<li>'Red'</li>\n",
       "\t<li>'Red'</li>\n",
       "\t<li>'Blue'</li>\n",
       "\t<li>'Blue'</li>\n",
       "\t<li>'Red'</li>\n",
       "\t<li>'Blue'</li>\n",
       "\t<li>'Blue'</li>\n",
       "\t<li>'Red'</li>\n",
       "\t<li>'Blue'</li>\n",
       "\t<li>'Blue'</li>\n",
       "\t<li>'Blue'</li>\n",
       "\t<li>'Blue'</li>\n",
       "\t<li>'Blue'</li>\n",
       "\t<li>'Blue'</li>\n",
       "\t<li>'Red'</li>\n",
       "\t<li>'Blue'</li>\n",
       "\t<li>'Red'</li>\n",
       "\t<li>'Red'</li>\n",
       "\t<li>'Blue'</li>\n",
       "\t<li>'Red'</li>\n",
       "\t<li>'Blue'</li>\n",
       "\t<li>'Red'</li>\n",
       "\t<li>'Red'</li>\n",
       "\t<li>'Blue'</li>\n",
       "\t<li>'Red'</li>\n",
       "\t<li>'Blue'</li>\n",
       "\t<li>'Red'</li>\n",
       "\t<li>'Blue'</li>\n",
       "\t<li>'Red'</li>\n",
       "\t<li>'Red'</li>\n",
       "\t<li>'Red'</li>\n",
       "\t<li>'Red'</li>\n",
       "\t<li>'Blue'</li>\n",
       "\t<li>'Red'</li>\n",
       "\t<li>'Blue'</li>\n",
       "\t<li>'Blue'</li>\n",
       "\t<li>'Blue'</li>\n",
       "\t<li>'Red'</li>\n",
       "\t<li>'Red'</li>\n",
       "\t<li>'Blue'</li>\n",
       "\t<li>'Blue'</li>\n",
       "\t<li>'Blue'</li>\n",
       "\t<li>'Blue'</li>\n",
       "\t<li>'Blue'</li>\n",
       "\t<li>'Blue'</li>\n",
       "\t<li>'Blue'</li>\n",
       "\t<li>'Blue'</li>\n",
       "\t<li>'Blue'</li>\n",
       "\t<li>'Red'</li>\n",
       "\t<li>'Blue'</li>\n",
       "\t<li>'Red'</li>\n",
       "\t<li>'Blue'</li>\n",
       "\t<li>'Red'</li>\n",
       "</ol>\n"
      ],
      "text/latex": [
       "\\begin{enumerate*}\n",
       "\\item 'Blue'\n",
       "\\item 'Blue'\n",
       "\\item 'Blue'\n",
       "\\item 'Blue'\n",
       "\\item 'Blue'\n",
       "\\item 'Blue'\n",
       "\\item 'Red'\n",
       "\\item 'Blue'\n",
       "\\item 'Blue'\n",
       "\\item 'Blue'\n",
       "\\item 'Red'\n",
       "\\item 'Blue'\n",
       "\\item 'Blue'\n",
       "\\item 'Blue'\n",
       "\\item 'Red'\n",
       "\\item 'Blue'\n",
       "\\item 'Red'\n",
       "\\item 'Blue'\n",
       "\\item 'Blue'\n",
       "\\item 'Red'\n",
       "\\item 'Blue'\n",
       "\\item 'Blue'\n",
       "\\item 'Blue'\n",
       "\\item 'Blue'\n",
       "\\item 'Blue'\n",
       "\\item 'Blue'\n",
       "\\item 'Red'\n",
       "\\item 'Blue'\n",
       "\\item 'Blue'\n",
       "\\item 'Blue'\n",
       "\\item 'Blue'\n",
       "\\item 'Blue'\n",
       "\\item 'Blue'\n",
       "\\item 'Red'\n",
       "\\item 'Red'\n",
       "\\item 'Red'\n",
       "\\item 'Blue'\n",
       "\\item 'Blue'\n",
       "\\item 'Blue'\n",
       "\\item 'Blue'\n",
       "\\item 'Blue'\n",
       "\\item 'Blue'\n",
       "\\item 'Blue'\n",
       "\\item 'Red'\n",
       "\\item 'Red'\n",
       "\\item 'Blue'\n",
       "\\item 'Blue'\n",
       "\\item 'Red'\n",
       "\\item 'Red'\n",
       "\\item 'Blue'\n",
       "\\item 'Blue'\n",
       "\\item 'Red'\n",
       "\\item 'Blue'\n",
       "\\item 'Blue'\n",
       "\\item 'Red'\n",
       "\\item 'Blue'\n",
       "\\item 'Blue'\n",
       "\\item 'Blue'\n",
       "\\item 'Blue'\n",
       "\\item 'Blue'\n",
       "\\item 'Blue'\n",
       "\\item 'Red'\n",
       "\\item 'Blue'\n",
       "\\item 'Red'\n",
       "\\item 'Red'\n",
       "\\item 'Blue'\n",
       "\\item 'Red'\n",
       "\\item 'Blue'\n",
       "\\item 'Red'\n",
       "\\item 'Red'\n",
       "\\item 'Blue'\n",
       "\\item 'Red'\n",
       "\\item 'Blue'\n",
       "\\item 'Red'\n",
       "\\item 'Blue'\n",
       "\\item 'Red'\n",
       "\\item 'Red'\n",
       "\\item 'Red'\n",
       "\\item 'Red'\n",
       "\\item 'Blue'\n",
       "\\item 'Red'\n",
       "\\item 'Blue'\n",
       "\\item 'Blue'\n",
       "\\item 'Blue'\n",
       "\\item 'Red'\n",
       "\\item 'Red'\n",
       "\\item 'Blue'\n",
       "\\item 'Blue'\n",
       "\\item 'Blue'\n",
       "\\item 'Blue'\n",
       "\\item 'Blue'\n",
       "\\item 'Blue'\n",
       "\\item 'Blue'\n",
       "\\item 'Blue'\n",
       "\\item 'Blue'\n",
       "\\item 'Red'\n",
       "\\item 'Blue'\n",
       "\\item 'Red'\n",
       "\\item 'Blue'\n",
       "\\item 'Red'\n",
       "\\end{enumerate*}\n"
      ],
      "text/markdown": [
       "1. 'Blue'\n",
       "2. 'Blue'\n",
       "3. 'Blue'\n",
       "4. 'Blue'\n",
       "5. 'Blue'\n",
       "6. 'Blue'\n",
       "7. 'Red'\n",
       "8. 'Blue'\n",
       "9. 'Blue'\n",
       "10. 'Blue'\n",
       "11. 'Red'\n",
       "12. 'Blue'\n",
       "13. 'Blue'\n",
       "14. 'Blue'\n",
       "15. 'Red'\n",
       "16. 'Blue'\n",
       "17. 'Red'\n",
       "18. 'Blue'\n",
       "19. 'Blue'\n",
       "20. 'Red'\n",
       "21. 'Blue'\n",
       "22. 'Blue'\n",
       "23. 'Blue'\n",
       "24. 'Blue'\n",
       "25. 'Blue'\n",
       "26. 'Blue'\n",
       "27. 'Red'\n",
       "28. 'Blue'\n",
       "29. 'Blue'\n",
       "30. 'Blue'\n",
       "31. 'Blue'\n",
       "32. 'Blue'\n",
       "33. 'Blue'\n",
       "34. 'Red'\n",
       "35. 'Red'\n",
       "36. 'Red'\n",
       "37. 'Blue'\n",
       "38. 'Blue'\n",
       "39. 'Blue'\n",
       "40. 'Blue'\n",
       "41. 'Blue'\n",
       "42. 'Blue'\n",
       "43. 'Blue'\n",
       "44. 'Red'\n",
       "45. 'Red'\n",
       "46. 'Blue'\n",
       "47. 'Blue'\n",
       "48. 'Red'\n",
       "49. 'Red'\n",
       "50. 'Blue'\n",
       "51. 'Blue'\n",
       "52. 'Red'\n",
       "53. 'Blue'\n",
       "54. 'Blue'\n",
       "55. 'Red'\n",
       "56. 'Blue'\n",
       "57. 'Blue'\n",
       "58. 'Blue'\n",
       "59. 'Blue'\n",
       "60. 'Blue'\n",
       "61. 'Blue'\n",
       "62. 'Red'\n",
       "63. 'Blue'\n",
       "64. 'Red'\n",
       "65. 'Red'\n",
       "66. 'Blue'\n",
       "67. 'Red'\n",
       "68. 'Blue'\n",
       "69. 'Red'\n",
       "70. 'Red'\n",
       "71. 'Blue'\n",
       "72. 'Red'\n",
       "73. 'Blue'\n",
       "74. 'Red'\n",
       "75. 'Blue'\n",
       "76. 'Red'\n",
       "77. 'Red'\n",
       "78. 'Red'\n",
       "79. 'Red'\n",
       "80. 'Blue'\n",
       "81. 'Red'\n",
       "82. 'Blue'\n",
       "83. 'Blue'\n",
       "84. 'Blue'\n",
       "85. 'Red'\n",
       "86. 'Red'\n",
       "87. 'Blue'\n",
       "88. 'Blue'\n",
       "89. 'Blue'\n",
       "90. 'Blue'\n",
       "91. 'Blue'\n",
       "92. 'Blue'\n",
       "93. 'Blue'\n",
       "94. 'Blue'\n",
       "95. 'Blue'\n",
       "96. 'Red'\n",
       "97. 'Blue'\n",
       "98. 'Red'\n",
       "99. 'Blue'\n",
       "100. 'Red'\n",
       "\n",
       "\n"
      ],
      "text/plain": [
       "  [1] \"Blue\" \"Blue\" \"Blue\" \"Blue\" \"Blue\" \"Blue\" \"Red\"  \"Blue\" \"Blue\" \"Blue\"\n",
       " [11] \"Red\"  \"Blue\" \"Blue\" \"Blue\" \"Red\"  \"Blue\" \"Red\"  \"Blue\" \"Blue\" \"Red\" \n",
       " [21] \"Blue\" \"Blue\" \"Blue\" \"Blue\" \"Blue\" \"Blue\" \"Red\"  \"Blue\" \"Blue\" \"Blue\"\n",
       " [31] \"Blue\" \"Blue\" \"Blue\" \"Red\"  \"Red\"  \"Red\"  \"Blue\" \"Blue\" \"Blue\" \"Blue\"\n",
       " [41] \"Blue\" \"Blue\" \"Blue\" \"Red\"  \"Red\"  \"Blue\" \"Blue\" \"Red\"  \"Red\"  \"Blue\"\n",
       " [51] \"Blue\" \"Red\"  \"Blue\" \"Blue\" \"Red\"  \"Blue\" \"Blue\" \"Blue\" \"Blue\" \"Blue\"\n",
       " [61] \"Blue\" \"Red\"  \"Blue\" \"Red\"  \"Red\"  \"Blue\" \"Red\"  \"Blue\" \"Red\"  \"Red\" \n",
       " [71] \"Blue\" \"Red\"  \"Blue\" \"Red\"  \"Blue\" \"Red\"  \"Red\"  \"Red\"  \"Red\"  \"Blue\"\n",
       " [81] \"Red\"  \"Blue\" \"Blue\" \"Blue\" \"Red\"  \"Red\"  \"Blue\" \"Blue\" \"Blue\" \"Blue\"\n",
       " [91] \"Blue\" \"Blue\" \"Blue\" \"Blue\" \"Blue\" \"Red\"  \"Blue\" \"Red\"  \"Blue\" \"Red\" "
      ]
     },
     "metadata": {},
     "output_type": "display_data"
    }
   ],
   "source": [
    "flips = sample(c(\"Red\", \"Blue\"), 100, replace=TRUE, prob=c(0.4, 0.6))\n",
    "flips"
   ]
  },
  {
   "cell_type": "markdown",
   "metadata": {},
   "source": [
    "What's the % red?"
   ]
  },
  {
   "cell_type": "code",
   "execution_count": 4,
   "metadata": {},
   "outputs": [
    {
     "data": {
      "text/html": [
       "0.33"
      ],
      "text/latex": [
       "0.33"
      ],
      "text/markdown": [
       "0.33"
      ],
      "text/plain": [
       "[1] 0.33"
      ]
     },
     "metadata": {},
     "output_type": "display_data"
    }
   ],
   "source": [
    "mean(flips == \"Red\")"
   ]
  },
  {
   "cell_type": "markdown",
   "metadata": {},
   "source": [
    "Let's do many iterations of our 100 flips to see the sampling distribution:"
   ]
  },
  {
   "cell_type": "code",
   "execution_count": 5,
   "metadata": {
    "collapsed": true
   },
   "outputs": [],
   "source": [
    "many_means = sapply(1:100, function(i) {\n",
    "    mean(sample(c(\"Red\", \"Blue\"), 100, replace=TRUE, prob=c(0.4, 0.6)) == \"Red\")\n",
    "})"
   ]
  },
  {
   "cell_type": "markdown",
   "metadata": {},
   "source": [
    "Plot it:"
   ]
  },
  {
   "cell_type": "code",
   "execution_count": 14,
   "metadata": {},
   "outputs": [
    {
     "name": "stderr",
     "output_type": "stream",
     "text": [
      "`stat_bin()` using `bins = 30`. Pick better value with `binwidth`.\n"
     ]
    },
    {
     "data": {},
     "metadata": {},
     "output_type": "display_data"
    },
    {
     "data": {
      "image/png": "[encoded data removed]",
      "text/plain": [
       "plot without title"
      ]
     },
     "metadata": {},
     "output_type": "display_data"
    }
   ],
   "source": [
    "ggplot(data.frame(p=many_means)) +\n",
    "    aes(x=p) +\n",
    "    geom_histogram() + \n",
    "    geom_density(color=\"blue\") +\n",
    "    geom_vline(xintercept=0.4, color=\"red\")"
   ]
  },
  {
   "cell_type": "markdown",
   "metadata": {},
   "source": [
    "## Hypothesis Testing\n",
    "\n",
    "We believe the coin is unfair. Let's _test_:\n",
    "\n",
    "- $H_0$: coin is fair ($p = 0.5$)\n",
    "- $H_a$: coin is unfair ($p \\ne 0.5$)"
   ]
  },
  {
   "cell_type": "code",
   "execution_count": 25,
   "metadata": {
    "collapsed": true
   },
   "outputs": [],
   "source": [
    "flips = sample(c(\"Red\", \"Blue\"), 100, replace=TRUE, prob=c(0.4, 0.6))"
   ]
  },
  {
   "cell_type": "code",
   "execution_count": 26,
   "metadata": {},
   "outputs": [
    {
     "data": {
      "text/plain": [
       "\n",
       "\t1-sample proportions test with continuity correction\n",
       "\n",
       "data:  sum(flips == \"Red\") out of length(flips), null probability 0.5\n",
       "X-squared = 4.41, df = 1, p-value = 0.03573\n",
       "alternative hypothesis: true p is not equal to 0.5\n",
       "95 percent confidence interval:\n",
       " 0.2955674 0.4929886\n",
       "sample estimates:\n",
       "   p \n",
       "0.39 \n"
      ]
     },
     "metadata": {},
     "output_type": "display_data"
    }
   ],
   "source": [
    "prop.test(sum(flips == \"Red\"), length(flips), 0.5)"
   ]
  },
  {
   "cell_type": "markdown",
   "metadata": {},
   "source": [
    "## Enriching our Modeling"
   ]
  },
  {
   "cell_type": "code",
   "execution_count": null,
   "metadata": {
    "collapsed": true
   },
   "outputs": [],
   "source": []
  }
 ],
 "metadata": {
  "kernelspec": {
   "display_name": "R",
   "language": "R",
   "name": "ir"
  },
  "language_info": {
   "codemirror_mode": "r",
   "file_extension": ".r",
   "mimetype": "text/x-r-source",
   "name": "R",
   "pygments_lexer": "r",
   "version": "3.4.1"
  }
 },
 "nbformat": 4,
 "nbformat_minor": 2
}

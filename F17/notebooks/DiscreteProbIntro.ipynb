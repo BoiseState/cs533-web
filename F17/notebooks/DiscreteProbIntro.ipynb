{
 "cells": [
  {
   "cell_type": "markdown",
   "metadata": {},
   "source": [
    "# Discrete Probability Introduction\n",
    "\n",
    "This notebook introduces the basic concepts of discrete probability distributions.  Thinking in terms of probabilities is an important skill in analyzing data and interpreting statistical analyses.\n",
    "\n",
    "It is inspired by Dr. Kennington's probability examples from Boise State University CS 597."
   ]
  },
  {
   "cell_type": "markdown",
   "metadata": {},
   "source": [
    "## Setup\n",
    "\n",
    "This notebook requires the following Conda packages:\n",
    "\n",
    "    conda install r-nycflights13"
   ]
  },
  {
   "cell_type": "code",
   "execution_count": 1,
   "metadata": {},
   "outputs": [
    {
     "name": "stderr",
     "output_type": "stream",
     "text": [
      "Loading tidyverse: ggplot2\n",
      "Loading tidyverse: tibble\n",
      "Loading tidyverse: tidyr\n",
      "Loading tidyverse: readr\n",
      "Loading tidyverse: purrr\n",
      "Loading tidyverse: dplyr\n",
      "Conflicts with tidy packages ---------------------------------------------------\n",
      "filter(): dplyr, stats\n",
      "lag():    dplyr, stats\n"
     ]
    }
   ],
   "source": [
    "library(tidyverse)\n",
    "library(nycflights13)\n",
    "options(repr.plot.height=4)"
   ]
  },
  {
   "cell_type": "markdown",
   "metadata": {},
   "source": [
    "The `flights` table from `nycflights13` contains data on over 300,000 flights leaving New York City in 2013. We'll use it as our example in this worksheet."
   ]
  },
  {
   "cell_type": "code",
   "execution_count": 2,
   "metadata": {},
   "outputs": [
    {
     "data": {
      "text/html": [
       "<table>\n",
       "<thead><tr><th scope=col>year</th><th scope=col>month</th><th scope=col>day</th><th scope=col>dep_time</th><th scope=col>sched_dep_time</th><th scope=col>dep_delay</th><th scope=col>arr_time</th><th scope=col>sched_arr_time</th><th scope=col>arr_delay</th><th scope=col>carrier</th><th scope=col>flight</th><th scope=col>tailnum</th><th scope=col>origin</th><th scope=col>dest</th><th scope=col>air_time</th><th scope=col>distance</th><th scope=col>hour</th><th scope=col>minute</th><th scope=col>time_hour</th></tr></thead>\n",
       "<tbody>\n",
       "\t<tr><td>2013               </td><td>1                  </td><td>1                  </td><td>517                </td><td>515                </td><td> 2                 </td><td> 830               </td><td> 819               </td><td> 11                </td><td>UA                 </td><td>1545               </td><td>N14228             </td><td>EWR                </td><td>IAH                </td><td>227                </td><td>1400               </td><td>5                  </td><td>15                 </td><td>2013-01-01 05:00:00</td></tr>\n",
       "\t<tr><td>2013               </td><td>1                  </td><td>1                  </td><td>533                </td><td>529                </td><td> 4                 </td><td> 850               </td><td> 830               </td><td> 20                </td><td>UA                 </td><td>1714               </td><td>N24211             </td><td>LGA                </td><td>IAH                </td><td>227                </td><td>1416               </td><td>5                  </td><td>29                 </td><td>2013-01-01 05:00:00</td></tr>\n",
       "\t<tr><td>2013               </td><td>1                  </td><td>1                  </td><td>542                </td><td>540                </td><td> 2                 </td><td> 923               </td><td> 850               </td><td> 33                </td><td>AA                 </td><td>1141               </td><td>N619AA             </td><td>JFK                </td><td>MIA                </td><td>160                </td><td>1089               </td><td>5                  </td><td>40                 </td><td>2013-01-01 05:00:00</td></tr>\n",
       "\t<tr><td>2013               </td><td>1                  </td><td>1                  </td><td>544                </td><td>545                </td><td>-1                 </td><td>1004               </td><td>1022               </td><td>-18                </td><td>B6                 </td><td> 725               </td><td>N804JB             </td><td>JFK                </td><td>BQN                </td><td>183                </td><td>1576               </td><td>5                  </td><td>45                 </td><td>2013-01-01 05:00:00</td></tr>\n",
       "\t<tr><td>2013               </td><td>1                  </td><td>1                  </td><td>554                </td><td>600                </td><td>-6                 </td><td> 812               </td><td> 837               </td><td>-25                </td><td>DL                 </td><td> 461               </td><td>N668DN             </td><td>LGA                </td><td>ATL                </td><td>116                </td><td> 762               </td><td>6                  </td><td> 0                 </td><td>2013-01-01 06:00:00</td></tr>\n",
       "\t<tr><td>2013               </td><td>1                  </td><td>1                  </td><td>554                </td><td>558                </td><td>-4                 </td><td> 740               </td><td> 728               </td><td> 12                </td><td>UA                 </td><td>1696               </td><td>N39463             </td><td>EWR                </td><td>ORD                </td><td>150                </td><td> 719               </td><td>5                  </td><td>58                 </td><td>2013-01-01 05:00:00</td></tr>\n",
       "</tbody>\n",
       "</table>\n"
      ],
      "text/latex": [
       "\\begin{tabular}{r|lllllllllllllllllll}\n",
       " year & month & day & dep\\_time & sched\\_dep\\_time & dep\\_delay & arr\\_time & sched\\_arr\\_time & arr\\_delay & carrier & flight & tailnum & origin & dest & air\\_time & distance & hour & minute & time\\_hour\\\\\n",
       "\\hline\n",
       "\t 2013                & 1                   & 1                   & 517                 & 515                 &  2                  &  830                &  819                &  11                 & UA                  & 1545                & N14228              & EWR                 & IAH                 & 227                 & 1400                & 5                   & 15                  & 2013-01-01 05:00:00\\\\\n",
       "\t 2013                & 1                   & 1                   & 533                 & 529                 &  4                  &  850                &  830                &  20                 & UA                  & 1714                & N24211              & LGA                 & IAH                 & 227                 & 1416                & 5                   & 29                  & 2013-01-01 05:00:00\\\\\n",
       "\t 2013                & 1                   & 1                   & 542                 & 540                 &  2                  &  923                &  850                &  33                 & AA                  & 1141                & N619AA              & JFK                 & MIA                 & 160                 & 1089                & 5                   & 40                  & 2013-01-01 05:00:00\\\\\n",
       "\t 2013                & 1                   & 1                   & 544                 & 545                 & -1                  & 1004                & 1022                & -18                 & B6                  &  725                & N804JB              & JFK                 & BQN                 & 183                 & 1576                & 5                   & 45                  & 2013-01-01 05:00:00\\\\\n",
       "\t 2013                & 1                   & 1                   & 554                 & 600                 & -6                  &  812                &  837                & -25                 & DL                  &  461                & N668DN              & LGA                 & ATL                 & 116                 &  762                & 6                   &  0                  & 2013-01-01 06:00:00\\\\\n",
       "\t 2013                & 1                   & 1                   & 554                 & 558                 & -4                  &  740                &  728                &  12                 & UA                  & 1696                & N39463              & EWR                 & ORD                 & 150                 &  719                & 5                   & 58                  & 2013-01-01 05:00:00\\\\\n",
       "\\end{tabular}\n"
      ],
      "text/markdown": [
       "\n",
       "year | month | day | dep_time | sched_dep_time | dep_delay | arr_time | sched_arr_time | arr_delay | carrier | flight | tailnum | origin | dest | air_time | distance | hour | minute | time_hour | \n",
       "|---|---|---|---|---|---|\n",
       "| 2013                | 1                   | 1                   | 517                 | 515                 |  2                  |  830                |  819                |  11                 | UA                  | 1545                | N14228              | EWR                 | IAH                 | 227                 | 1400                | 5                   | 15                  | 2013-01-01 05:00:00 | \n",
       "| 2013                | 1                   | 1                   | 533                 | 529                 |  4                  |  850                |  830                |  20                 | UA                  | 1714                | N24211              | LGA                 | IAH                 | 227                 | 1416                | 5                   | 29                  | 2013-01-01 05:00:00 | \n",
       "| 2013                | 1                   | 1                   | 542                 | 540                 |  2                  |  923                |  850                |  33                 | AA                  | 1141                | N619AA              | JFK                 | MIA                 | 160                 | 1089                | 5                   | 40                  | 2013-01-01 05:00:00 | \n",
       "| 2013                | 1                   | 1                   | 544                 | 545                 | -1                  | 1004                | 1022                | -18                 | B6                  |  725                | N804JB              | JFK                 | BQN                 | 183                 | 1576                | 5                   | 45                  | 2013-01-01 05:00:00 | \n",
       "| 2013                | 1                   | 1                   | 554                 | 600                 | -6                  |  812                |  837                | -25                 | DL                  |  461                | N668DN              | LGA                 | ATL                 | 116                 |  762                | 6                   |  0                  | 2013-01-01 06:00:00 | \n",
       "| 2013                | 1                   | 1                   | 554                 | 558                 | -4                  |  740                |  728                |  12                 | UA                  | 1696                | N39463              | EWR                 | ORD                 | 150                 |  719                | 5                   | 58                  | 2013-01-01 05:00:00 | \n",
       "\n",
       "\n"
      ],
      "text/plain": [
       "  year month day dep_time sched_dep_time dep_delay arr_time sched_arr_time\n",
       "1 2013 1     1   517      515             2         830      819          \n",
       "2 2013 1     1   533      529             4         850      830          \n",
       "3 2013 1     1   542      540             2         923      850          \n",
       "4 2013 1     1   544      545            -1        1004     1022          \n",
       "5 2013 1     1   554      600            -6         812      837          \n",
       "6 2013 1     1   554      558            -4         740      728          \n",
       "  arr_delay carrier flight tailnum origin dest air_time distance hour minute\n",
       "1  11       UA      1545   N14228  EWR    IAH  227      1400     5    15    \n",
       "2  20       UA      1714   N24211  LGA    IAH  227      1416     5    29    \n",
       "3  33       AA      1141   N619AA  JFK    MIA  160      1089     5    40    \n",
       "4 -18       B6       725   N804JB  JFK    BQN  183      1576     5    45    \n",
       "5 -25       DL       461   N668DN  LGA    ATL  116       762     6     0    \n",
       "6  12       UA      1696   N39463  EWR    ORD  150       719     5    58    \n",
       "  time_hour          \n",
       "1 2013-01-01 05:00:00\n",
       "2 2013-01-01 05:00:00\n",
       "3 2013-01-01 05:00:00\n",
       "4 2013-01-01 05:00:00\n",
       "5 2013-01-01 06:00:00\n",
       "6 2013-01-01 05:00:00"
      ]
     },
     "metadata": {},
     "output_type": "display_data"
    }
   ],
   "source": [
    "head(flights)"
   ]
  },
  {
   "cell_type": "markdown",
   "metadata": {},
   "source": [
    "## What Is a Probability?\n",
    "\n",
    "Suppose we see a plane leaving the NYC area, and want to know which of the 3 New York airports (EWR, LGA, and JFK) it probably came from. If we know nothing other than ‘a plane left NYC’, then we can look at the _relative frequency_ of flights from the airports: which airport produces the most flights?\n",
    "\n",
    "We can do this by counting the number of flights from each airport. dplyr makes this easy with `group_by` and `summarize`:"
   ]
  },
  {
   "cell_type": "code",
   "execution_count": 3,
   "metadata": {},
   "outputs": [
    {
     "data": {
      "text/html": [
       "<table>\n",
       "<thead><tr><th scope=col>origin</th><th scope=col>count</th></tr></thead>\n",
       "<tbody>\n",
       "\t<tr><td>EWR   </td><td>120835</td></tr>\n",
       "\t<tr><td>JFK   </td><td>111279</td></tr>\n",
       "\t<tr><td>LGA   </td><td>104662</td></tr>\n",
       "</tbody>\n",
       "</table>\n"
      ],
      "text/latex": [
       "\\begin{tabular}{r|ll}\n",
       " origin & count\\\\\n",
       "\\hline\n",
       "\t EWR    & 120835\\\\\n",
       "\t JFK    & 111279\\\\\n",
       "\t LGA    & 104662\\\\\n",
       "\\end{tabular}\n"
      ],
      "text/markdown": [
       "\n",
       "origin | count | \n",
       "|---|---|---|\n",
       "| EWR    | 120835 | \n",
       "| JFK    | 111279 | \n",
       "| LGA    | 104662 | \n",
       "\n",
       "\n"
      ],
      "text/plain": [
       "  origin count \n",
       "1 EWR    120835\n",
       "2 JFK    111279\n",
       "3 LGA    104662"
      ]
     },
     "metadata": {},
     "output_type": "display_data"
    }
   ],
   "source": [
    "origins = flights %>%\n",
    "    group_by(origin) %>%\n",
    "    summarize(count=n())\n",
    "origins"
   ]
  },
  {
   "cell_type": "markdown",
   "metadata": {},
   "source": [
    "We assign the value to the variable `origins`, and then we ask for the value `origins` on a new line to see the data we just computed. This is useful to be able to make use of this data later!\n",
    "\n",
    "Also, this data type is called a _data frame_.  A data frame is like a little spreadsheet - it has named columns of data.\n",
    "\n",
    "The `%>%` business is called a _pipeline_, and it is the standard way to process data in with `tidyverse` (or more specifically `dplyr`).  It pipes the results of each operation into the next, until we finally have results."
   ]
  },
  {
   "cell_type": "markdown",
   "metadata": {},
   "source": [
    "\n",
    "It is often convenient to plot data like this, so we can see it visually:"
   ]
  },
  {
   "cell_type": "code",
   "execution_count": 4,
   "metadata": {},
   "outputs": [
    {
     "data": {},
     "metadata": {},
     "output_type": "display_data"
    },
    {
     "data": {
      "image/png": "[encoded data removed]",
      "text/plain": [
       "plot without title"
      ]
     },
     "metadata": {},
     "output_type": "display_data"
    }
   ],
   "source": [
    "ggplot(flights) +\n",
    "    aes(x=origin) +\n",
    "    geom_bar()"
   ]
  },
  {
   "cell_type": "markdown",
   "metadata": {},
   "source": [
    "EWR (Newark) has the most departing flights. However, these numbers aren't very convenient - 120835 flights left EWR, but that is a little unwieldy if we want to estimate the chances of another flight coming from Newark.\n",
    "\n",
    "Fortunately, there is a way we can make these numbers easier to deal with: make them sum to 1, so each value is the fraction of flights that left that airport.  Let's do that by dividing each count by the total count:"
   ]
  },
  {
   "cell_type": "code",
   "execution_count": 5,
   "metadata": {},
   "outputs": [
    {
     "data": {
      "text/html": [
       "<table>\n",
       "<thead><tr><th scope=col>origin</th><th scope=col>count</th><th scope=col>prob</th></tr></thead>\n",
       "<tbody>\n",
       "\t<tr><td>EWR      </td><td>120835   </td><td>0.3587993</td></tr>\n",
       "\t<tr><td>JFK      </td><td>111279   </td><td>0.3304244</td></tr>\n",
       "\t<tr><td>LGA      </td><td>104662   </td><td>0.3107763</td></tr>\n",
       "</tbody>\n",
       "</table>\n"
      ],
      "text/latex": [
       "\\begin{tabular}{r|lll}\n",
       " origin & count & prob\\\\\n",
       "\\hline\n",
       "\t EWR       & 120835    & 0.3587993\\\\\n",
       "\t JFK       & 111279    & 0.3304244\\\\\n",
       "\t LGA       & 104662    & 0.3107763\\\\\n",
       "\\end{tabular}\n"
      ],
      "text/markdown": [
       "\n",
       "origin | count | prob | \n",
       "|---|---|---|\n",
       "| EWR       | 120835    | 0.3587993 | \n",
       "| JFK       | 111279    | 0.3304244 | \n",
       "| LGA       | 104662    | 0.3107763 | \n",
       "\n",
       "\n"
      ],
      "text/plain": [
       "  origin count  prob     \n",
       "1 EWR    120835 0.3587993\n",
       "2 JFK    111279 0.3304244\n",
       "3 LGA    104662 0.3107763"
      ]
     },
     "metadata": {},
     "output_type": "display_data"
    }
   ],
   "source": [
    "origins$prob = origins$count / sum(origins$count)\n",
    "origins"
   ]
  },
  {
   "cell_type": "markdown",
   "metadata": {},
   "source": [
    "This new column, `prob`, indicates the _probability_ of a flight departing from the specified airport, given the observations that we have.  We are making the assumption here that the flights leaving in 2013 are representative of flights leaving New York City in general, so that we can infer things about future flights from this data. We'll explore in more detail later when we can and can't make this kind of assumption.\n",
    "\n",
    "A _probability_ is a real number between 0 and 1 that expresses how likely something is. (There is a subtle difference between likelihood and probability, but for our current purposes that difference does not matter.)\n",
    "\n",
    "Origin airport is an example of what we call a _discrete_ value: it has one of a finite set of distinct values (in this case, just 3: EWR, JFK, and LGA).  We also call the origin airport a _variable_: like variables in computer programs, it is one of the parameters that characterizes an _observation_ (one of the flights).  When we are trying to reason about the probability of the variable having different values, we call it a _random variable_: a variable that takes on random values.\n",
    "\n",
    "> **Note:** We often think of things in terms of random variables and probabilities even when we don't necessarily think that the way they are produced is actually random.  Randomness just provides a convenient way for us to think about the uncertainty we have about our knowledge.\n",
    "\n",
    "Our table forms a _discrete probability distribution_. A discrete probability distribution associates each possible value of a discrete variable with a _probability_ of the variable having that value.  Each probability must be in the range 0 to 1 (inclusive); in addition, all probabilities in the distribution must sum to 1.  We can check this sum:"
   ]
  },
  {
   "cell_type": "code",
   "execution_count": 6,
   "metadata": {},
   "outputs": [
    {
     "data": {
      "text/html": [
       "1"
      ],
      "text/latex": [
       "1"
      ],
      "text/markdown": [
       "1"
      ],
      "text/plain": [
       "[1] 1"
      ]
     },
     "metadata": {},
     "output_type": "display_data"
    }
   ],
   "source": [
    "sum(origins$prob)"
   ]
  },
  {
   "cell_type": "markdown",
   "metadata": {},
   "source": [
    "More formally, a probability distribution $P(x)$ over the values of a random variable $X$ is a function $P(x): X \\into \\mathbb{R}$ such that:\n",
    "\n",
    "1. $\\forall x \\in X. 0 \\le P(x) \\le 1$\n",
    "2. $\\sum_{x \\in X} P(x) = 1$"
   ]
  },
  {
   "cell_type": "markdown",
   "metadata": {},
   "source": [
    "In R, the `$` operator accesses the column of a data frame. It's a lot like `.` in Java or Python.  Each column of this data frame is a _vector_, which is R-speak for an _array_.  The `sum` function sums up the elements of a vector and returns them.\n",
    "\n",
    "But above, when we converted counts into probabilities: notice that we did not write a loop!  In R, most operations are _vectorized_: when you apply them to vectors, they operate on the whole vector element-by-element.  If we take two vectors and add them, we get the pairwise sum:"
   ]
  },
  {
   "cell_type": "code",
   "execution_count": 7,
   "metadata": {},
   "outputs": [
    {
     "data": {
      "text/html": [
       "<ol class=list-inline>\n",
       "\t<li>11</li>\n",
       "\t<li>22</li>\n",
       "\t<li>33</li>\n",
       "</ol>\n"
      ],
      "text/latex": [
       "\\begin{enumerate*}\n",
       "\\item 11\n",
       "\\item 22\n",
       "\\item 33\n",
       "\\end{enumerate*}\n"
      ],
      "text/markdown": [
       "1. 11\n",
       "2. 22\n",
       "3. 33\n",
       "\n",
       "\n"
      ],
      "text/plain": [
       "[1] 11 22 33"
      ]
     },
     "metadata": {},
     "output_type": "display_data"
    }
   ],
   "source": [
    "c(1,2,3) + c(10, 20, 30)"
   ]
  },
  {
   "cell_type": "markdown",
   "metadata": {},
   "source": [
    "In R, there is no such thing as a single value - a value is a vector of length 1.  And when two vectors have different lengths, R will _recycle_ the shorter one:"
   ]
  },
  {
   "cell_type": "code",
   "execution_count": 8,
   "metadata": {},
   "outputs": [
    {
     "data": {
      "text/html": [
       "<ol class=list-inline>\n",
       "\t<li>6</li>\n",
       "\t<li>7</li>\n",
       "\t<li>8</li>\n",
       "</ol>\n"
      ],
      "text/latex": [
       "\\begin{enumerate*}\n",
       "\\item 6\n",
       "\\item 7\n",
       "\\item 8\n",
       "\\end{enumerate*}\n"
      ],
      "text/markdown": [
       "1. 6\n",
       "2. 7\n",
       "3. 8\n",
       "\n",
       "\n"
      ],
      "text/plain": [
       "[1] 6 7 8"
      ]
     },
     "metadata": {},
     "output_type": "display_data"
    }
   ],
   "source": [
    "c(1,2,3) + 5"
   ]
  },
  {
   "cell_type": "markdown",
   "metadata": {},
   "source": [
    "This can get us in trouble sometimes if we don't have our vectors quite straight. Fortunately, R warns us in the common error case where we have two multi-item vectors but their lengths aren't compatible:"
   ]
  },
  {
   "cell_type": "code",
   "execution_count": 9,
   "metadata": {},
   "outputs": [
    {
     "name": "stderr",
     "output_type": "stream",
     "text": [
      "Warning message in c(1, 2, 3) + c(1, 2):\n",
      "\"longer object length is not a multiple of shorter object length\""
     ]
    },
    {
     "data": {
      "text/html": [
       "<ol class=list-inline>\n",
       "\t<li>2</li>\n",
       "\t<li>4</li>\n",
       "\t<li>4</li>\n",
       "</ol>\n"
      ],
      "text/latex": [
       "\\begin{enumerate*}\n",
       "\\item 2\n",
       "\\item 4\n",
       "\\item 4\n",
       "\\end{enumerate*}\n"
      ],
      "text/markdown": [
       "1. 2\n",
       "2. 4\n",
       "3. 4\n",
       "\n",
       "\n"
      ],
      "text/plain": [
       "[1] 2 4 4"
      ]
     },
     "metadata": {},
     "output_type": "display_data"
    }
   ],
   "source": [
    "c(1,2,3) + c(1,2)"
   ]
  },
  {
   "cell_type": "markdown",
   "metadata": {},
   "source": [
    "Most R computations work over vectors.  A basic rule of thumb is to **never use loops.**  R has them, but you won't need them very often at all.  Vectorized operations are much faster than manually looping, and are easier to write."
   ]
  },
  {
   "cell_type": "markdown",
   "metadata": {},
   "source": [
    "## Names and Math\n",
    "\n",
    "Our distribution above, over origin airports, is what is called a _multinomial distribution_.  That is, it is a distribution over multiple discrete ‘categorical’ values (we'll see what categorical means in the next lesson).\n",
    "\n",
    "The simplest kind of multinomial distribution is the _binomial distribution_: a distribution over two values $\\mathsf{H}$ and $\\mathsf{T}$.  This can be parameterized with a single value $p \\in [0,1]$ such that:\n",
    "\n",
    "$$\\begin{align*}\n",
    "P(\\mathsf{H}) & = p \\\\\n",
    "P(\\mathsf{T}) & = 1-p\n",
    "\\end{align*}$$\n",
    "\n",
    "We use the $P(\\dots)$ notation to indicate a probability.\n",
    "\n",
    "It is easy to check that this distribution satisfies our two probability laws:\n",
    "\n",
    "1. Since $0 \\le p \\le 1$, both $p$ and $1-p$ are probabilities.\n",
    "2. $P(\\mathsf{H}) + P(\\mathsf{T}) = p + 1 - p = 1$.\n",
    "\n",
    "I have called our two outcomes $\\mathsf{H}$ and $\\mathsf{T}$ because we often think of them as corresponding to the flip of a (possibly weighted) coin with two sides, _heads_ and _tails_.  A fair coin has $p=0.5$, so that both heads and tails are equally likely.\n",
    "\n",
    "Let's see the flips of 20 fair coins (don't worry about the details of the `flip` function for now):"
   ]
  },
  {
   "cell_type": "code",
   "execution_count": 10,
   "metadata": {},
   "outputs": [
    {
     "data": {
      "text/html": [
       "<ol class=list-inline>\n",
       "\t<li>'T'</li>\n",
       "\t<li>'H'</li>\n",
       "\t<li>'H'</li>\n",
       "\t<li>'H'</li>\n",
       "\t<li>'T'</li>\n",
       "\t<li>'H'</li>\n",
       "\t<li>'H'</li>\n",
       "\t<li>'T'</li>\n",
       "\t<li>'H'</li>\n",
       "\t<li>'T'</li>\n",
       "\t<li>'T'</li>\n",
       "\t<li>'T'</li>\n",
       "\t<li>'T'</li>\n",
       "\t<li>'T'</li>\n",
       "\t<li>'H'</li>\n",
       "\t<li>'T'</li>\n",
       "\t<li>'H'</li>\n",
       "\t<li>'H'</li>\n",
       "\t<li>'T'</li>\n",
       "\t<li>'T'</li>\n",
       "</ol>\n"
      ],
      "text/latex": [
       "\\begin{enumerate*}\n",
       "\\item 'T'\n",
       "\\item 'H'\n",
       "\\item 'H'\n",
       "\\item 'H'\n",
       "\\item 'T'\n",
       "\\item 'H'\n",
       "\\item 'H'\n",
       "\\item 'T'\n",
       "\\item 'H'\n",
       "\\item 'T'\n",
       "\\item 'T'\n",
       "\\item 'T'\n",
       "\\item 'T'\n",
       "\\item 'T'\n",
       "\\item 'H'\n",
       "\\item 'T'\n",
       "\\item 'H'\n",
       "\\item 'H'\n",
       "\\item 'T'\n",
       "\\item 'T'\n",
       "\\end{enumerate*}\n"
      ],
      "text/markdown": [
       "1. 'T'\n",
       "2. 'H'\n",
       "3. 'H'\n",
       "4. 'H'\n",
       "5. 'T'\n",
       "6. 'H'\n",
       "7. 'H'\n",
       "8. 'T'\n",
       "9. 'H'\n",
       "10. 'T'\n",
       "11. 'T'\n",
       "12. 'T'\n",
       "13. 'T'\n",
       "14. 'T'\n",
       "15. 'H'\n",
       "16. 'T'\n",
       "17. 'H'\n",
       "18. 'H'\n",
       "19. 'T'\n",
       "20. 'T'\n",
       "\n",
       "\n"
      ],
      "text/plain": [
       " [1] \"T\" \"H\" \"H\" \"H\" \"T\" \"H\" \"H\" \"T\" \"H\" \"T\" \"T\" \"T\" \"T\" \"T\" \"H\" \"T\" \"H\" \"H\" \"T\"\n",
       "[20] \"T\""
      ]
     },
     "metadata": {},
     "output_type": "display_data"
    }
   ],
   "source": [
    "flip = function(n, p=0.5) {\n",
    "    sample(c('H', 'T'), n, replace=TRUE, prob=c(p, 1-p))\n",
    "}\n",
    "flip(20)"
   ]
  },
  {
   "cell_type": "markdown",
   "metadata": {},
   "source": [
    "More generally, the binomial distribution is the probability of observing $k$ _successes_ (in our case, heads) in $n$ flips (or _trials_).  Let's count the successes in a series of 20 flips:"
   ]
  },
  {
   "cell_type": "code",
   "execution_count": 11,
   "metadata": {},
   "outputs": [
    {
     "data": {
      "text/html": [
       "8"
      ],
      "text/latex": [
       "8"
      ],
      "text/markdown": [
       "8"
      ],
      "text/plain": [
       "[1] 8"
      ]
     },
     "metadata": {},
     "output_type": "display_data"
    }
   ],
   "source": [
    "sum(flip(20) == 'H')"
   ]
  },
  {
   "cell_type": "markdown",
   "metadata": {},
   "source": [
    "This will often sum to 10, but not always - it may be 7 or 9 or 11.\n",
    "\n",
    "> **R Note:** The `==` operator tests for equality, and like most other R operations, it is vectorized - it tests each element of the left-hand vector with the corresponding element of the right-hand vector; when the right-hand vector has length 1, it just reuses that element for all left-hand values.  The result is a _logical_ vector (true and false); summing it counts the `TRUE` values.\n",
    "\n",
    "We can take advantage of another couple of R operations, `:` to generate sequences and `sapply` to apply a function over many sequences, to carry out several trials of 20-flip sequences and see how often we see different values:"
   ]
  },
  {
   "cell_type": "code",
   "execution_count": 12,
   "metadata": {},
   "outputs": [
    {
     "data": {
      "text/html": [
       "<ol class=list-inline>\n",
       "\t<li>12</li>\n",
       "\t<li>13</li>\n",
       "\t<li>11</li>\n",
       "\t<li>10</li>\n",
       "\t<li>12</li>\n",
       "\t<li>10</li>\n",
       "\t<li>13</li>\n",
       "\t<li>10</li>\n",
       "\t<li>10</li>\n",
       "\t<li>9</li>\n",
       "\t<li>8</li>\n",
       "\t<li>10</li>\n",
       "\t<li>11</li>\n",
       "\t<li>10</li>\n",
       "\t<li>9</li>\n",
       "\t<li>16</li>\n",
       "\t<li>8</li>\n",
       "\t<li>7</li>\n",
       "\t<li>14</li>\n",
       "\t<li>9</li>\n",
       "\t<li>8</li>\n",
       "\t<li>12</li>\n",
       "\t<li>10</li>\n",
       "\t<li>7</li>\n",
       "\t<li>8</li>\n",
       "\t<li>9</li>\n",
       "\t<li>8</li>\n",
       "\t<li>7</li>\n",
       "\t<li>10</li>\n",
       "\t<li>9</li>\n",
       "\t<li>10</li>\n",
       "\t<li>12</li>\n",
       "\t<li>13</li>\n",
       "\t<li>8</li>\n",
       "\t<li>8</li>\n",
       "\t<li>11</li>\n",
       "\t<li>10</li>\n",
       "\t<li>12</li>\n",
       "\t<li>11</li>\n",
       "\t<li>11</li>\n",
       "\t<li>9</li>\n",
       "\t<li>10</li>\n",
       "\t<li>10</li>\n",
       "\t<li>10</li>\n",
       "\t<li>10</li>\n",
       "\t<li>12</li>\n",
       "\t<li>8</li>\n",
       "\t<li>12</li>\n",
       "\t<li>10</li>\n",
       "\t<li>8</li>\n",
       "\t<li>10</li>\n",
       "\t<li>7</li>\n",
       "\t<li>9</li>\n",
       "\t<li>12</li>\n",
       "\t<li>9</li>\n",
       "\t<li>12</li>\n",
       "\t<li>9</li>\n",
       "\t<li>13</li>\n",
       "\t<li>12</li>\n",
       "\t<li>9</li>\n",
       "\t<li>12</li>\n",
       "\t<li>11</li>\n",
       "\t<li>10</li>\n",
       "\t<li>11</li>\n",
       "\t<li>13</li>\n",
       "\t<li>14</li>\n",
       "\t<li>6</li>\n",
       "\t<li>9</li>\n",
       "\t<li>10</li>\n",
       "\t<li>11</li>\n",
       "\t<li>11</li>\n",
       "\t<li>12</li>\n",
       "\t<li>8</li>\n",
       "\t<li>9</li>\n",
       "\t<li>13</li>\n",
       "\t<li>13</li>\n",
       "\t<li>9</li>\n",
       "\t<li>10</li>\n",
       "\t<li>17</li>\n",
       "\t<li>13</li>\n",
       "\t<li>14</li>\n",
       "\t<li>9</li>\n",
       "\t<li>8</li>\n",
       "\t<li>10</li>\n",
       "\t<li>11</li>\n",
       "\t<li>10</li>\n",
       "\t<li>14</li>\n",
       "\t<li>7</li>\n",
       "\t<li>10</li>\n",
       "\t<li>9</li>\n",
       "\t<li>12</li>\n",
       "\t<li>12</li>\n",
       "\t<li>11</li>\n",
       "\t<li>9</li>\n",
       "\t<li>11</li>\n",
       "\t<li>6</li>\n",
       "\t<li>12</li>\n",
       "\t<li>9</li>\n",
       "\t<li>8</li>\n",
       "\t<li>12</li>\n",
       "</ol>\n"
      ],
      "text/latex": [
       "\\begin{enumerate*}\n",
       "\\item 12\n",
       "\\item 13\n",
       "\\item 11\n",
       "\\item 10\n",
       "\\item 12\n",
       "\\item 10\n",
       "\\item 13\n",
       "\\item 10\n",
       "\\item 10\n",
       "\\item 9\n",
       "\\item 8\n",
       "\\item 10\n",
       "\\item 11\n",
       "\\item 10\n",
       "\\item 9\n",
       "\\item 16\n",
       "\\item 8\n",
       "\\item 7\n",
       "\\item 14\n",
       "\\item 9\n",
       "\\item 8\n",
       "\\item 12\n",
       "\\item 10\n",
       "\\item 7\n",
       "\\item 8\n",
       "\\item 9\n",
       "\\item 8\n",
       "\\item 7\n",
       "\\item 10\n",
       "\\item 9\n",
       "\\item 10\n",
       "\\item 12\n",
       "\\item 13\n",
       "\\item 8\n",
       "\\item 8\n",
       "\\item 11\n",
       "\\item 10\n",
       "\\item 12\n",
       "\\item 11\n",
       "\\item 11\n",
       "\\item 9\n",
       "\\item 10\n",
       "\\item 10\n",
       "\\item 10\n",
       "\\item 10\n",
       "\\item 12\n",
       "\\item 8\n",
       "\\item 12\n",
       "\\item 10\n",
       "\\item 8\n",
       "\\item 10\n",
       "\\item 7\n",
       "\\item 9\n",
       "\\item 12\n",
       "\\item 9\n",
       "\\item 12\n",
       "\\item 9\n",
       "\\item 13\n",
       "\\item 12\n",
       "\\item 9\n",
       "\\item 12\n",
       "\\item 11\n",
       "\\item 10\n",
       "\\item 11\n",
       "\\item 13\n",
       "\\item 14\n",
       "\\item 6\n",
       "\\item 9\n",
       "\\item 10\n",
       "\\item 11\n",
       "\\item 11\n",
       "\\item 12\n",
       "\\item 8\n",
       "\\item 9\n",
       "\\item 13\n",
       "\\item 13\n",
       "\\item 9\n",
       "\\item 10\n",
       "\\item 17\n",
       "\\item 13\n",
       "\\item 14\n",
       "\\item 9\n",
       "\\item 8\n",
       "\\item 10\n",
       "\\item 11\n",
       "\\item 10\n",
       "\\item 14\n",
       "\\item 7\n",
       "\\item 10\n",
       "\\item 9\n",
       "\\item 12\n",
       "\\item 12\n",
       "\\item 11\n",
       "\\item 9\n",
       "\\item 11\n",
       "\\item 6\n",
       "\\item 12\n",
       "\\item 9\n",
       "\\item 8\n",
       "\\item 12\n",
       "\\end{enumerate*}\n"
      ],
      "text/markdown": [
       "1. 12\n",
       "2. 13\n",
       "3. 11\n",
       "4. 10\n",
       "5. 12\n",
       "6. 10\n",
       "7. 13\n",
       "8. 10\n",
       "9. 10\n",
       "10. 9\n",
       "11. 8\n",
       "12. 10\n",
       "13. 11\n",
       "14. 10\n",
       "15. 9\n",
       "16. 16\n",
       "17. 8\n",
       "18. 7\n",
       "19. 14\n",
       "20. 9\n",
       "21. 8\n",
       "22. 12\n",
       "23. 10\n",
       "24. 7\n",
       "25. 8\n",
       "26. 9\n",
       "27. 8\n",
       "28. 7\n",
       "29. 10\n",
       "30. 9\n",
       "31. 10\n",
       "32. 12\n",
       "33. 13\n",
       "34. 8\n",
       "35. 8\n",
       "36. 11\n",
       "37. 10\n",
       "38. 12\n",
       "39. 11\n",
       "40. 11\n",
       "41. 9\n",
       "42. 10\n",
       "43. 10\n",
       "44. 10\n",
       "45. 10\n",
       "46. 12\n",
       "47. 8\n",
       "48. 12\n",
       "49. 10\n",
       "50. 8\n",
       "51. 10\n",
       "52. 7\n",
       "53. 9\n",
       "54. 12\n",
       "55. 9\n",
       "56. 12\n",
       "57. 9\n",
       "58. 13\n",
       "59. 12\n",
       "60. 9\n",
       "61. 12\n",
       "62. 11\n",
       "63. 10\n",
       "64. 11\n",
       "65. 13\n",
       "66. 14\n",
       "67. 6\n",
       "68. 9\n",
       "69. 10\n",
       "70. 11\n",
       "71. 11\n",
       "72. 12\n",
       "73. 8\n",
       "74. 9\n",
       "75. 13\n",
       "76. 13\n",
       "77. 9\n",
       "78. 10\n",
       "79. 17\n",
       "80. 13\n",
       "81. 14\n",
       "82. 9\n",
       "83. 8\n",
       "84. 10\n",
       "85. 11\n",
       "86. 10\n",
       "87. 14\n",
       "88. 7\n",
       "89. 10\n",
       "90. 9\n",
       "91. 12\n",
       "92. 12\n",
       "93. 11\n",
       "94. 9\n",
       "95. 11\n",
       "96. 6\n",
       "97. 12\n",
       "98. 9\n",
       "99. 8\n",
       "100. 12\n",
       "\n",
       "\n"
      ],
      "text/plain": [
       "  [1] 12 13 11 10 12 10 13 10 10  9  8 10 11 10  9 16  8  7 14  9  8 12 10  7  8\n",
       " [26]  9  8  7 10  9 10 12 13  8  8 11 10 12 11 11  9 10 10 10 10 12  8 12 10  8\n",
       " [51] 10  7  9 12  9 12  9 13 12  9 12 11 10 11 13 14  6  9 10 11 11 12  8  9 13\n",
       " [76] 13  9 10 17 13 14  9  8 10 11 10 14  7 10  9 12 12 11  9 11  6 12  9  8 12"
      ]
     },
     "metadata": {},
     "output_type": "display_data"
    }
   ],
   "source": [
    "repeated_sequences = sapply(1:100, function(t) {\n",
    "    sum(flip(20) == 'H')\n",
    "})\n",
    "repeated_sequences"
   ]
  },
  {
   "cell_type": "markdown",
   "metadata": {},
   "source": [
    "In R, we don't have a `return` command - a function returns the value of its last expression.  The `sapply` function takes a vector and a function `f` and returns a new vector that is the result of calling `f(x)` for each value `x` in the original vector.\n",
    "\n",
    "Let's plot these values:"
   ]
  },
  {
   "cell_type": "code",
   "execution_count": 13,
   "metadata": {},
   "outputs": [
    {
     "data": {},
     "metadata": {},
     "output_type": "display_data"
    },
    {
     "data": {
      "image/png": "[encoded data removed]",
      "text/plain": [
       "plot without title"
      ]
     },
     "metadata": {},
     "output_type": "display_data"
    }
   ],
   "source": [
    "ggplot(data.frame(k=repeated_sequences)) +\n",
    "    aes(x=k) +\n",
    "    geom_histogram(binwidth=1)"
   ]
  },
  {
   "cell_type": "markdown",
   "metadata": {},
   "source": [
    "We can see that values close to 10 are the most common.\n",
    "\n",
    "What if we have a weighted coin, so that $P(\\mathsf{H}) = 0.7$?"
   ]
  },
  {
   "cell_type": "code",
   "execution_count": 14,
   "metadata": {},
   "outputs": [
    {
     "data": {},
     "metadata": {},
     "output_type": "display_data"
    },
    {
     "data": {
      "image/png": "[encoded data removed]",
      "text/plain": [
       "plot without title"
      ]
     },
     "metadata": {},
     "output_type": "display_data"
    }
   ],
   "source": [
    "repeated_sequences = sapply(1:100, function(t) {\n",
    "    sum(flip(20, 0.7) == 'H')\n",
    "})\n",
    "ggplot(data.frame(k=repeated_sequences)) +\n",
    "    aes(x=k) +\n",
    "    geom_histogram(binwidth=1)"
   ]
  },
  {
   "cell_type": "markdown",
   "metadata": {},
   "source": [
    "Now 13-16 are the most common values, which we would expect, since $0.7 \\cdot 20 = 14$.\n",
    "\n",
    "Now, we can directly compute the probability of observing $k$ successes in $n$ trials without needing to simulate all these trials.  The probabiltiy $P(k|n,p)$ (read ‘the probability of $k$ given $n$ and $p$’) can be written:\n",
    "\n",
    "$$P(k|n,p) = {{n}\\choose{k}} p^k (1-p)^{(n-k)}$$\n",
    "\n",
    "R has a built-in definition of this function called `dbinom`:"
   ]
  },
  {
   "cell_type": "code",
   "execution_count": 15,
   "metadata": {},
   "outputs": [
    {
     "data": {
      "text/html": [
       "0.191638982753443"
      ],
      "text/latex": [
       "0.191638982753443"
      ],
      "text/markdown": [
       "0.191638982753443"
      ],
      "text/plain": [
       "[1] 0.191639"
      ]
     },
     "metadata": {},
     "output_type": "display_data"
    }
   ],
   "source": [
    "dbinom(14, 20, 0.7)"
   ]
  },
  {
   "cell_type": "markdown",
   "metadata": {},
   "source": [
    "For fixed $n$ and $p$, this binomial distribution itself is a discrete distribution over the integers $0 \\dots n$, and we can also visualize it:"
   ]
  },
  {
   "cell_type": "code",
   "execution_count": 16,
   "metadata": {},
   "outputs": [
    {
     "data": {},
     "metadata": {},
     "output_type": "display_data"
    },
    {
     "data": {
      "image/png": "[encoded data removed]",
      "text/plain": [
       "plot without title"
      ]
     },
     "metadata": {},
     "output_type": "display_data"
    }
   ],
   "source": [
    "ggplot(data.frame(k=0:20) %>% mutate(prob=dbinom(k, 20, 0.7))) +\n",
    "    aes(x=k, y=prob) +\n",
    "    geom_bar(stat='identity')"
   ]
  },
  {
   "cell_type": "markdown",
   "metadata": {},
   "source": [
    "We can observe that our flip above has the same basic shape. Randomness means that it won't quite align perfectly, but on average it will be pretty close."
   ]
  },
  {
   "cell_type": "markdown",
   "metadata": {},
   "source": [
    "## Joint Distributions\n",
    "\n",
    "We have now seen how we can start to think about the distribution of a single random variable by counting; often, though, we care about more than one variable.\n",
    "\n",
    "Let's look at the carrier airlines for our NYC flights:"
   ]
  },
  {
   "cell_type": "code",
   "execution_count": 17,
   "metadata": {},
   "outputs": [
    {
     "data": {
      "text/html": [
       "<table>\n",
       "<thead><tr><th scope=col>carrier</th><th scope=col>count</th></tr></thead>\n",
       "<tbody>\n",
       "\t<tr><td>9E   </td><td>18460</td></tr>\n",
       "\t<tr><td>AA   </td><td>32729</td></tr>\n",
       "\t<tr><td>AS   </td><td>  714</td></tr>\n",
       "\t<tr><td>B6   </td><td>54635</td></tr>\n",
       "\t<tr><td>DL   </td><td>48110</td></tr>\n",
       "\t<tr><td>EV   </td><td>54173</td></tr>\n",
       "\t<tr><td>F9   </td><td>  685</td></tr>\n",
       "\t<tr><td>FL   </td><td> 3260</td></tr>\n",
       "\t<tr><td>HA   </td><td>  342</td></tr>\n",
       "\t<tr><td>MQ   </td><td>26397</td></tr>\n",
       "\t<tr><td>OO   </td><td>   32</td></tr>\n",
       "\t<tr><td>UA   </td><td>58665</td></tr>\n",
       "\t<tr><td>US   </td><td>20536</td></tr>\n",
       "\t<tr><td>VX   </td><td> 5162</td></tr>\n",
       "\t<tr><td>WN   </td><td>12275</td></tr>\n",
       "\t<tr><td>YV   </td><td>  601</td></tr>\n",
       "</tbody>\n",
       "</table>\n"
      ],
      "text/latex": [
       "\\begin{tabular}{r|ll}\n",
       " carrier & count\\\\\n",
       "\\hline\n",
       "\t 9E    & 18460\\\\\n",
       "\t AA    & 32729\\\\\n",
       "\t AS    &   714\\\\\n",
       "\t B6    & 54635\\\\\n",
       "\t DL    & 48110\\\\\n",
       "\t EV    & 54173\\\\\n",
       "\t F9    &   685\\\\\n",
       "\t FL    &  3260\\\\\n",
       "\t HA    &   342\\\\\n",
       "\t MQ    & 26397\\\\\n",
       "\t OO    &    32\\\\\n",
       "\t UA    & 58665\\\\\n",
       "\t US    & 20536\\\\\n",
       "\t VX    &  5162\\\\\n",
       "\t WN    & 12275\\\\\n",
       "\t YV    &   601\\\\\n",
       "\\end{tabular}\n"
      ],
      "text/markdown": [
       "\n",
       "carrier | count | \n",
       "|---|---|---|---|---|---|---|---|---|---|---|---|---|---|---|---|\n",
       "| 9E    | 18460 | \n",
       "| AA    | 32729 | \n",
       "| AS    |   714 | \n",
       "| B6    | 54635 | \n",
       "| DL    | 48110 | \n",
       "| EV    | 54173 | \n",
       "| F9    |   685 | \n",
       "| FL    |  3260 | \n",
       "| HA    |   342 | \n",
       "| MQ    | 26397 | \n",
       "| OO    |    32 | \n",
       "| UA    | 58665 | \n",
       "| US    | 20536 | \n",
       "| VX    |  5162 | \n",
       "| WN    | 12275 | \n",
       "| YV    |   601 | \n",
       "\n",
       "\n"
      ],
      "text/plain": [
       "   carrier count\n",
       "1  9E      18460\n",
       "2  AA      32729\n",
       "3  AS        714\n",
       "4  B6      54635\n",
       "5  DL      48110\n",
       "6  EV      54173\n",
       "7  F9        685\n",
       "8  FL       3260\n",
       "9  HA        342\n",
       "10 MQ      26397\n",
       "11 OO         32\n",
       "12 UA      58665\n",
       "13 US      20536\n",
       "14 VX       5162\n",
       "15 WN      12275\n",
       "16 YV        601"
      ]
     },
     "metadata": {},
     "output_type": "display_data"
    }
   ],
   "source": [
    "flights %>%\n",
    "    group_by(carrier) %>%\n",
    "    summarize(count=n())"
   ]
  },
  {
   "cell_type": "markdown",
   "metadata": {},
   "source": [
    "We now have a bunch of carriers, and we can convert this to a probability distribution to estimate the probability of a plan being from a particular airline.\n",
    "\n",
    "We can also start to think about airlines _and_ flights. Let's do a bit more R trickery! We can group by two variables:"
   ]
  },
  {
   "cell_type": "code",
   "execution_count": 18,
   "metadata": {},
   "outputs": [
    {
     "data": {
      "text/html": [
       "<table>\n",
       "<thead><tr><th scope=col>origin</th><th scope=col>carrier</th><th scope=col>count</th><th scope=col>prob</th></tr></thead>\n",
       "<tbody>\n",
       "\t<tr><td>EWR        </td><td>9E         </td><td> 1268      </td><td>0.003765114</td></tr>\n",
       "\t<tr><td>EWR        </td><td>AA         </td><td> 3487      </td><td>0.010354063</td></tr>\n",
       "\t<tr><td>EWR        </td><td>AS         </td><td>  714      </td><td>0.002120104</td></tr>\n",
       "\t<tr><td>EWR        </td><td>B6         </td><td> 6557      </td><td>0.019469915</td></tr>\n",
       "\t<tr><td>EWR        </td><td>DL         </td><td> 4342      </td><td>0.012892843</td></tr>\n",
       "\t<tr><td>EWR        </td><td>EV         </td><td>43939      </td><td>0.130469511</td></tr>\n",
       "</tbody>\n",
       "</table>\n"
      ],
      "text/latex": [
       "\\begin{tabular}{r|llll}\n",
       " origin & carrier & count & prob\\\\\n",
       "\\hline\n",
       "\t EWR         & 9E          &  1268       & 0.003765114\\\\\n",
       "\t EWR         & AA          &  3487       & 0.010354063\\\\\n",
       "\t EWR         & AS          &   714       & 0.002120104\\\\\n",
       "\t EWR         & B6          &  6557       & 0.019469915\\\\\n",
       "\t EWR         & DL          &  4342       & 0.012892843\\\\\n",
       "\t EWR         & EV          & 43939       & 0.130469511\\\\\n",
       "\\end{tabular}\n"
      ],
      "text/markdown": [
       "\n",
       "origin | carrier | count | prob | \n",
       "|---|---|---|---|---|---|\n",
       "| EWR         | 9E          |  1268       | 0.003765114 | \n",
       "| EWR         | AA          |  3487       | 0.010354063 | \n",
       "| EWR         | AS          |   714       | 0.002120104 | \n",
       "| EWR         | B6          |  6557       | 0.019469915 | \n",
       "| EWR         | DL          |  4342       | 0.012892843 | \n",
       "| EWR         | EV          | 43939       | 0.130469511 | \n",
       "\n",
       "\n"
      ],
      "text/plain": [
       "  origin carrier count prob       \n",
       "1 EWR    9E       1268 0.003765114\n",
       "2 EWR    AA       3487 0.010354063\n",
       "3 EWR    AS        714 0.002120104\n",
       "4 EWR    B6       6557 0.019469915\n",
       "5 EWR    DL       4342 0.012892843\n",
       "6 EWR    EV      43939 0.130469511"
      ]
     },
     "metadata": {},
     "output_type": "display_data"
    }
   ],
   "source": [
    "origin_carrier_flights = flights %>%\n",
    "    group_by(origin, carrier) %>%\n",
    "    summarize(count=n()) %>%\n",
    "    ungroup() %>%\n",
    "    mutate(prob = count / sum(count))\n",
    "head(origin_carrier_flights)"
   ]
  },
  {
   "cell_type": "markdown",
   "metadata": {},
   "source": [
    "> **R Note:** this contains 2 new functions. `mutate` is the `dplyr` way of doing the normalization we did previously for origins; it lets us compute a new variable based on other variables in the data frame. `ungroup` removes the grouping data introduced by `group_by`, so that `sum` sums over the entire data frame."
   ]
  },
  {
   "cell_type": "code",
   "execution_count": 19,
   "metadata": {},
   "outputs": [
    {
     "data": {
      "text/html": [
       "1"
      ],
      "text/latex": [
       "1"
      ],
      "text/markdown": [
       "1"
      ],
      "text/plain": [
       "[1] 1"
      ]
     },
     "metadata": {},
     "output_type": "display_data"
    }
   ],
   "source": [
    "sum(origin_carrier_flights$prob)"
   ]
  },
  {
   "cell_type": "markdown",
   "metadata": {},
   "source": [
    "This is probability distribution is called a _joint probability distribution_: it is the probability of two variables simultaneously taking on the given values.  We can write it $P(O, C)$: the probability of a specific origin and carrier.  So $P(O=\\mathsf{EWR}, C=\\mathsf{AA}) \\approx 0.010$.\n",
    "\n",
    "It can be easier to visualize this in a more matrix-like form. The `spread` function lets us convert data in this form (‘tall’) into a ‘wide’ format; the `select(-count)` operation removes the `count` column from the data frame:"
   ]
  },
  {
   "cell_type": "code",
   "execution_count": 20,
   "metadata": {},
   "outputs": [
    {
     "data": {
      "text/html": [
       "<table>\n",
       "<thead><tr><th scope=col>carrier</th><th scope=col>EWR</th><th scope=col>JFK</th><th scope=col>LGA</th></tr></thead>\n",
       "<tbody>\n",
       "\t<tr><td>9E          </td><td>0.003765114 </td><td>0.043503694 </td><td>7.545074e-03</td></tr>\n",
       "\t<tr><td>AA          </td><td>0.010354063 </td><td>0.040926313 </td><td>4.590291e-02</td></tr>\n",
       "\t<tr><td>AS          </td><td>0.002120104 </td><td>0.000000000 </td><td>0.000000e+00</td></tr>\n",
       "\t<tr><td>B6          </td><td>0.019469915 </td><td>0.124937644 </td><td>1.782194e-02</td></tr>\n",
       "\t<tr><td>DL          </td><td>0.012892843 </td><td>0.061468157 </td><td>6.849360e-02</td></tr>\n",
       "\t<tr><td>EV          </td><td>0.130469511 </td><td>0.004180820 </td><td>2.620733e-02</td></tr>\n",
       "\t<tr><td>F9          </td><td>0.000000000 </td><td>0.000000000 </td><td>2.033993e-03</td></tr>\n",
       "\t<tr><td>FL          </td><td>0.000000000 </td><td>0.000000000 </td><td>9.680025e-03</td></tr>\n",
       "\t<tr><td>HA          </td><td>0.000000000 </td><td>0.001015512 </td><td>0.000000e+00</td></tr>\n",
       "\t<tr><td>MQ          </td><td>0.006758201 </td><td>0.021358410 </td><td>5.026486e-02</td></tr>\n",
       "\t<tr><td>OO          </td><td>0.000017816 </td><td>0.000000000 </td><td>7.720265e-05</td></tr>\n",
       "\t<tr><td>UA          </td><td>0.136847638 </td><td>0.013462955 </td><td>2.388531e-02</td></tr>\n",
       "\t<tr><td>US          </td><td>0.013079911 </td><td>0.008893152 </td><td>3.900515e-02</td></tr>\n",
       "\t<tr><td>VX          </td><td>0.004649975 </td><td>0.010677721 </td><td>0.000000e+00</td></tr>\n",
       "\t<tr><td>WN          </td><td>0.018374231 </td><td>0.000000000 </td><td>1.807433e-02</td></tr>\n",
       "\t<tr><td>YV          </td><td>0.000000000 </td><td>0.000000000 </td><td>1.784569e-03</td></tr>\n",
       "</tbody>\n",
       "</table>\n"
      ],
      "text/latex": [
       "\\begin{tabular}{r|llll}\n",
       " carrier & EWR & JFK & LGA\\\\\n",
       "\\hline\n",
       "\t 9E           & 0.003765114  & 0.043503694  & 7.545074e-03\\\\\n",
       "\t AA           & 0.010354063  & 0.040926313  & 4.590291e-02\\\\\n",
       "\t AS           & 0.002120104  & 0.000000000  & 0.000000e+00\\\\\n",
       "\t B6           & 0.019469915  & 0.124937644  & 1.782194e-02\\\\\n",
       "\t DL           & 0.012892843  & 0.061468157  & 6.849360e-02\\\\\n",
       "\t EV           & 0.130469511  & 0.004180820  & 2.620733e-02\\\\\n",
       "\t F9           & 0.000000000  & 0.000000000  & 2.033993e-03\\\\\n",
       "\t FL           & 0.000000000  & 0.000000000  & 9.680025e-03\\\\\n",
       "\t HA           & 0.000000000  & 0.001015512  & 0.000000e+00\\\\\n",
       "\t MQ           & 0.006758201  & 0.021358410  & 5.026486e-02\\\\\n",
       "\t OO           & 0.000017816  & 0.000000000  & 7.720265e-05\\\\\n",
       "\t UA           & 0.136847638  & 0.013462955  & 2.388531e-02\\\\\n",
       "\t US           & 0.013079911  & 0.008893152  & 3.900515e-02\\\\\n",
       "\t VX           & 0.004649975  & 0.010677721  & 0.000000e+00\\\\\n",
       "\t WN           & 0.018374231  & 0.000000000  & 1.807433e-02\\\\\n",
       "\t YV           & 0.000000000  & 0.000000000  & 1.784569e-03\\\\\n",
       "\\end{tabular}\n"
      ],
      "text/markdown": [
       "\n",
       "carrier | EWR | JFK | LGA | \n",
       "|---|---|---|---|---|---|---|---|---|---|---|---|---|---|---|---|\n",
       "| 9E           | 0.003765114  | 0.043503694  | 7.545074e-03 | \n",
       "| AA           | 0.010354063  | 0.040926313  | 4.590291e-02 | \n",
       "| AS           | 0.002120104  | 0.000000000  | 0.000000e+00 | \n",
       "| B6           | 0.019469915  | 0.124937644  | 1.782194e-02 | \n",
       "| DL           | 0.012892843  | 0.061468157  | 6.849360e-02 | \n",
       "| EV           | 0.130469511  | 0.004180820  | 2.620733e-02 | \n",
       "| F9           | 0.000000000  | 0.000000000  | 2.033993e-03 | \n",
       "| FL           | 0.000000000  | 0.000000000  | 9.680025e-03 | \n",
       "| HA           | 0.000000000  | 0.001015512  | 0.000000e+00 | \n",
       "| MQ           | 0.006758201  | 0.021358410  | 5.026486e-02 | \n",
       "| OO           | 0.000017816  | 0.000000000  | 7.720265e-05 | \n",
       "| UA           | 0.136847638  | 0.013462955  | 2.388531e-02 | \n",
       "| US           | 0.013079911  | 0.008893152  | 3.900515e-02 | \n",
       "| VX           | 0.004649975  | 0.010677721  | 0.000000e+00 | \n",
       "| WN           | 0.018374231  | 0.000000000  | 1.807433e-02 | \n",
       "| YV           | 0.000000000  | 0.000000000  | 1.784569e-03 | \n",
       "\n",
       "\n"
      ],
      "text/plain": [
       "   carrier EWR         JFK         LGA         \n",
       "1  9E      0.003765114 0.043503694 7.545074e-03\n",
       "2  AA      0.010354063 0.040926313 4.590291e-02\n",
       "3  AS      0.002120104 0.000000000 0.000000e+00\n",
       "4  B6      0.019469915 0.124937644 1.782194e-02\n",
       "5  DL      0.012892843 0.061468157 6.849360e-02\n",
       "6  EV      0.130469511 0.004180820 2.620733e-02\n",
       "7  F9      0.000000000 0.000000000 2.033993e-03\n",
       "8  FL      0.000000000 0.000000000 9.680025e-03\n",
       "9  HA      0.000000000 0.001015512 0.000000e+00\n",
       "10 MQ      0.006758201 0.021358410 5.026486e-02\n",
       "11 OO      0.000017816 0.000000000 7.720265e-05\n",
       "12 UA      0.136847638 0.013462955 2.388531e-02\n",
       "13 US      0.013079911 0.008893152 3.900515e-02\n",
       "14 VX      0.004649975 0.010677721 0.000000e+00\n",
       "15 WN      0.018374231 0.000000000 1.807433e-02\n",
       "16 YV      0.000000000 0.000000000 1.784569e-03"
      ]
     },
     "metadata": {},
     "output_type": "display_data"
    }
   ],
   "source": [
    "origin_carrier_wide = spread(origin_carrier_flights %>% select(-count), origin, prob, fill=0)\n",
    "origin_carrier_wide"
   ]
  },
  {
   "cell_type": "markdown",
   "metadata": {},
   "source": [
    "We can then convert this into an R _matrix_:"
   ]
  },
  {
   "cell_type": "code",
   "execution_count": 21,
   "metadata": {},
   "outputs": [
    {
     "data": {
      "text/html": [
       "<table>\n",
       "<thead><tr><th></th><th scope=col>EWR</th><th scope=col>JFK</th><th scope=col>LGA</th></tr></thead>\n",
       "<tbody>\n",
       "\t<tr><th scope=row>9E</th><td>0.003765114 </td><td>0.043503694 </td><td>7.545074e-03</td></tr>\n",
       "\t<tr><th scope=row>AA</th><td>0.010354063 </td><td>0.040926313 </td><td>4.590291e-02</td></tr>\n",
       "\t<tr><th scope=row>AS</th><td>0.002120104 </td><td>0.000000000 </td><td>0.000000e+00</td></tr>\n",
       "\t<tr><th scope=row>B6</th><td>0.019469915 </td><td>0.124937644 </td><td>1.782194e-02</td></tr>\n",
       "\t<tr><th scope=row>DL</th><td>0.012892843 </td><td>0.061468157 </td><td>6.849360e-02</td></tr>\n",
       "\t<tr><th scope=row>EV</th><td>0.130469511 </td><td>0.004180820 </td><td>2.620733e-02</td></tr>\n",
       "\t<tr><th scope=row>F9</th><td>0.000000000 </td><td>0.000000000 </td><td>2.033993e-03</td></tr>\n",
       "\t<tr><th scope=row>FL</th><td>0.000000000 </td><td>0.000000000 </td><td>9.680025e-03</td></tr>\n",
       "\t<tr><th scope=row>HA</th><td>0.000000000 </td><td>0.001015512 </td><td>0.000000e+00</td></tr>\n",
       "\t<tr><th scope=row>MQ</th><td>0.006758201 </td><td>0.021358410 </td><td>5.026486e-02</td></tr>\n",
       "\t<tr><th scope=row>OO</th><td>0.000017816 </td><td>0.000000000 </td><td>7.720265e-05</td></tr>\n",
       "\t<tr><th scope=row>UA</th><td>0.136847638 </td><td>0.013462955 </td><td>2.388531e-02</td></tr>\n",
       "\t<tr><th scope=row>US</th><td>0.013079911 </td><td>0.008893152 </td><td>3.900515e-02</td></tr>\n",
       "\t<tr><th scope=row>VX</th><td>0.004649975 </td><td>0.010677721 </td><td>0.000000e+00</td></tr>\n",
       "\t<tr><th scope=row>WN</th><td>0.018374231 </td><td>0.000000000 </td><td>1.807433e-02</td></tr>\n",
       "\t<tr><th scope=row>YV</th><td>0.000000000 </td><td>0.000000000 </td><td>1.784569e-03</td></tr>\n",
       "</tbody>\n",
       "</table>\n"
      ],
      "text/latex": [
       "\\begin{tabular}{r|lll}\n",
       "  & EWR & JFK & LGA\\\\\n",
       "\\hline\n",
       "\t9E & 0.003765114  & 0.043503694  & 7.545074e-03\\\\\n",
       "\tAA & 0.010354063  & 0.040926313  & 4.590291e-02\\\\\n",
       "\tAS & 0.002120104  & 0.000000000  & 0.000000e+00\\\\\n",
       "\tB6 & 0.019469915  & 0.124937644  & 1.782194e-02\\\\\n",
       "\tDL & 0.012892843  & 0.061468157  & 6.849360e-02\\\\\n",
       "\tEV & 0.130469511  & 0.004180820  & 2.620733e-02\\\\\n",
       "\tF9 & 0.000000000  & 0.000000000  & 2.033993e-03\\\\\n",
       "\tFL & 0.000000000  & 0.000000000  & 9.680025e-03\\\\\n",
       "\tHA & 0.000000000  & 0.001015512  & 0.000000e+00\\\\\n",
       "\tMQ & 0.006758201  & 0.021358410  & 5.026486e-02\\\\\n",
       "\tOO & 0.000017816  & 0.000000000  & 7.720265e-05\\\\\n",
       "\tUA & 0.136847638  & 0.013462955  & 2.388531e-02\\\\\n",
       "\tUS & 0.013079911  & 0.008893152  & 3.900515e-02\\\\\n",
       "\tVX & 0.004649975  & 0.010677721  & 0.000000e+00\\\\\n",
       "\tWN & 0.018374231  & 0.000000000  & 1.807433e-02\\\\\n",
       "\tYV & 0.000000000  & 0.000000000  & 1.784569e-03\\\\\n",
       "\\end{tabular}\n"
      ],
      "text/markdown": [
       "\n",
       "| <!--/--> | EWR | JFK | LGA | \n",
       "|---|---|---|---|---|---|---|---|---|---|---|---|---|---|---|---|\n",
       "| 9E | 0.003765114  | 0.043503694  | 7.545074e-03 | \n",
       "| AA | 0.010354063  | 0.040926313  | 4.590291e-02 | \n",
       "| AS | 0.002120104  | 0.000000000  | 0.000000e+00 | \n",
       "| B6 | 0.019469915  | 0.124937644  | 1.782194e-02 | \n",
       "| DL | 0.012892843  | 0.061468157  | 6.849360e-02 | \n",
       "| EV | 0.130469511  | 0.004180820  | 2.620733e-02 | \n",
       "| F9 | 0.000000000  | 0.000000000  | 2.033993e-03 | \n",
       "| FL | 0.000000000  | 0.000000000  | 9.680025e-03 | \n",
       "| HA | 0.000000000  | 0.001015512  | 0.000000e+00 | \n",
       "| MQ | 0.006758201  | 0.021358410  | 5.026486e-02 | \n",
       "| OO | 0.000017816  | 0.000000000  | 7.720265e-05 | \n",
       "| UA | 0.136847638  | 0.013462955  | 2.388531e-02 | \n",
       "| US | 0.013079911  | 0.008893152  | 3.900515e-02 | \n",
       "| VX | 0.004649975  | 0.010677721  | 0.000000e+00 | \n",
       "| WN | 0.018374231  | 0.000000000  | 1.807433e-02 | \n",
       "| YV | 0.000000000  | 0.000000000  | 1.784569e-03 | \n",
       "\n",
       "\n"
      ],
      "text/plain": [
       "   EWR         JFK         LGA         \n",
       "9E 0.003765114 0.043503694 7.545074e-03\n",
       "AA 0.010354063 0.040926313 4.590291e-02\n",
       "AS 0.002120104 0.000000000 0.000000e+00\n",
       "B6 0.019469915 0.124937644 1.782194e-02\n",
       "DL 0.012892843 0.061468157 6.849360e-02\n",
       "EV 0.130469511 0.004180820 2.620733e-02\n",
       "F9 0.000000000 0.000000000 2.033993e-03\n",
       "FL 0.000000000 0.000000000 9.680025e-03\n",
       "HA 0.000000000 0.001015512 0.000000e+00\n",
       "MQ 0.006758201 0.021358410 5.026486e-02\n",
       "OO 0.000017816 0.000000000 7.720265e-05\n",
       "UA 0.136847638 0.013462955 2.388531e-02\n",
       "US 0.013079911 0.008893152 3.900515e-02\n",
       "VX 0.004649975 0.010677721 0.000000e+00\n",
       "WN 0.018374231 0.000000000 1.807433e-02\n",
       "YV 0.000000000 0.000000000 1.784569e-03"
      ]
     },
     "metadata": {},
     "output_type": "display_data"
    }
   ],
   "source": [
    "origin_carrier_matrix = as.matrix(select(origin_carrier_wide, -carrier))\n",
    "row.names(origin_carrier_matrix) = origin_carrier_wide$carrier\n",
    "origin_carrier_matrix"
   ]
  },
  {
   "cell_type": "markdown",
   "metadata": {},
   "source": [
    "This is our joint distribution: each cell contains the probability of a randomly selected flight being on the particular carrier _and_ from the specifeid airport. We can check its sum again:"
   ]
  },
  {
   "cell_type": "code",
   "execution_count": 22,
   "metadata": {},
   "outputs": [
    {
     "data": {
      "text/html": [
       "1"
      ],
      "text/latex": [
       "1"
      ],
      "text/markdown": [
       "1"
      ],
      "text/plain": [
       "[1] 1"
      ]
     },
     "metadata": {},
     "output_type": "display_data"
    }
   ],
   "source": [
    "sum(origin_carrier_matrix)"
   ]
  },
  {
   "cell_type": "markdown",
   "metadata": {},
   "source": [
    "Ok, that's better."
   ]
  },
  {
   "cell_type": "markdown",
   "metadata": {},
   "source": [
    "### Marginal Probabilities\n",
    "\n",
    "One of the things we often want to do with a joint probability distribution is compute the _marginal distributions_ of its variables.  If we have a joint distribution $P(A,B)$, the marginal distribution $P(A) = \\sum_{b \\in B} P(A,B)$.  When our joint distribution is a matrix, R makes it very easy to compute the marginals:"
   ]
  },
  {
   "cell_type": "code",
   "execution_count": 23,
   "metadata": {},
   "outputs": [
    {
     "data": {
      "text/html": [
       "<dl class=dl-horizontal>\n",
       "\t<dt>9E</dt>\n",
       "\t\t<dd>0.0548138822243865</dd>\n",
       "\t<dt>AA</dt>\n",
       "\t\t<dd>0.097183290970853</dd>\n",
       "\t<dt>AS</dt>\n",
       "\t\t<dd>0.00212010357032568</dd>\n",
       "\t<dt>B6</dt>\n",
       "\t\t<dd>0.162229493788156</dd>\n",
       "\t<dt>DL</dt>\n",
       "\t\t<dd>0.142854597714802</dd>\n",
       "\t<dt>EV</dt>\n",
       "\t\t<dd>0.16085766206618</dd>\n",
       "\t<dt>F9</dt>\n",
       "\t\t<dd>0.00203399292111077</dd>\n",
       "\t<dt>FL</dt>\n",
       "\t\t<dd>0.00968002470484833</dd>\n",
       "\t<dt>HA</dt>\n",
       "\t\t<dd>0.00101551179418961</dd>\n",
       "\t<dt>MQ</dt>\n",
       "\t\t<dd>0.0783814761146875</dd>\n",
       "\t<dt>OO</dt>\n",
       "\t\t<dd>9.50186474095541e-05</dd>\n",
       "\t<dt>UA</dt>\n",
       "\t\t<dd>0.174195904696297</dd>\n",
       "\t<dt>US</dt>\n",
       "\t\t<dd>0.0609782169750814</dd>\n",
       "\t<dt>VX</dt>\n",
       "\t\t<dd>0.0153276955602537</dd>\n",
       "\t<dt>WN</dt>\n",
       "\t\t<dd>0.0364485592797587</dd>\n",
       "\t<dt>YV</dt>\n",
       "\t\t<dd>0.00178456897166069</dd>\n",
       "</dl>\n"
      ],
      "text/latex": [
       "\\begin{description*}\n",
       "\\item[9E] 0.0548138822243865\n",
       "\\item[AA] 0.097183290970853\n",
       "\\item[AS] 0.00212010357032568\n",
       "\\item[B6] 0.162229493788156\n",
       "\\item[DL] 0.142854597714802\n",
       "\\item[EV] 0.16085766206618\n",
       "\\item[F9] 0.00203399292111077\n",
       "\\item[FL] 0.00968002470484833\n",
       "\\item[HA] 0.00101551179418961\n",
       "\\item[MQ] 0.0783814761146875\n",
       "\\item[OO] 9.50186474095541e-05\n",
       "\\item[UA] 0.174195904696297\n",
       "\\item[US] 0.0609782169750814\n",
       "\\item[VX] 0.0153276955602537\n",
       "\\item[WN] 0.0364485592797587\n",
       "\\item[YV] 0.00178456897166069\n",
       "\\end{description*}\n"
      ],
      "text/markdown": [
       "9E\n",
       ":   0.0548138822243865AA\n",
       ":   0.097183290970853AS\n",
       ":   0.00212010357032568B6\n",
       ":   0.162229493788156DL\n",
       ":   0.142854597714802EV\n",
       ":   0.16085766206618F9\n",
       ":   0.00203399292111077FL\n",
       ":   0.00968002470484833HA\n",
       ":   0.00101551179418961MQ\n",
       ":   0.0783814761146875OO\n",
       ":   9.50186474095541e-05UA\n",
       ":   0.174195904696297US\n",
       ":   0.0609782169750814VX\n",
       ":   0.0153276955602537WN\n",
       ":   0.0364485592797587YV\n",
       ":   0.00178456897166069\n",
       "\n"
      ],
      "text/plain": [
       "          9E           AA           AS           B6           DL           EV \n",
       "5.481388e-02 9.718329e-02 2.120104e-03 1.622295e-01 1.428546e-01 1.608577e-01 \n",
       "          F9           FL           HA           MQ           OO           UA \n",
       "2.033993e-03 9.680025e-03 1.015512e-03 7.838148e-02 9.501865e-05 1.741959e-01 \n",
       "          US           VX           WN           YV \n",
       "6.097822e-02 1.532770e-02 3.644856e-02 1.784569e-03 "
      ]
     },
     "metadata": {},
     "output_type": "display_data"
    }
   ],
   "source": [
    "rowSums(origin_carrier_matrix)"
   ]
  },
  {
   "cell_type": "markdown",
   "metadata": {},
   "source": [
    "This is the probability of a randomly selected aircraft being operated by the specified carrier."
   ]
  },
  {
   "cell_type": "code",
   "execution_count": 24,
   "metadata": {},
   "outputs": [
    {
     "data": {
      "text/html": [
       "<dl class=dl-horizontal>\n",
       "\t<dt>EWR</dt>\n",
       "\t\t<dd>0.358799320616671</dd>\n",
       "\t<dt>JFK</dt>\n",
       "\t\t<dd>0.330424377033993</dd>\n",
       "\t<dt>LGA</dt>\n",
       "\t\t<dd>0.310776302349336</dd>\n",
       "</dl>\n"
      ],
      "text/latex": [
       "\\begin{description*}\n",
       "\\item[EWR] 0.358799320616671\n",
       "\\item[JFK] 0.330424377033993\n",
       "\\item[LGA] 0.310776302349336\n",
       "\\end{description*}\n"
      ],
      "text/markdown": [
       "EWR\n",
       ":   0.358799320616671JFK\n",
       ":   0.330424377033993LGA\n",
       ":   0.310776302349336\n",
       "\n"
      ],
      "text/plain": [
       "      EWR       JFK       LGA \n",
       "0.3587993 0.3304244 0.3107763 "
      ]
     },
     "metadata": {},
     "output_type": "display_data"
    }
   ],
   "source": [
    "colSums(origin_carrier_matrix)"
   ]
  },
  {
   "cell_type": "markdown",
   "metadata": {},
   "source": [
    "If you compare these with the airport probabilities we estimated at the beginning, you should find them to be the same. This is a useful sanity check - they should be the same! But sometimes we have a joint distribution, and we want to extract the marginal distribution from it.\n",
    "\n",
    "Joint probability distributions are also symmetric - it makes no difference whether we write $P(O,C)$ or $P(C,O)$."
   ]
  },
  {
   "cell_type": "markdown",
   "metadata": {},
   "source": [
    "### Conditional Probability\n",
    "\n",
    "Another useful kind of probability we can derive from a joint distribution is the _conditional_ probability.  For example, the conditional probability $P(O|C)$ is the probability that an airplane left a particular airport **given that** we know it is operated by a given carrier.\n",
    "\n",
    "The probability $P(O|C) = \\frac{P(O,C)}{P(C)}$.\n"
   ]
  },
  {
   "cell_type": "code",
   "execution_count": 25,
   "metadata": {},
   "outputs": [
    {
     "data": {
      "text/html": [
       "<table>\n",
       "<thead><tr><th></th><th scope=col>EWR</th><th scope=col>JFK</th><th scope=col>LGA</th></tr></thead>\n",
       "<tbody>\n",
       "\t<tr><th scope=row>9E</th><td>0.06868906</td><td>0.79366197</td><td>0.1376490 </td></tr>\n",
       "\t<tr><th scope=row>AA</th><td>0.10654160</td><td>0.42112500</td><td>0.4723334 </td></tr>\n",
       "\t<tr><th scope=row>AS</th><td>1.00000000</td><td>0.00000000</td><td>0.0000000 </td></tr>\n",
       "\t<tr><th scope=row>B6</th><td>0.12001464</td><td>0.77012904</td><td>0.1098563 </td></tr>\n",
       "\t<tr><th scope=row>DL</th><td>0.09025151</td><td>0.43028476</td><td>0.4794637 </td></tr>\n",
       "\t<tr><th scope=row>EV</th><td>0.81108670</td><td>0.02599081</td><td>0.1629225 </td></tr>\n",
       "\t<tr><th scope=row>F9</th><td>0.00000000</td><td>0.00000000</td><td>1.0000000 </td></tr>\n",
       "\t<tr><th scope=row>FL</th><td>0.00000000</td><td>0.00000000</td><td>1.0000000 </td></tr>\n",
       "\t<tr><th scope=row>HA</th><td>0.00000000</td><td>1.00000000</td><td>0.0000000 </td></tr>\n",
       "\t<tr><th scope=row>MQ</th><td>0.08622192</td><td>0.27249309</td><td>0.6412850 </td></tr>\n",
       "\t<tr><th scope=row>OO</th><td>0.18750000</td><td>0.00000000</td><td>0.8125000 </td></tr>\n",
       "\t<tr><th scope=row>UA</th><td>0.78559618</td><td>0.07728629</td><td>0.1371175 </td></tr>\n",
       "\t<tr><th scope=row>US</th><td>0.21450136</td><td>0.14584145</td><td>0.6396572 </td></tr>\n",
       "\t<tr><th scope=row>VX</th><td>0.30337079</td><td>0.69662921</td><td>0.0000000 </td></tr>\n",
       "\t<tr><th scope=row>WN</th><td>0.50411405</td><td>0.00000000</td><td>0.4958859 </td></tr>\n",
       "\t<tr><th scope=row>YV</th><td>0.00000000</td><td>0.00000000</td><td>1.0000000 </td></tr>\n",
       "</tbody>\n",
       "</table>\n"
      ],
      "text/latex": [
       "\\begin{tabular}{r|lll}\n",
       "  & EWR & JFK & LGA\\\\\n",
       "\\hline\n",
       "\t9E & 0.06868906 & 0.79366197 & 0.1376490 \\\\\n",
       "\tAA & 0.10654160 & 0.42112500 & 0.4723334 \\\\\n",
       "\tAS & 1.00000000 & 0.00000000 & 0.0000000 \\\\\n",
       "\tB6 & 0.12001464 & 0.77012904 & 0.1098563 \\\\\n",
       "\tDL & 0.09025151 & 0.43028476 & 0.4794637 \\\\\n",
       "\tEV & 0.81108670 & 0.02599081 & 0.1629225 \\\\\n",
       "\tF9 & 0.00000000 & 0.00000000 & 1.0000000 \\\\\n",
       "\tFL & 0.00000000 & 0.00000000 & 1.0000000 \\\\\n",
       "\tHA & 0.00000000 & 1.00000000 & 0.0000000 \\\\\n",
       "\tMQ & 0.08622192 & 0.27249309 & 0.6412850 \\\\\n",
       "\tOO & 0.18750000 & 0.00000000 & 0.8125000 \\\\\n",
       "\tUA & 0.78559618 & 0.07728629 & 0.1371175 \\\\\n",
       "\tUS & 0.21450136 & 0.14584145 & 0.6396572 \\\\\n",
       "\tVX & 0.30337079 & 0.69662921 & 0.0000000 \\\\\n",
       "\tWN & 0.50411405 & 0.00000000 & 0.4958859 \\\\\n",
       "\tYV & 0.00000000 & 0.00000000 & 1.0000000 \\\\\n",
       "\\end{tabular}\n"
      ],
      "text/markdown": [
       "\n",
       "| <!--/--> | EWR | JFK | LGA | \n",
       "|---|---|---|---|---|---|---|---|---|---|---|---|---|---|---|---|\n",
       "| 9E | 0.06868906 | 0.79366197 | 0.1376490  | \n",
       "| AA | 0.10654160 | 0.42112500 | 0.4723334  | \n",
       "| AS | 1.00000000 | 0.00000000 | 0.0000000  | \n",
       "| B6 | 0.12001464 | 0.77012904 | 0.1098563  | \n",
       "| DL | 0.09025151 | 0.43028476 | 0.4794637  | \n",
       "| EV | 0.81108670 | 0.02599081 | 0.1629225  | \n",
       "| F9 | 0.00000000 | 0.00000000 | 1.0000000  | \n",
       "| FL | 0.00000000 | 0.00000000 | 1.0000000  | \n",
       "| HA | 0.00000000 | 1.00000000 | 0.0000000  | \n",
       "| MQ | 0.08622192 | 0.27249309 | 0.6412850  | \n",
       "| OO | 0.18750000 | 0.00000000 | 0.8125000  | \n",
       "| UA | 0.78559618 | 0.07728629 | 0.1371175  | \n",
       "| US | 0.21450136 | 0.14584145 | 0.6396572  | \n",
       "| VX | 0.30337079 | 0.69662921 | 0.0000000  | \n",
       "| WN | 0.50411405 | 0.00000000 | 0.4958859  | \n",
       "| YV | 0.00000000 | 0.00000000 | 1.0000000  | \n",
       "\n",
       "\n"
      ],
      "text/plain": [
       "   EWR        JFK        LGA      \n",
       "9E 0.06868906 0.79366197 0.1376490\n",
       "AA 0.10654160 0.42112500 0.4723334\n",
       "AS 1.00000000 0.00000000 0.0000000\n",
       "B6 0.12001464 0.77012904 0.1098563\n",
       "DL 0.09025151 0.43028476 0.4794637\n",
       "EV 0.81108670 0.02599081 0.1629225\n",
       "F9 0.00000000 0.00000000 1.0000000\n",
       "FL 0.00000000 0.00000000 1.0000000\n",
       "HA 0.00000000 1.00000000 0.0000000\n",
       "MQ 0.08622192 0.27249309 0.6412850\n",
       "OO 0.18750000 0.00000000 0.8125000\n",
       "UA 0.78559618 0.07728629 0.1371175\n",
       "US 0.21450136 0.14584145 0.6396572\n",
       "VX 0.30337079 0.69662921 0.0000000\n",
       "WN 0.50411405 0.00000000 0.4958859\n",
       "YV 0.00000000 0.00000000 1.0000000"
      ]
     },
     "metadata": {},
     "output_type": "display_data"
    }
   ],
   "source": [
    "origin_carrier_cond = origin_carrier_matrix / rowSums(origin_carrier_matrix)\n",
    "origin_carrier_cond"
   ]
  },
  {
   "cell_type": "markdown",
   "metadata": {},
   "source": [
    "What's that we just did? We divided a matrix by a vector that has as many entries as the matrix has rows. This divides every entry in the matrix by the value corresponding to its row. Neat, huh? We can check that each row is a probability distribution:"
   ]
  },
  {
   "cell_type": "code",
   "execution_count": 26,
   "metadata": {},
   "outputs": [
    {
     "data": {
      "text/html": [
       "<dl class=dl-horizontal>\n",
       "\t<dt>9E</dt>\n",
       "\t\t<dd>1</dd>\n",
       "\t<dt>AA</dt>\n",
       "\t\t<dd>1</dd>\n",
       "\t<dt>AS</dt>\n",
       "\t\t<dd>1</dd>\n",
       "\t<dt>B6</dt>\n",
       "\t\t<dd>1</dd>\n",
       "\t<dt>DL</dt>\n",
       "\t\t<dd>1</dd>\n",
       "\t<dt>EV</dt>\n",
       "\t\t<dd>1</dd>\n",
       "\t<dt>F9</dt>\n",
       "\t\t<dd>1</dd>\n",
       "\t<dt>FL</dt>\n",
       "\t\t<dd>1</dd>\n",
       "\t<dt>HA</dt>\n",
       "\t\t<dd>1</dd>\n",
       "\t<dt>MQ</dt>\n",
       "\t\t<dd>1</dd>\n",
       "\t<dt>OO</dt>\n",
       "\t\t<dd>1</dd>\n",
       "\t<dt>UA</dt>\n",
       "\t\t<dd>1</dd>\n",
       "\t<dt>US</dt>\n",
       "\t\t<dd>1</dd>\n",
       "\t<dt>VX</dt>\n",
       "\t\t<dd>1</dd>\n",
       "\t<dt>WN</dt>\n",
       "\t\t<dd>1</dd>\n",
       "\t<dt>YV</dt>\n",
       "\t\t<dd>1</dd>\n",
       "</dl>\n"
      ],
      "text/latex": [
       "\\begin{description*}\n",
       "\\item[9E] 1\n",
       "\\item[AA] 1\n",
       "\\item[AS] 1\n",
       "\\item[B6] 1\n",
       "\\item[DL] 1\n",
       "\\item[EV] 1\n",
       "\\item[F9] 1\n",
       "\\item[FL] 1\n",
       "\\item[HA] 1\n",
       "\\item[MQ] 1\n",
       "\\item[OO] 1\n",
       "\\item[UA] 1\n",
       "\\item[US] 1\n",
       "\\item[VX] 1\n",
       "\\item[WN] 1\n",
       "\\item[YV] 1\n",
       "\\end{description*}\n"
      ],
      "text/markdown": [
       "9E\n",
       ":   1AA\n",
       ":   1AS\n",
       ":   1B6\n",
       ":   1DL\n",
       ":   1EV\n",
       ":   1F9\n",
       ":   1FL\n",
       ":   1HA\n",
       ":   1MQ\n",
       ":   1OO\n",
       ":   1UA\n",
       ":   1US\n",
       ":   1VX\n",
       ":   1WN\n",
       ":   1YV\n",
       ":   1\n",
       "\n"
      ],
      "text/plain": [
       "9E AA AS B6 DL EV F9 FL HA MQ OO UA US VX WN YV \n",
       " 1  1  1  1  1  1  1  1  1  1  1  1  1  1  1  1 "
      ]
     },
     "metadata": {},
     "output_type": "display_data"
    }
   ],
   "source": [
    "rowSums(origin_carrier_cond)"
   ]
  },
  {
   "cell_type": "markdown",
   "metadata": {},
   "source": [
    "Each row of our new matrix is a probability distribution over airports, given that we know the carrier of the airline. Cool!  If we know that the flight is United (UA), then it is most likely from Newark (EWR) - $P(\\mathsf{EWR}|\\mathsf{UA}) = 0.78$.\n",
    "\n",
    "Now, unlike joint probabilities, conditional probabilities are _not_ symmetric: $P(O|C) \\ne P(C|O)$.  If we want to compute $P(C|O)$, we can use `t` to _transpose_ our matrix and normalize rows to be distributions again:"
   ]
  },
  {
   "cell_type": "code",
   "execution_count": 27,
   "metadata": {},
   "outputs": [
    {
     "data": {
      "text/html": [
       "<table>\n",
       "<thead><tr><th></th><th scope=col>9E</th><th scope=col>AA</th><th scope=col>AS</th><th scope=col>B6</th><th scope=col>DL</th><th scope=col>EV</th><th scope=col>F9</th><th scope=col>FL</th><th scope=col>HA</th><th scope=col>MQ</th><th scope=col>OO</th><th scope=col>UA</th><th scope=col>US</th><th scope=col>VX</th><th scope=col>WN</th><th scope=col>YV</th></tr></thead>\n",
       "<tbody>\n",
       "\t<tr><th scope=row>EWR</th><td>0.01049365  </td><td>0.02885753  </td><td>0.005908884 </td><td>0.05426408  </td><td>0.0359333   </td><td>0.36362809  </td><td>0.000000000 </td><td>0.00000000  </td><td>0.000000000 </td><td>0.01883560  </td><td>4.965449e-05</td><td>0.38140439  </td><td>0.03645467  </td><td>0.01295982  </td><td>0.05121033  </td><td>0.000000000 </td></tr>\n",
       "\t<tr><th scope=row>JFK</th><td>0.13166006  </td><td>0.12385985  </td><td>0.000000000 </td><td>0.37811267  </td><td>0.1860279   </td><td>0.01265288  </td><td>0.000000000 </td><td>0.00000000  </td><td>0.003073356 </td><td>0.06463933  </td><td>0.000000e+00</td><td>0.04074444  </td><td>0.02691433  </td><td>0.03231517  </td><td>0.00000000  </td><td>0.000000000 </td></tr>\n",
       "\t<tr><th scope=row>LGA</th><td>0.02427815  </td><td>0.14770404  </td><td>0.000000000 </td><td>0.05734651  </td><td>0.2203952   </td><td>0.08432860  </td><td>0.006544878 </td><td>0.03114789  </td><td>0.000000000 </td><td>0.16173970  </td><td>2.484187e-04</td><td>0.07685693  </td><td>0.12550878  </td><td>0.00000000  </td><td>0.05815864  </td><td>0.005742294 </td></tr>\n",
       "</tbody>\n",
       "</table>\n"
      ],
      "text/latex": [
       "\\begin{tabular}{r|llllllllllllllll}\n",
       "  & 9E & AA & AS & B6 & DL & EV & F9 & FL & HA & MQ & OO & UA & US & VX & WN & YV\\\\\n",
       "\\hline\n",
       "\tEWR & 0.01049365   & 0.02885753   & 0.005908884  & 0.05426408   & 0.0359333    & 0.36362809   & 0.000000000  & 0.00000000   & 0.000000000  & 0.01883560   & 4.965449e-05 & 0.38140439   & 0.03645467   & 0.01295982   & 0.05121033   & 0.000000000 \\\\\n",
       "\tJFK & 0.13166006   & 0.12385985   & 0.000000000  & 0.37811267   & 0.1860279    & 0.01265288   & 0.000000000  & 0.00000000   & 0.003073356  & 0.06463933   & 0.000000e+00 & 0.04074444   & 0.02691433   & 0.03231517   & 0.00000000   & 0.000000000 \\\\\n",
       "\tLGA & 0.02427815   & 0.14770404   & 0.000000000  & 0.05734651   & 0.2203952    & 0.08432860   & 0.006544878  & 0.03114789   & 0.000000000  & 0.16173970   & 2.484187e-04 & 0.07685693   & 0.12550878   & 0.00000000   & 0.05815864   & 0.005742294 \\\\\n",
       "\\end{tabular}\n"
      ],
      "text/markdown": [
       "\n",
       "| <!--/--> | 9E | AA | AS | B6 | DL | EV | F9 | FL | HA | MQ | OO | UA | US | VX | WN | YV | \n",
       "|---|---|---|\n",
       "| EWR | 0.01049365   | 0.02885753   | 0.005908884  | 0.05426408   | 0.0359333    | 0.36362809   | 0.000000000  | 0.00000000   | 0.000000000  | 0.01883560   | 4.965449e-05 | 0.38140439   | 0.03645467   | 0.01295982   | 0.05121033   | 0.000000000  | \n",
       "| JFK | 0.13166006   | 0.12385985   | 0.000000000  | 0.37811267   | 0.1860279    | 0.01265288   | 0.000000000  | 0.00000000   | 0.003073356  | 0.06463933   | 0.000000e+00 | 0.04074444   | 0.02691433   | 0.03231517   | 0.00000000   | 0.000000000  | \n",
       "| LGA | 0.02427815   | 0.14770404   | 0.000000000  | 0.05734651   | 0.2203952    | 0.08432860   | 0.006544878  | 0.03114789   | 0.000000000  | 0.16173970   | 2.484187e-04 | 0.07685693   | 0.12550878   | 0.00000000   | 0.05815864   | 0.005742294  | \n",
       "\n",
       "\n"
      ],
      "text/plain": [
       "    9E         AA         AS          B6         DL        EV        \n",
       "EWR 0.01049365 0.02885753 0.005908884 0.05426408 0.0359333 0.36362809\n",
       "JFK 0.13166006 0.12385985 0.000000000 0.37811267 0.1860279 0.01265288\n",
       "LGA 0.02427815 0.14770404 0.000000000 0.05734651 0.2203952 0.08432860\n",
       "    F9          FL         HA          MQ         OO           UA        \n",
       "EWR 0.000000000 0.00000000 0.000000000 0.01883560 4.965449e-05 0.38140439\n",
       "JFK 0.000000000 0.00000000 0.003073356 0.06463933 0.000000e+00 0.04074444\n",
       "LGA 0.006544878 0.03114789 0.000000000 0.16173970 2.484187e-04 0.07685693\n",
       "    US         VX         WN         YV         \n",
       "EWR 0.03645467 0.01295982 0.05121033 0.000000000\n",
       "JFK 0.02691433 0.03231517 0.00000000 0.000000000\n",
       "LGA 0.12550878 0.00000000 0.05815864 0.005742294"
      ]
     },
     "metadata": {},
     "output_type": "display_data"
    }
   ],
   "source": [
    "carrier_origin_cond = t(origin_carrier_matrix) / colSums(origin_carrier_matrix)\n",
    "carrier_origin_cond"
   ]
  },
  {
   "cell_type": "code",
   "execution_count": 28,
   "metadata": {},
   "outputs": [
    {
     "data": {
      "text/html": [
       "<dl class=dl-horizontal>\n",
       "\t<dt>EWR</dt>\n",
       "\t\t<dd>1</dd>\n",
       "\t<dt>JFK</dt>\n",
       "\t\t<dd>1</dd>\n",
       "\t<dt>LGA</dt>\n",
       "\t\t<dd>1</dd>\n",
       "</dl>\n"
      ],
      "text/latex": [
       "\\begin{description*}\n",
       "\\item[EWR] 1\n",
       "\\item[JFK] 1\n",
       "\\item[LGA] 1\n",
       "\\end{description*}\n"
      ],
      "text/markdown": [
       "EWR\n",
       ":   1JFK\n",
       ":   1LGA\n",
       ":   1\n",
       "\n"
      ],
      "text/plain": [
       "EWR JFK LGA \n",
       "  1   1   1 "
      ]
     },
     "metadata": {},
     "output_type": "display_data"
    }
   ],
   "source": [
    "rowSums(carrier_origin_cond)"
   ]
  },
  {
   "cell_type": "markdown",
   "metadata": {},
   "source": [
    "If we want to visualize conditional probabilities, the easiest way is with a _faceted_ plot. First let's convert our conditional distribution to a tall data frame:"
   ]
  },
  {
   "cell_type": "code",
   "execution_count": 29,
   "metadata": {},
   "outputs": [
    {
     "data": {
      "text/html": [
       "<table>\n",
       "<thead><tr><th scope=col>origin</th><th scope=col>carrier</th><th scope=col>prob</th></tr></thead>\n",
       "<tbody>\n",
       "\t<tr><td>EWR       </td><td>9E        </td><td>0.01049365</td></tr>\n",
       "\t<tr><td>JFK       </td><td>9E        </td><td>0.13166006</td></tr>\n",
       "\t<tr><td>LGA       </td><td>9E        </td><td>0.02427815</td></tr>\n",
       "\t<tr><td>EWR       </td><td>AA        </td><td>0.02885753</td></tr>\n",
       "\t<tr><td>JFK       </td><td>AA        </td><td>0.12385985</td></tr>\n",
       "\t<tr><td>LGA       </td><td>AA        </td><td>0.14770404</td></tr>\n",
       "</tbody>\n",
       "</table>\n"
      ],
      "text/latex": [
       "\\begin{tabular}{r|lll}\n",
       " origin & carrier & prob\\\\\n",
       "\\hline\n",
       "\t EWR        & 9E         & 0.01049365\\\\\n",
       "\t JFK        & 9E         & 0.13166006\\\\\n",
       "\t LGA        & 9E         & 0.02427815\\\\\n",
       "\t EWR        & AA         & 0.02885753\\\\\n",
       "\t JFK        & AA         & 0.12385985\\\\\n",
       "\t LGA        & AA         & 0.14770404\\\\\n",
       "\\end{tabular}\n"
      ],
      "text/markdown": [
       "\n",
       "origin | carrier | prob | \n",
       "|---|---|---|---|---|---|\n",
       "| EWR        | 9E         | 0.01049365 | \n",
       "| JFK        | 9E         | 0.13166006 | \n",
       "| LGA        | 9E         | 0.02427815 | \n",
       "| EWR        | AA         | 0.02885753 | \n",
       "| JFK        | AA         | 0.12385985 | \n",
       "| LGA        | AA         | 0.14770404 | \n",
       "\n",
       "\n"
      ],
      "text/plain": [
       "  origin carrier prob      \n",
       "1 EWR    9E      0.01049365\n",
       "2 JFK    9E      0.13166006\n",
       "3 LGA    9E      0.02427815\n",
       "4 EWR    AA      0.02885753\n",
       "5 JFK    AA      0.12385985\n",
       "6 LGA    AA      0.14770404"
      ]
     },
     "metadata": {},
     "output_type": "display_data"
    }
   ],
   "source": [
    "carrier_origin_frame = as.data.frame(carrier_origin_cond)\n",
    "carrier_origin_frame$origin = row.names(carrier_origin_cond)\n",
    "carrier_origin_tall = gather(carrier_origin_frame, carrier, prob, -origin)\n",
    "head(carrier_origin_tall)"
   ]
  },
  {
   "cell_type": "code",
   "execution_count": 30,
   "metadata": {},
   "outputs": [
    {
     "data": {},
     "metadata": {},
     "output_type": "display_data"
    },
    {
     "data": {
      "image/png": "[encoded data removed]",
      "text/plain": [
       "plot without title"
      ]
     },
     "metadata": {},
     "output_type": "display_data"
    }
   ],
   "source": [
    "ggplot(carrier_origin_tall) +\n",
    "    aes(x=carrier, y=prob) +\n",
    "    geom_bar(stat='identity') +\n",
    "    facet_wrap(~ origin) +\n",
    "    theme(axis.text.x=element_text(angle=90, hjust=1, vjust=0.5))"
   ]
  },
  {
   "cell_type": "markdown",
   "metadata": {},
   "source": [
    "## Independence of Variables\n",
    "\n",
    "Two variables are _independent_ if $P(A,B) = P(A) P(B)$ — that is, we can compute the probability of $a$ and $b$ happening at the same time by independently computing the probabilities of $a$ and $b$, and multiplying them.  What this means in practice is that knowing $A$ tells us nothing about $B$. We can see that our origin airport and carrier are not independent - observing either tells us quite a bit about the other.\n",
    "\n",
    "But let's go back to our binomial distribution: when flipping a coin, each flip is independent.  Knowing I flipped heads tells me nothing about whether the next flip will be heads.\n",
    "\n",
    "This is the key to making the binomial distribution formula work: the probability of flipping $\\mathsf{HH}$ is $P(X_1=\\mathsf{H},X_2=\\mathsf{H}) = P(\\mathsf{H})P(\\mathsf{H})$\n",
    "\n",
    "The same is true of rolling dice: the results of a roll of two fair dice is the product of the individual die probabilities."
   ]
  },
  {
   "cell_type": "markdown",
   "metadata": {},
   "source": [
    "## Bayes' Theorem\n",
    "\n",
    "Remember that $P(A|B) \\ne P(B|A)$?  There is, however, a way that we can convert between these two probabilities!\n",
    "\n",
    "$$P(A|B) = \\frac{P(B|A)P(B)}{P(A)}$$\n",
    "\n",
    "That is, with one conditional distribution and both marginal distributions, we can compute the other conditional distribution.  To see why this is true, we can expand the definition of conditional probability:\n",
    "\n",
    "$$\\begin{align*}\n",
    "P(B|A) & = P(A,B)P(A) \\\\\n",
    "P(A|B) & = P(A,B)P(B) \\\\\n",
    "& = \\frac{P(B|A)}{P(A)} P(B) \\\\\n",
    "& = \\frac{P(B|A) P(B)}{P(A)}\n",
    "\\end{align*}$$"
   ]
  }
 ],
 "metadata": {
  "kernelspec": {
   "display_name": "R",
   "language": "R",
   "name": "ir"
  },
  "language_info": {
   "codemirror_mode": "r",
   "file_extension": ".r",
   "mimetype": "text/x-r-source",
   "name": "R",
   "pygments_lexer": "r",
   "version": "3.4.1"
  }
 },
 "nbformat": 4,
 "nbformat_minor": 2
}

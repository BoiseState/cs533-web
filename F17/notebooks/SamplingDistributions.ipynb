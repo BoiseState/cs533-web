{
 "cells": [
  {
   "cell_type": "markdown",
   "metadata": {},
   "source": [
    "# Sampling Distributions\n",
    "\n",
    "We've talked about _summary statistics_.\n",
    "\n",
    "We've started talking about _sampling_.\n",
    "\n",
    "How do these go together? (Hint: your video got you started!)\n",
    "\n",
    "Install `r-VGAM` before running."
   ]
  },
  {
   "cell_type": "code",
   "execution_count": null,
   "metadata": {},
   "outputs": [],
   "source": [
    "library(VGAM)\n",
    "library(plyr)\n",
    "library(tidyverse)\n",
    "options(repr.plot.height=4.5, repr.matrix.max.rows=20)"
   ]
  },
  {
   "cell_type": "markdown",
   "metadata": {},
   "source": [
    "## Measuring with Samples\n",
    "\n",
    "It is common to take a sample, and then measure some statistic of it.\n",
    "\n",
    "In frequentist statistical parlance, we use a _statistic_ of the _sample_ to estimate a _parameter_ of the _population_.\n",
    "\n",
    "Let's start doing some sampling. Let's take a sample of 100 random normally-distributed numbers:"
   ]
  },
  {
   "cell_type": "code",
   "execution_count": null,
   "metadata": {},
   "outputs": [],
   "source": [
    "nums = data.frame(x=rnorm(100, 10, 2))\n",
    "nums\n",
    "summary(nums)"
   ]
  },
  {
   "cell_type": "markdown",
   "metadata": {},
   "source": [
    "These numbers are randomly drawn from from a population with mean $\\mu=10$ and standard deviation $\\sigma=2$.\n",
    "\n",
    "> **Note:** The standard deviation is a measure of how spread apart the numbers are.\n",
    "\n",
    "If we plot them, we'll see something that looks normal:"
   ]
  },
  {
   "cell_type": "code",
   "execution_count": null,
   "metadata": {},
   "outputs": [],
   "source": [
    "qplot(nums$x, geom='histogram', binwidth=0.25)"
   ]
  },
  {
   "cell_type": "markdown",
   "metadata": {},
   "source": [
    "An alternative to a histogram for a continuous variable is a _kernel density plot_:"
   ]
  },
  {
   "cell_type": "code",
   "execution_count": null,
   "metadata": {},
   "outputs": [],
   "source": [
    "qplot(nums$x, geom='density')"
   ]
  },
  {
   "cell_type": "markdown",
   "metadata": {},
   "source": [
    "The `qplot` is a shortcut for fuller `ggplot` syntax:"
   ]
  },
  {
   "cell_type": "code",
   "execution_count": null,
   "metadata": {},
   "outputs": [],
   "source": [
    "ggplot(nums) +\n",
    "    aes(x) +\n",
    "    geom_density()"
   ]
  },
  {
   "cell_type": "markdown",
   "metadata": {},
   "source": [
    "We can also stack plots! This is the beauty of `ggplot`:"
   ]
  },
  {
   "cell_type": "code",
   "execution_count": null,
   "metadata": {},
   "outputs": [],
   "source": [
    "ggplot(nums) +\n",
    "    aes(x) +\n",
    "    geom_histogram(binwidth=0.25, mapping=aes(y=..density..)) +\n",
    "    geom_density(color='red')"
   ]
  },
  {
   "cell_type": "markdown",
   "metadata": {},
   "source": [
    "But, as we saw, the mean of our numbers is not quite 10!\n",
    "\n",
    "In _statistical inference_, we want to ask: what if we did this a bunch of times? If we repeated this experiment (taking the mean of a sample of 100) many times, say 1000, what is the distribution of our observed means?\n",
    "\n",
    "Let's sample!"
   ]
  },
  {
   "cell_type": "code",
   "execution_count": null,
   "metadata": {},
   "outputs": [],
   "source": [
    "sample_means = aaply(1:1000, 1, function(n) {\n",
    "    mean(rnorm(100, 10, 2))\n",
    "})\n",
    "qplot(sample_means, geom='histogram')"
   ]
  },
  {
   "cell_type": "markdown",
   "metadata": {},
   "source": [
    "That almost looks... normal!  With a mean at about the mean:"
   ]
  },
  {
   "cell_type": "code",
   "execution_count": null,
   "metadata": {},
   "outputs": [],
   "source": [
    "mean(sample_means)"
   ]
  },
  {
   "cell_type": "code",
   "execution_count": null,
   "metadata": {},
   "outputs": [],
   "source": [
    "sd(sample_means)"
   ]
  },
  {
   "cell_type": "markdown",
   "metadata": {},
   "source": [
    "What happens if we take samples of 10 numbers?"
   ]
  },
  {
   "cell_type": "code",
   "execution_count": null,
   "metadata": {
    "collapsed": true
   },
   "outputs": [],
   "source": []
  },
  {
   "cell_type": "markdown",
   "metadata": {},
   "source": [
    "Does the distribution of sample means get wider (higher SD) or lower?"
   ]
  },
  {
   "cell_type": "markdown",
   "metadata": {},
   "source": [
    "## More Distributions\n",
    "\n",
    "So the sampling distribution of the sample mean looks normal when our population is normal.  What if our population is something else? Say log-normal?\n",
    "\n",
    "A log-normal variable is one whose _logarithm_ is exponentially distributed; we can randomly generate such values by drawing normally-distributed values and exponentiating them."
   ]
  },
  {
   "cell_type": "code",
   "execution_count": null,
   "metadata": {},
   "outputs": [],
   "source": [
    "# make a data frame\n",
    "nums = data.frame(x=exp(rnorm(100, 5, 1)))\n",
    "# and plot it, with the PDF\n",
    "ggplot(nums, aes(x)) +\n",
    "    geom_histogram(bins=50) +\n",
    "    stat_function(fun=function(x) {dnorm(log(x), 5, 1) * 50}, color='red') # 50 is a scaling term"
   ]
  },
  {
   "cell_type": "markdown",
   "metadata": {},
   "source": [
    "Draw 1000 such samples, and plot the distribution of the mean."
   ]
  },
  {
   "cell_type": "code",
   "execution_count": null,
   "metadata": {
    "collapsed": true
   },
   "outputs": [],
   "source": []
  },
  {
   "cell_type": "markdown",
   "metadata": {},
   "source": [
    "## More Extreme"
   ]
  },
  {
   "cell_type": "markdown",
   "metadata": {
    "collapsed": true
   },
   "source": [
    "Log-normal is pretty different. Let's go more absurd - how about a power law?\n",
    "\n",
    "A power-law distribution is one that exponentially decays; one example is the Pareto distribution.  Power law distributions are extremely commmon in data that arises from human activity."
   ]
  },
  {
   "cell_type": "code",
   "execution_count": null,
   "metadata": {},
   "outputs": [],
   "source": [
    "# make a data frame\n",
    "nums = data.frame(x=rpareto(500, 1, 5))\n",
    "# and plot it, with the PDF\n",
    "ggplot(nums, aes(x)) +\n",
    "    geom_histogram(bins=50) +\n",
    "    stat_function(fun=function(x) {dpareto(x, 1, 5) * 25}, color='red') # 50 is a scaling term"
   ]
  },
  {
   "cell_type": "markdown",
   "metadata": {},
   "source": [
    "What's the distribution of the sample mean if we take 1000 100-item samples from a Pareto?"
   ]
  },
  {
   "cell_type": "code",
   "execution_count": null,
   "metadata": {
    "collapsed": true
   },
   "outputs": [],
   "source": []
  },
  {
   "cell_type": "markdown",
   "metadata": {},
   "source": [
    "## Normality Testing"
   ]
  },
  {
   "cell_type": "markdown",
   "metadata": {},
   "source": [
    "Our histograms look normal-ish; that is a good first step at seeing how close they are to normal.  But there is another kind of plot we use for normality testing: the Q-Q plot (quantile-quantile).  A perfectly normal distribution forms a straight line on a Q-Q plot."
   ]
  },
  {
   "cell_type": "code",
   "execution_count": null,
   "metadata": {},
   "outputs": [],
   "source": [
    "ggplot(nums) +\n",
    "    aes(sample=x) +\n",
    "    stat_qq()"
   ]
  },
  {
   "cell_type": "markdown",
   "metadata": {},
   "source": [
    "Use Q-Q plots to assess the normality of your sampling distributions."
   ]
  },
  {
   "cell_type": "code",
   "execution_count": null,
   "metadata": {
    "collapsed": true
   },
   "outputs": [],
   "source": []
  }
 ],
 "metadata": {
  "kernelspec": {
   "display_name": "R",
   "language": "R",
   "name": "ir"
  },
  "language_info": {
   "codemirror_mode": "r",
   "file_extension": ".r",
   "mimetype": "text/x-r-source",
   "name": "R",
   "pygments_lexer": "r",
   "version": "3.4.1"
  }
 },
 "nbformat": 4,
 "nbformat_minor": 2
}

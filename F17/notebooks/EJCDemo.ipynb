{
 "cells": [
  {
   "cell_type": "markdown",
   "metadata": {},
   "source": [
    "# EJC Demo\n",
    "\n",
    "This demonstrates some basic summary statistics and SVD-based topic modeling on the EJC data from Assignment 5."
   ]
  },
  {
   "cell_type": "markdown",
   "metadata": {},
   "source": [
    "## Setup"
   ]
  },
  {
   "cell_type": "code",
   "execution_count": 9,
   "metadata": {
    "collapsed": true
   },
   "outputs": [],
   "source": [
    "library(MASS)\n",
    "library(tidyverse)\n",
    "library(modelr)\n",
    "library(tidytext)\n",
    "library(SnowballC)"
   ]
  },
  {
   "cell_type": "markdown",
   "metadata": {},
   "source": [
    "Set up database table access."
   ]
  },
  {
   "cell_type": "code",
   "execution_count": 41,
   "metadata": {
    "collapsed": true
   },
   "outputs": [],
   "source": [
    "db = src_sqlite('data/ejc-trimmed.db')\n",
    "journals = tbl(db, 'journals')\n",
    "articles = tbl(db, 'articles')"
   ]
  },
  {
   "cell_type": "markdown",
   "metadata": {},
   "source": [
    "Build some quick summary stats on the data."
   ]
  },
  {
   "cell_type": "code",
   "execution_count": 42,
   "metadata": {},
   "outputs": [
    {
     "name": "stderr",
     "output_type": "stream",
     "text": [
      "Joining, by = \"jnl_id\"\n"
     ]
    },
    {
     "data": {
      "text/html": [
       "<table>\n",
       "<thead><tr><th scope=col>name</th><th scope=col>ArticleCount</th><th scope=col>FirstYear</th><th scope=col>LastYear</th></tr></thead>\n",
       "<tbody>\n",
       "\t<tr><td>AdvPeace </td><td> 8991    </td><td>1834     </td><td>1922     </td></tr>\n",
       "\t<tr><td>AmPhil   </td><td>  755    </td><td>1769     </td><td>1920     </td></tr>\n",
       "\t<tr><td>AmRev    </td><td>14770    </td><td>1815     </td><td>1922     </td></tr>\n",
       "\t<tr><td>RoyalPhil</td><td> 8128    </td><td>1665     </td><td>1869     </td></tr>\n",
       "\t<tr><td>Science  </td><td>36878    </td><td>1880     </td><td>1922     </td></tr>\n",
       "</tbody>\n",
       "</table>\n"
      ],
      "text/latex": [
       "\\begin{tabular}{r|llll}\n",
       " name & ArticleCount & FirstYear & LastYear\\\\\n",
       "\\hline\n",
       "\t AdvPeace  &  8991     & 1834      & 1922     \\\\\n",
       "\t AmPhil    &   755     & 1769      & 1920     \\\\\n",
       "\t AmRev     & 14770     & 1815      & 1922     \\\\\n",
       "\t RoyalPhil &  8128     & 1665      & 1869     \\\\\n",
       "\t Science   & 36878     & 1880      & 1922     \\\\\n",
       "\\end{tabular}\n"
      ],
      "text/markdown": [
       "\n",
       "name | ArticleCount | FirstYear | LastYear | \n",
       "|---|---|---|---|---|\n",
       "| AdvPeace  |  8991     | 1834      | 1922      | \n",
       "| AmPhil    |   755     | 1769      | 1920      | \n",
       "| AmRev     | 14770     | 1815      | 1922      | \n",
       "| RoyalPhil |  8128     | 1665      | 1869      | \n",
       "| Science   | 36878     | 1880      | 1922      | \n",
       "\n",
       "\n"
      ],
      "text/plain": [
       "  name      ArticleCount FirstYear LastYear\n",
       "1 AdvPeace   8991        1834      1922    \n",
       "2 AmPhil      755        1769      1920    \n",
       "3 AmRev     14770        1815      1922    \n",
       "4 RoyalPhil  8128        1665      1869    \n",
       "5 Science   36878        1880      1922    "
      ]
     },
     "metadata": {},
     "output_type": "display_data"
    }
   ],
   "source": [
    "journals %>%\n",
    "    inner_join(articles) %>%\n",
    "    group_by(name) %>%\n",
    "    summarize(ArticleCount=n(), FirstYear=min(year), LastYear=max(year)) %>%\n",
    "    collect()"
   ]
  },
  {
   "cell_type": "markdown",
   "metadata": {},
   "source": [
    "## Work with Royal Philosophical Transactions"
   ]
  },
  {
   "cell_type": "markdown",
   "metadata": {},
   "source": [
    "First, let's grab all RoyalPhil articles from 1776, so we have a reasonable number of articles for a quick demo."
   ]
  },
  {
   "cell_type": "code",
   "execution_count": 6,
   "metadata": {},
   "outputs": [
    {
     "name": "stderr",
     "output_type": "stream",
     "text": [
      "Joining, by = \"jnl_id\"\n"
     ]
    },
    {
     "data": {
      "text/html": [
       "<ol class=list-inline>\n",
       "\t<li>46</li>\n",
       "\t<li>3</li>\n",
       "</ol>\n"
      ],
      "text/latex": [
       "\\begin{enumerate*}\n",
       "\\item 46\n",
       "\\item 3\n",
       "\\end{enumerate*}\n"
      ],
      "text/markdown": [
       "1. 46\n",
       "2. 3\n",
       "\n",
       "\n"
      ],
      "text/plain": [
       "[1] 46  3"
      ]
     },
     "metadata": {},
     "output_type": "display_data"
    }
   ],
   "source": [
    "art_sample = journals %>% inner_join(articles) %>%\n",
    "    filter(name == 'RoyalPhil', year == 1776) %>%\n",
    "    select(article_id, title, text) %>%\n",
    "    collect()\n",
    "dim(art_sample)"
   ]
  },
  {
   "cell_type": "markdown",
   "metadata": {},
   "source": [
    "Tokenize the article text:"
   ]
  },
  {
   "cell_type": "code",
   "execution_count": 15,
   "metadata": {},
   "outputs": [
    {
     "data": {
      "text/html": [
       "<table>\n",
       "<thead><tr><th scope=col>article_id</th><th scope=col>word</th><th scope=col>pos</th></tr></thead>\n",
       "<tbody>\n",
       "\t<tr><td>12422        </td><td>the          </td><td>1            </td></tr>\n",
       "\t<tr><td>12422        </td><td>royal        </td><td>2            </td></tr>\n",
       "\t<tr><td>12422        </td><td>society      </td><td>3            </td></tr>\n",
       "\t<tr><td>12422        </td><td>of           </td><td>4            </td></tr>\n",
       "\t<tr><td>12422        </td><td>london       </td><td>5            </td></tr>\n",
       "\t<tr><td>12422        </td><td>philosophical</td><td>6            </td></tr>\n",
       "</tbody>\n",
       "</table>\n"
      ],
      "text/latex": [
       "\\begin{tabular}{r|lll}\n",
       " article\\_id & word & pos\\\\\n",
       "\\hline\n",
       "\t 12422         & the           & 1            \\\\\n",
       "\t 12422         & royal         & 2            \\\\\n",
       "\t 12422         & society       & 3            \\\\\n",
       "\t 12422         & of            & 4            \\\\\n",
       "\t 12422         & london        & 5            \\\\\n",
       "\t 12422         & philosophical & 6            \\\\\n",
       "\\end{tabular}\n"
      ],
      "text/markdown": [
       "\n",
       "article_id | word | pos | \n",
       "|---|---|---|---|---|---|\n",
       "| 12422         | the           | 1             | \n",
       "| 12422         | royal         | 2             | \n",
       "| 12422         | society       | 3             | \n",
       "| 12422         | of            | 4             | \n",
       "| 12422         | london        | 5             | \n",
       "| 12422         | philosophical | 6             | \n",
       "\n",
       "\n"
      ],
      "text/plain": [
       "  article_id word          pos\n",
       "1 12422      the           1  \n",
       "2 12422      royal         2  \n",
       "3 12422      society       3  \n",
       "4 12422      of            4  \n",
       "5 12422      london        5  \n",
       "6 12422      philosophical 6  "
      ]
     },
     "metadata": {},
     "output_type": "display_data"
    }
   ],
   "source": [
    "art_words = art_sample %>% select(-title) %>%\n",
    "    unnest_tokens(word, text) %>%\n",
    "    group_by(article_id) %>% mutate(pos=1:n()) %>%\n",
    "    ungroup()\n",
    "head(art_words)"
   ]
  },
  {
   "cell_type": "markdown",
   "metadata": {},
   "source": [
    "Strip stop words and stem:"
   ]
  },
  {
   "cell_type": "code",
   "execution_count": 16,
   "metadata": {},
   "outputs": [
    {
     "name": "stderr",
     "output_type": "stream",
     "text": [
      "Joining, by = \"word\"\n"
     ]
    },
    {
     "data": {
      "text/html": [
       "<table>\n",
       "<thead><tr><th scope=col>article_id</th><th scope=col>word</th><th scope=col>pos</th><th scope=col>stem</th></tr></thead>\n",
       "<tbody>\n",
       "\t<tr><td>12439 </td><td>0,075 </td><td> 7805 </td><td>0,075 </td></tr>\n",
       "\t<tr><td>12440 </td><td>0,075 </td><td> 1603 </td><td>0,075 </td></tr>\n",
       "\t<tr><td>12438 </td><td>hantum</td><td>12067 </td><td>hantum</td></tr>\n",
       "\t<tr><td>12429 </td><td>populo</td><td> 7399 </td><td>populo</td></tr>\n",
       "\t<tr><td>12429 </td><td>populo</td><td> 7883 </td><td>populo</td></tr>\n",
       "\t<tr><td>12423 </td><td>shell </td><td> 1293 </td><td>shell </td></tr>\n",
       "</tbody>\n",
       "</table>\n"
      ],
      "text/latex": [
       "\\begin{tabular}{r|llll}\n",
       " article\\_id & word & pos & stem\\\\\n",
       "\\hline\n",
       "\t 12439  & 0,075  &  7805  & 0,075 \\\\\n",
       "\t 12440  & 0,075  &  1603  & 0,075 \\\\\n",
       "\t 12438  & hantum & 12067  & hantum\\\\\n",
       "\t 12429  & populo &  7399  & populo\\\\\n",
       "\t 12429  & populo &  7883  & populo\\\\\n",
       "\t 12423  & shell  &  1293  & shell \\\\\n",
       "\\end{tabular}\n"
      ],
      "text/markdown": [
       "\n",
       "article_id | word | pos | stem | \n",
       "|---|---|---|---|---|---|\n",
       "| 12439  | 0,075  |  7805  | 0,075  | \n",
       "| 12440  | 0,075  |  1603  | 0,075  | \n",
       "| 12438  | hantum | 12067  | hantum | \n",
       "| 12429  | populo |  7399  | populo | \n",
       "| 12429  | populo |  7883  | populo | \n",
       "| 12423  | shell  |  1293  | shell  | \n",
       "\n",
       "\n"
      ],
      "text/plain": [
       "  article_id word   pos   stem  \n",
       "1 12439      0,075   7805 0,075 \n",
       "2 12440      0,075   1603 0,075 \n",
       "3 12438      hantum 12067 hantum\n",
       "4 12429      populo  7399 populo\n",
       "5 12429      populo  7883 populo\n",
       "6 12423      shell   1293 shell "
      ]
     },
     "metadata": {},
     "output_type": "display_data"
    }
   ],
   "source": [
    "art_stems = art_words %>%\n",
    "    anti_join(stop_words) %>%\n",
    "    mutate(stem = wordStem(word))\n",
    "head(art_stems)"
   ]
  },
  {
   "cell_type": "code",
   "execution_count": 17,
   "metadata": {},
   "outputs": [
    {
     "data": {
      "text/html": [
       "<table>\n",
       "<thead><tr><th scope=col>article_id</th><th scope=col>word</th><th scope=col>pos</th><th scope=col>stem</th></tr></thead>\n",
       "<tbody>\n",
       "\t<tr><td>12429   </td><td>honours </td><td>1738    </td><td>honour  </td></tr>\n",
       "\t<tr><td>12429   </td><td>honours </td><td>2741    </td><td>honour  </td></tr>\n",
       "\t<tr><td>12505   </td><td>harts   </td><td>2615    </td><td>hart    </td></tr>\n",
       "\t<tr><td>12422   </td><td>inlarged</td><td>1603    </td><td>inlarg  </td></tr>\n",
       "\t<tr><td>12434   </td><td>depends </td><td>1338    </td><td>depend  </td></tr>\n",
       "\t<tr><td>12434   </td><td>depends </td><td>1543    </td><td>depend  </td></tr>\n",
       "</tbody>\n",
       "</table>\n"
      ],
      "text/latex": [
       "\\begin{tabular}{r|llll}\n",
       " article\\_id & word & pos & stem\\\\\n",
       "\\hline\n",
       "\t 12429    & honours  & 1738     & honour  \\\\\n",
       "\t 12429    & honours  & 2741     & honour  \\\\\n",
       "\t 12505    & harts    & 2615     & hart    \\\\\n",
       "\t 12422    & inlarged & 1603     & inlarg  \\\\\n",
       "\t 12434    & depends  & 1338     & depend  \\\\\n",
       "\t 12434    & depends  & 1543     & depend  \\\\\n",
       "\\end{tabular}\n"
      ],
      "text/markdown": [
       "\n",
       "article_id | word | pos | stem | \n",
       "|---|---|---|---|---|---|\n",
       "| 12429    | honours  | 1738     | honour   | \n",
       "| 12429    | honours  | 2741     | honour   | \n",
       "| 12505    | harts    | 2615     | hart     | \n",
       "| 12422    | inlarged | 1603     | inlarg   | \n",
       "| 12434    | depends  | 1338     | depend   | \n",
       "| 12434    | depends  | 1543     | depend   | \n",
       "\n",
       "\n"
      ],
      "text/plain": [
       "  article_id word     pos  stem  \n",
       "1 12429      honours  1738 honour\n",
       "2 12429      honours  2741 honour\n",
       "3 12505      harts    2615 hart  \n",
       "4 12422      inlarged 1603 inlarg\n",
       "5 12434      depends  1338 depend\n",
       "6 12434      depends  1543 depend"
      ]
     },
     "metadata": {},
     "output_type": "display_data"
    }
   ],
   "source": [
    "art_stems %>% filter(word != stem) %>% head()"
   ]
  },
  {
   "cell_type": "code",
   "execution_count": 18,
   "metadata": {
    "collapsed": true
   },
   "outputs": [],
   "source": [
    "vocabulary = unique(art_stems$word)\n",
    "vocab_stems = unique(art_stems$stem)"
   ]
  },
  {
   "cell_type": "code",
   "execution_count": 19,
   "metadata": {},
   "outputs": [
    {
     "data": {
      "text/html": [
       "11273"
      ],
      "text/latex": [
       "11273"
      ],
      "text/markdown": [
       "11273"
      ],
      "text/plain": [
       "[1] 11273"
      ]
     },
     "metadata": {},
     "output_type": "display_data"
    }
   ],
   "source": [
    "length(vocabulary)"
   ]
  },
  {
   "cell_type": "code",
   "execution_count": 20,
   "metadata": {},
   "outputs": [
    {
     "data": {
      "text/html": [
       "8819"
      ],
      "text/latex": [
       "8819"
      ],
      "text/markdown": [
       "8819"
      ],
      "text/plain": [
       "[1] 8819"
      ]
     },
     "metadata": {},
     "output_type": "display_data"
    }
   ],
   "source": [
    "length(vocab_stems)"
   ]
  },
  {
   "cell_type": "markdown",
   "metadata": {},
   "source": [
    "Count frequencies of stemmed words."
   ]
  },
  {
   "cell_type": "code",
   "execution_count": 22,
   "metadata": {},
   "outputs": [
    {
     "data": {
      "text/html": [
       "<table>\n",
       "<thead><tr><th scope=col>article_id</th><th scope=col>stem</th><th scope=col>n</th></tr></thead>\n",
       "<tbody>\n",
       "\t<tr><td>12422</td><td>1    </td><td>1    </td></tr>\n",
       "\t<tr><td>12422</td><td>109  </td><td>1    </td></tr>\n",
       "\t<tr><td>12422</td><td>129  </td><td>1    </td></tr>\n",
       "\t<tr><td>12422</td><td>160  </td><td>1    </td></tr>\n",
       "\t<tr><td>12422</td><td>168  </td><td>1    </td></tr>\n",
       "\t<tr><td>12422</td><td>1719 </td><td>1    </td></tr>\n",
       "</tbody>\n",
       "</table>\n"
      ],
      "text/latex": [
       "\\begin{tabular}{r|lll}\n",
       " article\\_id & stem & n\\\\\n",
       "\\hline\n",
       "\t 12422 & 1     & 1    \\\\\n",
       "\t 12422 & 109   & 1    \\\\\n",
       "\t 12422 & 129   & 1    \\\\\n",
       "\t 12422 & 160   & 1    \\\\\n",
       "\t 12422 & 168   & 1    \\\\\n",
       "\t 12422 & 1719  & 1    \\\\\n",
       "\\end{tabular}\n"
      ],
      "text/markdown": [
       "\n",
       "article_id | stem | n | \n",
       "|---|---|---|---|---|---|\n",
       "| 12422 | 1     | 1     | \n",
       "| 12422 | 109   | 1     | \n",
       "| 12422 | 129   | 1     | \n",
       "| 12422 | 160   | 1     | \n",
       "| 12422 | 168   | 1     | \n",
       "| 12422 | 1719  | 1     | \n",
       "\n",
       "\n"
      ],
      "text/plain": [
       "  article_id stem n\n",
       "1 12422      1    1\n",
       "2 12422      109  1\n",
       "3 12422      129  1\n",
       "4 12422      160  1\n",
       "5 12422      168  1\n",
       "6 12422      1719 1"
      ]
     },
     "metadata": {},
     "output_type": "display_data"
    }
   ],
   "source": [
    "stem_freq = art_stems %>%\n",
    "    count(article_id, stem)\n",
    "head(stem_freq)"
   ]
  },
  {
   "cell_type": "markdown",
   "metadata": {},
   "source": [
    "Build a document-term matrix."
   ]
  },
  {
   "cell_type": "code",
   "execution_count": 44,
   "metadata": {},
   "outputs": [
    {
     "data": {
      "text/html": [
       "<table>\n",
       "<thead><tr><th></th><th scope=col>1</th><th scope=col>109</th><th scope=col>129</th><th scope=col>160</th><th scope=col>168</th><th scope=col>1719</th><th scope=col>174</th><th scope=col>1752</th><th scope=col>1772</th><th scope=col>1773</th><th scope=col>...</th><th scope=col>twiss</th><th scope=col>vallanc</th><th scope=col>vase</th><th scope=col>vergist</th><th scope=col>vindex</th><th scope=col>vinuela</th><th scope=col>wallerii</th><th scope=col>welbeck</th><th scope=col>wolf</th><th scope=col>woulse'</th></tr></thead>\n",
       "<tbody>\n",
       "\t<tr><th scope=row>12422</th><td>  1</td><td>1  </td><td>1  </td><td>1  </td><td>1  </td><td>1  </td><td>1  </td><td>1  </td><td> 1 </td><td>1  </td><td>...</td><td>0  </td><td>0  </td><td>0  </td><td>0  </td><td>0  </td><td>0  </td><td>0  </td><td>0  </td><td>0  </td><td>0  </td></tr>\n",
       "\t<tr><th scope=row>12423</th><td>  3</td><td>0  </td><td>0  </td><td>0  </td><td>0  </td><td>0  </td><td>0  </td><td>0  </td><td> 1 </td><td>0  </td><td>...</td><td>0  </td><td>0  </td><td>0  </td><td>0  </td><td>0  </td><td>0  </td><td>0  </td><td>0  </td><td>0  </td><td>0  </td></tr>\n",
       "\t<tr><th scope=row>12424</th><td>420</td><td>0  </td><td>0  </td><td>0  </td><td>0  </td><td>4  </td><td>0  </td><td>0  </td><td> 0 </td><td>0  </td><td>...</td><td>0  </td><td>0  </td><td>0  </td><td>0  </td><td>0  </td><td>0  </td><td>0  </td><td>0  </td><td>0  </td><td>0  </td></tr>\n",
       "\t<tr><th scope=row>12425</th><td> 47</td><td>0  </td><td>1  </td><td>1  </td><td>0  </td><td>0  </td><td>0  </td><td>0  </td><td> 0 </td><td>0  </td><td>...</td><td>0  </td><td>0  </td><td>0  </td><td>0  </td><td>0  </td><td>0  </td><td>0  </td><td>0  </td><td>0  </td><td>0  </td></tr>\n",
       "\t<tr><th scope=row>12426</th><td>  1</td><td>0  </td><td>0  </td><td>0  </td><td>0  </td><td>0  </td><td>0  </td><td>0  </td><td> 0 </td><td>2  </td><td>...</td><td>0  </td><td>0  </td><td>0  </td><td>0  </td><td>0  </td><td>0  </td><td>0  </td><td>0  </td><td>0  </td><td>0  </td></tr>\n",
       "\t<tr><th scope=row>12427</th><td>  0</td><td>0  </td><td>0  </td><td>0  </td><td>0  </td><td>0  </td><td>0  </td><td>0  </td><td> 0 </td><td>1  </td><td>...</td><td>0  </td><td>0  </td><td>0  </td><td>0  </td><td>0  </td><td>0  </td><td>0  </td><td>0  </td><td>0  </td><td>0  </td></tr>\n",
       "\t<tr><th scope=row>12428</th><td>377</td><td>1  </td><td>0  </td><td>0  </td><td>0  </td><td>0  </td><td>0  </td><td>0  </td><td> 0 </td><td>0  </td><td>...</td><td>0  </td><td>0  </td><td>0  </td><td>0  </td><td>0  </td><td>0  </td><td>0  </td><td>0  </td><td>0  </td><td>0  </td></tr>\n",
       "\t<tr><th scope=row>12429</th><td> 27</td><td>0  </td><td>1  </td><td>0  </td><td>0  </td><td>0  </td><td>0  </td><td>0  </td><td> 0 </td><td>0  </td><td>...</td><td>0  </td><td>0  </td><td>0  </td><td>0  </td><td>0  </td><td>0  </td><td>0  </td><td>0  </td><td>0  </td><td>0  </td></tr>\n",
       "\t<tr><th scope=row>12430</th><td>  0</td><td>1  </td><td>0  </td><td>1  </td><td>1  </td><td>0  </td><td>0  </td><td>0  </td><td> 2 </td><td>2  </td><td>...</td><td>0  </td><td>0  </td><td>0  </td><td>0  </td><td>0  </td><td>0  </td><td>0  </td><td>0  </td><td>0  </td><td>0  </td></tr>\n",
       "\t<tr><th scope=row>12431</th><td>  1</td><td>0  </td><td>0  </td><td>0  </td><td>1  </td><td>0  </td><td>0  </td><td>0  </td><td> 0 </td><td>0  </td><td>...</td><td>0  </td><td>0  </td><td>0  </td><td>0  </td><td>0  </td><td>0  </td><td>0  </td><td>0  </td><td>0  </td><td>0  </td></tr>\n",
       "\t<tr><th scope=row>12432</th><td>  0</td><td>0  </td><td>0  </td><td>1  </td><td>0  </td><td>0  </td><td>0  </td><td>0  </td><td> 0 </td><td>0  </td><td>...</td><td>0  </td><td>0  </td><td>0  </td><td>0  </td><td>0  </td><td>0  </td><td>0  </td><td>0  </td><td>0  </td><td>0  </td></tr>\n",
       "\t<tr><th scope=row>12433</th><td>  8</td><td>0  </td><td>0  </td><td>0  </td><td>0  </td><td>0  </td><td>0  </td><td>0  </td><td>14 </td><td>2  </td><td>...</td><td>0  </td><td>0  </td><td>0  </td><td>0  </td><td>0  </td><td>0  </td><td>0  </td><td>0  </td><td>0  </td><td>0  </td></tr>\n",
       "\t<tr><th scope=row>12434</th><td> 19</td><td>0  </td><td>0  </td><td>0  </td><td>0  </td><td>0  </td><td>0  </td><td>0  </td><td> 0 </td><td>0  </td><td>...</td><td>0  </td><td>0  </td><td>0  </td><td>0  </td><td>0  </td><td>0  </td><td>0  </td><td>0  </td><td>0  </td><td>0  </td></tr>\n",
       "\t<tr><th scope=row>12435</th><td>  1</td><td>0  </td><td>0  </td><td>0  </td><td>0  </td><td>0  </td><td>0  </td><td>0  </td><td> 0 </td><td>0  </td><td>...</td><td>0  </td><td>0  </td><td>0  </td><td>0  </td><td>0  </td><td>0  </td><td>0  </td><td>0  </td><td>0  </td><td>0  </td></tr>\n",
       "\t<tr><th scope=row>12436</th><td>  5</td><td>0  </td><td>0  </td><td>0  </td><td>0  </td><td>0  </td><td>0  </td><td>0  </td><td> 0 </td><td>0  </td><td>...</td><td>0  </td><td>0  </td><td>0  </td><td>0  </td><td>0  </td><td>0  </td><td>0  </td><td>0  </td><td>0  </td><td>0  </td></tr>\n",
       "\t<tr><th scope=row>12437</th><td>  0</td><td>0  </td><td>0  </td><td>0  </td><td>0  </td><td>0  </td><td>0  </td><td>0  </td><td> 0 </td><td>0  </td><td>...</td><td>0  </td><td>0  </td><td>0  </td><td>0  </td><td>0  </td><td>0  </td><td>0  </td><td>0  </td><td>0  </td><td>0  </td></tr>\n",
       "\t<tr><th scope=row>12438</th><td>  6</td><td>0  </td><td>0  </td><td>0  </td><td>0  </td><td>0  </td><td>0  </td><td>0  </td><td> 1 </td><td>2  </td><td>...</td><td>0  </td><td>0  </td><td>0  </td><td>0  </td><td>0  </td><td>0  </td><td>0  </td><td>0  </td><td>0  </td><td>0  </td></tr>\n",
       "\t<tr><th scope=row>12439</th><td>708</td><td>0  </td><td>0  </td><td>0  </td><td>0  </td><td>0  </td><td>0  </td><td>0  </td><td> 0 </td><td>0  </td><td>...</td><td>0  </td><td>0  </td><td>0  </td><td>0  </td><td>0  </td><td>0  </td><td>0  </td><td>0  </td><td>0  </td><td>0  </td></tr>\n",
       "\t<tr><th scope=row>12440</th><td> 63</td><td>0  </td><td>0  </td><td>0  </td><td>1  </td><td>0  </td><td>0  </td><td>0  </td><td> 0 </td><td>0  </td><td>...</td><td>0  </td><td>0  </td><td>0  </td><td>0  </td><td>0  </td><td>0  </td><td>0  </td><td>0  </td><td>0  </td><td>0  </td></tr>\n",
       "\t<tr><th scope=row>12441</th><td> 34</td><td>0  </td><td>0  </td><td>0  </td><td>0  </td><td>0  </td><td>0  </td><td>0  </td><td> 0 </td><td>0  </td><td>...</td><td>0  </td><td>0  </td><td>0  </td><td>0  </td><td>0  </td><td>0  </td><td>0  </td><td>0  </td><td>0  </td><td>0  </td></tr>\n",
       "\t<tr><th scope=row>12442</th><td>  0</td><td>0  </td><td>0  </td><td>0  </td><td>0  </td><td>0  </td><td>0  </td><td>0  </td><td> 1 </td><td>0  </td><td>...</td><td>0  </td><td>0  </td><td>0  </td><td>0  </td><td>0  </td><td>0  </td><td>0  </td><td>0  </td><td>0  </td><td>0  </td></tr>\n",
       "\t<tr><th scope=row>12443</th><td> 26</td><td>0  </td><td>0  </td><td>0  </td><td>0  </td><td>0  </td><td>0  </td><td>0  </td><td> 0 </td><td>0  </td><td>...</td><td>0  </td><td>0  </td><td>0  </td><td>0  </td><td>0  </td><td>0  </td><td>0  </td><td>0  </td><td>0  </td><td>0  </td></tr>\n",
       "\t<tr><th scope=row>12444</th><td>  0</td><td>0  </td><td>0  </td><td>0  </td><td>0  </td><td>0  </td><td>0  </td><td>0  </td><td> 0 </td><td>0  </td><td>...</td><td>0  </td><td>0  </td><td>0  </td><td>0  </td><td>0  </td><td>0  </td><td>0  </td><td>0  </td><td>0  </td><td>0  </td></tr>\n",
       "\t<tr><th scope=row>12445</th><td>  0</td><td>0  </td><td>0  </td><td>0  </td><td>0  </td><td>0  </td><td>0  </td><td>0  </td><td> 0 </td><td>0  </td><td>...</td><td>0  </td><td>0  </td><td>0  </td><td>0  </td><td>0  </td><td>0  </td><td>0  </td><td>0  </td><td>0  </td><td>0  </td></tr>\n",
       "\t<tr><th scope=row>12446</th><td>  0</td><td>0  </td><td>0  </td><td>0  </td><td>0  </td><td>0  </td><td>0  </td><td>0  </td><td> 0 </td><td>0  </td><td>...</td><td>0  </td><td>0  </td><td>0  </td><td>0  </td><td>0  </td><td>0  </td><td>0  </td><td>0  </td><td>0  </td><td>0  </td></tr>\n",
       "\t<tr><th scope=row>12447</th><td>  0</td><td>0  </td><td>0  </td><td>0  </td><td>0  </td><td>0  </td><td>0  </td><td>0  </td><td> 0 </td><td>0  </td><td>...</td><td>0  </td><td>0  </td><td>0  </td><td>0  </td><td>0  </td><td>0  </td><td>0  </td><td>0  </td><td>0  </td><td>0  </td></tr>\n",
       "\t<tr><th scope=row>12448</th><td>  0</td><td>0  </td><td>0  </td><td>0  </td><td>0  </td><td>0  </td><td>0  </td><td>0  </td><td> 0 </td><td>0  </td><td>...</td><td>0  </td><td>0  </td><td>0  </td><td>0  </td><td>0  </td><td>0  </td><td>0  </td><td>0  </td><td>0  </td><td>0  </td></tr>\n",
       "\t<tr><th scope=row>12449</th><td>  0</td><td>0  </td><td>0  </td><td>0  </td><td>0  </td><td>0  </td><td>0  </td><td>0  </td><td> 0 </td><td>0  </td><td>...</td><td>0  </td><td>0  </td><td>0  </td><td>0  </td><td>0  </td><td>0  </td><td>0  </td><td>0  </td><td>0  </td><td>0  </td></tr>\n",
       "\t<tr><th scope=row>12450</th><td> 20</td><td>0  </td><td>0  </td><td>0  </td><td>0  </td><td>0  </td><td>0  </td><td>0  </td><td> 0 </td><td>0  </td><td>...</td><td>0  </td><td>0  </td><td>0  </td><td>0  </td><td>0  </td><td>0  </td><td>0  </td><td>0  </td><td>0  </td><td>0  </td></tr>\n",
       "\t<tr><th scope=row>12451</th><td>199</td><td>0  </td><td>0  </td><td>0  </td><td>0  </td><td>0  </td><td>0  </td><td>0  </td><td> 0 </td><td>0  </td><td>...</td><td>0  </td><td>0  </td><td>0  </td><td>0  </td><td>0  </td><td>0  </td><td>0  </td><td>0  </td><td>0  </td><td>0  </td></tr>\n",
       "\t<tr><th scope=row>12452</th><td>  1</td><td>0  </td><td>0  </td><td>0  </td><td>0  </td><td>0  </td><td>0  </td><td>0  </td><td> 0 </td><td>0  </td><td>...</td><td>0  </td><td>0  </td><td>0  </td><td>0  </td><td>0  </td><td>0  </td><td>0  </td><td>0  </td><td>0  </td><td>0  </td></tr>\n",
       "\t<tr><th scope=row>12453</th><td>  1</td><td>0  </td><td>0  </td><td>0  </td><td>0  </td><td>0  </td><td>0  </td><td>0  </td><td> 0 </td><td>0  </td><td>...</td><td>0  </td><td>0  </td><td>0  </td><td>0  </td><td>0  </td><td>0  </td><td>0  </td><td>0  </td><td>0  </td><td>0  </td></tr>\n",
       "\t<tr><th scope=row>12454</th><td>  0</td><td>0  </td><td>0  </td><td>0  </td><td>0  </td><td>0  </td><td>0  </td><td>0  </td><td> 0 </td><td>0  </td><td>...</td><td>0  </td><td>0  </td><td>0  </td><td>0  </td><td>0  </td><td>0  </td><td>0  </td><td>0  </td><td>0  </td><td>0  </td></tr>\n",
       "\t<tr><th scope=row>12455</th><td>  0</td><td>0  </td><td>0  </td><td>0  </td><td>0  </td><td>0  </td><td>0  </td><td>0  </td><td> 0 </td><td>0  </td><td>...</td><td>0  </td><td>0  </td><td>0  </td><td>0  </td><td>0  </td><td>0  </td><td>0  </td><td>0  </td><td>0  </td><td>0  </td></tr>\n",
       "\t<tr><th scope=row>12456</th><td>  0</td><td>0  </td><td>0  </td><td>0  </td><td>0  </td><td>0  </td><td>0  </td><td>0  </td><td> 0 </td><td>0  </td><td>...</td><td>0  </td><td>0  </td><td>0  </td><td>0  </td><td>0  </td><td>0  </td><td>0  </td><td>0  </td><td>0  </td><td>0  </td></tr>\n",
       "\t<tr><th scope=row>12457</th><td>  9</td><td>0  </td><td>0  </td><td>0  </td><td>0  </td><td>0  </td><td>0  </td><td>0  </td><td> 0 </td><td>0  </td><td>...</td><td>0  </td><td>0  </td><td>0  </td><td>0  </td><td>0  </td><td>0  </td><td>0  </td><td>0  </td><td>0  </td><td>0  </td></tr>\n",
       "\t<tr><th scope=row>12458</th><td>  0</td><td>0  </td><td>0  </td><td>0  </td><td>0  </td><td>0  </td><td>0  </td><td>0  </td><td> 0 </td><td>0  </td><td>...</td><td>0  </td><td>0  </td><td>0  </td><td>0  </td><td>0  </td><td>0  </td><td>0  </td><td>0  </td><td>0  </td><td>0  </td></tr>\n",
       "\t<tr><th scope=row>12459</th><td>  2</td><td>0  </td><td>0  </td><td>0  </td><td>0  </td><td>0  </td><td>0  </td><td>0  </td><td> 0 </td><td>0  </td><td>...</td><td>0  </td><td>0  </td><td>0  </td><td>0  </td><td>0  </td><td>0  </td><td>0  </td><td>0  </td><td>0  </td><td>0  </td></tr>\n",
       "\t<tr><th scope=row>12460</th><td>  1</td><td>0  </td><td>0  </td><td>0  </td><td>0  </td><td>0  </td><td>0  </td><td>0  </td><td> 0 </td><td>0  </td><td>...</td><td>0  </td><td>0  </td><td>0  </td><td>0  </td><td>0  </td><td>0  </td><td>0  </td><td>0  </td><td>0  </td><td>0  </td></tr>\n",
       "\t<tr><th scope=row>12461</th><td>  0</td><td>0  </td><td>0  </td><td>0  </td><td>0  </td><td>0  </td><td>0  </td><td>0  </td><td> 0 </td><td>0  </td><td>...</td><td>0  </td><td>0  </td><td>0  </td><td>0  </td><td>0  </td><td>0  </td><td>0  </td><td>0  </td><td>0  </td><td>0  </td></tr>\n",
       "\t<tr><th scope=row>12472</th><td>  1</td><td>0  </td><td>0  </td><td>0  </td><td>0  </td><td>0  </td><td>0  </td><td>0  </td><td> 0 </td><td>0  </td><td>...</td><td>0  </td><td>0  </td><td>0  </td><td>0  </td><td>0  </td><td>0  </td><td>0  </td><td>0  </td><td>0  </td><td>0  </td></tr>\n",
       "\t<tr><th scope=row>12483</th><td>  5</td><td>0  </td><td>0  </td><td>0  </td><td>0  </td><td>0  </td><td>0  </td><td>0  </td><td> 0 </td><td>0  </td><td>...</td><td>0  </td><td>0  </td><td>0  </td><td>0  </td><td>0  </td><td>0  </td><td>0  </td><td>0  </td><td>0  </td><td>0  </td></tr>\n",
       "\t<tr><th scope=row>12494</th><td>  1</td><td>0  </td><td>0  </td><td>0  </td><td>0  </td><td>0  </td><td>0  </td><td>0  </td><td> 0 </td><td>0  </td><td>...</td><td>0  </td><td>0  </td><td>0  </td><td>0  </td><td>0  </td><td>0  </td><td>0  </td><td>0  </td><td>0  </td><td>0  </td></tr>\n",
       "\t<tr><th scope=row>12505</th><td>  1</td><td>0  </td><td>0  </td><td>0  </td><td>0  </td><td>0  </td><td>0  </td><td>0  </td><td> 0 </td><td>0  </td><td>...</td><td>0  </td><td>0  </td><td>0  </td><td>0  </td><td>0  </td><td>0  </td><td>0  </td><td>0  </td><td>0  </td><td>0  </td></tr>\n",
       "\t<tr><th scope=row>12516</th><td>  1</td><td>0  </td><td>0  </td><td>0  </td><td>0  </td><td>0  </td><td>0  </td><td>0  </td><td> 0 </td><td>0  </td><td>...</td><td>0  </td><td>0  </td><td>0  </td><td>0  </td><td>0  </td><td>0  </td><td>0  </td><td>0  </td><td>0  </td><td>0  </td></tr>\n",
       "\t<tr><th scope=row>12527</th><td>  9</td><td>4  </td><td>9  </td><td>4  </td><td>5  </td><td>7  </td><td>7  </td><td>0  </td><td> 9 </td><td>5  </td><td>...</td><td>1  </td><td>2  </td><td>1  </td><td>1  </td><td>1  </td><td>1  </td><td>1  </td><td>1  </td><td>1  </td><td>1  </td></tr>\n",
       "</tbody>\n",
       "</table>\n"
      ],
      "text/markdown": [
       "\n",
       "| <!--/--> | 1 | 109 | 129 | 160 | 168 | 1719 | 174 | 1752 | 1772 | 1773 | ... | twiss | vallanc | vase | vergist | vindex | vinuela | wallerii | welbeck | wolf | woulse' | \n",
       "|---|---|---|---|---|---|---|---|---|---|---|---|---|---|---|---|---|---|---|---|---|---|---|---|---|---|---|---|---|---|---|---|---|---|---|---|---|---|---|---|---|---|---|---|---|---|\n",
       "| 12422 |   1 | 1   | 1   | 1   | 1   | 1   | 1   | 1   |  1  | 1   | ... | 0   | 0   | 0   | 0   | 0   | 0   | 0   | 0   | 0   | 0   | \n",
       "| 12423 |   3 | 0   | 0   | 0   | 0   | 0   | 0   | 0   |  1  | 0   | ... | 0   | 0   | 0   | 0   | 0   | 0   | 0   | 0   | 0   | 0   | \n",
       "| 12424 | 420 | 0   | 0   | 0   | 0   | 4   | 0   | 0   |  0  | 0   | ... | 0   | 0   | 0   | 0   | 0   | 0   | 0   | 0   | 0   | 0   | \n",
       "| 12425 |  47 | 0   | 1   | 1   | 0   | 0   | 0   | 0   |  0  | 0   | ... | 0   | 0   | 0   | 0   | 0   | 0   | 0   | 0   | 0   | 0   | \n",
       "| 12426 |   1 | 0   | 0   | 0   | 0   | 0   | 0   | 0   |  0  | 2   | ... | 0   | 0   | 0   | 0   | 0   | 0   | 0   | 0   | 0   | 0   | \n",
       "| 12427 |   0 | 0   | 0   | 0   | 0   | 0   | 0   | 0   |  0  | 1   | ... | 0   | 0   | 0   | 0   | 0   | 0   | 0   | 0   | 0   | 0   | \n",
       "| 12428 | 377 | 1   | 0   | 0   | 0   | 0   | 0   | 0   |  0  | 0   | ... | 0   | 0   | 0   | 0   | 0   | 0   | 0   | 0   | 0   | 0   | \n",
       "| 12429 |  27 | 0   | 1   | 0   | 0   | 0   | 0   | 0   |  0  | 0   | ... | 0   | 0   | 0   | 0   | 0   | 0   | 0   | 0   | 0   | 0   | \n",
       "| 12430 |   0 | 1   | 0   | 1   | 1   | 0   | 0   | 0   |  2  | 2   | ... | 0   | 0   | 0   | 0   | 0   | 0   | 0   | 0   | 0   | 0   | \n",
       "| 12431 |   1 | 0   | 0   | 0   | 1   | 0   | 0   | 0   |  0  | 0   | ... | 0   | 0   | 0   | 0   | 0   | 0   | 0   | 0   | 0   | 0   | \n",
       "| 12432 |   0 | 0   | 0   | 1   | 0   | 0   | 0   | 0   |  0  | 0   | ... | 0   | 0   | 0   | 0   | 0   | 0   | 0   | 0   | 0   | 0   | \n",
       "| 12433 |   8 | 0   | 0   | 0   | 0   | 0   | 0   | 0   | 14  | 2   | ... | 0   | 0   | 0   | 0   | 0   | 0   | 0   | 0   | 0   | 0   | \n",
       "| 12434 |  19 | 0   | 0   | 0   | 0   | 0   | 0   | 0   |  0  | 0   | ... | 0   | 0   | 0   | 0   | 0   | 0   | 0   | 0   | 0   | 0   | \n",
       "| 12435 |   1 | 0   | 0   | 0   | 0   | 0   | 0   | 0   |  0  | 0   | ... | 0   | 0   | 0   | 0   | 0   | 0   | 0   | 0   | 0   | 0   | \n",
       "| 12436 |   5 | 0   | 0   | 0   | 0   | 0   | 0   | 0   |  0  | 0   | ... | 0   | 0   | 0   | 0   | 0   | 0   | 0   | 0   | 0   | 0   | \n",
       "| 12437 |   0 | 0   | 0   | 0   | 0   | 0   | 0   | 0   |  0  | 0   | ... | 0   | 0   | 0   | 0   | 0   | 0   | 0   | 0   | 0   | 0   | \n",
       "| 12438 |   6 | 0   | 0   | 0   | 0   | 0   | 0   | 0   |  1  | 2   | ... | 0   | 0   | 0   | 0   | 0   | 0   | 0   | 0   | 0   | 0   | \n",
       "| 12439 | 708 | 0   | 0   | 0   | 0   | 0   | 0   | 0   |  0  | 0   | ... | 0   | 0   | 0   | 0   | 0   | 0   | 0   | 0   | 0   | 0   | \n",
       "| 12440 |  63 | 0   | 0   | 0   | 1   | 0   | 0   | 0   |  0  | 0   | ... | 0   | 0   | 0   | 0   | 0   | 0   | 0   | 0   | 0   | 0   | \n",
       "| 12441 |  34 | 0   | 0   | 0   | 0   | 0   | 0   | 0   |  0  | 0   | ... | 0   | 0   | 0   | 0   | 0   | 0   | 0   | 0   | 0   | 0   | \n",
       "| 12442 |   0 | 0   | 0   | 0   | 0   | 0   | 0   | 0   |  1  | 0   | ... | 0   | 0   | 0   | 0   | 0   | 0   | 0   | 0   | 0   | 0   | \n",
       "| 12443 |  26 | 0   | 0   | 0   | 0   | 0   | 0   | 0   |  0  | 0   | ... | 0   | 0   | 0   | 0   | 0   | 0   | 0   | 0   | 0   | 0   | \n",
       "| 12444 |   0 | 0   | 0   | 0   | 0   | 0   | 0   | 0   |  0  | 0   | ... | 0   | 0   | 0   | 0   | 0   | 0   | 0   | 0   | 0   | 0   | \n",
       "| 12445 |   0 | 0   | 0   | 0   | 0   | 0   | 0   | 0   |  0  | 0   | ... | 0   | 0   | 0   | 0   | 0   | 0   | 0   | 0   | 0   | 0   | \n",
       "| 12446 |   0 | 0   | 0   | 0   | 0   | 0   | 0   | 0   |  0  | 0   | ... | 0   | 0   | 0   | 0   | 0   | 0   | 0   | 0   | 0   | 0   | \n",
       "| 12447 |   0 | 0   | 0   | 0   | 0   | 0   | 0   | 0   |  0  | 0   | ... | 0   | 0   | 0   | 0   | 0   | 0   | 0   | 0   | 0   | 0   | \n",
       "| 12448 |   0 | 0   | 0   | 0   | 0   | 0   | 0   | 0   |  0  | 0   | ... | 0   | 0   | 0   | 0   | 0   | 0   | 0   | 0   | 0   | 0   | \n",
       "| 12449 |   0 | 0   | 0   | 0   | 0   | 0   | 0   | 0   |  0  | 0   | ... | 0   | 0   | 0   | 0   | 0   | 0   | 0   | 0   | 0   | 0   | \n",
       "| 12450 |  20 | 0   | 0   | 0   | 0   | 0   | 0   | 0   |  0  | 0   | ... | 0   | 0   | 0   | 0   | 0   | 0   | 0   | 0   | 0   | 0   | \n",
       "| 12451 | 199 | 0   | 0   | 0   | 0   | 0   | 0   | 0   |  0  | 0   | ... | 0   | 0   | 0   | 0   | 0   | 0   | 0   | 0   | 0   | 0   | \n",
       "| 12452 |   1 | 0   | 0   | 0   | 0   | 0   | 0   | 0   |  0  | 0   | ... | 0   | 0   | 0   | 0   | 0   | 0   | 0   | 0   | 0   | 0   | \n",
       "| 12453 |   1 | 0   | 0   | 0   | 0   | 0   | 0   | 0   |  0  | 0   | ... | 0   | 0   | 0   | 0   | 0   | 0   | 0   | 0   | 0   | 0   | \n",
       "| 12454 |   0 | 0   | 0   | 0   | 0   | 0   | 0   | 0   |  0  | 0   | ... | 0   | 0   | 0   | 0   | 0   | 0   | 0   | 0   | 0   | 0   | \n",
       "| 12455 |   0 | 0   | 0   | 0   | 0   | 0   | 0   | 0   |  0  | 0   | ... | 0   | 0   | 0   | 0   | 0   | 0   | 0   | 0   | 0   | 0   | \n",
       "| 12456 |   0 | 0   | 0   | 0   | 0   | 0   | 0   | 0   |  0  | 0   | ... | 0   | 0   | 0   | 0   | 0   | 0   | 0   | 0   | 0   | 0   | \n",
       "| 12457 |   9 | 0   | 0   | 0   | 0   | 0   | 0   | 0   |  0  | 0   | ... | 0   | 0   | 0   | 0   | 0   | 0   | 0   | 0   | 0   | 0   | \n",
       "| 12458 |   0 | 0   | 0   | 0   | 0   | 0   | 0   | 0   |  0  | 0   | ... | 0   | 0   | 0   | 0   | 0   | 0   | 0   | 0   | 0   | 0   | \n",
       "| 12459 |   2 | 0   | 0   | 0   | 0   | 0   | 0   | 0   |  0  | 0   | ... | 0   | 0   | 0   | 0   | 0   | 0   | 0   | 0   | 0   | 0   | \n",
       "| 12460 |   1 | 0   | 0   | 0   | 0   | 0   | 0   | 0   |  0  | 0   | ... | 0   | 0   | 0   | 0   | 0   | 0   | 0   | 0   | 0   | 0   | \n",
       "| 12461 |   0 | 0   | 0   | 0   | 0   | 0   | 0   | 0   |  0  | 0   | ... | 0   | 0   | 0   | 0   | 0   | 0   | 0   | 0   | 0   | 0   | \n",
       "| 12472 |   1 | 0   | 0   | 0   | 0   | 0   | 0   | 0   |  0  | 0   | ... | 0   | 0   | 0   | 0   | 0   | 0   | 0   | 0   | 0   | 0   | \n",
       "| 12483 |   5 | 0   | 0   | 0   | 0   | 0   | 0   | 0   |  0  | 0   | ... | 0   | 0   | 0   | 0   | 0   | 0   | 0   | 0   | 0   | 0   | \n",
       "| 12494 |   1 | 0   | 0   | 0   | 0   | 0   | 0   | 0   |  0  | 0   | ... | 0   | 0   | 0   | 0   | 0   | 0   | 0   | 0   | 0   | 0   | \n",
       "| 12505 |   1 | 0   | 0   | 0   | 0   | 0   | 0   | 0   |  0  | 0   | ... | 0   | 0   | 0   | 0   | 0   | 0   | 0   | 0   | 0   | 0   | \n",
       "| 12516 |   1 | 0   | 0   | 0   | 0   | 0   | 0   | 0   |  0  | 0   | ... | 0   | 0   | 0   | 0   | 0   | 0   | 0   | 0   | 0   | 0   | \n",
       "| 12527 |   9 | 4   | 9   | 4   | 5   | 7   | 7   | 0   |  9  | 5   | ... | 1   | 2   | 1   | 1   | 1   | 1   | 1   | 1   | 1   | 1   | \n",
       "\n",
       "\n"
      ],
      "text/plain": [
       "      1   109 129 160 168 1719 174 1752 1772 1773 ... twiss vallanc vase\n",
       "12422   1 1   1   1   1   1    1   1     1   1    ... 0     0       0   \n",
       "12423   3 0   0   0   0   0    0   0     1   0    ... 0     0       0   \n",
       "12424 420 0   0   0   0   4    0   0     0   0    ... 0     0       0   \n",
       "12425  47 0   1   1   0   0    0   0     0   0    ... 0     0       0   \n",
       "12426   1 0   0   0   0   0    0   0     0   2    ... 0     0       0   \n",
       "12427   0 0   0   0   0   0    0   0     0   1    ... 0     0       0   \n",
       "12428 377 1   0   0   0   0    0   0     0   0    ... 0     0       0   \n",
       "12429  27 0   1   0   0   0    0   0     0   0    ... 0     0       0   \n",
       "12430   0 1   0   1   1   0    0   0     2   2    ... 0     0       0   \n",
       "12431   1 0   0   0   1   0    0   0     0   0    ... 0     0       0   \n",
       "12432   0 0   0   1   0   0    0   0     0   0    ... 0     0       0   \n",
       "12433   8 0   0   0   0   0    0   0    14   2    ... 0     0       0   \n",
       "12434  19 0   0   0   0   0    0   0     0   0    ... 0     0       0   \n",
       "12435   1 0   0   0   0   0    0   0     0   0    ... 0     0       0   \n",
       "12436   5 0   0   0   0   0    0   0     0   0    ... 0     0       0   \n",
       "12437   0 0   0   0   0   0    0   0     0   0    ... 0     0       0   \n",
       "12438   6 0   0   0   0   0    0   0     1   2    ... 0     0       0   \n",
       "12439 708 0   0   0   0   0    0   0     0   0    ... 0     0       0   \n",
       "12440  63 0   0   0   1   0    0   0     0   0    ... 0     0       0   \n",
       "12441  34 0   0   0   0   0    0   0     0   0    ... 0     0       0   \n",
       "12442   0 0   0   0   0   0    0   0     1   0    ... 0     0       0   \n",
       "12443  26 0   0   0   0   0    0   0     0   0    ... 0     0       0   \n",
       "12444   0 0   0   0   0   0    0   0     0   0    ... 0     0       0   \n",
       "12445   0 0   0   0   0   0    0   0     0   0    ... 0     0       0   \n",
       "12446   0 0   0   0   0   0    0   0     0   0    ... 0     0       0   \n",
       "12447   0 0   0   0   0   0    0   0     0   0    ... 0     0       0   \n",
       "12448   0 0   0   0   0   0    0   0     0   0    ... 0     0       0   \n",
       "12449   0 0   0   0   0   0    0   0     0   0    ... 0     0       0   \n",
       "12450  20 0   0   0   0   0    0   0     0   0    ... 0     0       0   \n",
       "12451 199 0   0   0   0   0    0   0     0   0    ... 0     0       0   \n",
       "12452   1 0   0   0   0   0    0   0     0   0    ... 0     0       0   \n",
       "12453   1 0   0   0   0   0    0   0     0   0    ... 0     0       0   \n",
       "12454   0 0   0   0   0   0    0   0     0   0    ... 0     0       0   \n",
       "12455   0 0   0   0   0   0    0   0     0   0    ... 0     0       0   \n",
       "12456   0 0   0   0   0   0    0   0     0   0    ... 0     0       0   \n",
       "12457   9 0   0   0   0   0    0   0     0   0    ... 0     0       0   \n",
       "12458   0 0   0   0   0   0    0   0     0   0    ... 0     0       0   \n",
       "12459   2 0   0   0   0   0    0   0     0   0    ... 0     0       0   \n",
       "12460   1 0   0   0   0   0    0   0     0   0    ... 0     0       0   \n",
       "12461   0 0   0   0   0   0    0   0     0   0    ... 0     0       0   \n",
       "12472   1 0   0   0   0   0    0   0     0   0    ... 0     0       0   \n",
       "12483   5 0   0   0   0   0    0   0     0   0    ... 0     0       0   \n",
       "12494   1 0   0   0   0   0    0   0     0   0    ... 0     0       0   \n",
       "12505   1 0   0   0   0   0    0   0     0   0    ... 0     0       0   \n",
       "12516   1 0   0   0   0   0    0   0     0   0    ... 0     0       0   \n",
       "12527   9 4   9   4   5   7    7   0     9   5    ... 1     2       1   \n",
       "      vergist vindex vinuela wallerii welbeck wolf woulse'\n",
       "12422 0       0      0       0        0       0    0      \n",
       "12423 0       0      0       0        0       0    0      \n",
       "12424 0       0      0       0        0       0    0      \n",
       "12425 0       0      0       0        0       0    0      \n",
       "12426 0       0      0       0        0       0    0      \n",
       "12427 0       0      0       0        0       0    0      \n",
       "12428 0       0      0       0        0       0    0      \n",
       "12429 0       0      0       0        0       0    0      \n",
       "12430 0       0      0       0        0       0    0      \n",
       "12431 0       0      0       0        0       0    0      \n",
       "12432 0       0      0       0        0       0    0      \n",
       "12433 0       0      0       0        0       0    0      \n",
       "12434 0       0      0       0        0       0    0      \n",
       "12435 0       0      0       0        0       0    0      \n",
       "12436 0       0      0       0        0       0    0      \n",
       "12437 0       0      0       0        0       0    0      \n",
       "12438 0       0      0       0        0       0    0      \n",
       "12439 0       0      0       0        0       0    0      \n",
       "12440 0       0      0       0        0       0    0      \n",
       "12441 0       0      0       0        0       0    0      \n",
       "12442 0       0      0       0        0       0    0      \n",
       "12443 0       0      0       0        0       0    0      \n",
       "12444 0       0      0       0        0       0    0      \n",
       "12445 0       0      0       0        0       0    0      \n",
       "12446 0       0      0       0        0       0    0      \n",
       "12447 0       0      0       0        0       0    0      \n",
       "12448 0       0      0       0        0       0    0      \n",
       "12449 0       0      0       0        0       0    0      \n",
       "12450 0       0      0       0        0       0    0      \n",
       "12451 0       0      0       0        0       0    0      \n",
       "12452 0       0      0       0        0       0    0      \n",
       "12453 0       0      0       0        0       0    0      \n",
       "12454 0       0      0       0        0       0    0      \n",
       "12455 0       0      0       0        0       0    0      \n",
       "12456 0       0      0       0        0       0    0      \n",
       "12457 0       0      0       0        0       0    0      \n",
       "12458 0       0      0       0        0       0    0      \n",
       "12459 0       0      0       0        0       0    0      \n",
       "12460 0       0      0       0        0       0    0      \n",
       "12461 0       0      0       0        0       0    0      \n",
       "12472 0       0      0       0        0       0    0      \n",
       "12483 0       0      0       0        0       0    0      \n",
       "12494 0       0      0       0        0       0    0      \n",
       "12505 0       0      0       0        0       0    0      \n",
       "12516 0       0      0       0        0       0    0      \n",
       "12527 1       1      1       1        1       1    1      "
      ]
     },
     "metadata": {},
     "output_type": "display_data"
    }
   ],
   "source": [
    "doc_stem_mat = stem_freq %>%\n",
    "    cast_sparse(article_id, stem, n) %>%\n",
    "    as.matrix()\n",
    "doc_stem_mat"
   ]
  },
  {
   "cell_type": "markdown",
   "metadata": {},
   "source": [
    "Decompose the matrix with SVD:"
   ]
  },
  {
   "cell_type": "code",
   "execution_count": 28,
   "metadata": {
    "collapsed": true
   },
   "outputs": [],
   "source": [
    "decomp = svd(doc_stem_mat, 10, 10)"
   ]
  },
  {
   "cell_type": "code",
   "execution_count": 30,
   "metadata": {},
   "outputs": [
    {
     "data": {
      "text/html": [
       "<ol class=list-inline>\n",
       "\t<li>46</li>\n",
       "\t<li>10</li>\n",
       "</ol>\n"
      ],
      "text/latex": [
       "\\begin{enumerate*}\n",
       "\\item 46\n",
       "\\item 10\n",
       "\\end{enumerate*}\n"
      ],
      "text/markdown": [
       "1. 46\n",
       "2. 10\n",
       "\n",
       "\n"
      ],
      "text/plain": [
       "[1] 46 10"
      ]
     },
     "metadata": {},
     "output_type": "display_data"
    }
   ],
   "source": [
    "dim(decomp$u)"
   ]
  },
  {
   "cell_type": "code",
   "execution_count": 31,
   "metadata": {},
   "outputs": [
    {
     "data": {
      "text/html": [
       "<ol class=list-inline>\n",
       "\t<li>8819</li>\n",
       "\t<li>10</li>\n",
       "</ol>\n"
      ],
      "text/latex": [
       "\\begin{enumerate*}\n",
       "\\item 8819\n",
       "\\item 10\n",
       "\\end{enumerate*}\n"
      ],
      "text/markdown": [
       "1. 8819\n",
       "2. 10\n",
       "\n",
       "\n"
      ],
      "text/plain": [
       "[1] 8819   10"
      ]
     },
     "metadata": {},
     "output_type": "display_data"
    }
   ],
   "source": [
    "dim(decomp$v)"
   ]
  },
  {
   "cell_type": "markdown",
   "metadata": {},
   "source": [
    "Make a nice topic-word data frame."
   ]
  },
  {
   "cell_type": "code",
   "execution_count": 32,
   "metadata": {},
   "outputs": [
    {
     "data": {
      "text/html": [
       "<table>\n",
       "<thead><tr><th scope=col>V1</th><th scope=col>V2</th><th scope=col>V3</th><th scope=col>V4</th><th scope=col>V5</th><th scope=col>V6</th><th scope=col>V7</th><th scope=col>V8</th><th scope=col>V9</th><th scope=col>V10</th><th scope=col>term</th></tr></thead>\n",
       "<tbody>\n",
       "\t<tr><td>-5.514154e-01</td><td>-0.0291958750</td><td>0.045257859  </td><td>-0.710858005 </td><td>0.010795582  </td><td>-0.020202552 </td><td>-0.019108828 </td><td>-0.047936723 </td><td>-0.043868647 </td><td>-0.1759635219</td><td>1            </td></tr>\n",
       "\t<tr><td>-1.679014e-04</td><td>-0.0004339127</td><td>0.007163719  </td><td>-0.001064589 </td><td>0.007685225  </td><td>-0.003396180 </td><td> 0.003391719 </td><td>-0.005465178 </td><td> 0.003666419 </td><td>-0.0025776460</td><td>109          </td></tr>\n",
       "\t<tr><td>-1.592554e-04</td><td>-0.0007815958</td><td>0.015952645  </td><td> 0.002538242 </td><td>0.017659707  </td><td>-0.007797064 </td><td> 0.008845475 </td><td>-0.008986529 </td><td> 0.003199684 </td><td>-0.0064909069</td><td>129          </td></tr>\n",
       "\t<tr><td>-8.039237e-05</td><td>-0.0003700950</td><td>0.007343063  </td><td> 0.001128478 </td><td>0.008422854  </td><td>-0.003446524 </td><td> 0.004558911 </td><td>-0.002950301 </td><td>-0.000974906 </td><td>-0.0026799535</td><td>160          </td></tr>\n",
       "\t<tr><td>-1.569148e-04</td><td>-0.0005005004</td><td>0.008709793  </td><td> 0.001927456 </td><td>0.009373644  </td><td>-0.004058271 </td><td> 0.004394282 </td><td>-0.006032053 </td><td> 0.004699127 </td><td> 0.0001296609</td><td>168          </td></tr>\n",
       "\t<tr><td>-1.317022e-03</td><td>-0.0048915701</td><td>0.010728777  </td><td> 0.004034746 </td><td>0.013064858  </td><td>-0.005366085 </td><td> 0.006015598 </td><td>-0.009159237 </td><td> 0.004781264 </td><td>-0.0094421619</td><td>1719         </td></tr>\n",
       "</tbody>\n",
       "</table>\n"
      ],
      "text/latex": [
       "\\begin{tabular}{r|lllllllllll}\n",
       " V1 & V2 & V3 & V4 & V5 & V6 & V7 & V8 & V9 & V10 & term\\\\\n",
       "\\hline\n",
       "\t -5.514154e-01 & -0.0291958750 & 0.045257859   & -0.710858005  & 0.010795582   & -0.020202552  & -0.019108828  & -0.047936723  & -0.043868647  & -0.1759635219 & 1            \\\\\n",
       "\t -1.679014e-04 & -0.0004339127 & 0.007163719   & -0.001064589  & 0.007685225   & -0.003396180  &  0.003391719  & -0.005465178  &  0.003666419  & -0.0025776460 & 109          \\\\\n",
       "\t -1.592554e-04 & -0.0007815958 & 0.015952645   &  0.002538242  & 0.017659707   & -0.007797064  &  0.008845475  & -0.008986529  &  0.003199684  & -0.0064909069 & 129          \\\\\n",
       "\t -8.039237e-05 & -0.0003700950 & 0.007343063   &  0.001128478  & 0.008422854   & -0.003446524  &  0.004558911  & -0.002950301  & -0.000974906  & -0.0026799535 & 160          \\\\\n",
       "\t -1.569148e-04 & -0.0005005004 & 0.008709793   &  0.001927456  & 0.009373644   & -0.004058271  &  0.004394282  & -0.006032053  &  0.004699127  &  0.0001296609 & 168          \\\\\n",
       "\t -1.317022e-03 & -0.0048915701 & 0.010728777   &  0.004034746  & 0.013064858   & -0.005366085  &  0.006015598  & -0.009159237  &  0.004781264  & -0.0094421619 & 1719         \\\\\n",
       "\\end{tabular}\n"
      ],
      "text/markdown": [
       "\n",
       "V1 | V2 | V3 | V4 | V5 | V6 | V7 | V8 | V9 | V10 | term | \n",
       "|---|---|---|---|---|---|\n",
       "| -5.514154e-01 | -0.0291958750 | 0.045257859   | -0.710858005  | 0.010795582   | -0.020202552  | -0.019108828  | -0.047936723  | -0.043868647  | -0.1759635219 | 1             | \n",
       "| -1.679014e-04 | -0.0004339127 | 0.007163719   | -0.001064589  | 0.007685225   | -0.003396180  |  0.003391719  | -0.005465178  |  0.003666419  | -0.0025776460 | 109           | \n",
       "| -1.592554e-04 | -0.0007815958 | 0.015952645   |  0.002538242  | 0.017659707   | -0.007797064  |  0.008845475  | -0.008986529  |  0.003199684  | -0.0064909069 | 129           | \n",
       "| -8.039237e-05 | -0.0003700950 | 0.007343063   |  0.001128478  | 0.008422854   | -0.003446524  |  0.004558911  | -0.002950301  | -0.000974906  | -0.0026799535 | 160           | \n",
       "| -1.569148e-04 | -0.0005005004 | 0.008709793   |  0.001927456  | 0.009373644   | -0.004058271  |  0.004394282  | -0.006032053  |  0.004699127  |  0.0001296609 | 168           | \n",
       "| -1.317022e-03 | -0.0048915701 | 0.010728777   |  0.004034746  | 0.013064858   | -0.005366085  |  0.006015598  | -0.009159237  |  0.004781264  | -0.0094421619 | 1719          | \n",
       "\n",
       "\n"
      ],
      "text/plain": [
       "  V1            V2            V3          V4           V5          V6          \n",
       "1 -5.514154e-01 -0.0291958750 0.045257859 -0.710858005 0.010795582 -0.020202552\n",
       "2 -1.679014e-04 -0.0004339127 0.007163719 -0.001064589 0.007685225 -0.003396180\n",
       "3 -1.592554e-04 -0.0007815958 0.015952645  0.002538242 0.017659707 -0.007797064\n",
       "4 -8.039237e-05 -0.0003700950 0.007343063  0.001128478 0.008422854 -0.003446524\n",
       "5 -1.569148e-04 -0.0005005004 0.008709793  0.001927456 0.009373644 -0.004058271\n",
       "6 -1.317022e-03 -0.0048915701 0.010728777  0.004034746 0.013064858 -0.005366085\n",
       "  V7           V8           V9           V10           term\n",
       "1 -0.019108828 -0.047936723 -0.043868647 -0.1759635219 1   \n",
       "2  0.003391719 -0.005465178  0.003666419 -0.0025776460 109 \n",
       "3  0.008845475 -0.008986529  0.003199684 -0.0064909069 129 \n",
       "4  0.004558911 -0.002950301 -0.000974906 -0.0026799535 160 \n",
       "5  0.004394282 -0.006032053  0.004699127  0.0001296609 168 \n",
       "6  0.006015598 -0.009159237  0.004781264 -0.0094421619 1719"
      ]
     },
     "metadata": {},
     "output_type": "display_data"
    }
   ],
   "source": [
    "word_topics = as_data_frame(decomp$v) %>%\n",
    "    mutate(term = colnames(doc_stem_mat))\n",
    "head(word_topics)"
   ]
  },
  {
   "cell_type": "markdown",
   "metadata": {},
   "source": [
    "What are the top 10 terms for topic 1?"
   ]
  },
  {
   "cell_type": "code",
   "execution_count": 34,
   "metadata": {},
   "outputs": [
    {
     "data": {
      "text/html": [
       "<table>\n",
       "<thead><tr><th scope=col>term</th><th scope=col>V1</th></tr></thead>\n",
       "<tbody>\n",
       "\t<tr><td>achromat     </td><td>-6.046602e-08</td></tr>\n",
       "\t<tr><td>cassini      </td><td>-6.046602e-08</td></tr>\n",
       "\t<tr><td>dolland      </td><td>-6.046602e-08</td></tr>\n",
       "\t<tr><td>fainter      </td><td>-6.046602e-08</td></tr>\n",
       "\t<tr><td>jupit        </td><td>-6.046602e-08</td></tr>\n",
       "\t<tr><td>planet       </td><td>-6.046602e-08</td></tr>\n",
       "\t<tr><td>planet'      </td><td>-6.046602e-08</td></tr>\n",
       "\t<tr><td>ballast      </td><td>-4.479649e-07</td></tr>\n",
       "\t<tr><td>eveningtid   </td><td>-4.479649e-07</td></tr>\n",
       "\t<tr><td>gale         </td><td>-4.479649e-07</td></tr>\n",
       "</tbody>\n",
       "</table>\n"
      ],
      "text/latex": [
       "\\begin{tabular}{r|ll}\n",
       " term & V1\\\\\n",
       "\\hline\n",
       "\t achromat      & -6.046602e-08\\\\\n",
       "\t cassini       & -6.046602e-08\\\\\n",
       "\t dolland       & -6.046602e-08\\\\\n",
       "\t fainter       & -6.046602e-08\\\\\n",
       "\t jupit         & -6.046602e-08\\\\\n",
       "\t planet        & -6.046602e-08\\\\\n",
       "\t planet'       & -6.046602e-08\\\\\n",
       "\t ballast       & -4.479649e-07\\\\\n",
       "\t eveningtid    & -4.479649e-07\\\\\n",
       "\t gale          & -4.479649e-07\\\\\n",
       "\\end{tabular}\n"
      ],
      "text/markdown": [
       "\n",
       "term | V1 | \n",
       "|---|---|---|---|---|---|---|---|---|---|\n",
       "| achromat      | -6.046602e-08 | \n",
       "| cassini       | -6.046602e-08 | \n",
       "| dolland       | -6.046602e-08 | \n",
       "| fainter       | -6.046602e-08 | \n",
       "| jupit         | -6.046602e-08 | \n",
       "| planet        | -6.046602e-08 | \n",
       "| planet'       | -6.046602e-08 | \n",
       "| ballast       | -4.479649e-07 | \n",
       "| eveningtid    | -4.479649e-07 | \n",
       "| gale          | -4.479649e-07 | \n",
       "\n",
       "\n"
      ],
      "text/plain": [
       "   term       V1           \n",
       "1  achromat   -6.046602e-08\n",
       "2  cassini    -6.046602e-08\n",
       "3  dolland    -6.046602e-08\n",
       "4  fainter    -6.046602e-08\n",
       "5  jupit      -6.046602e-08\n",
       "6  planet     -6.046602e-08\n",
       "7  planet'    -6.046602e-08\n",
       "8  ballast    -4.479649e-07\n",
       "9  eveningtid -4.479649e-07\n",
       "10 gale       -4.479649e-07"
      ]
     },
     "metadata": {},
     "output_type": "display_data"
    }
   ],
   "source": [
    "word_topics %>% arrange(-V1) %>% select(term, V1) %>% head(10)"
   ]
  },
  {
   "cell_type": "code",
   "execution_count": 35,
   "metadata": {},
   "outputs": [
    {
     "data": {
      "text/html": [
       "<table>\n",
       "<thead><tr><th scope=col>term</th><th scope=col>V2</th></tr></thead>\n",
       "<tbody>\n",
       "\t<tr><td>0         </td><td>0.42637225</td></tr>\n",
       "\t<tr><td>fine      </td><td>0.21572177</td></tr>\n",
       "\t<tr><td>fair      </td><td>0.20031817</td></tr>\n",
       "\t<tr><td>sw        </td><td>0.08595739</td></tr>\n",
       "\t<tr><td>rain      </td><td>0.08451298</td></tr>\n",
       "\t<tr><td>ssw       </td><td>0.07288898</td></tr>\n",
       "\t<tr><td>cloudi    </td><td>0.07024208</td></tr>\n",
       "\t<tr><td>7         </td><td>0.05795443</td></tr>\n",
       "\t<tr><td>wsw       </td><td>0.04804981</td></tr>\n",
       "\t<tr><td>ne        </td><td>0.04408565</td></tr>\n",
       "</tbody>\n",
       "</table>\n"
      ],
      "text/latex": [
       "\\begin{tabular}{r|ll}\n",
       " term & V2\\\\\n",
       "\\hline\n",
       "\t 0          & 0.42637225\\\\\n",
       "\t fine       & 0.21572177\\\\\n",
       "\t fair       & 0.20031817\\\\\n",
       "\t sw         & 0.08595739\\\\\n",
       "\t rain       & 0.08451298\\\\\n",
       "\t ssw        & 0.07288898\\\\\n",
       "\t cloudi     & 0.07024208\\\\\n",
       "\t 7          & 0.05795443\\\\\n",
       "\t wsw        & 0.04804981\\\\\n",
       "\t ne         & 0.04408565\\\\\n",
       "\\end{tabular}\n"
      ],
      "text/markdown": [
       "\n",
       "term | V2 | \n",
       "|---|---|---|---|---|---|---|---|---|---|\n",
       "| 0          | 0.42637225 | \n",
       "| fine       | 0.21572177 | \n",
       "| fair       | 0.20031817 | \n",
       "| sw         | 0.08595739 | \n",
       "| rain       | 0.08451298 | \n",
       "| ssw        | 0.07288898 | \n",
       "| cloudi     | 0.07024208 | \n",
       "| 7          | 0.05795443 | \n",
       "| wsw        | 0.04804981 | \n",
       "| ne         | 0.04408565 | \n",
       "\n",
       "\n"
      ],
      "text/plain": [
       "   term   V2        \n",
       "1  0      0.42637225\n",
       "2  fine   0.21572177\n",
       "3  fair   0.20031817\n",
       "4  sw     0.08595739\n",
       "5  rain   0.08451298\n",
       "6  ssw    0.07288898\n",
       "7  cloudi 0.07024208\n",
       "8  7      0.05795443\n",
       "9  wsw    0.04804981\n",
       "10 ne     0.04408565"
      ]
     },
     "metadata": {},
     "output_type": "display_data"
    }
   ],
   "source": [
    "word_topics %>% arrange(-V2) %>% select(term, V2) %>% head(10)"
   ]
  },
  {
   "cell_type": "markdown",
   "metadata": {},
   "source": [
    "Let's look at documents."
   ]
  },
  {
   "cell_type": "code",
   "execution_count": 36,
   "metadata": {},
   "outputs": [
    {
     "data": {
      "text/html": [
       "<table>\n",
       "<thead><tr><th scope=col>V1</th><th scope=col>V2</th><th scope=col>V3</th><th scope=col>V4</th><th scope=col>V5</th><th scope=col>V6</th><th scope=col>V7</th><th scope=col>V8</th><th scope=col>V9</th><th scope=col>V10</th><th scope=col>article_id</th></tr></thead>\n",
       "<tbody>\n",
       "\t<tr><td>-0.001817758 </td><td>-0.005876418 </td><td> 0.06168811  </td><td> 0.004450154 </td><td> 0.028152789 </td><td>-0.011502998 </td><td> 0.01790852  </td><td>-0.019611439 </td><td> 0.0331153542</td><td>-0.003844549 </td><td>12422        </td></tr>\n",
       "\t<tr><td>-0.006567550 </td><td>-0.015919355 </td><td> 0.08533692  </td><td> 0.010287696 </td><td>-0.053676543 </td><td>-0.037901436 </td><td>-0.02893029  </td><td> 0.001602841 </td><td>-0.0168501901</td><td> 0.092755125 </td><td>12423        </td></tr>\n",
       "\t<tr><td>-0.493520150 </td><td>-0.824199072 </td><td>-0.13138797  </td><td> 0.162655701 </td><td>-0.008521754 </td><td> 0.016442304 </td><td>-0.01473966  </td><td>-0.028300459 </td><td>-0.0240237616</td><td>-0.153885729 </td><td>12424        </td></tr>\n",
       "\t<tr><td>-0.027213688 </td><td>-0.037334037 </td><td> 0.12132619  </td><td>-0.097240018 </td><td> 0.196727491 </td><td>-0.044473362 </td><td> 0.22395983  </td><td> 0.424221961 </td><td>-0.7956374755</td><td> 0.110469494 </td><td>12425        </td></tr>\n",
       "\t<tr><td>-0.006728006 </td><td>-0.014671627 </td><td> 0.03541532  </td><td> 0.015851445 </td><td>-0.012395975 </td><td> 0.005870345 </td><td> 0.01533964  </td><td> 0.040878041 </td><td>-0.0007146078</td><td> 0.035999245 </td><td>12426        </td></tr>\n",
       "\t<tr><td>-0.002256482 </td><td>-0.007256592 </td><td> 0.04600736  </td><td> 0.013078563 </td><td>-0.017723322 </td><td>-0.042856022 </td><td>-0.02795572  </td><td>-0.008854953 </td><td> 0.0070596144</td><td>-0.011093817 </td><td>12427        </td></tr>\n",
       "</tbody>\n",
       "</table>\n"
      ],
      "text/latex": [
       "\\begin{tabular}{r|lllllllllll}\n",
       " V1 & V2 & V3 & V4 & V5 & V6 & V7 & V8 & V9 & V10 & article\\_id\\\\\n",
       "\\hline\n",
       "\t -0.001817758  & -0.005876418  &  0.06168811   &  0.004450154  &  0.028152789  & -0.011502998  &  0.01790852   & -0.019611439  &  0.0331153542 & -0.003844549  & 12422        \\\\\n",
       "\t -0.006567550  & -0.015919355  &  0.08533692   &  0.010287696  & -0.053676543  & -0.037901436  & -0.02893029   &  0.001602841  & -0.0168501901 &  0.092755125  & 12423        \\\\\n",
       "\t -0.493520150  & -0.824199072  & -0.13138797   &  0.162655701  & -0.008521754  &  0.016442304  & -0.01473966   & -0.028300459  & -0.0240237616 & -0.153885729  & 12424        \\\\\n",
       "\t -0.027213688  & -0.037334037  &  0.12132619   & -0.097240018  &  0.196727491  & -0.044473362  &  0.22395983   &  0.424221961  & -0.7956374755 &  0.110469494  & 12425        \\\\\n",
       "\t -0.006728006  & -0.014671627  &  0.03541532   &  0.015851445  & -0.012395975  &  0.005870345  &  0.01533964   &  0.040878041  & -0.0007146078 &  0.035999245  & 12426        \\\\\n",
       "\t -0.002256482  & -0.007256592  &  0.04600736   &  0.013078563  & -0.017723322  & -0.042856022  & -0.02795572   & -0.008854953  &  0.0070596144 & -0.011093817  & 12427        \\\\\n",
       "\\end{tabular}\n"
      ],
      "text/markdown": [
       "\n",
       "V1 | V2 | V3 | V4 | V5 | V6 | V7 | V8 | V9 | V10 | article_id | \n",
       "|---|---|---|---|---|---|\n",
       "| -0.001817758  | -0.005876418  |  0.06168811   |  0.004450154  |  0.028152789  | -0.011502998  |  0.01790852   | -0.019611439  |  0.0331153542 | -0.003844549  | 12422         | \n",
       "| -0.006567550  | -0.015919355  |  0.08533692   |  0.010287696  | -0.053676543  | -0.037901436  | -0.02893029   |  0.001602841  | -0.0168501901 |  0.092755125  | 12423         | \n",
       "| -0.493520150  | -0.824199072  | -0.13138797   |  0.162655701  | -0.008521754  |  0.016442304  | -0.01473966   | -0.028300459  | -0.0240237616 | -0.153885729  | 12424         | \n",
       "| -0.027213688  | -0.037334037  |  0.12132619   | -0.097240018  |  0.196727491  | -0.044473362  |  0.22395983   |  0.424221961  | -0.7956374755 |  0.110469494  | 12425         | \n",
       "| -0.006728006  | -0.014671627  |  0.03541532   |  0.015851445  | -0.012395975  |  0.005870345  |  0.01533964   |  0.040878041  | -0.0007146078 |  0.035999245  | 12426         | \n",
       "| -0.002256482  | -0.007256592  |  0.04600736   |  0.013078563  | -0.017723322  | -0.042856022  | -0.02795572   | -0.008854953  |  0.0070596144 | -0.011093817  | 12427         | \n",
       "\n",
       "\n"
      ],
      "text/plain": [
       "  V1           V2           V3          V4           V5           V6          \n",
       "1 -0.001817758 -0.005876418  0.06168811  0.004450154  0.028152789 -0.011502998\n",
       "2 -0.006567550 -0.015919355  0.08533692  0.010287696 -0.053676543 -0.037901436\n",
       "3 -0.493520150 -0.824199072 -0.13138797  0.162655701 -0.008521754  0.016442304\n",
       "4 -0.027213688 -0.037334037  0.12132619 -0.097240018  0.196727491 -0.044473362\n",
       "5 -0.006728006 -0.014671627  0.03541532  0.015851445 -0.012395975  0.005870345\n",
       "6 -0.002256482 -0.007256592  0.04600736  0.013078563 -0.017723322 -0.042856022\n",
       "  V7          V8           V9            V10          article_id\n",
       "1  0.01790852 -0.019611439  0.0331153542 -0.003844549 12422     \n",
       "2 -0.02893029  0.001602841 -0.0168501901  0.092755125 12423     \n",
       "3 -0.01473966 -0.028300459 -0.0240237616 -0.153885729 12424     \n",
       "4  0.22395983  0.424221961 -0.7956374755  0.110469494 12425     \n",
       "5  0.01533964  0.040878041 -0.0007146078  0.035999245 12426     \n",
       "6 -0.02795572 -0.008854953  0.0070596144 -0.011093817 12427     "
      ]
     },
     "metadata": {},
     "output_type": "display_data"
    }
   ],
   "source": [
    "doc_topics = as_data_frame(decomp$u) %>%\n",
    "    mutate(article_id = as.integer(rownames(doc_stem_mat)))\n",
    "head(doc_topics)"
   ]
  },
  {
   "cell_type": "code",
   "execution_count": 38,
   "metadata": {},
   "outputs": [
    {
     "name": "stderr",
     "output_type": "stream",
     "text": [
      "Joining, by = \"article_id\"\n"
     ]
    },
    {
     "data": {
      "text/html": [
       "<table>\n",
       "<thead><tr><th scope=col>article_id</th><th scope=col>V1</th><th scope=col>title</th></tr></thead>\n",
       "<tbody>\n",
       "\t<tr><td>12458                                                                                                                                                                                                                                                                                      </td><td>-9.806382e-05                                                                                                                                                                                                                                                                              </td><td>A Belt on the Disc of Saturn Described in an Extract of a Letter from Mr. Messier, F. R. S. to Mr. Magellan, F. R. S. Dated Paris, May 29, 1776                                                                                                                                            </td></tr>\n",
       "\t<tr><td>12449                                                                                                                                                                                                                                                                                      </td><td>-7.265096e-04                                                                                                                                                                                                                                                                              </td><td>Of the Tides in the South Seas. By Captain James Cook, F. R. S.                                                                                                                                                                                                                            </td></tr>\n",
       "\t<tr><td>12453                                                                                                                                                                                                                                                                                      </td><td>-7.555608e-04                                                                                                                                                                                                                                                                              </td><td>Of the Light Produced by Inflammation. By George Fordyce, M. D. F. R. S.                                                                                                                                                                                                                   </td></tr>\n",
       "\t<tr><td>12456                                                                                                                                                                                                                                                                                      </td><td>-8.160561e-04                                                                                                                                                                                                                                                                              </td><td>Account of the Iron Ore Lately Found in Siberia. In a Letter to Dr. Maty, Sec. R. S. by Petr. Simon Pallas, M. D. F. R. S.                                                                                                                                                                 </td></tr>\n",
       "\t<tr><td>12461                                                                                                                                                                                                                                                                                      </td><td>-8.766023e-04                                                                                                                                                                                                                                                                              </td><td>An Account of a Suppression of Urine Cured by a Puncture Made in the Bladder through the Anus; Being an Extract of a Letter from Dr. Robert Hamilton, Fellow of the Royal College of Physicians at Edinburgh, and Physician at King's-Lynn, in Norfolk, to Sir John Pringle, Bart. P. R. S.</td></tr>\n",
       "\t<tr><td>12444                                                                                                                                                                                                                                                                                      </td><td>-8.866600e-04                                                                                                                                                                                                                                                                              </td><td>The Method Taken for Preserving the Health of the Crew of His Majesty's Ship the Resolution during Her Late Voyage Round the World. By Captain James Cook, F. R. S. Addressed to Sir John Pringle, Bart. P. R. S.                                                                          </td></tr>\n",
       "\t<tr><td>12516                                                                                                                                                                                                                                                                                      </td><td>-9.384814e-04                                                                                                                                                                                                                                                                              </td><td>Errata                                                                                                                                                                                                                                                                                     </td></tr>\n",
       "\t<tr><td>12445                                                                                                                                                                                                                                                                                      </td><td>-9.680570e-04                                                                                                                                                                                                                                                                              </td><td>Extraordinary Electricity of the Atmosphere Observed at Islington on the Month of October, 1775. By Mr. Tiberius Cavallo. Communicated by William Watson, M. D. V. P. R. S.                                                                                                                </td></tr>\n",
       "\t<tr><td>12454                                                                                                                                                                                                                                                                                      </td><td>-9.728494e-04                                                                                                                                                                                                                                                                              </td><td>Experiments on Ignited Bodies. By John Roebuck, M. D. F. R. S.                                                                                                                                                                                                                             </td></tr>\n",
       "\t<tr><td>12460                                                                                                                                                                                                                                                                                      </td><td>-1.271565e-03                                                                                                                                                                                                                                                                              </td><td>Experiments on Ignited Substances. By Mr. John Whitehurst, in a Letter to James Stuart, Esquire, F. R. S.                                                                                                                                                                                  </td></tr>\n",
       "</tbody>\n",
       "</table>\n"
      ],
      "text/latex": [
       "\\begin{tabular}{r|lll}\n",
       " article\\_id & V1 & title\\\\\n",
       "\\hline\n",
       "\t 12458                                                                                                                                                                                                                                                                                       & -9.806382e-05                                                                                                                                                                                                                                                                               & A Belt on the Disc of Saturn Described in an Extract of a Letter from Mr. Messier, F. R. S. to Mr. Magellan, F. R. S. Dated Paris, May 29, 1776                                                                                                                                            \\\\\n",
       "\t 12449                                                                                                                                                                                                                                                                                       & -7.265096e-04                                                                                                                                                                                                                                                                               & Of the Tides in the South Seas. By Captain James Cook, F. R. S.                                                                                                                                                                                                                            \\\\\n",
       "\t 12453                                                                                                                                                                                                                                                                                       & -7.555608e-04                                                                                                                                                                                                                                                                               & Of the Light Produced by Inflammation. By George Fordyce, M. D. F. R. S.                                                                                                                                                                                                                   \\\\\n",
       "\t 12456                                                                                                                                                                                                                                                                                       & -8.160561e-04                                                                                                                                                                                                                                                                               & Account of the Iron Ore Lately Found in Siberia. In a Letter to Dr. Maty, Sec. R. S. by Petr. Simon Pallas, M. D. F. R. S.                                                                                                                                                                 \\\\\n",
       "\t 12461                                                                                                                                                                                                                                                                                       & -8.766023e-04                                                                                                                                                                                                                                                                               & An Account of a Suppression of Urine Cured by a Puncture Made in the Bladder through the Anus; Being an Extract of a Letter from Dr. Robert Hamilton, Fellow of the Royal College of Physicians at Edinburgh, and Physician at King's-Lynn, in Norfolk, to Sir John Pringle, Bart. P. R. S.\\\\\n",
       "\t 12444                                                                                                                                                                                                                                                                                       & -8.866600e-04                                                                                                                                                                                                                                                                               & The Method Taken for Preserving the Health of the Crew of His Majesty's Ship the Resolution during Her Late Voyage Round the World. By Captain James Cook, F. R. S. Addressed to Sir John Pringle, Bart. P. R. S.                                                                          \\\\\n",
       "\t 12516                                                                                                                                                                                                                                                                                       & -9.384814e-04                                                                                                                                                                                                                                                                               & Errata                                                                                                                                                                                                                                                                                     \\\\\n",
       "\t 12445                                                                                                                                                                                                                                                                                       & -9.680570e-04                                                                                                                                                                                                                                                                               & Extraordinary Electricity of the Atmosphere Observed at Islington on the Month of October, 1775. By Mr. Tiberius Cavallo. Communicated by William Watson, M. D. V. P. R. S.                                                                                                                \\\\\n",
       "\t 12454                                                                                                                                                                                                                                                                                       & -9.728494e-04                                                                                                                                                                                                                                                                               & Experiments on Ignited Bodies. By John Roebuck, M. D. F. R. S.                                                                                                                                                                                                                             \\\\\n",
       "\t 12460                                                                                                                                                                                                                                                                                       & -1.271565e-03                                                                                                                                                                                                                                                                               & Experiments on Ignited Substances. By Mr. John Whitehurst, in a Letter to James Stuart, Esquire, F. R. S.                                                                                                                                                                                  \\\\\n",
       "\\end{tabular}\n"
      ],
      "text/markdown": [
       "\n",
       "article_id | V1 | title | \n",
       "|---|---|---|---|---|---|---|---|---|---|\n",
       "| 12458                                                                                                                                                                                                                                                                                       | -9.806382e-05                                                                                                                                                                                                                                                                               | A Belt on the Disc of Saturn Described in an Extract of a Letter from Mr. Messier, F. R. S. to Mr. Magellan, F. R. S. Dated Paris, May 29, 1776                                                                                                                                             | \n",
       "| 12449                                                                                                                                                                                                                                                                                       | -7.265096e-04                                                                                                                                                                                                                                                                               | Of the Tides in the South Seas. By Captain James Cook, F. R. S.                                                                                                                                                                                                                             | \n",
       "| 12453                                                                                                                                                                                                                                                                                       | -7.555608e-04                                                                                                                                                                                                                                                                               | Of the Light Produced by Inflammation. By George Fordyce, M. D. F. R. S.                                                                                                                                                                                                                    | \n",
       "| 12456                                                                                                                                                                                                                                                                                       | -8.160561e-04                                                                                                                                                                                                                                                                               | Account of the Iron Ore Lately Found in Siberia. In a Letter to Dr. Maty, Sec. R. S. by Petr. Simon Pallas, M. D. F. R. S.                                                                                                                                                                  | \n",
       "| 12461                                                                                                                                                                                                                                                                                       | -8.766023e-04                                                                                                                                                                                                                                                                               | An Account of a Suppression of Urine Cured by a Puncture Made in the Bladder through the Anus; Being an Extract of a Letter from Dr. Robert Hamilton, Fellow of the Royal College of Physicians at Edinburgh, and Physician at King's-Lynn, in Norfolk, to Sir John Pringle, Bart. P. R. S. | \n",
       "| 12444                                                                                                                                                                                                                                                                                       | -8.866600e-04                                                                                                                                                                                                                                                                               | The Method Taken for Preserving the Health of the Crew of His Majesty's Ship the Resolution during Her Late Voyage Round the World. By Captain James Cook, F. R. S. Addressed to Sir John Pringle, Bart. P. R. S.                                                                           | \n",
       "| 12516                                                                                                                                                                                                                                                                                       | -9.384814e-04                                                                                                                                                                                                                                                                               | Errata                                                                                                                                                                                                                                                                                      | \n",
       "| 12445                                                                                                                                                                                                                                                                                       | -9.680570e-04                                                                                                                                                                                                                                                                               | Extraordinary Electricity of the Atmosphere Observed at Islington on the Month of October, 1775. By Mr. Tiberius Cavallo. Communicated by William Watson, M. D. V. P. R. S.                                                                                                                 | \n",
       "| 12454                                                                                                                                                                                                                                                                                       | -9.728494e-04                                                                                                                                                                                                                                                                               | Experiments on Ignited Bodies. By John Roebuck, M. D. F. R. S.                                                                                                                                                                                                                              | \n",
       "| 12460                                                                                                                                                                                                                                                                                       | -1.271565e-03                                                                                                                                                                                                                                                                               | Experiments on Ignited Substances. By Mr. John Whitehurst, in a Letter to James Stuart, Esquire, F. R. S.                                                                                                                                                                                   | \n",
       "\n",
       "\n"
      ],
      "text/plain": [
       "   article_id V1           \n",
       "1  12458      -9.806382e-05\n",
       "2  12449      -7.265096e-04\n",
       "3  12453      -7.555608e-04\n",
       "4  12456      -8.160561e-04\n",
       "5  12461      -8.766023e-04\n",
       "6  12444      -8.866600e-04\n",
       "7  12516      -9.384814e-04\n",
       "8  12445      -9.680570e-04\n",
       "9  12454      -9.728494e-04\n",
       "10 12460      -1.271565e-03\n",
       "   title                                                                                                                                                                                                                                                                                      \n",
       "1  A Belt on the Disc of Saturn Described in an Extract of a Letter from Mr. Messier, F. R. S. to Mr. Magellan, F. R. S. Dated Paris, May 29, 1776                                                                                                                                            \n",
       "2  Of the Tides in the South Seas. By Captain James Cook, F. R. S.                                                                                                                                                                                                                            \n",
       "3  Of the Light Produced by Inflammation. By George Fordyce, M. D. F. R. S.                                                                                                                                                                                                                   \n",
       "4  Account of the Iron Ore Lately Found in Siberia. In a Letter to Dr. Maty, Sec. R. S. by Petr. Simon Pallas, M. D. F. R. S.                                                                                                                                                                 \n",
       "5  An Account of a Suppression of Urine Cured by a Puncture Made in the Bladder through the Anus; Being an Extract of a Letter from Dr. Robert Hamilton, Fellow of the Royal College of Physicians at Edinburgh, and Physician at King's-Lynn, in Norfolk, to Sir John Pringle, Bart. P. R. S.\n",
       "6  The Method Taken for Preserving the Health of the Crew of His Majesty's Ship the Resolution during Her Late Voyage Round the World. By Captain James Cook, F. R. S. Addressed to Sir John Pringle, Bart. P. R. S.                                                                          \n",
       "7  Errata                                                                                                                                                                                                                                                                                     \n",
       "8  Extraordinary Electricity of the Atmosphere Observed at Islington on the Month of October, 1775. By Mr. Tiberius Cavallo. Communicated by William Watson, M. D. V. P. R. S.                                                                                                                \n",
       "9  Experiments on Ignited Bodies. By John Roebuck, M. D. F. R. S.                                                                                                                                                                                                                             \n",
       "10 Experiments on Ignited Substances. By Mr. John Whitehurst, in a Letter to James Stuart, Esquire, F. R. S.                                                                                                                                                                                  "
      ]
     },
     "metadata": {},
     "output_type": "display_data"
    }
   ],
   "source": [
    "doc_topics %>% select(article_id, V1) %>%\n",
    "    arrange(-V1) %>%\n",
    "    head(10) %>%\n",
    "    inner_join(art_sample) %>%\n",
    "    select(article_id, V1, title) %>% arrange(-V1)"
   ]
  },
  {
   "cell_type": "code",
   "execution_count": 39,
   "metadata": {},
   "outputs": [
    {
     "name": "stderr",
     "output_type": "stream",
     "text": [
      "Joining, by = \"article_id\"\n"
     ]
    },
    {
     "data": {
      "text/html": [
       "<table>\n",
       "<thead><tr><th scope=col>article_id</th><th scope=col>V2</th><th scope=col>title</th></tr></thead>\n",
       "<tbody>\n",
       "\t<tr><td>12439                                                                                                                                                                                                                         </td><td> 0.5365240766                                                                                                                                                                                                                 </td><td>Meteorological Journal Kept at the House of The Royal Society, By Order of the President and Council                                                                                                                          </td></tr>\n",
       "\t<tr><td>12441                                                                                                                                                                                                                         </td><td> 0.0019365759                                                                                                                                                                                                                 </td><td>Extract of a Meteorological Journal for the Year 1775, Kept at Bristol, by Samuel Farr, M. D.                                                                                                                                 </td></tr>\n",
       "\t<tr><td>12494                                                                                                                                                                                                                         </td><td> 0.0014573560                                                                                                                                                                                                                 </td><td>A Demonstration of Two Theorems Mentioned in Art. XXV. of the Philosophical Transactions for the Year 1775. In a Letter from Charles Hutton, Esq. F. R. S. to the Rev. Dr. Horsley, Sec. R. S.                                </td></tr>\n",
       "\t<tr><td>12458                                                                                                                                                                                                                         </td><td>-0.0004536025                                                                                                                                                                                                                 </td><td>A Belt on the Disc of Saturn Described in an Extract of a Letter from Mr. Messier, F. R. S. to Mr. Magellan, F. R. S. Dated Paris, May 29, 1776                                                                               </td></tr>\n",
       "\t<tr><td>12460                                                                                                                                                                                                                         </td><td>-0.0016946992                                                                                                                                                                                                                 </td><td>Experiments on Ignited Substances. By Mr. John Whitehurst, in a Letter to James Stuart, Esquire, F. R. S.                                                                                                                     </td></tr>\n",
       "\t<tr><td>12445                                                                                                                                                                                                                         </td><td>-0.0017995272                                                                                                                                                                                                                 </td><td>Extraordinary Electricity of the Atmosphere Observed at Islington on the Month of October, 1775. By Mr. Tiberius Cavallo. Communicated by William Watson, M. D. V. P. R. S.                                                   </td></tr>\n",
       "\t<tr><td>12453                                                                                                                                                                                                                         </td><td>-0.0018297868                                                                                                                                                                                                                 </td><td>Of the Light Produced by Inflammation. By George Fordyce, M. D. F. R. S.                                                                                                                                                      </td></tr>\n",
       "\t<tr><td>12444                                                                                                                                                                                                                         </td><td>-0.0019380252                                                                                                                                                                                                                 </td><td>The Method Taken for Preserving the Health of the Crew of His Majesty's Ship the Resolution during Her Late Voyage Round the World. By Captain James Cook, F. R. S. Addressed to Sir John Pringle, Bart. P. R. S.             </td></tr>\n",
       "\t<tr><td>12516                                                                                                                                                                                                                         </td><td>-0.0020287234                                                                                                                                                                                                                 </td><td>Errata                                                                                                                                                                                                                        </td></tr>\n",
       "\t<tr><td>12432                                                                                                                                                                                                                         </td><td>-0.0021990191                                                                                                                                                                                                                 </td><td>An Account of the Success of Some Attempts to Freeze Quicksilver, at Albany Fort, in Hudson's Bay, in the Year 1775: With Observations on the Dipping-Needle. By Thomas Hutchins, Esquire, in a Letter to Dr. Maty, Sec. R. S.</td></tr>\n",
       "</tbody>\n",
       "</table>\n"
      ],
      "text/latex": [
       "\\begin{tabular}{r|lll}\n",
       " article\\_id & V2 & title\\\\\n",
       "\\hline\n",
       "\t 12439                                                                                                                                                                                                                          &  0.5365240766                                                                                                                                                                                                                  & Meteorological Journal Kept at the House of The Royal Society, By Order of the President and Council                                                                                                                          \\\\\n",
       "\t 12441                                                                                                                                                                                                                          &  0.0019365759                                                                                                                                                                                                                  & Extract of a Meteorological Journal for the Year 1775, Kept at Bristol, by Samuel Farr, M. D.                                                                                                                                 \\\\\n",
       "\t 12494                                                                                                                                                                                                                          &  0.0014573560                                                                                                                                                                                                                  & A Demonstration of Two Theorems Mentioned in Art. XXV. of the Philosophical Transactions for the Year 1775. In a Letter from Charles Hutton, Esq. F. R. S. to the Rev. Dr. Horsley, Sec. R. S.                                \\\\\n",
       "\t 12458                                                                                                                                                                                                                          & -0.0004536025                                                                                                                                                                                                                  & A Belt on the Disc of Saturn Described in an Extract of a Letter from Mr. Messier, F. R. S. to Mr. Magellan, F. R. S. Dated Paris, May 29, 1776                                                                               \\\\\n",
       "\t 12460                                                                                                                                                                                                                          & -0.0016946992                                                                                                                                                                                                                  & Experiments on Ignited Substances. By Mr. John Whitehurst, in a Letter to James Stuart, Esquire, F. R. S.                                                                                                                     \\\\\n",
       "\t 12445                                                                                                                                                                                                                          & -0.0017995272                                                                                                                                                                                                                  & Extraordinary Electricity of the Atmosphere Observed at Islington on the Month of October, 1775. By Mr. Tiberius Cavallo. Communicated by William Watson, M. D. V. P. R. S.                                                   \\\\\n",
       "\t 12453                                                                                                                                                                                                                          & -0.0018297868                                                                                                                                                                                                                  & Of the Light Produced by Inflammation. By George Fordyce, M. D. F. R. S.                                                                                                                                                      \\\\\n",
       "\t 12444                                                                                                                                                                                                                          & -0.0019380252                                                                                                                                                                                                                  & The Method Taken for Preserving the Health of the Crew of His Majesty's Ship the Resolution during Her Late Voyage Round the World. By Captain James Cook, F. R. S. Addressed to Sir John Pringle, Bart. P. R. S.             \\\\\n",
       "\t 12516                                                                                                                                                                                                                          & -0.0020287234                                                                                                                                                                                                                  & Errata                                                                                                                                                                                                                        \\\\\n",
       "\t 12432                                                                                                                                                                                                                          & -0.0021990191                                                                                                                                                                                                                  & An Account of the Success of Some Attempts to Freeze Quicksilver, at Albany Fort, in Hudson's Bay, in the Year 1775: With Observations on the Dipping-Needle. By Thomas Hutchins, Esquire, in a Letter to Dr. Maty, Sec. R. S.\\\\\n",
       "\\end{tabular}\n"
      ],
      "text/markdown": [
       "\n",
       "article_id | V2 | title | \n",
       "|---|---|---|---|---|---|---|---|---|---|\n",
       "| 12439                                                                                                                                                                                                                          |  0.5365240766                                                                                                                                                                                                                  | Meteorological Journal Kept at the House of The Royal Society, By Order of the President and Council                                                                                                                           | \n",
       "| 12441                                                                                                                                                                                                                          |  0.0019365759                                                                                                                                                                                                                  | Extract of a Meteorological Journal for the Year 1775, Kept at Bristol, by Samuel Farr, M. D.                                                                                                                                  | \n",
       "| 12494                                                                                                                                                                                                                          |  0.0014573560                                                                                                                                                                                                                  | A Demonstration of Two Theorems Mentioned in Art. XXV. of the Philosophical Transactions for the Year 1775. In a Letter from Charles Hutton, Esq. F. R. S. to the Rev. Dr. Horsley, Sec. R. S.                                 | \n",
       "| 12458                                                                                                                                                                                                                          | -0.0004536025                                                                                                                                                                                                                  | A Belt on the Disc of Saturn Described in an Extract of a Letter from Mr. Messier, F. R. S. to Mr. Magellan, F. R. S. Dated Paris, May 29, 1776                                                                                | \n",
       "| 12460                                                                                                                                                                                                                          | -0.0016946992                                                                                                                                                                                                                  | Experiments on Ignited Substances. By Mr. John Whitehurst, in a Letter to James Stuart, Esquire, F. R. S.                                                                                                                      | \n",
       "| 12445                                                                                                                                                                                                                          | -0.0017995272                                                                                                                                                                                                                  | Extraordinary Electricity of the Atmosphere Observed at Islington on the Month of October, 1775. By Mr. Tiberius Cavallo. Communicated by William Watson, M. D. V. P. R. S.                                                    | \n",
       "| 12453                                                                                                                                                                                                                          | -0.0018297868                                                                                                                                                                                                                  | Of the Light Produced by Inflammation. By George Fordyce, M. D. F. R. S.                                                                                                                                                       | \n",
       "| 12444                                                                                                                                                                                                                          | -0.0019380252                                                                                                                                                                                                                  | The Method Taken for Preserving the Health of the Crew of His Majesty's Ship the Resolution during Her Late Voyage Round the World. By Captain James Cook, F. R. S. Addressed to Sir John Pringle, Bart. P. R. S.              | \n",
       "| 12516                                                                                                                                                                                                                          | -0.0020287234                                                                                                                                                                                                                  | Errata                                                                                                                                                                                                                         | \n",
       "| 12432                                                                                                                                                                                                                          | -0.0021990191                                                                                                                                                                                                                  | An Account of the Success of Some Attempts to Freeze Quicksilver, at Albany Fort, in Hudson's Bay, in the Year 1775: With Observations on the Dipping-Needle. By Thomas Hutchins, Esquire, in a Letter to Dr. Maty, Sec. R. S. | \n",
       "\n",
       "\n"
      ],
      "text/plain": [
       "   article_id V2           \n",
       "1  12439       0.5365240766\n",
       "2  12441       0.0019365759\n",
       "3  12494       0.0014573560\n",
       "4  12458      -0.0004536025\n",
       "5  12460      -0.0016946992\n",
       "6  12445      -0.0017995272\n",
       "7  12453      -0.0018297868\n",
       "8  12444      -0.0019380252\n",
       "9  12516      -0.0020287234\n",
       "10 12432      -0.0021990191\n",
       "   title                                                                                                                                                                                                                         \n",
       "1  Meteorological Journal Kept at the House of The Royal Society, By Order of the President and Council                                                                                                                          \n",
       "2  Extract of a Meteorological Journal for the Year 1775, Kept at Bristol, by Samuel Farr, M. D.                                                                                                                                 \n",
       "3  A Demonstration of Two Theorems Mentioned in Art. XXV. of the Philosophical Transactions for the Year 1775. In a Letter from Charles Hutton, Esq. F. R. S. to the Rev. Dr. Horsley, Sec. R. S.                                \n",
       "4  A Belt on the Disc of Saturn Described in an Extract of a Letter from Mr. Messier, F. R. S. to Mr. Magellan, F. R. S. Dated Paris, May 29, 1776                                                                               \n",
       "5  Experiments on Ignited Substances. By Mr. John Whitehurst, in a Letter to James Stuart, Esquire, F. R. S.                                                                                                                     \n",
       "6  Extraordinary Electricity of the Atmosphere Observed at Islington on the Month of October, 1775. By Mr. Tiberius Cavallo. Communicated by William Watson, M. D. V. P. R. S.                                                   \n",
       "7  Of the Light Produced by Inflammation. By George Fordyce, M. D. F. R. S.                                                                                                                                                      \n",
       "8  The Method Taken for Preserving the Health of the Crew of His Majesty's Ship the Resolution during Her Late Voyage Round the World. By Captain James Cook, F. R. S. Addressed to Sir John Pringle, Bart. P. R. S.             \n",
       "9  Errata                                                                                                                                                                                                                        \n",
       "10 An Account of the Success of Some Attempts to Freeze Quicksilver, at Albany Fort, in Hudson's Bay, in the Year 1775: With Observations on the Dipping-Needle. By Thomas Hutchins, Esquire, in a Letter to Dr. Maty, Sec. R. S."
      ]
     },
     "metadata": {},
     "output_type": "display_data"
    }
   ],
   "source": [
    "doc_topics %>% select(article_id, V2) %>%\n",
    "    arrange(-V2) %>%\n",
    "    head(10) %>%\n",
    "    inner_join(art_sample) %>%\n",
    "    select(article_id, V2, title) %>% arrange(-V2)"
   ]
  },
  {
   "cell_type": "code",
   "execution_count": 40,
   "metadata": {},
   "outputs": [
    {
     "data": {},
     "metadata": {},
     "output_type": "display_data"
    },
    {
     "data": {
      "image/png": "[encoded data removed]",
      "text/plain": [
       "plot without title"
      ]
     },
     "metadata": {},
     "output_type": "display_data"
    }
   ],
   "source": [
    "ggplot(doc_topics) +\n",
    "    aes(x=V1, y=V2) +\n",
    "    geom_point() +\n",
    "    xlab(\"planet\") +\n",
    "    ylab(\"weather\")"
   ]
  },
  {
   "cell_type": "code",
   "execution_count": null,
   "metadata": {
    "collapsed": true
   },
   "outputs": [],
   "source": []
  }
 ],
 "metadata": {
  "kernelspec": {
   "display_name": "R",
   "language": "R",
   "name": "ir"
  },
  "language_info": {
   "codemirror_mode": "r",
   "file_extension": ".r",
   "mimetype": "text/x-r-source",
   "name": "R",
   "pygments_lexer": "r",
   "version": "3.4.1"
  }
 },
 "nbformat": 4,
 "nbformat_minor": 2
}

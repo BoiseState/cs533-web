{
 "cells": [
  {
   "cell_type": "markdown",
   "metadata": {},
   "source": [
    "# Variable Types and Continuous Probability\n",
    "\n",
    "In the previous lesson, we looked at _discrete_, and particularly _categorical_, probablity distributions.  In this lesson, we're going to talk about more types of variables, and continuous probability distributions.\n",
    "\n",
    "Let's grab that NYC data again."
   ]
  },
  {
   "cell_type": "code",
   "execution_count": 1,
   "metadata": {},
   "outputs": [
    {
     "name": "stderr",
     "output_type": "stream",
     "text": [
      "Loading tidyverse: ggplot2\n",
      "Loading tidyverse: tibble\n",
      "Loading tidyverse: tidyr\n",
      "Loading tidyverse: readr\n",
      "Loading tidyverse: purrr\n",
      "Loading tidyverse: dplyr\n",
      "Conflicts with tidy packages ---------------------------------------------------\n",
      "filter(): dplyr, stats\n",
      "lag():    dplyr, stats\n"
     ]
    }
   ],
   "source": [
    "library(tidyverse)\n",
    "library(nycflights13)"
   ]
  },
  {
   "cell_type": "code",
   "execution_count": 2,
   "metadata": {
    "collapsed": true
   },
   "outputs": [],
   "source": [
    "options(repr.matrix.max.rows=20, repr.plot.height=4.5)"
   ]
  },
  {
   "cell_type": "markdown",
   "metadata": {},
   "source": [
    "## Types of Variables\n",
    "\n",
    "We can categorize random variables (or observations, or parameters) into four types:\n",
    "\n",
    "1. **Categorical** variables take on distinct values with no relationship between different values.  Origin airport and airline from the previous example are both categorical variables.\n",
    "2. **Ordinal** variables take on distinct, _ordered_ values.  For example, if we describe rain intensity as ‘none’, ‘light’, ‘moderate’, and ‘heavy’, that is ordinal: the values are distinct, but are ordered in increasing amounts of rainfall.  Likert-style survey responses (‘disagree’, ‘agree’, ‘strongly agree’) are a common kind of ordinal data.\n",
    "3. **Cardinal** variables take on distinct ordered values that support basic math (particularly subtraction).  The most common example is integers, commonly expressing counts: if we count the number of airplanes, we can compare two counts by subtracting them; we can't, however, say anything numeric about the difference between ‘moderate’ and ‘light’ rainfall.\n",
    "4. **Continuous** variables have values that are real numbers - there are infinitely many possible values, even if the range is limited, and for any two different values observed, it would be possible to have a value between them; further, they support all of our usual mathematical operations.  But thinking of these as real numbers is the right thing to do.  Non-count measurements are typically continuous.\n",
    "\n",
    "Types 1–3 are all types of **discrete** values: they take on distinct values.  Type 4 is just **continuous**."
   ]
  },
  {
   "cell_type": "markdown",
   "metadata": {},
   "source": [
    "## Continuous Variables\n",
    "\n",
    "In the previous demo, we counted up the number of flights by a particular airline, or from a particular airport, to estimate probabilities.\n",
    "\n",
    "The NYC data also includes weather for each of the airports.  Let's look at that data:"
   ]
  },
  {
   "cell_type": "code",
   "execution_count": 3,
   "metadata": {},
   "outputs": [
    {
     "data": {
      "text/html": [
       "<table>\n",
       "<thead><tr><th scope=col>origin</th><th scope=col>year</th><th scope=col>month</th><th scope=col>day</th><th scope=col>hour</th><th scope=col>temp</th><th scope=col>dewp</th><th scope=col>humid</th><th scope=col>wind_dir</th><th scope=col>wind_speed</th><th scope=col>wind_gust</th><th scope=col>precip</th><th scope=col>pressure</th><th scope=col>visib</th><th scope=col>time_hour</th></tr></thead>\n",
       "<tbody>\n",
       "\t<tr><td>EWR                </td><td>2013               </td><td>1                  </td><td>1                  </td><td>0                  </td><td>37.04              </td><td>21.92              </td><td>53.97              </td><td>230                </td><td>10.35702           </td><td>11.91865           </td><td>0                  </td><td>1013.9             </td><td>10                 </td><td>2013-01-01 01:00:00</td></tr>\n",
       "\t<tr><td>EWR                </td><td>2013               </td><td>1                  </td><td>1                  </td><td>1                  </td><td>37.04              </td><td>21.92              </td><td>53.97              </td><td>230                </td><td>13.80936           </td><td>15.89154           </td><td>0                  </td><td>1013.0             </td><td>10                 </td><td>2013-01-01 02:00:00</td></tr>\n",
       "\t<tr><td>EWR                </td><td>2013               </td><td>1                  </td><td>1                  </td><td>2                  </td><td>37.94              </td><td>21.92              </td><td>52.09              </td><td>230                </td><td>12.65858           </td><td>14.56724           </td><td>0                  </td><td>1012.6             </td><td>10                 </td><td>2013-01-01 03:00:00</td></tr>\n",
       "\t<tr><td>EWR                </td><td>2013               </td><td>1                  </td><td>1                  </td><td>3                  </td><td>37.94              </td><td>23.00              </td><td>54.51              </td><td>230                </td><td>13.80936           </td><td>15.89154           </td><td>0                  </td><td>1012.7             </td><td>10                 </td><td>2013-01-01 04:00:00</td></tr>\n",
       "\t<tr><td>EWR                </td><td>2013               </td><td>1                  </td><td>1                  </td><td>4                  </td><td>37.94              </td><td>24.08              </td><td>57.04              </td><td>240                </td><td>14.96014           </td><td>17.21583           </td><td>0                  </td><td>1012.8             </td><td>10                 </td><td>2013-01-01 05:00:00</td></tr>\n",
       "\t<tr><td>EWR                </td><td>2013               </td><td>1                  </td><td>1                  </td><td>6                  </td><td>39.02              </td><td>26.06              </td><td>59.37              </td><td>270                </td><td>10.35702           </td><td>11.91865           </td><td>0                  </td><td>1012.0             </td><td>10                 </td><td>2013-01-01 07:00:00</td></tr>\n",
       "</tbody>\n",
       "</table>\n"
      ],
      "text/latex": [
       "\\begin{tabular}{r|lllllllllllllll}\n",
       " origin & year & month & day & hour & temp & dewp & humid & wind\\_dir & wind\\_speed & wind\\_gust & precip & pressure & visib & time\\_hour\\\\\n",
       "\\hline\n",
       "\t EWR                 & 2013                & 1                   & 1                   & 0                   & 37.04               & 21.92               & 53.97               & 230                 & 10.35702            & 11.91865            & 0                   & 1013.9              & 10                  & 2013-01-01 01:00:00\\\\\n",
       "\t EWR                 & 2013                & 1                   & 1                   & 1                   & 37.04               & 21.92               & 53.97               & 230                 & 13.80936            & 15.89154            & 0                   & 1013.0              & 10                  & 2013-01-01 02:00:00\\\\\n",
       "\t EWR                 & 2013                & 1                   & 1                   & 2                   & 37.94               & 21.92               & 52.09               & 230                 & 12.65858            & 14.56724            & 0                   & 1012.6              & 10                  & 2013-01-01 03:00:00\\\\\n",
       "\t EWR                 & 2013                & 1                   & 1                   & 3                   & 37.94               & 23.00               & 54.51               & 230                 & 13.80936            & 15.89154            & 0                   & 1012.7              & 10                  & 2013-01-01 04:00:00\\\\\n",
       "\t EWR                 & 2013                & 1                   & 1                   & 4                   & 37.94               & 24.08               & 57.04               & 240                 & 14.96014            & 17.21583            & 0                   & 1012.8              & 10                  & 2013-01-01 05:00:00\\\\\n",
       "\t EWR                 & 2013                & 1                   & 1                   & 6                   & 39.02               & 26.06               & 59.37               & 270                 & 10.35702            & 11.91865            & 0                   & 1012.0              & 10                  & 2013-01-01 07:00:00\\\\\n",
       "\\end{tabular}\n"
      ],
      "text/markdown": [
       "\n",
       "origin | year | month | day | hour | temp | dewp | humid | wind_dir | wind_speed | wind_gust | precip | pressure | visib | time_hour | \n",
       "|---|---|---|---|---|---|\n",
       "| EWR                 | 2013                | 1                   | 1                   | 0                   | 37.04               | 21.92               | 53.97               | 230                 | 10.35702            | 11.91865            | 0                   | 1013.9              | 10                  | 2013-01-01 01:00:00 | \n",
       "| EWR                 | 2013                | 1                   | 1                   | 1                   | 37.04               | 21.92               | 53.97               | 230                 | 13.80936            | 15.89154            | 0                   | 1013.0              | 10                  | 2013-01-01 02:00:00 | \n",
       "| EWR                 | 2013                | 1                   | 1                   | 2                   | 37.94               | 21.92               | 52.09               | 230                 | 12.65858            | 14.56724            | 0                   | 1012.6              | 10                  | 2013-01-01 03:00:00 | \n",
       "| EWR                 | 2013                | 1                   | 1                   | 3                   | 37.94               | 23.00               | 54.51               | 230                 | 13.80936            | 15.89154            | 0                   | 1012.7              | 10                  | 2013-01-01 04:00:00 | \n",
       "| EWR                 | 2013                | 1                   | 1                   | 4                   | 37.94               | 24.08               | 57.04               | 240                 | 14.96014            | 17.21583            | 0                   | 1012.8              | 10                  | 2013-01-01 05:00:00 | \n",
       "| EWR                 | 2013                | 1                   | 1                   | 6                   | 39.02               | 26.06               | 59.37               | 270                 | 10.35702            | 11.91865            | 0                   | 1012.0              | 10                  | 2013-01-01 07:00:00 | \n",
       "\n",
       "\n"
      ],
      "text/plain": [
       "  origin year month day hour temp  dewp  humid wind_dir wind_speed wind_gust\n",
       "1 EWR    2013 1     1   0    37.04 21.92 53.97 230      10.35702   11.91865 \n",
       "2 EWR    2013 1     1   1    37.04 21.92 53.97 230      13.80936   15.89154 \n",
       "3 EWR    2013 1     1   2    37.94 21.92 52.09 230      12.65858   14.56724 \n",
       "4 EWR    2013 1     1   3    37.94 23.00 54.51 230      13.80936   15.89154 \n",
       "5 EWR    2013 1     1   4    37.94 24.08 57.04 240      14.96014   17.21583 \n",
       "6 EWR    2013 1     1   6    39.02 26.06 59.37 270      10.35702   11.91865 \n",
       "  precip pressure visib time_hour          \n",
       "1 0      1013.9   10    2013-01-01 01:00:00\n",
       "2 0      1013.0   10    2013-01-01 02:00:00\n",
       "3 0      1012.6   10    2013-01-01 03:00:00\n",
       "4 0      1012.7   10    2013-01-01 04:00:00\n",
       "5 0      1012.8   10    2013-01-01 05:00:00\n",
       "6 0      1012.0   10    2013-01-01 07:00:00"
      ]
     },
     "metadata": {},
     "output_type": "display_data"
    }
   ],
   "source": [
    "head(weather)"
   ]
  },
  {
   "cell_type": "markdown",
   "metadata": {},
   "source": [
    "Dealing with weather by the hour seems a little obnoxious; let's bin it by day."
   ]
  },
  {
   "cell_type": "code",
   "execution_count": 4,
   "metadata": {},
   "outputs": [
    {
     "data": {
      "text/html": [
       "<table>\n",
       "<thead><tr><th scope=col>origin</th><th scope=col>year</th><th scope=col>month</th><th scope=col>day</th><th scope=col>avg_temp</th><th scope=col>max_temp</th><th scope=col>min_temp</th><th scope=col>avg_wind</th><th scope=col>max_wind</th><th scope=col>precip</th></tr></thead>\n",
       "<tbody>\n",
       "\t<tr><td>EWR      </td><td>2013     </td><td>1        </td><td>1        </td><td>38.4800  </td><td>41.00    </td><td>33.98    </td><td>12.758648</td><td>18.54012 </td><td>0        </td></tr>\n",
       "\t<tr><td>EWR      </td><td>2013     </td><td>1        </td><td>2        </td><td>28.8350  </td><td>33.98    </td><td>24.08    </td><td>12.514732</td><td>21.18871 </td><td>0        </td></tr>\n",
       "\t<tr><td>EWR      </td><td>2013     </td><td>1        </td><td>3        </td><td>29.4575  </td><td>33.98    </td><td>26.06    </td><td> 7.863663</td><td>13.24295 </td><td>0        </td></tr>\n",
       "\t<tr><td>EWR      </td><td>2013     </td><td>1        </td><td>4        </td><td>33.4775  </td><td>39.92    </td><td>28.94    </td><td>13.857309</td><td>27.81019 </td><td>0        </td></tr>\n",
       "\t<tr><td>EWR      </td><td>2013     </td><td>1        </td><td>5        </td><td>36.7325  </td><td>44.06    </td><td>32.00    </td><td>10.836512</td><td>21.18871 </td><td>0        </td></tr>\n",
       "\t<tr><td>EWR      </td><td>2013     </td><td>1        </td><td>6        </td><td>37.9700  </td><td>48.02    </td><td>32.00    </td><td> 8.007511</td><td>17.21583 </td><td>0        </td></tr>\n",
       "</tbody>\n",
       "</table>\n"
      ],
      "text/latex": [
       "\\begin{tabular}{r|llllllllll}\n",
       " origin & year & month & day & avg\\_temp & max\\_temp & min\\_temp & avg\\_wind & max\\_wind & precip\\\\\n",
       "\\hline\n",
       "\t EWR       & 2013      & 1         & 1         & 38.4800   & 41.00     & 33.98     & 12.758648 & 18.54012  & 0        \\\\\n",
       "\t EWR       & 2013      & 1         & 2         & 28.8350   & 33.98     & 24.08     & 12.514732 & 21.18871  & 0        \\\\\n",
       "\t EWR       & 2013      & 1         & 3         & 29.4575   & 33.98     & 26.06     &  7.863663 & 13.24295  & 0        \\\\\n",
       "\t EWR       & 2013      & 1         & 4         & 33.4775   & 39.92     & 28.94     & 13.857309 & 27.81019  & 0        \\\\\n",
       "\t EWR       & 2013      & 1         & 5         & 36.7325   & 44.06     & 32.00     & 10.836512 & 21.18871  & 0        \\\\\n",
       "\t EWR       & 2013      & 1         & 6         & 37.9700   & 48.02     & 32.00     &  8.007511 & 17.21583  & 0        \\\\\n",
       "\\end{tabular}\n"
      ],
      "text/markdown": [
       "\n",
       "origin | year | month | day | avg_temp | max_temp | min_temp | avg_wind | max_wind | precip | \n",
       "|---|---|---|---|---|---|\n",
       "| EWR       | 2013      | 1         | 1         | 38.4800   | 41.00     | 33.98     | 12.758648 | 18.54012  | 0         | \n",
       "| EWR       | 2013      | 1         | 2         | 28.8350   | 33.98     | 24.08     | 12.514732 | 21.18871  | 0         | \n",
       "| EWR       | 2013      | 1         | 3         | 29.4575   | 33.98     | 26.06     |  7.863663 | 13.24295  | 0         | \n",
       "| EWR       | 2013      | 1         | 4         | 33.4775   | 39.92     | 28.94     | 13.857309 | 27.81019  | 0         | \n",
       "| EWR       | 2013      | 1         | 5         | 36.7325   | 44.06     | 32.00     | 10.836512 | 21.18871  | 0         | \n",
       "| EWR       | 2013      | 1         | 6         | 37.9700   | 48.02     | 32.00     |  8.007511 | 17.21583  | 0         | \n",
       "\n",
       "\n"
      ],
      "text/plain": [
       "  origin year month day avg_temp max_temp min_temp avg_wind  max_wind precip\n",
       "1 EWR    2013 1     1   38.4800  41.00    33.98    12.758648 18.54012 0     \n",
       "2 EWR    2013 1     2   28.8350  33.98    24.08    12.514732 21.18871 0     \n",
       "3 EWR    2013 1     3   29.4575  33.98    26.06     7.863663 13.24295 0     \n",
       "4 EWR    2013 1     4   33.4775  39.92    28.94    13.857309 27.81019 0     \n",
       "5 EWR    2013 1     5   36.7325  44.06    32.00    10.836512 21.18871 0     \n",
       "6 EWR    2013 1     6   37.9700  48.02    32.00     8.007511 17.21583 0     "
      ]
     },
     "metadata": {},
     "output_type": "display_data"
    }
   ],
   "source": [
    "day_weather = weather %>%\n",
    "    group_by(origin, year, month, day) %>%\n",
    "    summarize(avg_temp=mean(temp, na.rm=TRUE), max_temp=max(temp), min_temp=min(temp),\n",
    "              avg_wind=mean(wind_speed), max_wind=max(wind_gust),\n",
    "              precip=sum(precip))\n",
    "head(day_weather)"
   ]
  },
  {
   "cell_type": "markdown",
   "metadata": {},
   "source": [
    "Let's try to count up average temperatures:"
   ]
  },
  {
   "cell_type": "code",
   "execution_count": 5,
   "metadata": {},
   "outputs": [
    {
     "data": {
      "text/html": [
       "<table>\n",
       "<thead><tr><th scope=col>avg_temp</th><th scope=col>ndays</th><th scope=col>prob</th></tr></thead>\n",
       "<tbody>\n",
       "\t<tr><td>15.49250   </td><td>1          </td><td>0.002747253</td></tr>\n",
       "\t<tr><td>17.67500   </td><td>1          </td><td>0.002747253</td></tr>\n",
       "\t<tr><td>17.84750   </td><td>1          </td><td>0.002747253</td></tr>\n",
       "\t<tr><td>20.11250   </td><td>1          </td><td>0.002747253</td></tr>\n",
       "\t<tr><td>23.27000   </td><td>1          </td><td>0.002747253</td></tr>\n",
       "\t<tr><td>24.62750   </td><td>1          </td><td>0.002747253</td></tr>\n",
       "\t<tr><td>25.07750   </td><td>1          </td><td>0.002747253</td></tr>\n",
       "\t<tr><td>25.14435   </td><td>1          </td><td>0.002747253</td></tr>\n",
       "\t<tr><td>25.42250   </td><td>1          </td><td>0.002747253</td></tr>\n",
       "\t<tr><td>25.46750   </td><td>1          </td><td>0.002747253</td></tr>\n",
       "\t<tr><td>...</td><td>...</td><td>...</td></tr>\n",
       "\t<tr><td>83.5550    </td><td>1          </td><td>0.002747253</td></tr>\n",
       "\t<tr><td>83.9450    </td><td>1          </td><td>0.002747253</td></tr>\n",
       "\t<tr><td>84.2675    </td><td>1          </td><td>0.002747253</td></tr>\n",
       "\t<tr><td>86.3300    </td><td>1          </td><td>0.002747253</td></tr>\n",
       "\t<tr><td>86.9900    </td><td>1          </td><td>0.002747253</td></tr>\n",
       "\t<tr><td>87.3725    </td><td>1          </td><td>0.002747253</td></tr>\n",
       "\t<tr><td>87.5525    </td><td>1          </td><td>0.002747253</td></tr>\n",
       "\t<tr><td>87.5825    </td><td>2          </td><td>0.005494505</td></tr>\n",
       "\t<tr><td>89.5175    </td><td>1          </td><td>0.002747253</td></tr>\n",
       "\t<tr><td>91.1675    </td><td>1          </td><td>0.002747253</td></tr>\n",
       "</tbody>\n",
       "</table>\n"
      ],
      "text/latex": [
       "\\begin{tabular}{r|lll}\n",
       " avg\\_temp & ndays & prob\\\\\n",
       "\\hline\n",
       "\t 15.49250    & 1           & 0.002747253\\\\\n",
       "\t 17.67500    & 1           & 0.002747253\\\\\n",
       "\t 17.84750    & 1           & 0.002747253\\\\\n",
       "\t 20.11250    & 1           & 0.002747253\\\\\n",
       "\t 23.27000    & 1           & 0.002747253\\\\\n",
       "\t 24.62750    & 1           & 0.002747253\\\\\n",
       "\t 25.07750    & 1           & 0.002747253\\\\\n",
       "\t 25.14435    & 1           & 0.002747253\\\\\n",
       "\t 25.42250    & 1           & 0.002747253\\\\\n",
       "\t 25.46750    & 1           & 0.002747253\\\\\n",
       "\t ... & ... & ...\\\\\n",
       "\t 83.5550     & 1           & 0.002747253\\\\\n",
       "\t 83.9450     & 1           & 0.002747253\\\\\n",
       "\t 84.2675     & 1           & 0.002747253\\\\\n",
       "\t 86.3300     & 1           & 0.002747253\\\\\n",
       "\t 86.9900     & 1           & 0.002747253\\\\\n",
       "\t 87.3725     & 1           & 0.002747253\\\\\n",
       "\t 87.5525     & 1           & 0.002747253\\\\\n",
       "\t 87.5825     & 2           & 0.005494505\\\\\n",
       "\t 89.5175     & 1           & 0.002747253\\\\\n",
       "\t 91.1675     & 1           & 0.002747253\\\\\n",
       "\\end{tabular}\n"
      ],
      "text/markdown": [
       "\n",
       "avg_temp | ndays | prob | \n",
       "|---|---|---|---|---|---|---|---|---|---|---|---|---|---|---|---|---|---|---|---|---|\n",
       "| 15.49250    | 1           | 0.002747253 | \n",
       "| 17.67500    | 1           | 0.002747253 | \n",
       "| 17.84750    | 1           | 0.002747253 | \n",
       "| 20.11250    | 1           | 0.002747253 | \n",
       "| 23.27000    | 1           | 0.002747253 | \n",
       "| 24.62750    | 1           | 0.002747253 | \n",
       "| 25.07750    | 1           | 0.002747253 | \n",
       "| 25.14435    | 1           | 0.002747253 | \n",
       "| 25.42250    | 1           | 0.002747253 | \n",
       "| 25.46750    | 1           | 0.002747253 | \n",
       "| ... | ... | ... | \n",
       "| 83.5550     | 1           | 0.002747253 | \n",
       "| 83.9450     | 1           | 0.002747253 | \n",
       "| 84.2675     | 1           | 0.002747253 | \n",
       "| 86.3300     | 1           | 0.002747253 | \n",
       "| 86.9900     | 1           | 0.002747253 | \n",
       "| 87.3725     | 1           | 0.002747253 | \n",
       "| 87.5525     | 1           | 0.002747253 | \n",
       "| 87.5825     | 2           | 0.005494505 | \n",
       "| 89.5175     | 1           | 0.002747253 | \n",
       "| 91.1675     | 1           | 0.002747253 | \n",
       "\n",
       "\n"
      ],
      "text/plain": [
       "    avg_temp ndays prob       \n",
       "1   15.49250 1     0.002747253\n",
       "2   17.67500 1     0.002747253\n",
       "3   17.84750 1     0.002747253\n",
       "4   20.11250 1     0.002747253\n",
       "5   23.27000 1     0.002747253\n",
       "6   24.62750 1     0.002747253\n",
       "7   25.07750 1     0.002747253\n",
       "8   25.14435 1     0.002747253\n",
       "9   25.42250 1     0.002747253\n",
       "10  25.46750 1     0.002747253\n",
       "... ...      ...   ...        \n",
       "341 83.5550  1     0.002747253\n",
       "342 83.9450  1     0.002747253\n",
       "343 84.2675  1     0.002747253\n",
       "344 86.3300  1     0.002747253\n",
       "345 86.9900  1     0.002747253\n",
       "346 87.3725  1     0.002747253\n",
       "347 87.5525  1     0.002747253\n",
       "348 87.5825  2     0.005494505\n",
       "349 89.5175  1     0.002747253\n",
       "350 91.1675  1     0.002747253"
      ]
     },
     "metadata": {},
     "output_type": "display_data"
    }
   ],
   "source": [
    "avg_temps = day_weather %>%\n",
    "    filter(origin == 'EWR') %>%\n",
    "    group_by(avg_temp) %>%\n",
    "    summarize(ndays=n()) %>%\n",
    "    ungroup() %>%\n",
    "    mutate(prob=ndays / sum(ndays))\n",
    "avg_temps"
   ]
  },
  {
   "cell_type": "markdown",
   "metadata": {},
   "source": [
    "Individual temperatures are not very common!   Further, what if we want the probability that it will be 82 degrees?"
   ]
  },
  {
   "cell_type": "code",
   "execution_count": 6,
   "metadata": {},
   "outputs": [
    {
     "data": {
      "text/html": [
       "<table>\n",
       "<thead><tr><th scope=col>avg_temp</th><th scope=col>ndays</th><th scope=col>prob</th></tr></thead>\n",
       "<tbody>\n",
       "</tbody>\n",
       "</table>\n"
      ],
      "text/latex": [
       "\\begin{tabular}{r|lll}\n",
       " avg\\_temp & ndays & prob\\\\\n",
       "\\hline\n",
       "\\end{tabular}\n"
      ],
      "text/markdown": [
       "\n",
       "avg_temp | ndays | prob | \n",
       "||\n",
       "\n",
       "\n"
      ],
      "text/plain": [
       "     avg_temp ndays prob"
      ]
     },
     "metadata": {},
     "output_type": "display_data"
    }
   ],
   "source": [
    "avg_temps %>% filter(avg_temp == 82)"
   ]
  },
  {
   "cell_type": "markdown",
   "metadata": {},
   "source": [
    "No entries!  But what if we plot the distribution of average temps?"
   ]
  },
  {
   "cell_type": "code",
   "execution_count": 7,
   "metadata": {},
   "outputs": [
    {
     "name": "stderr",
     "output_type": "stream",
     "text": [
      "`stat_bin()` using `bins = 30`. Pick better value with `binwidth`.\n"
     ]
    },
    {
     "data": {},
     "metadata": {},
     "output_type": "display_data"
    },
    {
     "data": {
      "image/png": "[encoded data removed]",
      "text/plain": [
       "plot without title"
      ]
     },
     "metadata": {},
     "output_type": "display_data"
    }
   ],
   "source": [
    "ggplot(day_weather %>% filter(origin == 'EWR')) +\n",
    "    aes(x=avg_temp) +\n",
    "    geom_histogram()"
   ]
  },
  {
   "cell_type": "markdown",
   "metadata": {},
   "source": [
    "Based on this we'd expect 82 to happen sometimes!\n",
    "\n",
    "It turns out that, when we have a continuous variable, it isn't meaningful to ask about the probability of it taking on a particular value.  If we think about the infinite possibilities, we can see why: even with a limited variable, such as one that only takes on values in the range $[0,1]$, there are infinitely many different values!  Since the whole probability distribution must sum to 1, each individual value's probability must be infinitely close to 0.\n",
    "\n",
    "This… does not sound useful.  But it turns out there is a different, related question we can ask.  We _can_ count how many observations have values less than or equal to a particular value!  And we can ask how likely it is to see a value less than or equal to a particular value."
   ]
  },
  {
   "cell_type": "code",
   "execution_count": 8,
   "metadata": {},
   "outputs": [
    {
     "data": {
      "text/html": [
       "0.416666666666667"
      ],
      "text/latex": [
       "0.416666666666667"
      ],
      "text/markdown": [
       "0.416666666666667"
      ],
      "text/plain": [
       "[1] 0.4166667"
      ]
     },
     "metadata": {},
     "output_type": "display_data"
    }
   ],
   "source": [
    "mean(day_weather$avg_temp <= 50)"
   ]
  },
  {
   "cell_type": "code",
   "execution_count": 9,
   "metadata": {},
   "outputs": [
    {
     "data": {
      "text/html": [
       "0.958791208791209"
      ],
      "text/latex": [
       "0.958791208791209"
      ],
      "text/markdown": [
       "0.958791208791209"
      ],
      "text/plain": [
       "[1] 0.9587912"
      ]
     },
     "metadata": {},
     "output_type": "display_data"
    }
   ],
   "source": [
    "mean(day_weather$avg_temp <= 82)"
   ]
  },
  {
   "cell_type": "markdown",
   "metadata": {},
   "source": [
    "This is called the **cumulative** probability.  We can also ask about the probability of seeing a value in a particular range by subtracting: $P(a < X \\le b)$ = $P(X \\le b) - P(X < a)$"
   ]
  },
  {
   "cell_type": "code",
   "execution_count": 10,
   "metadata": {},
   "outputs": [
    {
     "data": {
      "text/html": [
       "0.0119047619047619"
      ],
      "text/latex": [
       "0.0119047619047619"
      ],
      "text/markdown": [
       "0.0119047619047619"
      ],
      "text/plain": [
       "[1] 0.01190476"
      ]
     },
     "metadata": {},
     "output_type": "display_data"
    }
   ],
   "source": [
    "mean(day_weather$avg_temp <= 82.5) - mean(day_weather$avg_temp <= 81.5)"
   ]
  },
  {
   "cell_type": "markdown",
   "metadata": {},
   "source": [
    "There is a 1.2% chance of a day having an average temperature within 0.5 of 82. Cool!"
   ]
  },
  {
   "cell_type": "markdown",
   "metadata": {},
   "source": [
    "## Distributions\n",
    "\n",
    "Counting things up turns out to not be a very friendly way of thinking about continuous probability distributions.  Instead, there are a bunch of standard probability distributions defined with mathematical functions.\n",
    "\n",
    "One of these is particularly common and important: the _normal_ or _Gaussian_ distribution.  Let's see its CDF:"
   ]
  },
  {
   "cell_type": "code",
   "execution_count": 11,
   "metadata": {},
   "outputs": [
    {
     "data": {},
     "metadata": {},
     "output_type": "display_data"
    },
    {
     "data": {
      "image/png": "[encoded data removed]",
      "text/plain": [
       "plot without title"
      ]
     },
     "metadata": {},
     "output_type": "display_data"
    }
   ],
   "source": [
    "ggplot(data.frame(x=seq(-4, 4, 0.01)) %>% mutate(p=pnorm(x))) +\n",
    "    aes(x=x, y=p) +\n",
    "    geom_line()"
   ]
  },
  {
   "cell_type": "markdown",
   "metadata": {},
   "source": [
    "We describe the cumulative probability with a _cumulative distribution function_, or CDF.  For a CDF $F$ for a random variable $X$, $F(x) = P(X \\le x)$.  R supports many probability distributions, and the `p` function like `pnorm` is the cumulative distribution for that distribution.  The CDF of the ‘standard normal’ distribution is\n",
    "\n",
    "$$F_{\\mathrm{norm}}(x) = \\frac{1}{\\sqrt{2\\pi}} \\int_{-\\infty}^{x} e^{-\\frac{t^2}{2}} dt$$\n",
    "\n",
    "A CDF is monotonic — if $x > y$, then $F(x) \\ge F(y)$ — and has a minimum of 0 and a maximum of 1.\n",
    "\n",
    "Cumulative distribution is not the only way we can think of probabilities, though.  This distribution may be more familiar if we look at it like this:"
   ]
  },
  {
   "cell_type": "code",
   "execution_count": 12,
   "metadata": {},
   "outputs": [
    {
     "data": {},
     "metadata": {},
     "output_type": "display_data"
    },
    {
     "data": {
      "image/png": "[encoded data removed]",
      "text/plain": [
       "plot without title"
      ]
     },
     "metadata": {},
     "output_type": "display_data"
    }
   ],
   "source": [
    "ggplot(data.frame(x=seq(-4, 4, 0.01)) %>% mutate(p=dnorm(x))) +\n",
    "    aes(x=x, y=p) +\n",
    "    geom_line()"
   ]
  },
  {
   "cell_type": "markdown",
   "metadata": {},
   "source": [
    "This is the _probability density function_ (PDF), and it corresponds to the probability distributions we saw in the discrete case.  However, it is important to note that probability densities are **not** probabilities!  CDF values are probabilities, but PDF values are not - they are the density of the probability in a small region surrounding the value.\n",
    "\n",
    "For a continuous probability distribution, the cumulative function $F$ and density function $D$ have the following relationship:\n",
    "\n",
    "$$\\begin{align*}\n",
    "D(x) = \\frac{d}{dx} F(x) \\\\\n",
    "F(x) = \\int_{-\\infty}^{x} D(t) dt\n",
    "\\end{align*}$$\n",
    "\n",
    "That is, the probability density is the derivative of the cumulative distribution function.  $D(x)$ indicates how much of the probability gets added at $x$, roughly.  But it is meaningless to ask about $P(X=x)$, as we discussed above, and the probability density can be quite large (greater than 1, even!).  The probability density does, however, integrate to 1.\n",
    "\n",
    "Many natural phenomena follow normal distributions.  Unfortunately, our weather doesn't quite.  But we can try - let's look at some general statsitics of the weather data:"
   ]
  },
  {
   "cell_type": "code",
   "execution_count": 13,
   "metadata": {},
   "outputs": [
    {
     "data": {
      "text/html": [
       "55.1990360126144"
      ],
      "text/latex": [
       "55.1990360126144"
      ],
      "text/markdown": [
       "55.1990360126144"
      ],
      "text/plain": [
       "[1] 55.19904"
      ]
     },
     "metadata": {},
     "output_type": "display_data"
    },
    {
     "data": {
      "text/html": [
       "17.1580665383117"
      ],
      "text/latex": [
       "17.1580665383117"
      ],
      "text/markdown": [
       "17.1580665383117"
      ],
      "text/plain": [
       "[1] 17.15807"
      ]
     },
     "metadata": {},
     "output_type": "display_data"
    }
   ],
   "source": [
    "mean(day_weather$avg_temp)\n",
    "sd(day_weather$avg_temp)"
   ]
  },
  {
   "cell_type": "markdown",
   "metadata": {},
   "source": [
    "These are the mean and _standard deviation_ — a measure of how diffuse the values are — of the data.  In its general form, the normal distribution is parameterized by mean and standard distribution, and we can use that to overlay a normal distribution on top of the data:"
   ]
  },
  {
   "cell_type": "code",
   "execution_count": 14,
   "metadata": {},
   "outputs": [
    {
     "name": "stderr",
     "output_type": "stream",
     "text": [
      "`stat_bin()` using `bins = 30`. Pick better value with `binwidth`.\n"
     ]
    },
    {
     "data": {},
     "metadata": {},
     "output_type": "display_data"
    },
    {
     "data": {
      "image/png": "[encoded data removed]",
      "text/plain": [
       "plot without title"
      ]
     },
     "metadata": {},
     "output_type": "display_data"
    }
   ],
   "source": [
    "ggplot(day_weather %>% filter(origin == 'EWR')) +\n",
    "    aes(x=avg_temp) +\n",
    "    geom_histogram(mapping=aes(y=..density..)) +\n",
    "    geom_line(mapping=aes(y=dnorm(avg_temp, 55.199, 17.158)), color=\"green\")"
   ]
  },
  {
   "cell_type": "markdown",
   "metadata": {},
   "source": [
    "Not a great fit, but not abjectly awful.  Many natural processes will follow a normal distribution more or less well."
   ]
  },
  {
   "cell_type": "markdown",
   "metadata": {},
   "source": [
    "## R Distribution Functions"
   ]
  },
  {
   "cell_type": "markdown",
   "metadata": {},
   "source": [
    "Each probability distribution in R has 4 functions:\n",
    "\n",
    "- `p`, the cumulative distribution function (`p` is for _probability_)\n",
    "- `d`, the density function\n",
    "- `q`, the _quantile_ function. This takes a probability and returns the value $x$ such that $F(x) = p$.\n",
    "- `r`, the function to draw random values\n",
    "\n",
    "So, for the normal distribution, we have already seen `p` and `d`; with `q`, we can ask for the value at the 75% point:"
   ]
  },
  {
   "cell_type": "code",
   "execution_count": 15,
   "metadata": {},
   "outputs": [
    {
     "data": {
      "text/html": [
       "0.674489750196082"
      ],
      "text/latex": [
       "0.674489750196082"
      ],
      "text/markdown": [
       "0.674489750196082"
      ],
      "text/plain": [
       "[1] 0.6744898"
      ]
     },
     "metadata": {},
     "output_type": "display_data"
    }
   ],
   "source": [
    "qnorm(0.75, 0, 1)"
   ]
  },
  {
   "cell_type": "markdown",
   "metadata": {},
   "source": [
    "If we have a _standard normal_ variable (its mean is 0 and its standard deviation is 1), we expect 75% of its observed values to be less than or equal to 0.6745.\n",
    "\n",
    "We can also draw a number of values:"
   ]
  },
  {
   "cell_type": "code",
   "execution_count": 16,
   "metadata": {},
   "outputs": [
    {
     "data": {
      "text/html": [
       "<ol class=list-inline>\n",
       "\t<li>-0.193278278020237</li>\n",
       "\t<li>0.830826332927208</li>\n",
       "\t<li>0.23982529777609</li>\n",
       "\t<li>-0.787180493695293</li>\n",
       "\t<li>0.115179828829201</li>\n",
       "\t<li>0.665083208789069</li>\n",
       "\t<li>0.338558617705704</li>\n",
       "\t<li>1.47080674791769</li>\n",
       "\t<li>-2.2951772420096</li>\n",
       "\t<li>-1.14782251522738</li>\n",
       "</ol>\n"
      ],
      "text/latex": [
       "\\begin{enumerate*}\n",
       "\\item -0.193278278020237\n",
       "\\item 0.830826332927208\n",
       "\\item 0.23982529777609\n",
       "\\item -0.787180493695293\n",
       "\\item 0.115179828829201\n",
       "\\item 0.665083208789069\n",
       "\\item 0.338558617705704\n",
       "\\item 1.47080674791769\n",
       "\\item -2.2951772420096\n",
       "\\item -1.14782251522738\n",
       "\\end{enumerate*}\n"
      ],
      "text/markdown": [
       "1. -0.193278278020237\n",
       "2. 0.830826332927208\n",
       "3. 0.23982529777609\n",
       "4. -0.787180493695293\n",
       "5. 0.115179828829201\n",
       "6. 0.665083208789069\n",
       "7. 0.338558617705704\n",
       "8. 1.47080674791769\n",
       "9. -2.2951772420096\n",
       "10. -1.14782251522738\n",
       "\n",
       "\n"
      ],
      "text/plain": [
       " [1] -0.1932783  0.8308263  0.2398253 -0.7871805  0.1151798  0.6650832\n",
       " [7]  0.3385586  1.4708067 -2.2951772 -1.1478225"
      ]
     },
     "metadata": {},
     "output_type": "display_data"
    }
   ],
   "source": [
    "rnorm(10, 0, 1)"
   ]
  },
  {
   "cell_type": "markdown",
   "metadata": {},
   "source": [
    "We can use this to plot things!"
   ]
  },
  {
   "cell_type": "code",
   "execution_count": 17,
   "metadata": {},
   "outputs": [
    {
     "name": "stderr",
     "output_type": "stream",
     "text": [
      "`stat_bin()` using `bins = 30`. Pick better value with `binwidth`.\n"
     ]
    },
    {
     "data": {},
     "metadata": {},
     "output_type": "display_data"
    },
    {
     "data": {
      "image/png": "[encoded data removed]",
      "text/plain": [
       "plot without title"
      ]
     },
     "metadata": {},
     "output_type": "display_data"
    }
   ],
   "source": [
    "ggplot(data.frame(v=rnorm(1000, 0, 1))) +\n",
    "    aes(x=v) +\n",
    "    geom_histogram(mapping = aes(y=..density..)) +\n",
    "    geom_line(mapping=aes(y=dnorm(v, 0, 1)), color=\"green\")"
   ]
  },
  {
   "cell_type": "markdown",
   "metadata": {},
   "source": [
    "We can see that our random values are, in fact, distributed as more or less as we would expect."
   ]
  },
  {
   "cell_type": "markdown",
   "metadata": {},
   "source": [
    "## Exponential Distributions\n",
    "\n",
    "The _exponential_ distribution is one of several probability distributions over non-negative integers where most values are small, and values become more likely the larger they get. Here's one exponential CDF:"
   ]
  },
  {
   "cell_type": "code",
   "execution_count": 18,
   "metadata": {},
   "outputs": [
    {
     "data": {},
     "metadata": {},
     "output_type": "display_data"
    },
    {
     "data": {
      "image/png": "[encoded data removed]",
      "text/plain": [
       "plot without title"
      ]
     },
     "metadata": {},
     "output_type": "display_data"
    }
   ],
   "source": [
    "ggplot(data.frame(x=seq(0,10,0.01)) %>% mutate(p=pexp(x, 1))) +\n",
    "    aes(x=x, y=p) +\n",
    "    geom_line()"
   ]
  },
  {
   "cell_type": "markdown",
   "metadata": {},
   "source": [
    "And its PDF:"
   ]
  },
  {
   "cell_type": "code",
   "execution_count": 19,
   "metadata": {},
   "outputs": [
    {
     "data": {},
     "metadata": {},
     "output_type": "display_data"
    },
    {
     "data": {
      "image/png": "[encoded data removed]",
      "text/plain": [
       "plot without title"
      ]
     },
     "metadata": {},
     "output_type": "display_data"
    }
   ],
   "source": [
    "ggplot(data.frame(x=seq(0,10,0.01)) %>% mutate(d=dexp(x, 1))) +\n",
    "    aes(x=x, y=d) +\n",
    "    geom_line()"
   ]
  },
  {
   "cell_type": "code",
   "execution_count": null,
   "metadata": {
    "collapsed": true
   },
   "outputs": [],
   "source": []
  }
 ],
 "metadata": {
  "kernelspec": {
   "display_name": "R",
   "language": "R",
   "name": "ir"
  },
  "language_info": {
   "codemirror_mode": "r",
   "file_extension": ".r",
   "mimetype": "text/x-r-source",
   "name": "R",
   "pygments_lexer": "r",
   "version": "3.4.1"
  }
 },
 "nbformat": 4,
 "nbformat_minor": 2
}

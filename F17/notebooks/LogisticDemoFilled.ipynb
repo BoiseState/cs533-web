{
 "cells": [
  {
   "cell_type": "markdown",
   "metadata": {},
   "source": [
    "# Logistic Regression Demo"
   ]
  },
  {
   "cell_type": "markdown",
   "metadata": {},
   "source": [
    "## Init\n",
    "\n",
    "First, we load our libraries.  This makes use of the R `plotROC` package; it is available in Conda with\n",
    "\n",
    "    conda install -c mdekstrand r-plotroc"
   ]
  },
  {
   "cell_type": "code",
   "execution_count": 1,
   "metadata": {},
   "outputs": [
    {
     "name": "stderr",
     "output_type": "stream",
     "text": [
      "Loading tidyverse: ggplot2\n",
      "Loading tidyverse: tibble\n",
      "Loading tidyverse: tidyr\n",
      "Loading tidyverse: readr\n",
      "Loading tidyverse: purrr\n",
      "Loading tidyverse: dplyr\n",
      "Conflicts with tidy packages ---------------------------------------------------\n",
      "filter(): dplyr, stats\n",
      "lag():    dplyr, stats\n",
      "\n",
      "Attaching package: 'psych'\n",
      "\n",
      "The following object is masked from 'package:modelr':\n",
      "\n",
      "    heights\n",
      "\n",
      "The following objects are masked from 'package:ggplot2':\n",
      "\n",
      "    %+%, alpha\n",
      "\n"
     ]
    }
   ],
   "source": [
    "library(tidyverse)\n",
    "library(modelr)\n",
    "library(plotROC)\n",
    "library(psych)"
   ]
  },
  {
   "cell_type": "code",
   "execution_count": 2,
   "metadata": {
    "collapsed": true
   },
   "outputs": [],
   "source": [
    "options(repr.plot.height=4.5, repr.matrix.max.rows=10)"
   ]
  },
  {
   "cell_type": "markdown",
   "metadata": {},
   "source": [
    "And we want to load the data. Fun trick, `readr` can read URLs!"
   ]
  },
  {
   "cell_type": "code",
   "execution_count": 3,
   "metadata": {},
   "outputs": [
    {
     "name": "stderr",
     "output_type": "stream",
     "text": [
      "Parsed with column specification:\n",
      "cols(\n",
      "  admit = col_integer(),\n",
      "  gre = col_integer(),\n",
      "  gpa = col_double(),\n",
      "  rank = col_integer()\n",
      ")\n"
     ]
    },
    {
     "data": {
      "text/html": [
       "<table>\n",
       "<thead><tr><th scope=col>admit</th><th scope=col>gre</th><th scope=col>gpa</th><th scope=col>rank</th></tr></thead>\n",
       "<tbody>\n",
       "\t<tr><td>0   </td><td>380 </td><td>3.61</td><td>3   </td></tr>\n",
       "\t<tr><td>1   </td><td>660 </td><td>3.67</td><td>3   </td></tr>\n",
       "\t<tr><td>1   </td><td>800 </td><td>4.00</td><td>1   </td></tr>\n",
       "\t<tr><td>1   </td><td>640 </td><td>3.19</td><td>4   </td></tr>\n",
       "\t<tr><td>0   </td><td>520 </td><td>2.93</td><td>4   </td></tr>\n",
       "\t<tr><td>...</td><td>...</td><td>...</td><td>...</td></tr>\n",
       "\t<tr><td>0   </td><td>620 </td><td>4.00</td><td>2   </td></tr>\n",
       "\t<tr><td>0   </td><td>560 </td><td>3.04</td><td>3   </td></tr>\n",
       "\t<tr><td>0   </td><td>460 </td><td>2.63</td><td>2   </td></tr>\n",
       "\t<tr><td>0   </td><td>700 </td><td>3.65</td><td>2   </td></tr>\n",
       "\t<tr><td>0   </td><td>600 </td><td>3.89</td><td>3   </td></tr>\n",
       "</tbody>\n",
       "</table>\n"
      ],
      "text/latex": [
       "\\begin{tabular}{r|llll}\n",
       " admit & gre & gpa & rank\\\\\n",
       "\\hline\n",
       "\t 0    & 380  & 3.61 & 3   \\\\\n",
       "\t 1    & 660  & 3.67 & 3   \\\\\n",
       "\t 1    & 800  & 4.00 & 1   \\\\\n",
       "\t 1    & 640  & 3.19 & 4   \\\\\n",
       "\t 0    & 520  & 2.93 & 4   \\\\\n",
       "\t ... & ... & ... & ...\\\\\n",
       "\t 0    & 620  & 4.00 & 2   \\\\\n",
       "\t 0    & 560  & 3.04 & 3   \\\\\n",
       "\t 0    & 460  & 2.63 & 2   \\\\\n",
       "\t 0    & 700  & 3.65 & 2   \\\\\n",
       "\t 0    & 600  & 3.89 & 3   \\\\\n",
       "\\end{tabular}\n"
      ],
      "text/markdown": [
       "\n",
       "admit | gre | gpa | rank | \n",
       "|---|---|---|---|---|---|---|---|---|---|---|\n",
       "| 0    | 380  | 3.61 | 3    | \n",
       "| 1    | 660  | 3.67 | 3    | \n",
       "| 1    | 800  | 4.00 | 1    | \n",
       "| 1    | 640  | 3.19 | 4    | \n",
       "| 0    | 520  | 2.93 | 4    | \n",
       "| ... | ... | ... | ... | \n",
       "| 0    | 620  | 4.00 | 2    | \n",
       "| 0    | 560  | 3.04 | 3    | \n",
       "| 0    | 460  | 2.63 | 2    | \n",
       "| 0    | 700  | 3.65 | 2    | \n",
       "| 0    | 600  | 3.89 | 3    | \n",
       "\n",
       "\n"
      ],
      "text/plain": [
       "    admit gre gpa  rank\n",
       "1   0     380 3.61 3   \n",
       "2   1     660 3.67 3   \n",
       "3   1     800 4.00 1   \n",
       "4   1     640 3.19 4   \n",
       "5   0     520 2.93 4   \n",
       "... ...   ... ...  ... \n",
       "396 0     620 4.00 2   \n",
       "397 0     560 3.04 3   \n",
       "398 0     460 2.63 2   \n",
       "399 0     700 3.65 2   \n",
       "400 0     600 3.89 3   "
      ]
     },
     "metadata": {},
     "output_type": "display_data"
    }
   ],
   "source": [
    "students = read_csv(\"https://stats.idre.ucla.edu/stat/data/binary.csv\")\n",
    "students"
   ]
  },
  {
   "cell_type": "markdown",
   "metadata": {
    "collapsed": true
   },
   "source": [
    "## Transformations\n",
    "\n",
    "What does the logit function look like?"
   ]
  },
  {
   "cell_type": "code",
   "execution_count": 4,
   "metadata": {},
   "outputs": [
    {
     "data": {},
     "metadata": {},
     "output_type": "display_data"
    },
    {
     "data": {
      "image/png": "[encoded data removed]",
      "text/plain": [
       "plot without title"
      ]
     },
     "metadata": {},
     "output_type": "display_data"
    }
   ],
   "source": [
    "ggplot(data.frame(x=seq(-10, 10, 0.01))) +\n",
    "    aes(x) +\n",
    "    stat_function(fun=logistic)"
   ]
  },
  {
   "cell_type": "markdown",
   "metadata": {},
   "source": [
    "## Logistic Regression\n",
    "\n",
    "New function: `glm`; works a lot like `lm`!\n",
    "\n",
    "`family` says _what kind_ of general regression; `binomial` is binary classifier."
   ]
  },
  {
   "cell_type": "code",
   "execution_count": 5,
   "metadata": {
    "collapsed": true
   },
   "outputs": [],
   "source": [
    "zscore = function(x) {\n",
    "    (x - mean(x)) / sd(x)\n",
    "}"
   ]
  },
  {
   "cell_type": "code",
   "execution_count": 6,
   "metadata": {},
   "outputs": [
    {
     "data": {
      "text/plain": [
       "\n",
       "Call:\n",
       "glm(formula = admit ~ gpa + gre + rank, family = binomial(), \n",
       "    data = students)\n",
       "\n",
       "Deviance Residuals: \n",
       "    Min       1Q   Median       3Q      Max  \n",
       "-1.5802  -0.8848  -0.6382   1.1575   2.1732  \n",
       "\n",
       "Coefficients:\n",
       "             Estimate Std. Error z value Pr(>|z|)    \n",
       "(Intercept) -3.449548   1.132846  -3.045  0.00233 ** \n",
       "gpa          0.777014   0.327484   2.373  0.01766 *  \n",
       "gre          0.002294   0.001092   2.101  0.03564 *  \n",
       "rank        -0.560031   0.127137  -4.405 1.06e-05 ***\n",
       "---\n",
       "Signif. codes:  0 '***' 0.001 '**' 0.01 '*' 0.05 '.' 0.1 ' ' 1\n",
       "\n",
       "(Dispersion parameter for binomial family taken to be 1)\n",
       "\n",
       "    Null deviance: 499.98  on 399  degrees of freedom\n",
       "Residual deviance: 459.44  on 396  degrees of freedom\n",
       "AIC: 467.44\n",
       "\n",
       "Number of Fisher Scoring iterations: 4\n"
      ]
     },
     "metadata": {},
     "output_type": "display_data"
    }
   ],
   "source": [
    "full_model = glm(admit ~ gpa + gre + rank, data=students,\n",
    "                 family=binomial())\n",
    "summary(full_model)"
   ]
  },
  {
   "cell_type": "code",
   "execution_count": 7,
   "metadata": {},
   "outputs": [
    {
     "data": {
      "text/plain": [
       "\n",
       "Call:\n",
       "glm(formula = admit ~ zscore(gpa) + zscore(gre) + rank, family = binomial(), \n",
       "    data = students)\n",
       "\n",
       "Deviance Residuals: \n",
       "    Min       1Q   Median       3Q      Max  \n",
       "-1.5802  -0.8848  -0.6382   1.1575   2.1732  \n",
       "\n",
       "Coefficients:\n",
       "            Estimate Std. Error z value Pr(>|z|)    \n",
       "(Intercept)   0.5326     0.3154   1.689   0.0913 .  \n",
       "zscore(gpa)   0.2957     0.1246   2.373   0.0177 *  \n",
       "zscore(gre)   0.2650     0.1261   2.101   0.0356 *  \n",
       "rank         -0.5600     0.1271  -4.405 1.06e-05 ***\n",
       "---\n",
       "Signif. codes:  0 '***' 0.001 '**' 0.01 '*' 0.05 '.' 0.1 ' ' 1\n",
       "\n",
       "(Dispersion parameter for binomial family taken to be 1)\n",
       "\n",
       "    Null deviance: 499.98  on 399  degrees of freedom\n",
       "Residual deviance: 459.44  on 396  degrees of freedom\n",
       "AIC: 467.44\n",
       "\n",
       "Number of Fisher Scoring iterations: 4\n"
      ]
     },
     "metadata": {},
     "output_type": "display_data"
    }
   ],
   "source": [
    "std_model = glm(admit ~ zscore(gpa) + zscore(gre) + rank, data=students,\n",
    "                 family=binomial())\n",
    "summary(std_model)"
   ]
  },
  {
   "cell_type": "markdown",
   "metadata": {},
   "source": [
    "Let's do some checks for multicolinearity. The _correlation matrix_ of the variables:"
   ]
  },
  {
   "cell_type": "code",
   "execution_count": 8,
   "metadata": {},
   "outputs": [
    {
     "data": {
      "text/html": [
       "<table>\n",
       "<thead><tr><th></th><th scope=col>gre</th><th scope=col>gpa</th><th scope=col>rank</th></tr></thead>\n",
       "<tbody>\n",
       "\t<tr><th scope=row>gre</th><td> 1.0000000 </td><td> 0.38426588</td><td>-0.12344707</td></tr>\n",
       "\t<tr><th scope=row>gpa</th><td> 0.3842659 </td><td> 1.00000000</td><td>-0.05746077</td></tr>\n",
       "\t<tr><th scope=row>rank</th><td>-0.1234471 </td><td>-0.05746077</td><td> 1.00000000</td></tr>\n",
       "</tbody>\n",
       "</table>\n"
      ],
      "text/latex": [
       "\\begin{tabular}{r|lll}\n",
       "  & gre & gpa & rank\\\\\n",
       "\\hline\n",
       "\tgre &  1.0000000  &  0.38426588 & -0.12344707\\\\\n",
       "\tgpa &  0.3842659  &  1.00000000 & -0.05746077\\\\\n",
       "\trank & -0.1234471  & -0.05746077 &  1.00000000\\\\\n",
       "\\end{tabular}\n"
      ],
      "text/markdown": [
       "\n",
       "| <!--/--> | gre | gpa | rank | \n",
       "|---|---|---|\n",
       "| gre |  1.0000000  |  0.38426588 | -0.12344707 | \n",
       "| gpa |  0.3842659  |  1.00000000 | -0.05746077 | \n",
       "| rank | -0.1234471  | -0.05746077 |  1.00000000 | \n",
       "\n",
       "\n"
      ],
      "text/plain": [
       "     gre        gpa         rank       \n",
       "gre   1.0000000  0.38426588 -0.12344707\n",
       "gpa   0.3842659  1.00000000 -0.05746077\n",
       "rank -0.1234471 -0.05746077  1.00000000"
      ]
     },
     "metadata": {},
     "output_type": "display_data"
    }
   ],
   "source": [
    "cor(select(students, -admit))"
   ]
  },
  {
   "cell_type": "markdown",
   "metadata": {},
   "source": [
    "Looks like GRE and GPA might be linked?"
   ]
  },
  {
   "cell_type": "code",
   "execution_count": 9,
   "metadata": {},
   "outputs": [
    {
     "name": "stderr",
     "output_type": "stream",
     "text": [
      "`geom_smooth()` using method = 'loess'\n"
     ]
    },
    {
     "data": {},
     "metadata": {},
     "output_type": "display_data"
    },
    {
     "data": {
      "image/png": "[encoded data removed]",
      "text/plain": [
       "plot without title"
      ]
     },
     "metadata": {},
     "output_type": "display_data"
    }
   ],
   "source": [
    "ggplot(students) +\n",
    "    aes(x=gpa, y=gre) +\n",
    "    geom_point() + geom_smooth()"
   ]
  },
  {
   "cell_type": "markdown",
   "metadata": {},
   "source": [
    "## Effectiveness of Classifier\n",
    "\n",
    "First, make train-test data\n",
    "\n",
    "1. Add a `id` column\n",
    "2. Sample rows\n",
    "3. anti-join to make train data\n",
    "\n",
    "How many rows are we sampling from?"
   ]
  },
  {
   "cell_type": "code",
   "execution_count": 10,
   "metadata": {},
   "outputs": [
    {
     "data": {
      "text/html": [
       "400"
      ],
      "text/latex": [
       "400"
      ],
      "text/markdown": [
       "400"
      ],
      "text/plain": [
       "[1] 400"
      ]
     },
     "metadata": {},
     "output_type": "display_data"
    }
   ],
   "source": [
    "nrow(students)"
   ]
  },
  {
   "cell_type": "code",
   "execution_count": 11,
   "metadata": {
    "collapsed": true
   },
   "outputs": [],
   "source": [
    "students_with_ids = students %>%\n",
    "    mutate(id=1:n())"
   ]
  },
  {
   "cell_type": "markdown",
   "metadata": {},
   "source": [
    "Let's go!"
   ]
  },
  {
   "cell_type": "code",
   "execution_count": 12,
   "metadata": {},
   "outputs": [
    {
     "data": {
      "text/html": [
       "40"
      ],
      "text/latex": [
       "40"
      ],
      "text/markdown": [
       "40"
      ],
      "text/plain": [
       "[1] 40"
      ]
     },
     "metadata": {},
     "output_type": "display_data"
    }
   ],
   "source": [
    "test_students = students_with_ids %>%\n",
    "    sample_frac(0.1)\n",
    "nrow(test_students)"
   ]
  },
  {
   "cell_type": "markdown",
   "metadata": {},
   "source": [
    "The train data is everything that isn't test data."
   ]
  },
  {
   "cell_type": "code",
   "execution_count": 13,
   "metadata": {},
   "outputs": [
    {
     "name": "stderr",
     "output_type": "stream",
     "text": [
      "Joining, by = \"id\"\n"
     ]
    },
    {
     "data": {
      "text/html": [
       "360"
      ],
      "text/latex": [
       "360"
      ],
      "text/markdown": [
       "360"
      ],
      "text/plain": [
       "[1] 360"
      ]
     },
     "metadata": {},
     "output_type": "display_data"
    }
   ],
   "source": [
    "train_students = students_with_ids %>%\n",
    "    anti_join(select(test_students, id))\n",
    "nrow(train_students)"
   ]
  },
  {
   "cell_type": "markdown",
   "metadata": {},
   "source": [
    "Now we will train the model on the training data:"
   ]
  },
  {
   "cell_type": "code",
   "execution_count": 14,
   "metadata": {},
   "outputs": [
    {
     "data": {
      "text/plain": [
       "\n",
       "Call:\n",
       "glm(formula = admit ~ gpa + gre + rank, family = binomial(), \n",
       "    data = train_students)\n",
       "\n",
       "Deviance Residuals: \n",
       "    Min       1Q   Median       3Q      Max  \n",
       "-1.5523  -0.9008  -0.6589   1.1891   2.1060  \n",
       "\n",
       "Coefficients:\n",
       "             Estimate Std. Error z value Pr(>|z|)    \n",
       "(Intercept) -3.095586   1.170209  -2.645  0.00816 ** \n",
       "gpa          0.740721   0.340135   2.178  0.02943 *  \n",
       "gre          0.001933   0.001144   1.690  0.09100 .  \n",
       "rank        -0.543171   0.133631  -4.065 4.81e-05 ***\n",
       "---\n",
       "Signif. codes:  0 '***' 0.001 '**' 0.01 '*' 0.05 '.' 0.1 ' ' 1\n",
       "\n",
       "(Dispersion parameter for binomial family taken to be 1)\n",
       "\n",
       "    Null deviance: 455.47  on 359  degrees of freedom\n",
       "Residual deviance: 422.47  on 356  degrees of freedom\n",
       "AIC: 430.47\n",
       "\n",
       "Number of Fisher Scoring iterations: 3\n"
      ]
     },
     "metadata": {},
     "output_type": "display_data"
    }
   ],
   "source": [
    "train_model_full = glm(admit ~ gpa + gre + rank, train_students, family=binomial())\n",
    "summary(train_model_full)"
   ]
  },
  {
   "cell_type": "markdown",
   "metadata": {},
   "source": [
    "Let's generate some predictions with it"
   ]
  },
  {
   "cell_type": "code",
   "execution_count": 15,
   "metadata": {},
   "outputs": [
    {
     "data": {
      "text/html": [
       "<table>\n",
       "<thead><tr><th scope=col>admit</th><th scope=col>gre</th><th scope=col>gpa</th><th scope=col>rank</th><th scope=col>id</th><th scope=col>pred</th></tr></thead>\n",
       "<tbody>\n",
       "\t<tr><td>0         </td><td>440       </td><td>3.22      </td><td>1         </td><td> 12       </td><td>-0.4029496</td></tr>\n",
       "\t<tr><td>0         </td><td>560       </td><td>3.49      </td><td>4         </td><td>376       </td><td>-1.6004636</td></tr>\n",
       "\t<tr><td>1         </td><td>800       </td><td>3.70      </td><td>1         </td><td>119       </td><td> 0.6486131</td></tr>\n",
       "\t<tr><td>0         </td><td>440       </td><td>2.48      </td><td>4         </td><td> 49       </td><td>-2.5805971</td></tr>\n",
       "\t<tr><td>0         </td><td>800       </td><td>3.31      </td><td>3         </td><td>201       </td><td>-0.7266108</td></tr>\n",
       "\t<tr><td>...</td><td>...</td><td>...</td><td>...</td><td>...</td><td>...</td></tr>\n",
       "\t<tr><td>1         </td><td>680       </td><td>3.85      </td><td>3         </td><td> 64       </td><td>-0.5586271</td></tr>\n",
       "\t<tr><td>1         </td><td>800       </td><td>3.22      </td><td>1         </td><td>287       </td><td> 0.2930671</td></tr>\n",
       "\t<tr><td>0         </td><td>660       </td><td>3.34      </td><td>3         </td><td> 55       </td><td>-0.9750623</td></tr>\n",
       "\t<tr><td>0         </td><td>560       </td><td>3.19      </td><td>3         </td><td> 57       </td><td>-1.2795084</td></tr>\n",
       "\t<tr><td>1         </td><td>680       </td><td>2.96      </td><td>3         </td><td>243       </td><td>-1.2178687</td></tr>\n",
       "</tbody>\n",
       "</table>\n"
      ],
      "text/latex": [
       "\\begin{tabular}{r|llllll}\n",
       " admit & gre & gpa & rank & id & pred\\\\\n",
       "\\hline\n",
       "\t 0          & 440        & 3.22       & 1          &  12        & -0.4029496\\\\\n",
       "\t 0          & 560        & 3.49       & 4          & 376        & -1.6004636\\\\\n",
       "\t 1          & 800        & 3.70       & 1          & 119        &  0.6486131\\\\\n",
       "\t 0          & 440        & 2.48       & 4          &  49        & -2.5805971\\\\\n",
       "\t 0          & 800        & 3.31       & 3          & 201        & -0.7266108\\\\\n",
       "\t ... & ... & ... & ... & ... & ...\\\\\n",
       "\t 1          & 680        & 3.85       & 3          &  64        & -0.5586271\\\\\n",
       "\t 1          & 800        & 3.22       & 1          & 287        &  0.2930671\\\\\n",
       "\t 0          & 660        & 3.34       & 3          &  55        & -0.9750623\\\\\n",
       "\t 0          & 560        & 3.19       & 3          &  57        & -1.2795084\\\\\n",
       "\t 1          & 680        & 2.96       & 3          & 243        & -1.2178687\\\\\n",
       "\\end{tabular}\n"
      ],
      "text/markdown": [
       "\n",
       "admit | gre | gpa | rank | id | pred | \n",
       "|---|---|---|---|---|---|---|---|---|---|---|\n",
       "| 0          | 440        | 3.22       | 1          |  12        | -0.4029496 | \n",
       "| 0          | 560        | 3.49       | 4          | 376        | -1.6004636 | \n",
       "| 1          | 800        | 3.70       | 1          | 119        |  0.6486131 | \n",
       "| 0          | 440        | 2.48       | 4          |  49        | -2.5805971 | \n",
       "| 0          | 800        | 3.31       | 3          | 201        | -0.7266108 | \n",
       "| ... | ... | ... | ... | ... | ... | \n",
       "| 1          | 680        | 3.85       | 3          |  64        | -0.5586271 | \n",
       "| 1          | 800        | 3.22       | 1          | 287        |  0.2930671 | \n",
       "| 0          | 660        | 3.34       | 3          |  55        | -0.9750623 | \n",
       "| 0          | 560        | 3.19       | 3          |  57        | -1.2795084 | \n",
       "| 1          | 680        | 2.96       | 3          | 243        | -1.2178687 | \n",
       "\n",
       "\n"
      ],
      "text/plain": [
       "    admit gre gpa  rank id  pred      \n",
       "1   0     440 3.22 1     12 -0.4029496\n",
       "2   0     560 3.49 4    376 -1.6004636\n",
       "3   1     800 3.70 1    119  0.6486131\n",
       "4   0     440 2.48 4     49 -2.5805971\n",
       "5   0     800 3.31 3    201 -0.7266108\n",
       "... ...   ... ...  ...  ... ...       \n",
       "36  1     680 3.85 3     64 -0.5586271\n",
       "37  1     800 3.22 1    287  0.2930671\n",
       "38  0     660 3.34 3     55 -0.9750623\n",
       "39  0     560 3.19 3     57 -1.2795084\n",
       "40  1     680 2.96 3    243 -1.2178687"
      ]
     },
     "metadata": {},
     "output_type": "display_data"
    }
   ],
   "source": [
    "test_preds = test_students %>%\n",
    "    add_predictions(train_model_full)\n",
    "test_preds"
   ]
  },
  {
   "cell_type": "markdown",
   "metadata": {},
   "source": [
    "What threshold to use?\n",
    "\n",
    "Balance:\n",
    "\n",
    "- catching them all (recall)\n",
    "- catching things that aren't (precision)\n",
    "\n",
    "Use ROC (Receiver Operating Characteristic) curve to view change in rates as we shift threshold.  `geom_roc` uses 2 aesthetics: `d` is the decision, `m` is the prediction estimate (numeric)."
   ]
  },
  {
   "cell_type": "code",
   "execution_count": 16,
   "metadata": {},
   "outputs": [
    {
     "data": {},
     "metadata": {},
     "output_type": "display_data"
    },
    {
     "data": {
      "image/png": "[encoded data removed]",
      "text/plain": [
       "plot without title"
      ]
     },
     "metadata": {},
     "output_type": "display_data"
    }
   ],
   "source": [
    "full_roc = ggplot(test_preds) +\n",
    "    aes(d=admit, m=pred) +\n",
    "    geom_roc()\n",
    "full_roc"
   ]
  },
  {
   "cell_type": "code",
   "execution_count": 17,
   "metadata": {},
   "outputs": [
    {
     "data": {
      "text/html": [
       "<table>\n",
       "<thead><tr><th scope=col>PANEL</th><th scope=col>group</th><th scope=col>AUC</th></tr></thead>\n",
       "<tbody>\n",
       "\t<tr><td>1        </td><td>-1       </td><td>0.7992832</td></tr>\n",
       "</tbody>\n",
       "</table>\n"
      ],
      "text/latex": [
       "\\begin{tabular}{r|lll}\n",
       " PANEL & group & AUC\\\\\n",
       "\\hline\n",
       "\t 1         & -1        & 0.7992832\\\\\n",
       "\\end{tabular}\n"
      ],
      "text/markdown": [
       "\n",
       "PANEL | group | AUC | \n",
       "|---|\n",
       "| 1         | -1        | 0.7992832 | \n",
       "\n",
       "\n"
      ],
      "text/plain": [
       "  PANEL group AUC      \n",
       "1 1     -1    0.7992832"
      ]
     },
     "metadata": {},
     "output_type": "display_data"
    }
   ],
   "source": [
    "calc_auc(full_roc)"
   ]
  },
  {
   "cell_type": "markdown",
   "metadata": {},
   "source": [
    "## Smaller Models\n",
    "\n",
    "What if we just use GPA?"
   ]
  },
  {
   "cell_type": "code",
   "execution_count": 18,
   "metadata": {},
   "outputs": [
    {
     "data": {
      "text/plain": [
       "\n",
       "Call:\n",
       "glm(formula = admit ~ gpa, family = binomial(), data = train_students)\n",
       "\n",
       "Deviance Residuals: \n",
       "    Min       1Q   Median       3Q      Max  \n",
       "-1.1198  -0.9057  -0.7695   1.3337   1.9429  \n",
       "\n",
       "Coefficients:\n",
       "            Estimate Std. Error z value Pr(>|z|)    \n",
       "(Intercept)  -4.1527     1.0736  -3.868  0.00011 ***\n",
       "gpa           1.0039     0.3098   3.241  0.00119 ** \n",
       "---\n",
       "Signif. codes:  0 '***' 0.001 '**' 0.01 '*' 0.05 '.' 0.1 ' ' 1\n",
       "\n",
       "(Dispersion parameter for binomial family taken to be 1)\n",
       "\n",
       "    Null deviance: 455.47  on 359  degrees of freedom\n",
       "Residual deviance: 444.47  on 358  degrees of freedom\n",
       "AIC: 448.47\n",
       "\n",
       "Number of Fisher Scoring iterations: 4\n"
      ]
     },
     "metadata": {},
     "output_type": "display_data"
    }
   ],
   "source": [
    "train_gpa_model = glm(admit ~ gpa, train_students, family=binomial())\n",
    "summary(train_gpa_model)"
   ]
  },
  {
   "cell_type": "code",
   "execution_count": 19,
   "metadata": {},
   "outputs": [
    {
     "data": {
      "text/html": [
       "<table>\n",
       "<thead><tr><th scope=col>admit</th><th scope=col>gre</th><th scope=col>gpa</th><th scope=col>rank</th><th scope=col>id</th><th scope=col>pred</th></tr></thead>\n",
       "<tbody>\n",
       "\t<tr><td>0         </td><td>440       </td><td>3.22      </td><td>1         </td><td> 12       </td><td>-0.9200143</td></tr>\n",
       "\t<tr><td>0         </td><td>560       </td><td>3.49      </td><td>4         </td><td>376       </td><td>-0.6489514</td></tr>\n",
       "\t<tr><td>1         </td><td>800       </td><td>3.70      </td><td>1         </td><td>119       </td><td>-0.4381247</td></tr>\n",
       "\t<tr><td>0         </td><td>440       </td><td>2.48      </td><td>4         </td><td> 49       </td><td>-1.6629274</td></tr>\n",
       "\t<tr><td>0         </td><td>800       </td><td>3.31      </td><td>3         </td><td>201       </td><td>-0.8296600</td></tr>\n",
       "\t<tr><td>...</td><td>...</td><td>...</td><td>...</td><td>...</td><td>...</td></tr>\n",
       "\t<tr><td>1         </td><td>680       </td><td>3.85      </td><td>3         </td><td> 64       </td><td>-0.2875342</td></tr>\n",
       "\t<tr><td>1         </td><td>800       </td><td>3.22      </td><td>1         </td><td>287       </td><td>-0.9200143</td></tr>\n",
       "\t<tr><td>0         </td><td>660       </td><td>3.34      </td><td>3         </td><td> 55       </td><td>-0.7995419</td></tr>\n",
       "\t<tr><td>0         </td><td>560       </td><td>3.19      </td><td>3         </td><td> 57       </td><td>-0.9501324</td></tr>\n",
       "\t<tr><td>1         </td><td>680       </td><td>2.96      </td><td>3         </td><td>243       </td><td>-1.1810378</td></tr>\n",
       "</tbody>\n",
       "</table>\n"
      ],
      "text/latex": [
       "\\begin{tabular}{r|llllll}\n",
       " admit & gre & gpa & rank & id & pred\\\\\n",
       "\\hline\n",
       "\t 0          & 440        & 3.22       & 1          &  12        & -0.9200143\\\\\n",
       "\t 0          & 560        & 3.49       & 4          & 376        & -0.6489514\\\\\n",
       "\t 1          & 800        & 3.70       & 1          & 119        & -0.4381247\\\\\n",
       "\t 0          & 440        & 2.48       & 4          &  49        & -1.6629274\\\\\n",
       "\t 0          & 800        & 3.31       & 3          & 201        & -0.8296600\\\\\n",
       "\t ... & ... & ... & ... & ... & ...\\\\\n",
       "\t 1          & 680        & 3.85       & 3          &  64        & -0.2875342\\\\\n",
       "\t 1          & 800        & 3.22       & 1          & 287        & -0.9200143\\\\\n",
       "\t 0          & 660        & 3.34       & 3          &  55        & -0.7995419\\\\\n",
       "\t 0          & 560        & 3.19       & 3          &  57        & -0.9501324\\\\\n",
       "\t 1          & 680        & 2.96       & 3          & 243        & -1.1810378\\\\\n",
       "\\end{tabular}\n"
      ],
      "text/markdown": [
       "\n",
       "admit | gre | gpa | rank | id | pred | \n",
       "|---|---|---|---|---|---|---|---|---|---|---|\n",
       "| 0          | 440        | 3.22       | 1          |  12        | -0.9200143 | \n",
       "| 0          | 560        | 3.49       | 4          | 376        | -0.6489514 | \n",
       "| 1          | 800        | 3.70       | 1          | 119        | -0.4381247 | \n",
       "| 0          | 440        | 2.48       | 4          |  49        | -1.6629274 | \n",
       "| 0          | 800        | 3.31       | 3          | 201        | -0.8296600 | \n",
       "| ... | ... | ... | ... | ... | ... | \n",
       "| 1          | 680        | 3.85       | 3          |  64        | -0.2875342 | \n",
       "| 1          | 800        | 3.22       | 1          | 287        | -0.9200143 | \n",
       "| 0          | 660        | 3.34       | 3          |  55        | -0.7995419 | \n",
       "| 0          | 560        | 3.19       | 3          |  57        | -0.9501324 | \n",
       "| 1          | 680        | 2.96       | 3          | 243        | -1.1810378 | \n",
       "\n",
       "\n"
      ],
      "text/plain": [
       "    admit gre gpa  rank id  pred      \n",
       "1   0     440 3.22 1     12 -0.9200143\n",
       "2   0     560 3.49 4    376 -0.6489514\n",
       "3   1     800 3.70 1    119 -0.4381247\n",
       "4   0     440 2.48 4     49 -1.6629274\n",
       "5   0     800 3.31 3    201 -0.8296600\n",
       "... ...   ... ...  ...  ... ...       \n",
       "36  1     680 3.85 3     64 -0.2875342\n",
       "37  1     800 3.22 1    287 -0.9200143\n",
       "38  0     660 3.34 3     55 -0.7995419\n",
       "39  0     560 3.19 3     57 -0.9501324\n",
       "40  1     680 2.96 3    243 -1.1810378"
      ]
     },
     "metadata": {},
     "output_type": "display_data"
    }
   ],
   "source": [
    "test_gpa_preds = test_students %>%\n",
    "    add_predictions(train_gpa_model)\n",
    "test_gpa_preds"
   ]
  },
  {
   "cell_type": "markdown",
   "metadata": {},
   "source": [
    "Stack the data!"
   ]
  },
  {
   "cell_type": "code",
   "execution_count": 39,
   "metadata": {},
   "outputs": [
    {
     "data": {
      "text/html": [
       "<table>\n",
       "<thead><tr><th scope=col>Model</th><th scope=col>admit</th><th scope=col>gre</th><th scope=col>gpa</th><th scope=col>rank</th><th scope=col>id</th><th scope=col>pred</th></tr></thead>\n",
       "<tbody>\n",
       "\t<tr><td>Full      </td><td>0         </td><td>440       </td><td>3.22      </td><td>1         </td><td> 12       </td><td>-0.4029496</td></tr>\n",
       "\t<tr><td>Full      </td><td>0         </td><td>560       </td><td>3.49      </td><td>4         </td><td>376       </td><td>-1.6004636</td></tr>\n",
       "\t<tr><td>Full      </td><td>1         </td><td>800       </td><td>3.70      </td><td>1         </td><td>119       </td><td> 0.6486131</td></tr>\n",
       "\t<tr><td>Full      </td><td>0         </td><td>440       </td><td>2.48      </td><td>4         </td><td> 49       </td><td>-2.5805971</td></tr>\n",
       "\t<tr><td>Full      </td><td>0         </td><td>800       </td><td>3.31      </td><td>3         </td><td>201       </td><td>-0.7266108</td></tr>\n",
       "\t<tr><td>...</td><td>...</td><td>...</td><td>...</td><td>...</td><td>...</td><td>...</td></tr>\n",
       "\t<tr><td>GPA       </td><td>1         </td><td>680       </td><td>3.85      </td><td>3         </td><td> 64       </td><td>-0.2875342</td></tr>\n",
       "\t<tr><td>GPA       </td><td>1         </td><td>800       </td><td>3.22      </td><td>1         </td><td>287       </td><td>-0.9200143</td></tr>\n",
       "\t<tr><td>GPA       </td><td>0         </td><td>660       </td><td>3.34      </td><td>3         </td><td> 55       </td><td>-0.7995419</td></tr>\n",
       "\t<tr><td>GPA       </td><td>0         </td><td>560       </td><td>3.19      </td><td>3         </td><td> 57       </td><td>-0.9501324</td></tr>\n",
       "\t<tr><td>GPA       </td><td>1         </td><td>680       </td><td>2.96      </td><td>3         </td><td>243       </td><td>-1.1810378</td></tr>\n",
       "</tbody>\n",
       "</table>\n"
      ],
      "text/latex": [
       "\\begin{tabular}{r|lllllll}\n",
       " Model & admit & gre & gpa & rank & id & pred\\\\\n",
       "\\hline\n",
       "\t Full       & 0          & 440        & 3.22       & 1          &  12        & -0.4029496\\\\\n",
       "\t Full       & 0          & 560        & 3.49       & 4          & 376        & -1.6004636\\\\\n",
       "\t Full       & 1          & 800        & 3.70       & 1          & 119        &  0.6486131\\\\\n",
       "\t Full       & 0          & 440        & 2.48       & 4          &  49        & -2.5805971\\\\\n",
       "\t Full       & 0          & 800        & 3.31       & 3          & 201        & -0.7266108\\\\\n",
       "\t ... & ... & ... & ... & ... & ... & ...\\\\\n",
       "\t GPA        & 1          & 680        & 3.85       & 3          &  64        & -0.2875342\\\\\n",
       "\t GPA        & 1          & 800        & 3.22       & 1          & 287        & -0.9200143\\\\\n",
       "\t GPA        & 0          & 660        & 3.34       & 3          &  55        & -0.7995419\\\\\n",
       "\t GPA        & 0          & 560        & 3.19       & 3          &  57        & -0.9501324\\\\\n",
       "\t GPA        & 1          & 680        & 2.96       & 3          & 243        & -1.1810378\\\\\n",
       "\\end{tabular}\n"
      ],
      "text/markdown": [
       "\n",
       "Model | admit | gre | gpa | rank | id | pred | \n",
       "|---|---|---|---|---|---|---|---|---|---|---|\n",
       "| Full       | 0          | 440        | 3.22       | 1          |  12        | -0.4029496 | \n",
       "| Full       | 0          | 560        | 3.49       | 4          | 376        | -1.6004636 | \n",
       "| Full       | 1          | 800        | 3.70       | 1          | 119        |  0.6486131 | \n",
       "| Full       | 0          | 440        | 2.48       | 4          |  49        | -2.5805971 | \n",
       "| Full       | 0          | 800        | 3.31       | 3          | 201        | -0.7266108 | \n",
       "| ... | ... | ... | ... | ... | ... | ... | \n",
       "| GPA        | 1          | 680        | 3.85       | 3          |  64        | -0.2875342 | \n",
       "| GPA        | 1          | 800        | 3.22       | 1          | 287        | -0.9200143 | \n",
       "| GPA        | 0          | 660        | 3.34       | 3          |  55        | -0.7995419 | \n",
       "| GPA        | 0          | 560        | 3.19       | 3          |  57        | -0.9501324 | \n",
       "| GPA        | 1          | 680        | 2.96       | 3          | 243        | -1.1810378 | \n",
       "\n",
       "\n"
      ],
      "text/plain": [
       "    Model admit gre gpa  rank id  pred      \n",
       "1   Full  0     440 3.22 1     12 -0.4029496\n",
       "2   Full  0     560 3.49 4    376 -1.6004636\n",
       "3   Full  1     800 3.70 1    119  0.6486131\n",
       "4   Full  0     440 2.48 4     49 -2.5805971\n",
       "5   Full  0     800 3.31 3    201 -0.7266108\n",
       "... ...   ...   ... ...  ...  ... ...       \n",
       "76  GPA   1     680 3.85 3     64 -0.2875342\n",
       "77  GPA   1     800 3.22 1    287 -0.9200143\n",
       "78  GPA   0     660 3.34 3     55 -0.7995419\n",
       "79  GPA   0     560 3.19 3     57 -0.9501324\n",
       "80  GPA   1     680 2.96 3    243 -1.1810378"
      ]
     },
     "metadata": {},
     "output_type": "display_data"
    }
   ],
   "source": [
    "test_mm_preds =\n",
    "    bind_rows(Full=test_preds,\n",
    "              GPA=test_gpa_preds,\n",
    "              .id=\"Model\")\n",
    "test_mm_preds"
   ]
  },
  {
   "cell_type": "code",
   "execution_count": 40,
   "metadata": {},
   "outputs": [
    {
     "data": {},
     "metadata": {},
     "output_type": "display_data"
    },
    {
     "data": {
      "image/png": "[encoded data removed]",
      "text/plain": [
       "plot without title"
      ]
     },
     "metadata": {},
     "output_type": "display_data"
    }
   ],
   "source": [
    "mm_plot = ggplot(test_mm_preds) +\n",
    "    aes(d=admit, m=pred, color=Model) +\n",
    "    geom_roc()\n",
    "mm_plot"
   ]
  },
  {
   "cell_type": "code",
   "execution_count": 41,
   "metadata": {},
   "outputs": [
    {
     "data": {
      "text/html": [
       "<table>\n",
       "<thead><tr><th scope=col>PANEL</th><th scope=col>group</th><th scope=col>AUC</th></tr></thead>\n",
       "<tbody>\n",
       "\t<tr><td>1        </td><td>1        </td><td>0.7992832</td></tr>\n",
       "\t<tr><td>1        </td><td>2        </td><td>0.6344086</td></tr>\n",
       "</tbody>\n",
       "</table>\n"
      ],
      "text/latex": [
       "\\begin{tabular}{r|lll}\n",
       " PANEL & group & AUC\\\\\n",
       "\\hline\n",
       "\t 1         & 1         & 0.7992832\\\\\n",
       "\t 1         & 2         & 0.6344086\\\\\n",
       "\\end{tabular}\n"
      ],
      "text/markdown": [
       "\n",
       "PANEL | group | AUC | \n",
       "|---|---|\n",
       "| 1         | 1         | 0.7992832 | \n",
       "| 1         | 2         | 0.6344086 | \n",
       "\n",
       "\n"
      ],
      "text/plain": [
       "  PANEL group AUC      \n",
       "1 1     1     0.7992832\n",
       "2 1     2     0.6344086"
      ]
     },
     "metadata": {},
     "output_type": "display_data"
    }
   ],
   "source": [
    "calc_auc(mm_plot)"
   ]
  },
  {
   "cell_type": "markdown",
   "metadata": {
    "collapsed": true
   },
   "source": [
    "## Decision Trees"
   ]
  },
  {
   "cell_type": "code",
   "execution_count": 42,
   "metadata": {
    "collapsed": true
   },
   "outputs": [],
   "source": [
    "library(rpart)"
   ]
  },
  {
   "cell_type": "code",
   "execution_count": 43,
   "metadata": {},
   "outputs": [
    {
     "name": "stdout",
     "output_type": "stream",
     "text": [
      "Call:\n",
      "rpart(formula = admit ~ gre + gpa + rank, data = train_students, \n",
      "    method = \"class\")\n",
      "  n= 360 \n",
      "\n",
      "          CP nsplit rel error    xerror       xstd\n",
      "1 0.04237288      0 1.0000000 1.0000000 0.07547714\n",
      "2 0.01694915      4 0.8220339 0.9576271 0.07461986\n",
      "3 0.01271186      5 0.8050847 1.0084746 0.07563952\n",
      "4 0.01000000      8 0.7627119 1.0254237 0.07595535\n",
      "\n",
      "Variable importance\n",
      "rank  gpa  gre \n",
      "  42   40   17 \n",
      "\n",
      "Node number 1: 360 observations,    complexity param=0.04237288\n",
      "  predicted class=0  expected loss=0.3277778  P(node) =1\n",
      "    class counts:   242   118\n",
      "   probabilities: 0.672 0.328 \n",
      "  left son=2 (169 obs) right son=3 (191 obs)\n",
      "  Primary splits:\n",
      "      rank < 2.5   to the right, improve=7.547199, (0 missing)\n",
      "      gpa  < 3.455 to the left,  improve=7.192144, (0 missing)\n",
      "      gre  < 510   to the left,  improve=4.839959, (0 missing)\n",
      "  Surrogate splits:\n",
      "      gre < 530   to the left,  agree=0.578, adj=0.101, (0 split)\n",
      "      gpa < 2.935 to the left,  agree=0.544, adj=0.030, (0 split)\n",
      "\n",
      "Node number 2: 169 observations\n",
      "  predicted class=0  expected loss=0.2189349  P(node) =0.4694444\n",
      "    class counts:   132    37\n",
      "   probabilities: 0.781 0.219 \n",
      "\n",
      "Node number 3: 191 observations,    complexity param=0.04237288\n",
      "  predicted class=0  expected loss=0.4240838  P(node) =0.5305556\n",
      "    class counts:   110    81\n",
      "   probabilities: 0.576 0.424 \n",
      "  left son=6 (96 obs) right son=7 (95 obs)\n",
      "  Primary splits:\n",
      "      gpa  < 3.41  to the left,  improve=4.806324, (0 missing)\n",
      "      rank < 1.5   to the right, improve=2.222684, (0 missing)\n",
      "      gre  < 590   to the left,  improve=1.598539, (0 missing)\n",
      "  Surrogate splits:\n",
      "      gre  < 630   to the left,  agree=0.628, adj=0.253, (0 split)\n",
      "      rank < 1.5   to the right, agree=0.529, adj=0.053, (0 split)\n",
      "\n",
      "Node number 6: 96 observations,    complexity param=0.01694915\n",
      "  predicted class=0  expected loss=0.3125  P(node) =0.2666667\n",
      "    class counts:    66    30\n",
      "   probabilities: 0.687 0.312 \n",
      "  left son=12 (88 obs) right son=13 (8 obs)\n",
      "  Primary splits:\n",
      "      gre  < 730   to the left,  improve=1.70454500, (0 missing)\n",
      "      gpa  < 2.905 to the left,  improve=0.63947370, (0 missing)\n",
      "      rank < 1.5   to the left,  improve=0.02777778, (0 missing)\n",
      "\n",
      "Node number 7: 95 observations,    complexity param=0.04237288\n",
      "  predicted class=1  expected loss=0.4631579  P(node) =0.2638889\n",
      "    class counts:    44    51\n",
      "   probabilities: 0.463 0.537 \n",
      "  left son=14 (66 obs) right son=15 (29 obs)\n",
      "  Primary splits:\n",
      "      rank < 1.5   to the right, improve=4.106264, (0 missing)\n",
      "      gpa  < 3.495 to the right, improve=1.375439, (0 missing)\n",
      "      gre  < 500   to the left,  improve=1.253870, (0 missing)\n",
      "  Surrogate splits:\n",
      "      gpa < 3.96  to the left,  agree=0.705, adj=0.034, (0 split)\n",
      "\n",
      "Node number 12: 88 observations\n",
      "  predicted class=0  expected loss=0.2840909  P(node) =0.2444444\n",
      "    class counts:    63    25\n",
      "   probabilities: 0.716 0.284 \n",
      "\n",
      "Node number 13: 8 observations\n",
      "  predicted class=1  expected loss=0.375  P(node) =0.02222222\n",
      "    class counts:     3     5\n",
      "   probabilities: 0.375 0.625 \n",
      "\n",
      "Node number 14: 66 observations,    complexity param=0.04237288\n",
      "  predicted class=0  expected loss=0.4393939  P(node) =0.1833333\n",
      "    class counts:    37    29\n",
      "   probabilities: 0.561 0.439 \n",
      "  left son=28 (52 obs) right son=29 (14 obs)\n",
      "  Primary splits:\n",
      "      gpa < 3.495 to the right, improve=2.685481, (0 missing)\n",
      "      gre < 500   to the left,  improve=1.799634, (0 missing)\n",
      "\n",
      "Node number 15: 29 observations\n",
      "  predicted class=1  expected loss=0.2413793  P(node) =0.08055556\n",
      "    class counts:     7    22\n",
      "   probabilities: 0.241 0.759 \n",
      "\n",
      "Node number 28: 52 observations,    complexity param=0.01271186\n",
      "  predicted class=0  expected loss=0.3653846  P(node) =0.1444444\n",
      "    class counts:    33    19\n",
      "   probabilities: 0.635 0.365 \n",
      "  left son=56 (24 obs) right son=57 (28 obs)\n",
      "  Primary splits:\n",
      "      gpa < 3.73  to the left,  improve=2.1987180, (0 missing)\n",
      "      gre < 690   to the right, improve=0.4108801, (0 missing)\n",
      "  Surrogate splits:\n",
      "      gre < 470   to the left,  agree=0.577, adj=0.083, (0 split)\n",
      "\n",
      "Node number 29: 14 observations\n",
      "  predicted class=1  expected loss=0.2857143  P(node) =0.03888889\n",
      "    class counts:     4    10\n",
      "   probabilities: 0.286 0.714 \n",
      "\n",
      "Node number 56: 24 observations\n",
      "  predicted class=0  expected loss=0.2083333  P(node) =0.06666667\n",
      "    class counts:    19     5\n",
      "   probabilities: 0.792 0.208 \n",
      "\n",
      "Node number 57: 28 observations,    complexity param=0.01271186\n",
      "  predicted class=0  expected loss=0.5  P(node) =0.07777778\n",
      "    class counts:    14    14\n",
      "   probabilities: 0.500 0.500 \n",
      "  left son=114 (21 obs) right son=115 (7 obs)\n",
      "  Primary splits:\n",
      "      gre < 570   to the right, improve=0.8571429, (0 missing)\n",
      "      gpa < 3.945 to the left,  improve=0.3111111, (0 missing)\n",
      "  Surrogate splits:\n",
      "      gpa < 3.79  to the right, agree=0.821, adj=0.286, (0 split)\n",
      "\n",
      "Node number 114: 21 observations,    complexity param=0.01271186\n",
      "  predicted class=0  expected loss=0.4285714  P(node) =0.05833333\n",
      "    class counts:    12     9\n",
      "   probabilities: 0.571 0.429 \n",
      "  left son=228 (11 obs) right son=229 (10 obs)\n",
      "  Primary splits:\n",
      "      gpa < 3.935 to the left,  improve=1.1220780, (0 missing)\n",
      "      gre < 690   to the right, improve=0.2857143, (0 missing)\n",
      "  Surrogate splits:\n",
      "      gre < 690   to the right, agree=0.619, adj=0.2, (0 split)\n",
      "\n",
      "Node number 115: 7 observations\n",
      "  predicted class=1  expected loss=0.2857143  P(node) =0.01944444\n",
      "    class counts:     2     5\n",
      "   probabilities: 0.286 0.714 \n",
      "\n",
      "Node number 228: 11 observations\n",
      "  predicted class=0  expected loss=0.2727273  P(node) =0.03055556\n",
      "    class counts:     8     3\n",
      "   probabilities: 0.727 0.273 \n",
      "\n",
      "Node number 229: 10 observations\n",
      "  predicted class=1  expected loss=0.4  P(node) =0.02777778\n",
      "    class counts:     4     6\n",
      "   probabilities: 0.400 0.600 \n",
      "\n"
     ]
    }
   ],
   "source": [
    "tree = rpart(admit ~ gre + gpa + rank, train_students, method=\"class\")\n",
    "summary(tree)"
   ]
  },
  {
   "cell_type": "code",
   "execution_count": 53,
   "metadata": {},
   "outputs": [
    {
     "data": {
      "image/png": "[encoded data removed]",
      "text/plain": [
       "plot without title"
      ]
     },
     "metadata": {},
     "output_type": "display_data"
    }
   ],
   "source": [
    "plot(tree)\n",
    "text(tree)"
   ]
  },
  {
   "cell_type": "code",
   "execution_count": 73,
   "metadata": {},
   "outputs": [
    {
     "data": {
      "text/html": [
       "<table>\n",
       "<thead><tr><th scope=col>admit</th><th scope=col>gre</th><th scope=col>gpa</th><th scope=col>rank</th><th scope=col>id</th><th scope=col>pred</th></tr></thead>\n",
       "<tbody>\n",
       "\t<tr><td>0        </td><td>440      </td><td>3.22     </td><td>1        </td><td> 12      </td><td>0.2840909</td></tr>\n",
       "\t<tr><td>0        </td><td>560      </td><td>3.49     </td><td>4        </td><td>376      </td><td>0.2189349</td></tr>\n",
       "\t<tr><td>1        </td><td>800      </td><td>3.70     </td><td>1        </td><td>119      </td><td>0.7586207</td></tr>\n",
       "\t<tr><td>0        </td><td>440      </td><td>2.48     </td><td>4        </td><td> 49      </td><td>0.2189349</td></tr>\n",
       "\t<tr><td>0        </td><td>800      </td><td>3.31     </td><td>3        </td><td>201      </td><td>0.2189349</td></tr>\n",
       "\t<tr><td>...</td><td>...</td><td>...</td><td>...</td><td>...</td><td>...</td></tr>\n",
       "\t<tr><td>1        </td><td>680      </td><td>3.85     </td><td>3        </td><td> 64      </td><td>0.2189349</td></tr>\n",
       "\t<tr><td>1        </td><td>800      </td><td>3.22     </td><td>1        </td><td>287      </td><td>0.6250000</td></tr>\n",
       "\t<tr><td>0        </td><td>660      </td><td>3.34     </td><td>3        </td><td> 55      </td><td>0.2189349</td></tr>\n",
       "\t<tr><td>0        </td><td>560      </td><td>3.19     </td><td>3        </td><td> 57      </td><td>0.2189349</td></tr>\n",
       "\t<tr><td>1        </td><td>680      </td><td>2.96     </td><td>3        </td><td>243      </td><td>0.2189349</td></tr>\n",
       "</tbody>\n",
       "</table>\n"
      ],
      "text/latex": [
       "\\begin{tabular}{r|llllll}\n",
       " admit & gre & gpa & rank & id & pred\\\\\n",
       "\\hline\n",
       "\t 0         & 440       & 3.22      & 1         &  12       & 0.2840909\\\\\n",
       "\t 0         & 560       & 3.49      & 4         & 376       & 0.2189349\\\\\n",
       "\t 1         & 800       & 3.70      & 1         & 119       & 0.7586207\\\\\n",
       "\t 0         & 440       & 2.48      & 4         &  49       & 0.2189349\\\\\n",
       "\t 0         & 800       & 3.31      & 3         & 201       & 0.2189349\\\\\n",
       "\t ... & ... & ... & ... & ... & ...\\\\\n",
       "\t 1         & 680       & 3.85      & 3         &  64       & 0.2189349\\\\\n",
       "\t 1         & 800       & 3.22      & 1         & 287       & 0.6250000\\\\\n",
       "\t 0         & 660       & 3.34      & 3         &  55       & 0.2189349\\\\\n",
       "\t 0         & 560       & 3.19      & 3         &  57       & 0.2189349\\\\\n",
       "\t 1         & 680       & 2.96      & 3         & 243       & 0.2189349\\\\\n",
       "\\end{tabular}\n"
      ],
      "text/markdown": [
       "\n",
       "admit | gre | gpa | rank | id | pred | \n",
       "|---|---|---|---|---|---|---|---|---|---|---|\n",
       "| 0         | 440       | 3.22      | 1         |  12       | 0.2840909 | \n",
       "| 0         | 560       | 3.49      | 4         | 376       | 0.2189349 | \n",
       "| 1         | 800       | 3.70      | 1         | 119       | 0.7586207 | \n",
       "| 0         | 440       | 2.48      | 4         |  49       | 0.2189349 | \n",
       "| 0         | 800       | 3.31      | 3         | 201       | 0.2189349 | \n",
       "| ... | ... | ... | ... | ... | ... | \n",
       "| 1         | 680       | 3.85      | 3         |  64       | 0.2189349 | \n",
       "| 1         | 800       | 3.22      | 1         | 287       | 0.6250000 | \n",
       "| 0         | 660       | 3.34      | 3         |  55       | 0.2189349 | \n",
       "| 0         | 560       | 3.19      | 3         |  57       | 0.2189349 | \n",
       "| 1         | 680       | 2.96      | 3         | 243       | 0.2189349 | \n",
       "\n",
       "\n"
      ],
      "text/plain": [
       "    admit gre gpa  rank id  pred     \n",
       "1   0     440 3.22 1     12 0.2840909\n",
       "2   0     560 3.49 4    376 0.2189349\n",
       "3   1     800 3.70 1    119 0.7586207\n",
       "4   0     440 2.48 4     49 0.2189349\n",
       "5   0     800 3.31 3    201 0.2189349\n",
       "... ...   ... ...  ...  ... ...      \n",
       "36  1     680 3.85 3     64 0.2189349\n",
       "37  1     800 3.22 1    287 0.6250000\n",
       "38  0     660 3.34 3     55 0.2189349\n",
       "39  0     560 3.19 3     57 0.2189349\n",
       "40  1     680 2.96 3    243 0.2189349"
      ]
     },
     "metadata": {},
     "output_type": "display_data"
    }
   ],
   "source": [
    "dt_preds = test_students %>%\n",
    "    add_predictions(tree)\n",
    "# we do some random crap here because tree predictions are weird\n",
    "dt_preds$pred = dt_preds$pred[,2]\n",
    "dt_preds"
   ]
  },
  {
   "cell_type": "code",
   "execution_count": 74,
   "metadata": {},
   "outputs": [
    {
     "data": {
      "text/html": [
       "<table>\n",
       "<thead><tr><th scope=col>Model</th><th scope=col>admit</th><th scope=col>gre</th><th scope=col>gpa</th><th scope=col>rank</th><th scope=col>id</th><th scope=col>pred</th></tr></thead>\n",
       "<tbody>\n",
       "\t<tr><td>Full      </td><td>0         </td><td>440       </td><td>3.22      </td><td>1         </td><td> 12       </td><td>-0.4029496</td></tr>\n",
       "\t<tr><td>Full      </td><td>0         </td><td>560       </td><td>3.49      </td><td>4         </td><td>376       </td><td>-1.6004636</td></tr>\n",
       "\t<tr><td>Full      </td><td>1         </td><td>800       </td><td>3.70      </td><td>1         </td><td>119       </td><td> 0.6486131</td></tr>\n",
       "\t<tr><td>Full      </td><td>0         </td><td>440       </td><td>2.48      </td><td>4         </td><td> 49       </td><td>-2.5805971</td></tr>\n",
       "\t<tr><td>Full      </td><td>0         </td><td>800       </td><td>3.31      </td><td>3         </td><td>201       </td><td>-0.7266108</td></tr>\n",
       "\t<tr><td>...</td><td>...</td><td>...</td><td>...</td><td>...</td><td>...</td><td>...</td></tr>\n",
       "\t<tr><td>Tree     </td><td>1        </td><td>680      </td><td>3.85     </td><td>3        </td><td> 64      </td><td>0.2189349</td></tr>\n",
       "\t<tr><td>Tree     </td><td>1        </td><td>800      </td><td>3.22     </td><td>1        </td><td>287      </td><td>0.6250000</td></tr>\n",
       "\t<tr><td>Tree     </td><td>0        </td><td>660      </td><td>3.34     </td><td>3        </td><td> 55      </td><td>0.2189349</td></tr>\n",
       "\t<tr><td>Tree     </td><td>0        </td><td>560      </td><td>3.19     </td><td>3        </td><td> 57      </td><td>0.2189349</td></tr>\n",
       "\t<tr><td>Tree     </td><td>1        </td><td>680      </td><td>2.96     </td><td>3        </td><td>243      </td><td>0.2189349</td></tr>\n",
       "</tbody>\n",
       "</table>\n"
      ],
      "text/latex": [
       "\\begin{tabular}{r|lllllll}\n",
       " Model & admit & gre & gpa & rank & id & pred\\\\\n",
       "\\hline\n",
       "\t Full       & 0          & 440        & 3.22       & 1          &  12        & -0.4029496\\\\\n",
       "\t Full       & 0          & 560        & 3.49       & 4          & 376        & -1.6004636\\\\\n",
       "\t Full       & 1          & 800        & 3.70       & 1          & 119        &  0.6486131\\\\\n",
       "\t Full       & 0          & 440        & 2.48       & 4          &  49        & -2.5805971\\\\\n",
       "\t Full       & 0          & 800        & 3.31       & 3          & 201        & -0.7266108\\\\\n",
       "\t ... & ... & ... & ... & ... & ... & ...\\\\\n",
       "\t Tree      & 1         & 680       & 3.85      & 3         &  64       & 0.2189349\\\\\n",
       "\t Tree      & 1         & 800       & 3.22      & 1         & 287       & 0.6250000\\\\\n",
       "\t Tree      & 0         & 660       & 3.34      & 3         &  55       & 0.2189349\\\\\n",
       "\t Tree      & 0         & 560       & 3.19      & 3         &  57       & 0.2189349\\\\\n",
       "\t Tree      & 1         & 680       & 2.96      & 3         & 243       & 0.2189349\\\\\n",
       "\\end{tabular}\n"
      ],
      "text/markdown": [
       "\n",
       "Model | admit | gre | gpa | rank | id | pred | \n",
       "|---|---|---|---|---|---|---|---|---|---|---|\n",
       "| Full       | 0          | 440        | 3.22       | 1          |  12        | -0.4029496 | \n",
       "| Full       | 0          | 560        | 3.49       | 4          | 376        | -1.6004636 | \n",
       "| Full       | 1          | 800        | 3.70       | 1          | 119        |  0.6486131 | \n",
       "| Full       | 0          | 440        | 2.48       | 4          |  49        | -2.5805971 | \n",
       "| Full       | 0          | 800        | 3.31       | 3          | 201        | -0.7266108 | \n",
       "| ... | ... | ... | ... | ... | ... | ... | \n",
       "| Tree      | 1         | 680       | 3.85      | 3         |  64       | 0.2189349 | \n",
       "| Tree      | 1         | 800       | 3.22      | 1         | 287       | 0.6250000 | \n",
       "| Tree      | 0         | 660       | 3.34      | 3         |  55       | 0.2189349 | \n",
       "| Tree      | 0         | 560       | 3.19      | 3         |  57       | 0.2189349 | \n",
       "| Tree      | 1         | 680       | 2.96      | 3         | 243       | 0.2189349 | \n",
       "\n",
       "\n"
      ],
      "text/plain": [
       "    Model admit gre gpa  rank id  pred      \n",
       "1   Full  0     440 3.22 1     12 -0.4029496\n",
       "2   Full  0     560 3.49 4    376 -1.6004636\n",
       "3   Full  1     800 3.70 1    119  0.6486131\n",
       "4   Full  0     440 2.48 4     49 -2.5805971\n",
       "5   Full  0     800 3.31 3    201 -0.7266108\n",
       "... ...   ...   ... ...  ...  ... ...       \n",
       "116 Tree  1     680 3.85 3     64 0.2189349 \n",
       "117 Tree  1     800 3.22 1    287 0.6250000 \n",
       "118 Tree  0     660 3.34 3     55 0.2189349 \n",
       "119 Tree  0     560 3.19 3     57 0.2189349 \n",
       "120 Tree  1     680 2.96 3    243 0.2189349 "
      ]
     },
     "metadata": {},
     "output_type": "display_data"
    }
   ],
   "source": [
    "test_mm_preds =\n",
    "    bind_rows(Full=test_preds,\n",
    "              GPA=test_gpa_preds,\n",
    "              Tree=dt_preds,\n",
    "              .id=\"Model\")\n",
    "test_mm_preds"
   ]
  },
  {
   "cell_type": "code",
   "execution_count": 75,
   "metadata": {},
   "outputs": [
    {
     "data": {},
     "metadata": {},
     "output_type": "display_data"
    },
    {
     "data": {
      "image/png": "[encoded data removed]",
      "text/plain": [
       "plot without title"
      ]
     },
     "metadata": {},
     "output_type": "display_data"
    }
   ],
   "source": [
    "mm_plot = ggplot(test_mm_preds) +\n",
    "    aes(d=admit, m=pred, color=Model) +\n",
    "    geom_roc()\n",
    "mm_plot"
   ]
  },
  {
   "cell_type": "code",
   "execution_count": null,
   "metadata": {
    "collapsed": true
   },
   "outputs": [],
   "source": []
  }
 ],
 "metadata": {
  "kernelspec": {
   "display_name": "R",
   "language": "R",
   "name": "ir"
  },
  "language_info": {
   "codemirror_mode": "r",
   "file_extension": ".r",
   "mimetype": "text/x-r-source",
   "name": "R",
   "pygments_lexer": "r",
   "version": "3.4.1"
  }
 },
 "nbformat": 4,
 "nbformat_minor": 2
}

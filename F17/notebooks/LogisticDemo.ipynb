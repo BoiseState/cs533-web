{
 "cells": [
  {
   "cell_type": "markdown",
   "metadata": {},
   "source": [
    "# Logistic Regression Demo"
   ]
  },
  {
   "cell_type": "markdown",
   "metadata": {},
   "source": [
    "## Init\n",
    "\n",
    "First, we load our libraries.  This makes use of the R `plotROC` package; it is available in Conda with\n",
    "\n",
    "    conda install -c mdekstrand r-plotroc"
   ]
  },
  {
   "cell_type": "code",
   "execution_count": 1,
   "metadata": {},
   "outputs": [
    {
     "name": "stderr",
     "output_type": "stream",
     "text": [
      "Loading tidyverse: ggplot2\n",
      "Loading tidyverse: tibble\n",
      "Loading tidyverse: tidyr\n",
      "Loading tidyverse: readr\n",
      "Loading tidyverse: purrr\n",
      "Loading tidyverse: dplyr\n",
      "Conflicts with tidy packages ---------------------------------------------------\n",
      "filter(): dplyr, stats\n",
      "lag():    dplyr, stats\n"
     ]
    }
   ],
   "source": [
    "library(tidyverse)\n",
    "library(modelr)\n",
    "library(plotROC)"
   ]
  },
  {
   "cell_type": "code",
   "execution_count": 2,
   "metadata": {
    "collapsed": true
   },
   "outputs": [],
   "source": [
    "options(repr.plot.height=4.5, repr.matrix.max.rows=10)"
   ]
  },
  {
   "cell_type": "markdown",
   "metadata": {},
   "source": [
    "And we want to load the data. Fun trick, `readr` can read URLs!"
   ]
  },
  {
   "cell_type": "code",
   "execution_count": 3,
   "metadata": {},
   "outputs": [
    {
     "name": "stderr",
     "output_type": "stream",
     "text": [
      "Parsed with column specification:\n",
      "cols(\n",
      "  admit = col_integer(),\n",
      "  gre = col_integer(),\n",
      "  gpa = col_double(),\n",
      "  rank = col_integer()\n",
      ")\n"
     ]
    },
    {
     "data": {
      "text/html": [
       "<table>\n",
       "<thead><tr><th scope=col>admit</th><th scope=col>gre</th><th scope=col>gpa</th><th scope=col>rank</th></tr></thead>\n",
       "<tbody>\n",
       "\t<tr><td>0   </td><td>380 </td><td>3.61</td><td>3   </td></tr>\n",
       "\t<tr><td>1   </td><td>660 </td><td>3.67</td><td>3   </td></tr>\n",
       "\t<tr><td>1   </td><td>800 </td><td>4.00</td><td>1   </td></tr>\n",
       "\t<tr><td>1   </td><td>640 </td><td>3.19</td><td>4   </td></tr>\n",
       "\t<tr><td>0   </td><td>520 </td><td>2.93</td><td>4   </td></tr>\n",
       "\t<tr><td>...</td><td>...</td><td>...</td><td>...</td></tr>\n",
       "\t<tr><td>0   </td><td>620 </td><td>4.00</td><td>2   </td></tr>\n",
       "\t<tr><td>0   </td><td>560 </td><td>3.04</td><td>3   </td></tr>\n",
       "\t<tr><td>0   </td><td>460 </td><td>2.63</td><td>2   </td></tr>\n",
       "\t<tr><td>0   </td><td>700 </td><td>3.65</td><td>2   </td></tr>\n",
       "\t<tr><td>0   </td><td>600 </td><td>3.89</td><td>3   </td></tr>\n",
       "</tbody>\n",
       "</table>\n"
      ],
      "text/latex": [
       "\\begin{tabular}{r|llll}\n",
       " admit & gre & gpa & rank\\\\\n",
       "\\hline\n",
       "\t 0    & 380  & 3.61 & 3   \\\\\n",
       "\t 1    & 660  & 3.67 & 3   \\\\\n",
       "\t 1    & 800  & 4.00 & 1   \\\\\n",
       "\t 1    & 640  & 3.19 & 4   \\\\\n",
       "\t 0    & 520  & 2.93 & 4   \\\\\n",
       "\t ... & ... & ... & ...\\\\\n",
       "\t 0    & 620  & 4.00 & 2   \\\\\n",
       "\t 0    & 560  & 3.04 & 3   \\\\\n",
       "\t 0    & 460  & 2.63 & 2   \\\\\n",
       "\t 0    & 700  & 3.65 & 2   \\\\\n",
       "\t 0    & 600  & 3.89 & 3   \\\\\n",
       "\\end{tabular}\n"
      ],
      "text/markdown": [
       "\n",
       "admit | gre | gpa | rank | \n",
       "|---|---|---|---|---|---|---|---|---|---|---|\n",
       "| 0    | 380  | 3.61 | 3    | \n",
       "| 1    | 660  | 3.67 | 3    | \n",
       "| 1    | 800  | 4.00 | 1    | \n",
       "| 1    | 640  | 3.19 | 4    | \n",
       "| 0    | 520  | 2.93 | 4    | \n",
       "| ... | ... | ... | ... | \n",
       "| 0    | 620  | 4.00 | 2    | \n",
       "| 0    | 560  | 3.04 | 3    | \n",
       "| 0    | 460  | 2.63 | 2    | \n",
       "| 0    | 700  | 3.65 | 2    | \n",
       "| 0    | 600  | 3.89 | 3    | \n",
       "\n",
       "\n"
      ],
      "text/plain": [
       "    admit gre gpa  rank\n",
       "1   0     380 3.61 3   \n",
       "2   1     660 3.67 3   \n",
       "3   1     800 4.00 1   \n",
       "4   1     640 3.19 4   \n",
       "5   0     520 2.93 4   \n",
       "... ...   ... ...  ... \n",
       "396 0     620 4.00 2   \n",
       "397 0     560 3.04 3   \n",
       "398 0     460 2.63 2   \n",
       "399 0     700 3.65 2   \n",
       "400 0     600 3.89 3   "
      ]
     },
     "metadata": {},
     "output_type": "display_data"
    }
   ],
   "source": [
    "students = read_csv(\"https://stats.idre.ucla.edu/stat/data/binary.csv\")\n",
    "students"
   ]
  },
  {
   "cell_type": "code",
   "execution_count": null,
   "metadata": {
    "collapsed": true
   },
   "outputs": [],
   "source": []
  }
 ],
 "metadata": {
  "kernelspec": {
   "display_name": "R",
   "language": "R",
   "name": "ir"
  },
  "language_info": {
   "codemirror_mode": "r",
   "file_extension": ".r",
   "mimetype": "text/x-r-source",
   "name": "R",
   "pygments_lexer": "r",
   "version": "3.4.1"
  }
 },
 "nbformat": 4,
 "nbformat_minor": 2
}
